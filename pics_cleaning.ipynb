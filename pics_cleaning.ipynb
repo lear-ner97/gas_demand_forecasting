{
  "nbformat": 4,
  "nbformat_minor": 0,
  "metadata": {
    "colab": {
      "name": "pics_cleaning.ipynb",
      "provenance": [],
      "collapsed_sections": []
    },
    "kernelspec": {
      "display_name": "Python 3",
      "language": "python",
      "name": "python3"
    },
    "language_info": {
      "codemirror_mode": {
        "name": "ipython",
        "version": 3
      },
      "file_extension": ".py",
      "mimetype": "text/x-python",
      "name": "python",
      "nbconvert_exporter": "python",
      "pygments_lexer": "ipython3",
      "version": "3.8.5"
    }
  },
  "cells": [
    {
      "cell_type": "markdown",
      "metadata": {
        "id": "L9qwX1Jmx8xQ"
      },
      "source": [
        "## this notebook represents the cleaning of \"PDL total daily load\". THe same approach is applied to clean \"max PDL daily load\" as they share the same characteristics (especially the weekly seasonality) "
      ]
    },
    {
      "cell_type": "markdown",
      "metadata": {
        "id": "FU1-JZOSN6ZB"
      },
      "source": [
        "# Winsorization for data cleaning"
      ]
    },
    {
      "cell_type": "markdown",
      "metadata": {
        "id": "62TMUqSTORvo"
      },
      "source": [
        "\"Winsorizing or winsorization is the transformation of statistics by limiting extreme values in the statistical data to reduce the effect of possibly spurious outliers\". (Wikipedia https://en.wikipedia.org/wiki/Winsorizing)"
      ]
    },
    {
      "cell_type": "markdown",
      "metadata": {
        "id": "bNzbcJD6Orlp"
      },
      "source": [
        "\"The distribution of many statistics can be heavily influenced by outliers. A typical strategy is to set all outliers to a specified percentile of the data; for example, a 90% winsorization would see all data below the 5th percentile set to the 5th percentile, and data above the 95th percentile set to the 95th percentile. **Winsorized estimators are usually more robust to outliers than their more standard forms**\"(wikipedia)"
      ]
    },
    {
      "cell_type": "code",
      "metadata": {
        "id": "JNK5RDkE3S6S"
      },
      "source": [
        "import pandas as pd\n",
        "import numpy as np\n",
        "import matplotlib.pyplot as plt\n",
        "%matplotlib inline\n",
        "import seaborn as sns\n",
        "from datetime import datetime"
      ],
      "execution_count": null,
      "outputs": []
    },
    {
      "cell_type": "code",
      "metadata": {
        "id": "QJ8mLFUW3yRB"
      },
      "source": [
        "#extract pdl_total_daily_load from df_human_logic\n",
        "df = pd.read_csv('/content/df_human_logic.csv')[['time','pdl_total_daily_load']].dropna()\n",
        "df.time=pd.to_datetime(df.time,dayfirst=True)"
      ],
      "execution_count": null,
      "outputs": []
    },
    {
      "cell_type": "code",
      "metadata": {
        "colab": {
          "base_uri": "https://localhost:8080/",
          "height": 205
        },
        "id": "cmS52j3Z_OOH",
        "outputId": "fc5789f6-97a3-4ec6-88c0-57dab7ce79cd"
      },
      "source": [
        "df.head()"
      ],
      "execution_count": null,
      "outputs": [
        {
          "output_type": "execute_result",
          "data": {
            "text/html": [
              "<div>\n",
              "<style scoped>\n",
              "    .dataframe tbody tr th:only-of-type {\n",
              "        vertical-align: middle;\n",
              "    }\n",
              "\n",
              "    .dataframe tbody tr th {\n",
              "        vertical-align: top;\n",
              "    }\n",
              "\n",
              "    .dataframe thead th {\n",
              "        text-align: right;\n",
              "    }\n",
              "</style>\n",
              "<table border=\"1\" class=\"dataframe\">\n",
              "  <thead>\n",
              "    <tr style=\"text-align: right;\">\n",
              "      <th></th>\n",
              "      <th>time</th>\n",
              "      <th>pdl_total_daily_load</th>\n",
              "    </tr>\n",
              "  </thead>\n",
              "  <tbody>\n",
              "    <tr>\n",
              "      <th>0</th>\n",
              "      <td>2015-01-01</td>\n",
              "      <td>16580</td>\n",
              "    </tr>\n",
              "    <tr>\n",
              "      <th>1</th>\n",
              "      <td>2015-01-02</td>\n",
              "      <td>22006</td>\n",
              "    </tr>\n",
              "    <tr>\n",
              "      <th>2</th>\n",
              "      <td>2015-01-03</td>\n",
              "      <td>18629</td>\n",
              "    </tr>\n",
              "    <tr>\n",
              "      <th>3</th>\n",
              "      <td>2015-01-04</td>\n",
              "      <td>18060</td>\n",
              "    </tr>\n",
              "    <tr>\n",
              "      <th>4</th>\n",
              "      <td>2015-01-05</td>\n",
              "      <td>20122</td>\n",
              "    </tr>\n",
              "  </tbody>\n",
              "</table>\n",
              "</div>"
            ],
            "text/plain": [
              "        time  pdl_total_daily_load\n",
              "0 2015-01-01                 16580\n",
              "1 2015-01-02                 22006\n",
              "2 2015-01-03                 18629\n",
              "3 2015-01-04                 18060\n",
              "4 2015-01-05                 20122"
            ]
          },
          "metadata": {
            "tags": []
          },
          "execution_count": 7
        }
      ]
    },
    {
      "cell_type": "code",
      "metadata": {
        "colab": {
          "base_uri": "https://localhost:8080/",
          "height": 205
        },
        "id": "-5wcMrH1gwXx",
        "outputId": "4af6e2b3-2a11-4c1a-b684-3db23d4db2ea"
      },
      "source": [
        "df.tail()"
      ],
      "execution_count": null,
      "outputs": [
        {
          "output_type": "execute_result",
          "data": {
            "text/html": [
              "<div>\n",
              "<style scoped>\n",
              "    .dataframe tbody tr th:only-of-type {\n",
              "        vertical-align: middle;\n",
              "    }\n",
              "\n",
              "    .dataframe tbody tr th {\n",
              "        vertical-align: top;\n",
              "    }\n",
              "\n",
              "    .dataframe thead th {\n",
              "        text-align: right;\n",
              "    }\n",
              "</style>\n",
              "<table border=\"1\" class=\"dataframe\">\n",
              "  <thead>\n",
              "    <tr style=\"text-align: right;\">\n",
              "      <th></th>\n",
              "      <th>time</th>\n",
              "      <th>pdl_total_daily_load</th>\n",
              "    </tr>\n",
              "  </thead>\n",
              "  <tbody>\n",
              "    <tr>\n",
              "      <th>2003</th>\n",
              "      <td>2020-06-26</td>\n",
              "      <td>13461</td>\n",
              "    </tr>\n",
              "    <tr>\n",
              "      <th>2004</th>\n",
              "      <td>2020-06-27</td>\n",
              "      <td>12932</td>\n",
              "    </tr>\n",
              "    <tr>\n",
              "      <th>2005</th>\n",
              "      <td>2020-06-28</td>\n",
              "      <td>11265</td>\n",
              "    </tr>\n",
              "    <tr>\n",
              "      <th>2006</th>\n",
              "      <td>2020-06-29</td>\n",
              "      <td>13974</td>\n",
              "    </tr>\n",
              "    <tr>\n",
              "      <th>2007</th>\n",
              "      <td>2020-06-30</td>\n",
              "      <td>13626</td>\n",
              "    </tr>\n",
              "  </tbody>\n",
              "</table>\n",
              "</div>"
            ],
            "text/plain": [
              "           time  pdl_total_daily_load\n",
              "2003 2020-06-26                 13461\n",
              "2004 2020-06-27                 12932\n",
              "2005 2020-06-28                 11265\n",
              "2006 2020-06-29                 13974\n",
              "2007 2020-06-30                 13626"
            ]
          },
          "metadata": {
            "tags": []
          },
          "execution_count": 8
        }
      ]
    },
    {
      "cell_type": "code",
      "metadata": {
        "id": "U9H940sXEKiK"
      },
      "source": [
        "#a copy from df\n",
        "df_copy=df"
      ],
      "execution_count": null,
      "outputs": []
    },
    {
      "cell_type": "code",
      "metadata": {
        "colab": {
          "base_uri": "https://localhost:8080/",
          "height": 80
        },
        "id": "ALJiG4JD4Ja8",
        "outputId": "78154b5b-fc8f-41dc-bd06-3c9511ef8c83"
      },
      "source": [
        "#explore data statistics\n",
        "df.pdl_total_daily_load = pd.to_numeric(df.pdl_total_daily_load)\n",
        "\n",
        "df.describe().T\n"
      ],
      "execution_count": null,
      "outputs": [
        {
          "output_type": "execute_result",
          "data": {
            "text/html": [
              "<div>\n",
              "<style scoped>\n",
              "    .dataframe tbody tr th:only-of-type {\n",
              "        vertical-align: middle;\n",
              "    }\n",
              "\n",
              "    .dataframe tbody tr th {\n",
              "        vertical-align: top;\n",
              "    }\n",
              "\n",
              "    .dataframe thead th {\n",
              "        text-align: right;\n",
              "    }\n",
              "</style>\n",
              "<table border=\"1\" class=\"dataframe\">\n",
              "  <thead>\n",
              "    <tr style=\"text-align: right;\">\n",
              "      <th></th>\n",
              "      <th>count</th>\n",
              "      <th>mean</th>\n",
              "      <th>std</th>\n",
              "      <th>min</th>\n",
              "      <th>25%</th>\n",
              "      <th>50%</th>\n",
              "      <th>75%</th>\n",
              "      <th>max</th>\n",
              "    </tr>\n",
              "  </thead>\n",
              "  <tbody>\n",
              "    <tr>\n",
              "      <th>pdl_total_daily_load</th>\n",
              "      <td>2008.0</td>\n",
              "      <td>13624.153884</td>\n",
              "      <td>5161.478508</td>\n",
              "      <td>0.0</td>\n",
              "      <td>10007.0</td>\n",
              "      <td>12855.0</td>\n",
              "      <td>17312.75</td>\n",
              "      <td>27936.0</td>\n",
              "    </tr>\n",
              "  </tbody>\n",
              "</table>\n",
              "</div>"
            ],
            "text/plain": [
              "                       count          mean  ...       75%      max\n",
              "pdl_total_daily_load  2008.0  13624.153884  ...  17312.75  27936.0\n",
              "\n",
              "[1 rows x 8 columns]"
            ]
          },
          "metadata": {
            "tags": []
          },
          "execution_count": 10
        }
      ]
    },
    {
      "cell_type": "code",
      "metadata": {
        "id": "VgmUfVJS73Bm"
      },
      "source": [
        "#we are going to clean data season by season because every season has its own patterns\n",
        "df['quarter'] = df['time'].dt.quarter\n",
        "\n",
        "\n",
        "#we add \"weekday\" column because there is weekly seasonality in the data\n",
        "df['weekday'] = pd.Categorical(df.time.dt.strftime('%A'), categories=['Monday','Tuesday',\n",
        "                'Wednesday','Thursday','Friday','Saturday','Sunday'],ordered=True)\n",
        "\n"
      ],
      "execution_count": null,
      "outputs": []
    },
    {
      "cell_type": "code",
      "metadata": {
        "colab": {
          "base_uri": "https://localhost:8080/"
        },
        "id": "eCFqCCzakETR",
        "outputId": "8058262b-c8e7-4aea-b6d0-73cbb679a5ee"
      },
      "source": [
        "df.info()"
      ],
      "execution_count": null,
      "outputs": [
        {
          "output_type": "stream",
          "text": [
            "<class 'pandas.core.frame.DataFrame'>\n",
            "Int64Index: 2008 entries, 0 to 2007\n",
            "Data columns (total 4 columns):\n",
            " #   Column                Non-Null Count  Dtype         \n",
            "---  ------                --------------  -----         \n",
            " 0   time                  2008 non-null   datetime64[ns]\n",
            " 1   pdl_total_daily_load  2008 non-null   int64         \n",
            " 2   weekday               2008 non-null   category      \n",
            " 3   quarter               2008 non-null   int64         \n",
            "dtypes: category(1), datetime64[ns](1), int64(2)\n",
            "memory usage: 65.1 KB\n"
          ],
          "name": "stdout"
        }
      ]
    },
    {
      "cell_type": "code",
      "metadata": {
        "colab": {
          "base_uri": "https://localhost:8080/",
          "height": 205
        },
        "id": "YFBBkZUukKDF",
        "outputId": "5da52c67-bafb-41b0-952a-0574caa95826"
      },
      "source": [
        "df.head()"
      ],
      "execution_count": null,
      "outputs": [
        {
          "output_type": "execute_result",
          "data": {
            "text/html": [
              "<div>\n",
              "<style scoped>\n",
              "    .dataframe tbody tr th:only-of-type {\n",
              "        vertical-align: middle;\n",
              "    }\n",
              "\n",
              "    .dataframe tbody tr th {\n",
              "        vertical-align: top;\n",
              "    }\n",
              "\n",
              "    .dataframe thead th {\n",
              "        text-align: right;\n",
              "    }\n",
              "</style>\n",
              "<table border=\"1\" class=\"dataframe\">\n",
              "  <thead>\n",
              "    <tr style=\"text-align: right;\">\n",
              "      <th></th>\n",
              "      <th>time</th>\n",
              "      <th>pdl_total_daily_load</th>\n",
              "      <th>weekday</th>\n",
              "      <th>quarter</th>\n",
              "    </tr>\n",
              "  </thead>\n",
              "  <tbody>\n",
              "    <tr>\n",
              "      <th>0</th>\n",
              "      <td>2015-01-01</td>\n",
              "      <td>16580</td>\n",
              "      <td>Thursday</td>\n",
              "      <td>1</td>\n",
              "    </tr>\n",
              "    <tr>\n",
              "      <th>1</th>\n",
              "      <td>2015-01-02</td>\n",
              "      <td>22006</td>\n",
              "      <td>Friday</td>\n",
              "      <td>1</td>\n",
              "    </tr>\n",
              "    <tr>\n",
              "      <th>2</th>\n",
              "      <td>2015-01-03</td>\n",
              "      <td>18629</td>\n",
              "      <td>Saturday</td>\n",
              "      <td>1</td>\n",
              "    </tr>\n",
              "    <tr>\n",
              "      <th>3</th>\n",
              "      <td>2015-01-04</td>\n",
              "      <td>18060</td>\n",
              "      <td>Sunday</td>\n",
              "      <td>1</td>\n",
              "    </tr>\n",
              "    <tr>\n",
              "      <th>4</th>\n",
              "      <td>2015-01-05</td>\n",
              "      <td>20122</td>\n",
              "      <td>Monday</td>\n",
              "      <td>1</td>\n",
              "    </tr>\n",
              "  </tbody>\n",
              "</table>\n",
              "</div>"
            ],
            "text/plain": [
              "        time  pdl_total_daily_load   weekday  quarter\n",
              "0 2015-01-01                 16580  Thursday        1\n",
              "1 2015-01-02                 22006    Friday        1\n",
              "2 2015-01-03                 18629  Saturday        1\n",
              "3 2015-01-04                 18060    Sunday        1\n",
              "4 2015-01-05                 20122    Monday        1"
            ]
          },
          "metadata": {
            "tags": []
          },
          "execution_count": 13
        }
      ]
    },
    {
      "cell_type": "code",
      "metadata": {
        "colab": {
          "base_uri": "https://localhost:8080/",
          "height": 205
        },
        "id": "iz2fKRXNhU1Q",
        "outputId": "0318c5c0-a6ba-423f-8352-2f67c40be1c5"
      },
      "source": [
        "df.tail()"
      ],
      "execution_count": null,
      "outputs": [
        {
          "output_type": "execute_result",
          "data": {
            "text/html": [
              "<div>\n",
              "<style scoped>\n",
              "    .dataframe tbody tr th:only-of-type {\n",
              "        vertical-align: middle;\n",
              "    }\n",
              "\n",
              "    .dataframe tbody tr th {\n",
              "        vertical-align: top;\n",
              "    }\n",
              "\n",
              "    .dataframe thead th {\n",
              "        text-align: right;\n",
              "    }\n",
              "</style>\n",
              "<table border=\"1\" class=\"dataframe\">\n",
              "  <thead>\n",
              "    <tr style=\"text-align: right;\">\n",
              "      <th></th>\n",
              "      <th>time</th>\n",
              "      <th>pdl_total_daily_load</th>\n",
              "      <th>weekday</th>\n",
              "      <th>quarter</th>\n",
              "    </tr>\n",
              "  </thead>\n",
              "  <tbody>\n",
              "    <tr>\n",
              "      <th>2003</th>\n",
              "      <td>2020-06-26</td>\n",
              "      <td>13461</td>\n",
              "      <td>Friday</td>\n",
              "      <td>2</td>\n",
              "    </tr>\n",
              "    <tr>\n",
              "      <th>2004</th>\n",
              "      <td>2020-06-27</td>\n",
              "      <td>12932</td>\n",
              "      <td>Saturday</td>\n",
              "      <td>2</td>\n",
              "    </tr>\n",
              "    <tr>\n",
              "      <th>2005</th>\n",
              "      <td>2020-06-28</td>\n",
              "      <td>11265</td>\n",
              "      <td>Sunday</td>\n",
              "      <td>2</td>\n",
              "    </tr>\n",
              "    <tr>\n",
              "      <th>2006</th>\n",
              "      <td>2020-06-29</td>\n",
              "      <td>13974</td>\n",
              "      <td>Monday</td>\n",
              "      <td>2</td>\n",
              "    </tr>\n",
              "    <tr>\n",
              "      <th>2007</th>\n",
              "      <td>2020-06-30</td>\n",
              "      <td>13626</td>\n",
              "      <td>Tuesday</td>\n",
              "      <td>2</td>\n",
              "    </tr>\n",
              "  </tbody>\n",
              "</table>\n",
              "</div>"
            ],
            "text/plain": [
              "           time  pdl_total_daily_load   weekday  quarter\n",
              "2003 2020-06-26                 13461    Friday        2\n",
              "2004 2020-06-27                 12932  Saturday        2\n",
              "2005 2020-06-28                 11265    Sunday        2\n",
              "2006 2020-06-29                 13974    Monday        2\n",
              "2007 2020-06-30                 13626   Tuesday        2"
            ]
          },
          "metadata": {
            "tags": []
          },
          "execution_count": 14
        }
      ]
    },
    {
      "cell_type": "markdown",
      "metadata": {
        "id": "OH0LA3w5_S_E"
      },
      "source": [
        "# Quarter1: winter"
      ]
    },
    {
      "cell_type": "code",
      "metadata": {
        "id": "pNlrL6xtX5tZ"
      },
      "source": [
        "consom1=df[df['quarter']==1]\n",
        "c1=consom1 #copy from winter data"
      ],
      "execution_count": null,
      "outputs": []
    },
    {
      "cell_type": "code",
      "metadata": {
        "colab": {
          "base_uri": "https://localhost:8080/",
          "height": 205
        },
        "id": "VN86l6Uwn4dl",
        "outputId": "b053bbdc-1c2f-4d30-d155-a5595d8011ae"
      },
      "source": [
        "consom1.head()"
      ],
      "execution_count": null,
      "outputs": [
        {
          "output_type": "execute_result",
          "data": {
            "text/html": [
              "<div>\n",
              "<style scoped>\n",
              "    .dataframe tbody tr th:only-of-type {\n",
              "        vertical-align: middle;\n",
              "    }\n",
              "\n",
              "    .dataframe tbody tr th {\n",
              "        vertical-align: top;\n",
              "    }\n",
              "\n",
              "    .dataframe thead th {\n",
              "        text-align: right;\n",
              "    }\n",
              "</style>\n",
              "<table border=\"1\" class=\"dataframe\">\n",
              "  <thead>\n",
              "    <tr style=\"text-align: right;\">\n",
              "      <th></th>\n",
              "      <th>time</th>\n",
              "      <th>pdl_total_daily_load</th>\n",
              "      <th>weekday</th>\n",
              "      <th>quarter</th>\n",
              "    </tr>\n",
              "  </thead>\n",
              "  <tbody>\n",
              "    <tr>\n",
              "      <th>0</th>\n",
              "      <td>2015-01-01</td>\n",
              "      <td>16580</td>\n",
              "      <td>Thursday</td>\n",
              "      <td>1</td>\n",
              "    </tr>\n",
              "    <tr>\n",
              "      <th>1</th>\n",
              "      <td>2015-01-02</td>\n",
              "      <td>22006</td>\n",
              "      <td>Friday</td>\n",
              "      <td>1</td>\n",
              "    </tr>\n",
              "    <tr>\n",
              "      <th>2</th>\n",
              "      <td>2015-01-03</td>\n",
              "      <td>18629</td>\n",
              "      <td>Saturday</td>\n",
              "      <td>1</td>\n",
              "    </tr>\n",
              "    <tr>\n",
              "      <th>3</th>\n",
              "      <td>2015-01-04</td>\n",
              "      <td>18060</td>\n",
              "      <td>Sunday</td>\n",
              "      <td>1</td>\n",
              "    </tr>\n",
              "    <tr>\n",
              "      <th>4</th>\n",
              "      <td>2015-01-05</td>\n",
              "      <td>20122</td>\n",
              "      <td>Monday</td>\n",
              "      <td>1</td>\n",
              "    </tr>\n",
              "  </tbody>\n",
              "</table>\n",
              "</div>"
            ],
            "text/plain": [
              "        time  pdl_total_daily_load   weekday  quarter\n",
              "0 2015-01-01                 16580  Thursday        1\n",
              "1 2015-01-02                 22006    Friday        1\n",
              "2 2015-01-03                 18629  Saturday        1\n",
              "3 2015-01-04                 18060    Sunday        1\n",
              "4 2015-01-05                 20122    Monday        1"
            ]
          },
          "metadata": {
            "tags": []
          },
          "execution_count": 16
        }
      ]
    },
    {
      "cell_type": "markdown",
      "metadata": {
        "id": "JqzMcc4kuM7U"
      },
      "source": [
        "the weekly seasonality is demonstrated in https://colab.research.google.com/drive/1uGtjWDCRKIXtR_X2gyGtj1OoYpUEfAb8"
      ]
    },
    {
      "cell_type": "code",
      "metadata": {
        "id": "CrMpsJ2CIQ7V"
      },
      "source": [
        "#we add a columns that represents the average total daily load of every weekday\n",
        "consom1_final=consom1.join(consom1.groupby(['weekday'])['pdl_total_daily_load'].mean(),\n",
        "                           on=['weekday'],rsuffix='_avg')"
      ],
      "execution_count": null,
      "outputs": []
    },
    {
      "cell_type": "code",
      "metadata": {
        "colab": {
          "base_uri": "https://localhost:8080/",
          "height": 299
        },
        "id": "0DcDZRgoIhDv",
        "outputId": "030db818-b729-48df-9c4a-39e7e5226568"
      },
      "source": [
        "consom1_final[:8]"
      ],
      "execution_count": null,
      "outputs": [
        {
          "output_type": "execute_result",
          "data": {
            "text/html": [
              "<div>\n",
              "<style scoped>\n",
              "    .dataframe tbody tr th:only-of-type {\n",
              "        vertical-align: middle;\n",
              "    }\n",
              "\n",
              "    .dataframe tbody tr th {\n",
              "        vertical-align: top;\n",
              "    }\n",
              "\n",
              "    .dataframe thead th {\n",
              "        text-align: right;\n",
              "    }\n",
              "</style>\n",
              "<table border=\"1\" class=\"dataframe\">\n",
              "  <thead>\n",
              "    <tr style=\"text-align: right;\">\n",
              "      <th></th>\n",
              "      <th>time</th>\n",
              "      <th>pdl_total_daily_load</th>\n",
              "      <th>weekday</th>\n",
              "      <th>quarter</th>\n",
              "      <th>pdl_total_daily_load_avg</th>\n",
              "    </tr>\n",
              "  </thead>\n",
              "  <tbody>\n",
              "    <tr>\n",
              "      <th>0</th>\n",
              "      <td>2015-01-01</td>\n",
              "      <td>16580</td>\n",
              "      <td>Thursday</td>\n",
              "      <td>1</td>\n",
              "      <td>18858.679487</td>\n",
              "    </tr>\n",
              "    <tr>\n",
              "      <th>1</th>\n",
              "      <td>2015-01-02</td>\n",
              "      <td>22006</td>\n",
              "      <td>Friday</td>\n",
              "      <td>1</td>\n",
              "      <td>19367.987179</td>\n",
              "    </tr>\n",
              "    <tr>\n",
              "      <th>2</th>\n",
              "      <td>2015-01-03</td>\n",
              "      <td>18629</td>\n",
              "      <td>Saturday</td>\n",
              "      <td>1</td>\n",
              "      <td>18553.597403</td>\n",
              "    </tr>\n",
              "    <tr>\n",
              "      <th>3</th>\n",
              "      <td>2015-01-04</td>\n",
              "      <td>18060</td>\n",
              "      <td>Sunday</td>\n",
              "      <td>1</td>\n",
              "      <td>17889.493506</td>\n",
              "    </tr>\n",
              "    <tr>\n",
              "      <th>4</th>\n",
              "      <td>2015-01-05</td>\n",
              "      <td>20122</td>\n",
              "      <td>Monday</td>\n",
              "      <td>1</td>\n",
              "      <td>18471.298701</td>\n",
              "    </tr>\n",
              "    <tr>\n",
              "      <th>5</th>\n",
              "      <td>2015-01-06</td>\n",
              "      <td>18182</td>\n",
              "      <td>Tuesday</td>\n",
              "      <td>1</td>\n",
              "      <td>18326.307692</td>\n",
              "    </tr>\n",
              "    <tr>\n",
              "      <th>6</th>\n",
              "      <td>2015-01-07</td>\n",
              "      <td>20928</td>\n",
              "      <td>Wednesday</td>\n",
              "      <td>1</td>\n",
              "      <td>18700.545455</td>\n",
              "    </tr>\n",
              "    <tr>\n",
              "      <th>7</th>\n",
              "      <td>2015-01-08</td>\n",
              "      <td>20809</td>\n",
              "      <td>Thursday</td>\n",
              "      <td>1</td>\n",
              "      <td>18858.679487</td>\n",
              "    </tr>\n",
              "  </tbody>\n",
              "</table>\n",
              "</div>"
            ],
            "text/plain": [
              "        time  pdl_total_daily_load  ... quarter  pdl_total_daily_load_avg\n",
              "0 2015-01-01                 16580  ...       1              18858.679487\n",
              "1 2015-01-02                 22006  ...       1              19367.987179\n",
              "2 2015-01-03                 18629  ...       1              18553.597403\n",
              "3 2015-01-04                 18060  ...       1              17889.493506\n",
              "4 2015-01-05                 20122  ...       1              18471.298701\n",
              "5 2015-01-06                 18182  ...       1              18326.307692\n",
              "6 2015-01-07                 20928  ...       1              18700.545455\n",
              "7 2015-01-08                 20809  ...       1              18858.679487\n",
              "\n",
              "[8 rows x 5 columns]"
            ]
          },
          "metadata": {
            "tags": []
          },
          "execution_count": 26
        }
      ]
    },
    {
      "cell_type": "code",
      "metadata": {
        "colab": {
          "base_uri": "https://localhost:8080/",
          "height": 351
        },
        "id": "W2UOhNVt2jDJ",
        "outputId": "ebb4a187-845a-4376-e21b-29bf642f34cb"
      },
      "source": [
        "import seaborn as sns\n",
        "\n",
        "#plot data distribution\n",
        "sns.distplot(consom1['pdl_total_daily_load'])\n",
        "plt.title(\"Distribution of winter gas peak demand in winter\")\n",
        "sns.despine()"
      ],
      "execution_count": null,
      "outputs": [
        {
          "output_type": "stream",
          "text": [
            "/usr/local/lib/python3.7/dist-packages/seaborn/distributions.py:2557: FutureWarning: `distplot` is a deprecated function and will be removed in a future version. Please adapt your code to use either `displot` (a figure-level function with similar flexibility) or `histplot` (an axes-level function for histograms).\n",
            "  warnings.warn(msg, FutureWarning)\n"
          ],
          "name": "stderr"
        },
        {
          "output_type": "display_data",
          "data": {
            "image/png": "[encoded data removed]",
            "text/plain": [
              "<Figure size 432x288 with 1 Axes>"
            ]
          },
          "metadata": {
            "tags": [],
            "needs_background": "light"
          }
        }
      ]
    },
    {
      "cell_type": "markdown",
      "metadata": {
        "id": "URqNyf-xtWqP"
      },
      "source": [
        "visible outliers around 5000 and 0, we are going to replace them by their corresponding daily total PDL load average (because of weekly seasonality). i.e for example if an outlier's day is Monday then we replace its PDL value by the PDL average corresponding to Monday."
      ]
    },
    {
      "cell_type": "code",
      "metadata": {
        "colab": {
          "base_uri": "https://localhost:8080/"
        },
        "id": "yQi6uaKTgFNn",
        "outputId": "ec357072-b2aa-435c-ffc3-bcff1dd4367a"
      },
      "source": [
        "###modified winsorization\n",
        "##by error and trial process we choose the percentiles 0.035 and 0.995\n",
        "#i.e percentiles below 0.035 are replaced by their cooresponding average values and percentiles above \n",
        "#0.995 are replaced by their corresponding average values\n",
        "print(c1['pdl_total_daily_load'].quantile(0.035))\n",
        "print(c1['pdl_total_daily_load'].quantile(0.995))"
      ],
      "execution_count": null,
      "outputs": [
        {
          "output_type": "stream",
          "text": [
            "8464.825000000006\n",
            "26518.514999999985\n"
          ],
          "name": "stdout"
        }
      ]
    },
    {
      "cell_type": "markdown",
      "metadata": {
        "id": "uA2xWoopAzZA"
      },
      "source": [
        "**Replace outliers**"
      ]
    },
    {
      "cell_type": "code",
      "metadata": {
        "id": "egYrwou9hvkM"
      },
      "source": [
        "consom1_final.loc[(consom1_final['pdl_total_daily_load']  < \n",
        "                   consom1_final['pdl_total_daily_load'].quantile(0.035))|\n",
        "                  (consom1_final['pdl_total_daily_load']  > \n",
        "                   consom1_final['pdl_total_daily_load'].quantile(0.995)),\n",
        "                  'pdl_total_daily_load' ] = consom1_final.pdl_total_daily_load_avg"
      ],
      "execution_count": null,
      "outputs": []
    },
    {
      "cell_type": "code",
      "metadata": {
        "colab": {
          "base_uri": "https://localhost:8080/",
          "height": 351
        },
        "id": "Sk3CFWGcPl4W",
        "outputId": "8a5222ff-a575-476c-d86e-72b451e248c6"
      },
      "source": [
        "import seaborn as sns\n",
        "\n",
        "#plot of data distribution after cleaning\n",
        "sns.distplot(consom1_final['pdl_total_daily_load'])\n",
        "plt.title(\"Distribution of winter gas peak demand in winter after winsorization\")\n",
        "sns.despine()"
      ],
      "execution_count": null,
      "outputs": [
        {
          "output_type": "stream",
          "text": [
            "/usr/local/lib/python3.7/dist-packages/seaborn/distributions.py:2557: FutureWarning: `distplot` is a deprecated function and will be removed in a future version. Please adapt your code to use either `displot` (a figure-level function with similar flexibility) or `histplot` (an axes-level function for histograms).\n",
            "  warnings.warn(msg, FutureWarning)\n"
          ],
          "name": "stderr"
        },
        {
          "output_type": "display_data",
          "data": {
            "image/png": "[encoded data removed]",
            "text/plain": [
              "<Figure size 432x288 with 1 Axes>"
            ]
          },
          "metadata": {
            "tags": [],
            "needs_background": "light"
          }
        }
      ]
    },
    {
      "cell_type": "code",
      "metadata": {
        "colab": {
          "base_uri": "https://localhost:8080/",
          "height": 205
        },
        "id": "-t9TMKOOT4P6",
        "outputId": "fd122f17-3741-4d2e-f188-2b147cb0ea1c"
      },
      "source": [
        "consom1=consom1_final[['time','pdl_total_daily_load']]\n",
        "consom1.head()"
      ],
      "execution_count": null,
      "outputs": [
        {
          "output_type": "execute_result",
          "data": {
            "text/html": [
              "<div>\n",
              "<style scoped>\n",
              "    .dataframe tbody tr th:only-of-type {\n",
              "        vertical-align: middle;\n",
              "    }\n",
              "\n",
              "    .dataframe tbody tr th {\n",
              "        vertical-align: top;\n",
              "    }\n",
              "\n",
              "    .dataframe thead th {\n",
              "        text-align: right;\n",
              "    }\n",
              "</style>\n",
              "<table border=\"1\" class=\"dataframe\">\n",
              "  <thead>\n",
              "    <tr style=\"text-align: right;\">\n",
              "      <th></th>\n",
              "      <th>time</th>\n",
              "      <th>pdl_total_daily_load</th>\n",
              "    </tr>\n",
              "  </thead>\n",
              "  <tbody>\n",
              "    <tr>\n",
              "      <th>0</th>\n",
              "      <td>2015-01-01</td>\n",
              "      <td>16580.0</td>\n",
              "    </tr>\n",
              "    <tr>\n",
              "      <th>1</th>\n",
              "      <td>2015-01-02</td>\n",
              "      <td>22006.0</td>\n",
              "    </tr>\n",
              "    <tr>\n",
              "      <th>2</th>\n",
              "      <td>2015-01-03</td>\n",
              "      <td>18629.0</td>\n",
              "    </tr>\n",
              "    <tr>\n",
              "      <th>3</th>\n",
              "      <td>2015-01-04</td>\n",
              "      <td>18060.0</td>\n",
              "    </tr>\n",
              "    <tr>\n",
              "      <th>4</th>\n",
              "      <td>2015-01-05</td>\n",
              "      <td>20122.0</td>\n",
              "    </tr>\n",
              "  </tbody>\n",
              "</table>\n",
              "</div>"
            ],
            "text/plain": [
              "        time  pdl_total_daily_load\n",
              "0 2015-01-01               16580.0\n",
              "1 2015-01-02               22006.0\n",
              "2 2015-01-03               18629.0\n",
              "3 2015-01-04               18060.0\n",
              "4 2015-01-05               20122.0"
            ]
          },
          "metadata": {
            "tags": []
          },
          "execution_count": 31
        }
      ]
    },
    {
      "cell_type": "markdown",
      "metadata": {
        "id": "rSgEC8AQ1mk-"
      },
      "source": [
        "## the same approach is applied for the remaining seasons"
      ]
    },
    {
      "cell_type": "markdown",
      "metadata": {
        "id": "p7gpc50yi8Ye"
      },
      "source": [
        "# Quarter2: spring"
      ]
    },
    {
      "cell_type": "code",
      "metadata": {
        "id": "bkytkF7wi8Y7"
      },
      "source": [
        "consom2=df[df['quarter']==2]\n",
        "c2=consom2 #copy"
      ],
      "execution_count": null,
      "outputs": []
    },
    {
      "cell_type": "code",
      "metadata": {
        "colab": {
          "base_uri": "https://localhost:8080/",
          "height": 205
        },
        "id": "dg5vwsNMi8Y8",
        "outputId": "6f059e2a-847a-465a-f6bd-e226a645131f"
      },
      "source": [
        "consom2.head()"
      ],
      "execution_count": null,
      "outputs": [
        {
          "output_type": "execute_result",
          "data": {
            "text/html": [
              "<div>\n",
              "<style scoped>\n",
              "    .dataframe tbody tr th:only-of-type {\n",
              "        vertical-align: middle;\n",
              "    }\n",
              "\n",
              "    .dataframe tbody tr th {\n",
              "        vertical-align: top;\n",
              "    }\n",
              "\n",
              "    .dataframe thead th {\n",
              "        text-align: right;\n",
              "    }\n",
              "</style>\n",
              "<table border=\"1\" class=\"dataframe\">\n",
              "  <thead>\n",
              "    <tr style=\"text-align: right;\">\n",
              "      <th></th>\n",
              "      <th>time</th>\n",
              "      <th>pdl_total_daily_load</th>\n",
              "      <th>weekday</th>\n",
              "      <th>quarter</th>\n",
              "    </tr>\n",
              "  </thead>\n",
              "  <tbody>\n",
              "    <tr>\n",
              "      <th>90</th>\n",
              "      <td>2015-04-01</td>\n",
              "      <td>11434</td>\n",
              "      <td>Wednesday</td>\n",
              "      <td>2</td>\n",
              "    </tr>\n",
              "    <tr>\n",
              "      <th>91</th>\n",
              "      <td>2015-04-02</td>\n",
              "      <td>16752</td>\n",
              "      <td>Thursday</td>\n",
              "      <td>2</td>\n",
              "    </tr>\n",
              "    <tr>\n",
              "      <th>92</th>\n",
              "      <td>2015-04-03</td>\n",
              "      <td>16122</td>\n",
              "      <td>Friday</td>\n",
              "      <td>2</td>\n",
              "    </tr>\n",
              "    <tr>\n",
              "      <th>93</th>\n",
              "      <td>2015-04-04</td>\n",
              "      <td>13429</td>\n",
              "      <td>Saturday</td>\n",
              "      <td>2</td>\n",
              "    </tr>\n",
              "    <tr>\n",
              "      <th>94</th>\n",
              "      <td>2015-04-05</td>\n",
              "      <td>9767</td>\n",
              "      <td>Sunday</td>\n",
              "      <td>2</td>\n",
              "    </tr>\n",
              "  </tbody>\n",
              "</table>\n",
              "</div>"
            ],
            "text/plain": [
              "         time  pdl_total_daily_load    weekday  quarter\n",
              "90 2015-04-01                 11434  Wednesday        2\n",
              "91 2015-04-02                 16752   Thursday        2\n",
              "92 2015-04-03                 16122     Friday        2\n",
              "93 2015-04-04                 13429   Saturday        2\n",
              "94 2015-04-05                  9767     Sunday        2"
            ]
          },
          "metadata": {
            "tags": []
          },
          "execution_count": 35
        }
      ]
    },
    {
      "cell_type": "code",
      "metadata": {
        "id": "b7EWCVLgi8ZD"
      },
      "source": [
        "consom2_final=consom2.join(consom2.groupby(['weekday'])['pdl_total_daily_load'].mean(),\n",
        "                           on=['weekday'],rsuffix='_avg')"
      ],
      "execution_count": null,
      "outputs": []
    },
    {
      "cell_type": "code",
      "metadata": {
        "colab": {
          "base_uri": "https://localhost:8080/",
          "height": 299
        },
        "id": "5ZiY1MNgi8ZE",
        "outputId": "816ceb14-d79a-44f5-fcbc-b554e1eb89a2"
      },
      "source": [
        "consom2_final[:8]"
      ],
      "execution_count": null,
      "outputs": [
        {
          "output_type": "execute_result",
          "data": {
            "text/html": [
              "<div>\n",
              "<style scoped>\n",
              "    .dataframe tbody tr th:only-of-type {\n",
              "        vertical-align: middle;\n",
              "    }\n",
              "\n",
              "    .dataframe tbody tr th {\n",
              "        vertical-align: top;\n",
              "    }\n",
              "\n",
              "    .dataframe thead th {\n",
              "        text-align: right;\n",
              "    }\n",
              "</style>\n",
              "<table border=\"1\" class=\"dataframe\">\n",
              "  <thead>\n",
              "    <tr style=\"text-align: right;\">\n",
              "      <th></th>\n",
              "      <th>time</th>\n",
              "      <th>pdl_total_daily_load</th>\n",
              "      <th>weekday</th>\n",
              "      <th>quarter</th>\n",
              "      <th>pdl_total_daily_load_avg</th>\n",
              "    </tr>\n",
              "  </thead>\n",
              "  <tbody>\n",
              "    <tr>\n",
              "      <th>90</th>\n",
              "      <td>2015-04-01</td>\n",
              "      <td>11434</td>\n",
              "      <td>Wednesday</td>\n",
              "      <td>2</td>\n",
              "      <td>12997.974359</td>\n",
              "    </tr>\n",
              "    <tr>\n",
              "      <th>91</th>\n",
              "      <td>2015-04-02</td>\n",
              "      <td>16752</td>\n",
              "      <td>Thursday</td>\n",
              "      <td>2</td>\n",
              "      <td>12925.474359</td>\n",
              "    </tr>\n",
              "    <tr>\n",
              "      <th>92</th>\n",
              "      <td>2015-04-03</td>\n",
              "      <td>16122</td>\n",
              "      <td>Friday</td>\n",
              "      <td>2</td>\n",
              "      <td>12775.576923</td>\n",
              "    </tr>\n",
              "    <tr>\n",
              "      <th>93</th>\n",
              "      <td>2015-04-04</td>\n",
              "      <td>13429</td>\n",
              "      <td>Saturday</td>\n",
              "      <td>2</td>\n",
              "      <td>12026.076923</td>\n",
              "    </tr>\n",
              "    <tr>\n",
              "      <th>94</th>\n",
              "      <td>2015-04-05</td>\n",
              "      <td>9767</td>\n",
              "      <td>Sunday</td>\n",
              "      <td>2</td>\n",
              "      <td>10964.461538</td>\n",
              "    </tr>\n",
              "    <tr>\n",
              "      <th>95</th>\n",
              "      <td>2015-04-06</td>\n",
              "      <td>12373</td>\n",
              "      <td>Monday</td>\n",
              "      <td>2</td>\n",
              "      <td>12702.435897</td>\n",
              "    </tr>\n",
              "    <tr>\n",
              "      <th>96</th>\n",
              "      <td>2015-04-07</td>\n",
              "      <td>14322</td>\n",
              "      <td>Tuesday</td>\n",
              "      <td>2</td>\n",
              "      <td>12804.346154</td>\n",
              "    </tr>\n",
              "    <tr>\n",
              "      <th>97</th>\n",
              "      <td>2015-04-08</td>\n",
              "      <td>16005</td>\n",
              "      <td>Wednesday</td>\n",
              "      <td>2</td>\n",
              "      <td>12997.974359</td>\n",
              "    </tr>\n",
              "  </tbody>\n",
              "</table>\n",
              "</div>"
            ],
            "text/plain": [
              "         time  pdl_total_daily_load  ... quarter  pdl_total_daily_load_avg\n",
              "90 2015-04-01                 11434  ...       2              12997.974359\n",
              "91 2015-04-02                 16752  ...       2              12925.474359\n",
              "92 2015-04-03                 16122  ...       2              12775.576923\n",
              "93 2015-04-04                 13429  ...       2              12026.076923\n",
              "94 2015-04-05                  9767  ...       2              10964.461538\n",
              "95 2015-04-06                 12373  ...       2              12702.435897\n",
              "96 2015-04-07                 14322  ...       2              12804.346154\n",
              "97 2015-04-08                 16005  ...       2              12997.974359\n",
              "\n",
              "[8 rows x 5 columns]"
            ]
          },
          "metadata": {
            "tags": []
          },
          "execution_count": 44
        }
      ]
    },
    {
      "cell_type": "code",
      "metadata": {
        "colab": {
          "base_uri": "https://localhost:8080/",
          "height": 351
        },
        "id": "MM23KFE0i8ZF",
        "outputId": "e8093c42-f489-48c9-9427-5bcaae52ea85"
      },
      "source": [
        "import seaborn as sns\n",
        "\n",
        "sns.distplot(consom2['pdl_total_daily_load'])\n",
        "plt.title(\"Distribution of winter gas peak demand in spring\")\n",
        "sns.despine()"
      ],
      "execution_count": null,
      "outputs": [
        {
          "output_type": "stream",
          "text": [
            "/usr/local/lib/python3.7/dist-packages/seaborn/distributions.py:2557: FutureWarning: `distplot` is a deprecated function and will be removed in a future version. Please adapt your code to use either `displot` (a figure-level function with similar flexibility) or `histplot` (an axes-level function for histograms).\n",
            "  warnings.warn(msg, FutureWarning)\n"
          ],
          "name": "stderr"
        },
        {
          "output_type": "display_data",
          "data": {
            "image/png": "[encoded data removed]",
            "text/plain": [
              "<Figure size 432x288 with 1 Axes>"
            ]
          },
          "metadata": {
            "tags": [],
            "needs_background": "light"
          }
        }
      ]
    },
    {
      "cell_type": "markdown",
      "metadata": {
        "id": "G8OhB0NOv30A"
      },
      "source": [
        "no visible outliers according to the spring data distribution, so no need to apply the \"modified winsorization\""
      ]
    },
    {
      "cell_type": "code",
      "metadata": {
        "colab": {
          "base_uri": "https://localhost:8080/",
          "height": 205
        },
        "id": "ms7yN8qEi8ZH",
        "outputId": "670e4a83-ea63-4818-f3ac-72f4be7226a1"
      },
      "source": [
        "consom2=consom2_final[['time','pdl_total_daily_load']]\n",
        "consom2.head()"
      ],
      "execution_count": null,
      "outputs": [
        {
          "output_type": "execute_result",
          "data": {
            "text/html": [
              "<div>\n",
              "<style scoped>\n",
              "    .dataframe tbody tr th:only-of-type {\n",
              "        vertical-align: middle;\n",
              "    }\n",
              "\n",
              "    .dataframe tbody tr th {\n",
              "        vertical-align: top;\n",
              "    }\n",
              "\n",
              "    .dataframe thead th {\n",
              "        text-align: right;\n",
              "    }\n",
              "</style>\n",
              "<table border=\"1\" class=\"dataframe\">\n",
              "  <thead>\n",
              "    <tr style=\"text-align: right;\">\n",
              "      <th></th>\n",
              "      <th>time</th>\n",
              "      <th>pdl_total_daily_load</th>\n",
              "    </tr>\n",
              "  </thead>\n",
              "  <tbody>\n",
              "    <tr>\n",
              "      <th>90</th>\n",
              "      <td>2015-04-01</td>\n",
              "      <td>11434</td>\n",
              "    </tr>\n",
              "    <tr>\n",
              "      <th>91</th>\n",
              "      <td>2015-04-02</td>\n",
              "      <td>16752</td>\n",
              "    </tr>\n",
              "    <tr>\n",
              "      <th>92</th>\n",
              "      <td>2015-04-03</td>\n",
              "      <td>16122</td>\n",
              "    </tr>\n",
              "    <tr>\n",
              "      <th>93</th>\n",
              "      <td>2015-04-04</td>\n",
              "      <td>13429</td>\n",
              "    </tr>\n",
              "    <tr>\n",
              "      <th>94</th>\n",
              "      <td>2015-04-05</td>\n",
              "      <td>9767</td>\n",
              "    </tr>\n",
              "  </tbody>\n",
              "</table>\n",
              "</div>"
            ],
            "text/plain": [
              "         time  pdl_total_daily_load\n",
              "90 2015-04-01                 11434\n",
              "91 2015-04-02                 16752\n",
              "92 2015-04-03                 16122\n",
              "93 2015-04-04                 13429\n",
              "94 2015-04-05                  9767"
            ]
          },
          "metadata": {
            "tags": []
          },
          "execution_count": 51
        }
      ]
    },
    {
      "cell_type": "markdown",
      "metadata": {
        "id": "A6TrsDn_j2LN"
      },
      "source": [
        "# Quarter3: summer"
      ]
    },
    {
      "cell_type": "code",
      "metadata": {
        "id": "Q3h6uuv9j2LW"
      },
      "source": [
        "consom3=df[df['quarter']==3]\n",
        "c3=consom3 #copy"
      ],
      "execution_count": null,
      "outputs": []
    },
    {
      "cell_type": "code",
      "metadata": {
        "colab": {
          "base_uri": "https://localhost:8080/",
          "height": 205
        },
        "id": "kYQOGnG1j2LY",
        "outputId": "d115271e-c511-414c-f48c-5e2bceffa245"
      },
      "source": [
        "consom3.head()"
      ],
      "execution_count": null,
      "outputs": [
        {
          "output_type": "execute_result",
          "data": {
            "text/html": [
              "<div>\n",
              "<style scoped>\n",
              "    .dataframe tbody tr th:only-of-type {\n",
              "        vertical-align: middle;\n",
              "    }\n",
              "\n",
              "    .dataframe tbody tr th {\n",
              "        vertical-align: top;\n",
              "    }\n",
              "\n",
              "    .dataframe thead th {\n",
              "        text-align: right;\n",
              "    }\n",
              "</style>\n",
              "<table border=\"1\" class=\"dataframe\">\n",
              "  <thead>\n",
              "    <tr style=\"text-align: right;\">\n",
              "      <th></th>\n",
              "      <th>time</th>\n",
              "      <th>pdl_total_daily_load</th>\n",
              "      <th>weekday</th>\n",
              "      <th>quarter</th>\n",
              "    </tr>\n",
              "  </thead>\n",
              "  <tbody>\n",
              "    <tr>\n",
              "      <th>181</th>\n",
              "      <td>2015-07-01</td>\n",
              "      <td>7586</td>\n",
              "      <td>Wednesday</td>\n",
              "      <td>3</td>\n",
              "    </tr>\n",
              "    <tr>\n",
              "      <th>182</th>\n",
              "      <td>2015-07-02</td>\n",
              "      <td>6880</td>\n",
              "      <td>Thursday</td>\n",
              "      <td>3</td>\n",
              "    </tr>\n",
              "    <tr>\n",
              "      <th>183</th>\n",
              "      <td>2015-07-03</td>\n",
              "      <td>6175</td>\n",
              "      <td>Friday</td>\n",
              "      <td>3</td>\n",
              "    </tr>\n",
              "    <tr>\n",
              "      <th>184</th>\n",
              "      <td>2015-07-04</td>\n",
              "      <td>6029</td>\n",
              "      <td>Saturday</td>\n",
              "      <td>3</td>\n",
              "    </tr>\n",
              "    <tr>\n",
              "      <th>185</th>\n",
              "      <td>2015-07-05</td>\n",
              "      <td>4809</td>\n",
              "      <td>Sunday</td>\n",
              "      <td>3</td>\n",
              "    </tr>\n",
              "  </tbody>\n",
              "</table>\n",
              "</div>"
            ],
            "text/plain": [
              "          time  pdl_total_daily_load    weekday  quarter\n",
              "181 2015-07-01                  7586  Wednesday        3\n",
              "182 2015-07-02                  6880   Thursday        3\n",
              "183 2015-07-03                  6175     Friday        3\n",
              "184 2015-07-04                  6029   Saturday        3\n",
              "185 2015-07-05                  4809     Sunday        3"
            ]
          },
          "metadata": {
            "tags": []
          },
          "execution_count": 53
        }
      ]
    },
    {
      "cell_type": "code",
      "metadata": {
        "id": "9ytzXUjej2Ll"
      },
      "source": [
        "consom3_final=consom3.join(consom3.groupby(['weekday'])['pdl_total_daily_load'].mean(),\n",
        "                           on=['weekday'],rsuffix='_avg')"
      ],
      "execution_count": null,
      "outputs": []
    },
    {
      "cell_type": "code",
      "metadata": {
        "id": "AHGrjMmhj2Lm",
        "colab": {
          "base_uri": "https://localhost:8080/",
          "height": 299
        },
        "outputId": "e567d2a4-9c0f-4112-e3d8-2b3fdc321a44"
      },
      "source": [
        "consom3_final[:8]"
      ],
      "execution_count": null,
      "outputs": [
        {
          "output_type": "execute_result",
          "data": {
            "text/html": [
              "<div>\n",
              "<style scoped>\n",
              "    .dataframe tbody tr th:only-of-type {\n",
              "        vertical-align: middle;\n",
              "    }\n",
              "\n",
              "    .dataframe tbody tr th {\n",
              "        vertical-align: top;\n",
              "    }\n",
              "\n",
              "    .dataframe thead th {\n",
              "        text-align: right;\n",
              "    }\n",
              "</style>\n",
              "<table border=\"1\" class=\"dataframe\">\n",
              "  <thead>\n",
              "    <tr style=\"text-align: right;\">\n",
              "      <th></th>\n",
              "      <th>time</th>\n",
              "      <th>pdl_total_daily_load</th>\n",
              "      <th>weekday</th>\n",
              "      <th>quarter</th>\n",
              "      <th>pdl_total_daily_load_avg</th>\n",
              "    </tr>\n",
              "  </thead>\n",
              "  <tbody>\n",
              "    <tr>\n",
              "      <th>181</th>\n",
              "      <td>2015-07-01</td>\n",
              "      <td>7586</td>\n",
              "      <td>Wednesday</td>\n",
              "      <td>3</td>\n",
              "      <td>9285.242424</td>\n",
              "    </tr>\n",
              "    <tr>\n",
              "      <th>182</th>\n",
              "      <td>2015-07-02</td>\n",
              "      <td>6880</td>\n",
              "      <td>Thursday</td>\n",
              "      <td>3</td>\n",
              "      <td>9159.415385</td>\n",
              "    </tr>\n",
              "    <tr>\n",
              "      <th>183</th>\n",
              "      <td>2015-07-03</td>\n",
              "      <td>6175</td>\n",
              "      <td>Friday</td>\n",
              "      <td>3</td>\n",
              "      <td>9059.651515</td>\n",
              "    </tr>\n",
              "    <tr>\n",
              "      <th>184</th>\n",
              "      <td>2015-07-04</td>\n",
              "      <td>6029</td>\n",
              "      <td>Saturday</td>\n",
              "      <td>3</td>\n",
              "      <td>8185.181818</td>\n",
              "    </tr>\n",
              "    <tr>\n",
              "      <th>185</th>\n",
              "      <td>2015-07-05</td>\n",
              "      <td>4809</td>\n",
              "      <td>Sunday</td>\n",
              "      <td>3</td>\n",
              "      <td>6872.515152</td>\n",
              "    </tr>\n",
              "    <tr>\n",
              "      <th>186</th>\n",
              "      <td>2015-07-06</td>\n",
              "      <td>6784</td>\n",
              "      <td>Monday</td>\n",
              "      <td>3</td>\n",
              "      <td>9088.212121</td>\n",
              "    </tr>\n",
              "    <tr>\n",
              "      <th>187</th>\n",
              "      <td>2015-07-07</td>\n",
              "      <td>7249</td>\n",
              "      <td>Tuesday</td>\n",
              "      <td>3</td>\n",
              "      <td>9151.938462</td>\n",
              "    </tr>\n",
              "    <tr>\n",
              "      <th>188</th>\n",
              "      <td>2015-07-08</td>\n",
              "      <td>7089</td>\n",
              "      <td>Wednesday</td>\n",
              "      <td>3</td>\n",
              "      <td>9285.242424</td>\n",
              "    </tr>\n",
              "  </tbody>\n",
              "</table>\n",
              "</div>"
            ],
            "text/plain": [
              "          time  pdl_total_daily_load  ... quarter  pdl_total_daily_load_avg\n",
              "181 2015-07-01                  7586  ...       3               9285.242424\n",
              "182 2015-07-02                  6880  ...       3               9159.415385\n",
              "183 2015-07-03                  6175  ...       3               9059.651515\n",
              "184 2015-07-04                  6029  ...       3               8185.181818\n",
              "185 2015-07-05                  4809  ...       3               6872.515152\n",
              "186 2015-07-06                  6784  ...       3               9088.212121\n",
              "187 2015-07-07                  7249  ...       3               9151.938462\n",
              "188 2015-07-08                  7089  ...       3               9285.242424\n",
              "\n",
              "[8 rows x 5 columns]"
            ]
          },
          "metadata": {
            "tags": []
          },
          "execution_count": 64
        }
      ]
    },
    {
      "cell_type": "code",
      "metadata": {
        "colab": {
          "base_uri": "https://localhost:8080/",
          "height": 351
        },
        "id": "f3ieow2yj2Ln",
        "outputId": "a0090a1b-f1eb-4297-d1c0-37200a21a8ce"
      },
      "source": [
        "import seaborn as sns\n",
        "\n",
        "sns.distplot(consom3['pdl_total_daily_load'])\n",
        "plt.title(\"Distribution of winter gas peak demand in summer\")\n",
        "sns.despine()"
      ],
      "execution_count": null,
      "outputs": [
        {
          "output_type": "stream",
          "text": [
            "/usr/local/lib/python3.7/dist-packages/seaborn/distributions.py:2557: FutureWarning: `distplot` is a deprecated function and will be removed in a future version. Please adapt your code to use either `displot` (a figure-level function with similar flexibility) or `histplot` (an axes-level function for histograms).\n",
            "  warnings.warn(msg, FutureWarning)\n"
          ],
          "name": "stderr"
        },
        {
          "output_type": "display_data",
          "data": {
            "image/png": "[encoded data removed]",
            "text/plain": [
              "<Figure size 432x288 with 1 Axes>"
            ]
          },
          "metadata": {
            "tags": [],
            "needs_background": "light"
          }
        }
      ]
    },
    {
      "cell_type": "markdown",
      "metadata": {
        "id": "iwZqk-jaw7Q4"
      },
      "source": [
        "visible outliers close to 0"
      ]
    },
    {
      "cell_type": "code",
      "metadata": {
        "id": "WfuaSPujj2Ln",
        "colab": {
          "base_uri": "https://localhost:8080/"
        },
        "outputId": "2ddba8d9-2bf6-4d91-b905-df1e05816926"
      },
      "source": [
        "#choose percentile 0.05 & 0.995 \n",
        "print(c3['pdl_total_daily_load'].quantile(0.05))\n",
        "print(c3['pdl_total_daily_load'].quantile(0.995))"
      ],
      "execution_count": null,
      "outputs": [
        {
          "output_type": "stream",
          "text": [
            "4401.75\n",
            "12635.48\n"
          ],
          "name": "stdout"
        }
      ]
    },
    {
      "cell_type": "markdown",
      "metadata": {
        "id": "1KY6nIJ1j2Lo"
      },
      "source": [
        "**Replace outliers**"
      ]
    },
    {
      "cell_type": "code",
      "metadata": {
        "id": "x0akmz5jj2Lo"
      },
      "source": [
        "consom3_final.loc[(consom3_final['pdl_total_daily_load']  < \n",
        "                   consom3_final['pdl_total_daily_load'].quantile(0.05))|\n",
        "                  (consom3_final['pdl_total_daily_load']  > \n",
        "                   consom3_final['pdl_total_daily_load'].quantile(0.995)),\n",
        "                  'pdl_total_daily_load' ] = consom3_final.pdl_total_daily_load_avg"
      ],
      "execution_count": null,
      "outputs": []
    },
    {
      "cell_type": "code",
      "metadata": {
        "colab": {
          "base_uri": "https://localhost:8080/",
          "height": 351
        },
        "id": "-C9a36dCj2Lo",
        "outputId": "6f29abc0-3d89-4635-d018-6c2e865165ae"
      },
      "source": [
        "import seaborn as sns\n",
        "\n",
        "sns.distplot(consom3_final['pdl_total_daily_load'])\n",
        "plt.title(\"Distribution of winter gas peak demand in summer after winsorization\")\n",
        "sns.despine()"
      ],
      "execution_count": null,
      "outputs": [
        {
          "output_type": "stream",
          "text": [
            "/usr/local/lib/python3.7/dist-packages/seaborn/distributions.py:2557: FutureWarning: `distplot` is a deprecated function and will be removed in a future version. Please adapt your code to use either `displot` (a figure-level function with similar flexibility) or `histplot` (an axes-level function for histograms).\n",
            "  warnings.warn(msg, FutureWarning)\n"
          ],
          "name": "stderr"
        },
        {
          "output_type": "display_data",
          "data": {
            "image/png": "[encoded data removed]",
            "text/plain": [
              "<Figure size 432x288 with 1 Axes>"
            ]
          },
          "metadata": {
            "tags": [],
            "needs_background": "light"
          }
        }
      ]
    },
    {
      "cell_type": "code",
      "metadata": {
        "colab": {
          "base_uri": "https://localhost:8080/",
          "height": 205
        },
        "id": "gtJYfEoUj2Lp",
        "outputId": "d1290ef9-aa9b-478a-b662-db3e1bacaed1"
      },
      "source": [
        "consom3=consom3_final[['time','pdl_total_daily_load']]\n",
        "consom3.head()"
      ],
      "execution_count": null,
      "outputs": [
        {
          "output_type": "execute_result",
          "data": {
            "text/html": [
              "<div>\n",
              "<style scoped>\n",
              "    .dataframe tbody tr th:only-of-type {\n",
              "        vertical-align: middle;\n",
              "    }\n",
              "\n",
              "    .dataframe tbody tr th {\n",
              "        vertical-align: top;\n",
              "    }\n",
              "\n",
              "    .dataframe thead th {\n",
              "        text-align: right;\n",
              "    }\n",
              "</style>\n",
              "<table border=\"1\" class=\"dataframe\">\n",
              "  <thead>\n",
              "    <tr style=\"text-align: right;\">\n",
              "      <th></th>\n",
              "      <th>time</th>\n",
              "      <th>pdl_total_daily_load</th>\n",
              "    </tr>\n",
              "  </thead>\n",
              "  <tbody>\n",
              "    <tr>\n",
              "      <th>181</th>\n",
              "      <td>2015-07-01</td>\n",
              "      <td>7586.0</td>\n",
              "    </tr>\n",
              "    <tr>\n",
              "      <th>182</th>\n",
              "      <td>2015-07-02</td>\n",
              "      <td>6880.0</td>\n",
              "    </tr>\n",
              "    <tr>\n",
              "      <th>183</th>\n",
              "      <td>2015-07-03</td>\n",
              "      <td>6175.0</td>\n",
              "    </tr>\n",
              "    <tr>\n",
              "      <th>184</th>\n",
              "      <td>2015-07-04</td>\n",
              "      <td>6029.0</td>\n",
              "    </tr>\n",
              "    <tr>\n",
              "      <th>185</th>\n",
              "      <td>2015-07-05</td>\n",
              "      <td>4809.0</td>\n",
              "    </tr>\n",
              "  </tbody>\n",
              "</table>\n",
              "</div>"
            ],
            "text/plain": [
              "          time  pdl_total_daily_load\n",
              "181 2015-07-01                7586.0\n",
              "182 2015-07-02                6880.0\n",
              "183 2015-07-03                6175.0\n",
              "184 2015-07-04                6029.0\n",
              "185 2015-07-05                4809.0"
            ]
          },
          "metadata": {
            "tags": []
          },
          "execution_count": 70
        }
      ]
    },
    {
      "cell_type": "markdown",
      "metadata": {
        "id": "5zFgk2SqklxE"
      },
      "source": [
        "# Quarter4: autumn"
      ]
    },
    {
      "cell_type": "code",
      "metadata": {
        "id": "3EiQWOwrklxK"
      },
      "source": [
        "consom4=df[df['quarter']==4]\n",
        "c4=consom4 #copy"
      ],
      "execution_count": null,
      "outputs": []
    },
    {
      "cell_type": "code",
      "metadata": {
        "colab": {
          "base_uri": "https://localhost:8080/",
          "height": 205
        },
        "id": "QzTbwgnkklxL",
        "outputId": "5e276ae1-a281-4bab-b8d7-81e6646082c3"
      },
      "source": [
        "consom4.head()"
      ],
      "execution_count": null,
      "outputs": [
        {
          "output_type": "execute_result",
          "data": {
            "text/html": [
              "<div>\n",
              "<style scoped>\n",
              "    .dataframe tbody tr th:only-of-type {\n",
              "        vertical-align: middle;\n",
              "    }\n",
              "\n",
              "    .dataframe tbody tr th {\n",
              "        vertical-align: top;\n",
              "    }\n",
              "\n",
              "    .dataframe thead th {\n",
              "        text-align: right;\n",
              "    }\n",
              "</style>\n",
              "<table border=\"1\" class=\"dataframe\">\n",
              "  <thead>\n",
              "    <tr style=\"text-align: right;\">\n",
              "      <th></th>\n",
              "      <th>time</th>\n",
              "      <th>pdl_total_daily_load</th>\n",
              "      <th>weekday</th>\n",
              "      <th>quarter</th>\n",
              "    </tr>\n",
              "  </thead>\n",
              "  <tbody>\n",
              "    <tr>\n",
              "      <th>273</th>\n",
              "      <td>2015-10-01</td>\n",
              "      <td>9879</td>\n",
              "      <td>Thursday</td>\n",
              "      <td>4</td>\n",
              "    </tr>\n",
              "    <tr>\n",
              "      <th>274</th>\n",
              "      <td>2015-10-02</td>\n",
              "      <td>10048</td>\n",
              "      <td>Friday</td>\n",
              "      <td>4</td>\n",
              "    </tr>\n",
              "    <tr>\n",
              "      <th>275</th>\n",
              "      <td>2015-10-03</td>\n",
              "      <td>7861</td>\n",
              "      <td>Saturday</td>\n",
              "      <td>4</td>\n",
              "    </tr>\n",
              "    <tr>\n",
              "      <th>276</th>\n",
              "      <td>2015-10-04</td>\n",
              "      <td>7236</td>\n",
              "      <td>Sunday</td>\n",
              "      <td>4</td>\n",
              "    </tr>\n",
              "    <tr>\n",
              "      <th>277</th>\n",
              "      <td>2015-10-05</td>\n",
              "      <td>9033</td>\n",
              "      <td>Monday</td>\n",
              "      <td>4</td>\n",
              "    </tr>\n",
              "  </tbody>\n",
              "</table>\n",
              "</div>"
            ],
            "text/plain": [
              "          time  pdl_total_daily_load   weekday  quarter\n",
              "273 2015-10-01                  9879  Thursday        4\n",
              "274 2015-10-02                 10048    Friday        4\n",
              "275 2015-10-03                  7861  Saturday        4\n",
              "276 2015-10-04                  7236    Sunday        4\n",
              "277 2015-10-05                  9033    Monday        4"
            ]
          },
          "metadata": {
            "tags": []
          },
          "execution_count": 72
        }
      ]
    },
    {
      "cell_type": "code",
      "metadata": {
        "id": "yeA9cYKNklxY"
      },
      "source": [
        "consom4_final=consom4.join(consom4.groupby(['weekday'])['pdl_total_daily_load'].mean(),\n",
        "                           on=['weekday'],rsuffix='_avg')"
      ],
      "execution_count": null,
      "outputs": []
    },
    {
      "cell_type": "code",
      "metadata": {
        "colab": {
          "base_uri": "https://localhost:8080/",
          "height": 299
        },
        "id": "lsYO5GFFklxY",
        "outputId": "497f2b10-f65c-47eb-fb14-6a5dd5bb7af8"
      },
      "source": [
        "consom4_final[:8]"
      ],
      "execution_count": null,
      "outputs": [
        {
          "output_type": "execute_result",
          "data": {
            "text/html": [
              "<div>\n",
              "<style scoped>\n",
              "    .dataframe tbody tr th:only-of-type {\n",
              "        vertical-align: middle;\n",
              "    }\n",
              "\n",
              "    .dataframe tbody tr th {\n",
              "        vertical-align: top;\n",
              "    }\n",
              "\n",
              "    .dataframe thead th {\n",
              "        text-align: right;\n",
              "    }\n",
              "</style>\n",
              "<table border=\"1\" class=\"dataframe\">\n",
              "  <thead>\n",
              "    <tr style=\"text-align: right;\">\n",
              "      <th></th>\n",
              "      <th>time</th>\n",
              "      <th>pdl_total_daily_load</th>\n",
              "      <th>weekday</th>\n",
              "      <th>quarter</th>\n",
              "      <th>pdl_total_daily_load_avg</th>\n",
              "    </tr>\n",
              "  </thead>\n",
              "  <tbody>\n",
              "    <tr>\n",
              "      <th>273</th>\n",
              "      <td>2015-10-01</td>\n",
              "      <td>9879</td>\n",
              "      <td>Thursday</td>\n",
              "      <td>4</td>\n",
              "      <td>14746.878788</td>\n",
              "    </tr>\n",
              "    <tr>\n",
              "      <th>274</th>\n",
              "      <td>2015-10-02</td>\n",
              "      <td>10048</td>\n",
              "      <td>Friday</td>\n",
              "      <td>4</td>\n",
              "      <td>14789.523077</td>\n",
              "    </tr>\n",
              "    <tr>\n",
              "      <th>275</th>\n",
              "      <td>2015-10-03</td>\n",
              "      <td>7861</td>\n",
              "      <td>Saturday</td>\n",
              "      <td>4</td>\n",
              "      <td>13814.545455</td>\n",
              "    </tr>\n",
              "    <tr>\n",
              "      <th>276</th>\n",
              "      <td>2015-10-04</td>\n",
              "      <td>7236</td>\n",
              "      <td>Sunday</td>\n",
              "      <td>4</td>\n",
              "      <td>12604.363636</td>\n",
              "    </tr>\n",
              "    <tr>\n",
              "      <th>277</th>\n",
              "      <td>2015-10-05</td>\n",
              "      <td>9033</td>\n",
              "      <td>Monday</td>\n",
              "      <td>4</td>\n",
              "      <td>14055.515152</td>\n",
              "    </tr>\n",
              "    <tr>\n",
              "      <th>278</th>\n",
              "      <td>2015-10-06</td>\n",
              "      <td>8660</td>\n",
              "      <td>Tuesday</td>\n",
              "      <td>4</td>\n",
              "      <td>14076.909091</td>\n",
              "    </tr>\n",
              "    <tr>\n",
              "      <th>279</th>\n",
              "      <td>2015-10-07</td>\n",
              "      <td>8735</td>\n",
              "      <td>Wednesday</td>\n",
              "      <td>4</td>\n",
              "      <td>14567.261538</td>\n",
              "    </tr>\n",
              "    <tr>\n",
              "      <th>280</th>\n",
              "      <td>2015-10-08</td>\n",
              "      <td>8018</td>\n",
              "      <td>Thursday</td>\n",
              "      <td>4</td>\n",
              "      <td>14746.878788</td>\n",
              "    </tr>\n",
              "  </tbody>\n",
              "</table>\n",
              "</div>"
            ],
            "text/plain": [
              "          time  pdl_total_daily_load  ... quarter  pdl_total_daily_load_avg\n",
              "273 2015-10-01                  9879  ...       4              14746.878788\n",
              "274 2015-10-02                 10048  ...       4              14789.523077\n",
              "275 2015-10-03                  7861  ...       4              13814.545455\n",
              "276 2015-10-04                  7236  ...       4              12604.363636\n",
              "277 2015-10-05                  9033  ...       4              14055.515152\n",
              "278 2015-10-06                  8660  ...       4              14076.909091\n",
              "279 2015-10-07                  8735  ...       4              14567.261538\n",
              "280 2015-10-08                  8018  ...       4              14746.878788\n",
              "\n",
              "[8 rows x 5 columns]"
            ]
          },
          "metadata": {
            "tags": []
          },
          "execution_count": 74
        }
      ]
    },
    {
      "cell_type": "code",
      "metadata": {
        "colab": {
          "base_uri": "https://localhost:8080/",
          "height": 351
        },
        "id": "RKiMmh_Iklxa",
        "outputId": "020efb6a-e69d-4ca2-ead7-0edd236441c0"
      },
      "source": [
        "import seaborn as sns\n",
        "\n",
        "sns.distplot(consom4['pdl_total_daily_load'])\n",
        "plt.title(\"Distribution of winter gas peak demand in autumn\")\n",
        "sns.despine()"
      ],
      "execution_count": null,
      "outputs": [
        {
          "output_type": "stream",
          "text": [
            "/usr/local/lib/python3.7/dist-packages/seaborn/distributions.py:2557: FutureWarning: `distplot` is a deprecated function and will be removed in a future version. Please adapt your code to use either `displot` (a figure-level function with similar flexibility) or `histplot` (an axes-level function for histograms).\n",
            "  warnings.warn(msg, FutureWarning)\n"
          ],
          "name": "stderr"
        },
        {
          "output_type": "display_data",
          "data": {
            "image/png": "[encoded data removed]",
            "text/plain": [
              "<Figure size 432x288 with 1 Axes>"
            ]
          },
          "metadata": {
            "tags": [],
            "needs_background": "light"
          }
        }
      ]
    },
    {
      "cell_type": "markdown",
      "metadata": {
        "id": "O2V7LoH1w0Uq"
      },
      "source": [
        "visible outliers around zero"
      ]
    },
    {
      "cell_type": "code",
      "metadata": {
        "colab": {
          "base_uri": "https://localhost:8080/"
        },
        "id": "cF5gQ-GRklxb",
        "outputId": "d9cad3c7-5f50-46f4-b099-7858a0eee1f6"
      },
      "source": [
        "#we choose 0.05 and 0.995\n",
        "print(c4['pdl_total_daily_load'].quantile(0.005))\n",
        "print(c4['pdl_total_daily_load'].quantile(0.995))"
      ],
      "execution_count": null,
      "outputs": [
        {
          "output_type": "stream",
          "text": [
            "4430.13\n",
            "27936.0\n"
          ],
          "name": "stdout"
        }
      ]
    },
    {
      "cell_type": "markdown",
      "metadata": {
        "id": "UUAj_jg_klxb"
      },
      "source": [
        "**Replace outliers**"
      ]
    },
    {
      "cell_type": "code",
      "metadata": {
        "id": "hBu34PFsklxc"
      },
      "source": [
        "consom4_final.loc[(consom4_final['pdl_total_daily_load']  < \n",
        "                   consom4_final['pdl_total_daily_load'].quantile(0.005))|\n",
        "                  (consom4_final['pdl_total_daily_load']  > \n",
        "                   consom4_final['pdl_total_daily_load'].quantile(0.995)),\n",
        "                  'pdl_total_daily_load' ] = consom4_final.pdl_total_daily_load_avg"
      ],
      "execution_count": null,
      "outputs": []
    },
    {
      "cell_type": "code",
      "metadata": {
        "colab": {
          "base_uri": "https://localhost:8080/",
          "height": 351
        },
        "id": "ZfmVw48eklxc",
        "outputId": "b3e62f0c-7827-4628-a618-f01f310cd209"
      },
      "source": [
        "import seaborn as sns\n",
        "\n",
        "sns.distplot(consom4_final['pdl_total_daily_load'])\n",
        "plt.title(\"Distribution of winter gas peak demand in autumn after winsorization\")\n",
        "sns.despine()"
      ],
      "execution_count": null,
      "outputs": [
        {
          "output_type": "stream",
          "text": [
            "/usr/local/lib/python3.7/dist-packages/seaborn/distributions.py:2557: FutureWarning: `distplot` is a deprecated function and will be removed in a future version. Please adapt your code to use either `displot` (a figure-level function with similar flexibility) or `histplot` (an axes-level function for histograms).\n",
            "  warnings.warn(msg, FutureWarning)\n"
          ],
          "name": "stderr"
        },
        {
          "output_type": "display_data",
          "data": {
            "image/png": "[encoded data removed]",
            "text/plain": [
              "<Figure size 432x288 with 1 Axes>"
            ]
          },
          "metadata": {
            "tags": [],
            "needs_background": "light"
          }
        }
      ]
    },
    {
      "cell_type": "code",
      "metadata": {
        "colab": {
          "base_uri": "https://localhost:8080/",
          "height": 198
        },
        "id": "0-baw4_1klxd",
        "outputId": "8b08c389-779a-46aa-a481-f2862e2c5ee6"
      },
      "source": [
        "consom4=consom4_final[['time','pdl_total_daily_load']]\n",
        "consom4.head()"
      ],
      "execution_count": null,
      "outputs": [
        {
          "output_type": "execute_result",
          "data": {
            "text/html": [
              "<div>\n",
              "<style scoped>\n",
              "    .dataframe tbody tr th:only-of-type {\n",
              "        vertical-align: middle;\n",
              "    }\n",
              "\n",
              "    .dataframe tbody tr th {\n",
              "        vertical-align: top;\n",
              "    }\n",
              "\n",
              "    .dataframe thead th {\n",
              "        text-align: right;\n",
              "    }\n",
              "</style>\n",
              "<table border=\"1\" class=\"dataframe\">\n",
              "  <thead>\n",
              "    <tr style=\"text-align: right;\">\n",
              "      <th></th>\n",
              "      <th>time</th>\n",
              "      <th>pdl_total_daily_load</th>\n",
              "    </tr>\n",
              "  </thead>\n",
              "  <tbody>\n",
              "    <tr>\n",
              "      <th>273</th>\n",
              "      <td>2015-10-01</td>\n",
              "      <td>9879.0</td>\n",
              "    </tr>\n",
              "    <tr>\n",
              "      <th>274</th>\n",
              "      <td>2015-10-02</td>\n",
              "      <td>10048.0</td>\n",
              "    </tr>\n",
              "    <tr>\n",
              "      <th>275</th>\n",
              "      <td>2015-10-03</td>\n",
              "      <td>7861.0</td>\n",
              "    </tr>\n",
              "    <tr>\n",
              "      <th>276</th>\n",
              "      <td>2015-10-04</td>\n",
              "      <td>7236.0</td>\n",
              "    </tr>\n",
              "    <tr>\n",
              "      <th>277</th>\n",
              "      <td>2015-10-05</td>\n",
              "      <td>9033.0</td>\n",
              "    </tr>\n",
              "  </tbody>\n",
              "</table>\n",
              "</div>"
            ],
            "text/plain": [
              "          time  pdl_total_daily_load\n",
              "273 2015-10-01                9879.0\n",
              "274 2015-10-02               10048.0\n",
              "275 2015-10-03                7861.0\n",
              "276 2015-10-04                7236.0\n",
              "277 2015-10-05                9033.0"
            ]
          },
          "metadata": {
            "tags": []
          },
          "execution_count": 142
        }
      ]
    },
    {
      "cell_type": "markdown",
      "metadata": {
        "id": "SwIYCaEVPGZU"
      },
      "source": [
        "# concat results of cleaning of the different seasons"
      ]
    },
    {
      "cell_type": "code",
      "metadata": {
        "id": "hWDgMRYEPKQN"
      },
      "source": [
        "clean_pdl=pd.concat([consom1,consom2,consom3,consom4]).sort_values(by='time')"
      ],
      "execution_count": null,
      "outputs": []
    },
    {
      "cell_type": "code",
      "metadata": {
        "colab": {
          "base_uri": "https://localhost:8080/",
          "height": 422
        },
        "id": "CES5CpbrQLc2",
        "outputId": "90d670e2-864f-4d27-8695-530a07182077"
      },
      "source": [
        "clean_pdl[['time','pdl_total_daily_load']]"
      ],
      "execution_count": null,
      "outputs": [
        {
          "output_type": "execute_result",
          "data": {
            "text/html": [
              "<div>\n",
              "<style scoped>\n",
              "    .dataframe tbody tr th:only-of-type {\n",
              "        vertical-align: middle;\n",
              "    }\n",
              "\n",
              "    .dataframe tbody tr th {\n",
              "        vertical-align: top;\n",
              "    }\n",
              "\n",
              "    .dataframe thead th {\n",
              "        text-align: right;\n",
              "    }\n",
              "</style>\n",
              "<table border=\"1\" class=\"dataframe\">\n",
              "  <thead>\n",
              "    <tr style=\"text-align: right;\">\n",
              "      <th></th>\n",
              "      <th>time</th>\n",
              "      <th>pdl_total_daily_load</th>\n",
              "    </tr>\n",
              "  </thead>\n",
              "  <tbody>\n",
              "    <tr>\n",
              "      <th>0</th>\n",
              "      <td>2015-01-01</td>\n",
              "      <td>16580.0</td>\n",
              "    </tr>\n",
              "    <tr>\n",
              "      <th>1</th>\n",
              "      <td>2015-01-02</td>\n",
              "      <td>22006.0</td>\n",
              "    </tr>\n",
              "    <tr>\n",
              "      <th>2</th>\n",
              "      <td>2015-01-03</td>\n",
              "      <td>18629.0</td>\n",
              "    </tr>\n",
              "    <tr>\n",
              "      <th>3</th>\n",
              "      <td>2015-01-04</td>\n",
              "      <td>18060.0</td>\n",
              "    </tr>\n",
              "    <tr>\n",
              "      <th>4</th>\n",
              "      <td>2015-01-05</td>\n",
              "      <td>20122.0</td>\n",
              "    </tr>\n",
              "    <tr>\n",
              "      <th>...</th>\n",
              "      <td>...</td>\n",
              "      <td>...</td>\n",
              "    </tr>\n",
              "    <tr>\n",
              "      <th>2003</th>\n",
              "      <td>2020-06-26</td>\n",
              "      <td>13461.0</td>\n",
              "    </tr>\n",
              "    <tr>\n",
              "      <th>2004</th>\n",
              "      <td>2020-06-27</td>\n",
              "      <td>12932.0</td>\n",
              "    </tr>\n",
              "    <tr>\n",
              "      <th>2005</th>\n",
              "      <td>2020-06-28</td>\n",
              "      <td>11265.0</td>\n",
              "    </tr>\n",
              "    <tr>\n",
              "      <th>2006</th>\n",
              "      <td>2020-06-29</td>\n",
              "      <td>13974.0</td>\n",
              "    </tr>\n",
              "    <tr>\n",
              "      <th>2007</th>\n",
              "      <td>2020-06-30</td>\n",
              "      <td>13626.0</td>\n",
              "    </tr>\n",
              "  </tbody>\n",
              "</table>\n",
              "<p>2008 rows × 2 columns</p>\n",
              "</div>"
            ],
            "text/plain": [
              "           time  pdl_total_daily_load\n",
              "0    2015-01-01               16580.0\n",
              "1    2015-01-02               22006.0\n",
              "2    2015-01-03               18629.0\n",
              "3    2015-01-04               18060.0\n",
              "4    2015-01-05               20122.0\n",
              "...         ...                   ...\n",
              "2003 2020-06-26               13461.0\n",
              "2004 2020-06-27               12932.0\n",
              "2005 2020-06-28               11265.0\n",
              "2006 2020-06-29               13974.0\n",
              "2007 2020-06-30               13626.0\n",
              "\n",
              "[2008 rows x 2 columns]"
            ]
          },
          "metadata": {
            "tags": []
          },
          "execution_count": 83
        }
      ]
    },
    {
      "cell_type": "code",
      "metadata": {
        "colab": {
          "base_uri": "https://localhost:8080/",
          "height": 351
        },
        "id": "hNQaqkHFQUUG",
        "outputId": "fdba44d2-8100-48ed-f844-f263cc8712ad"
      },
      "source": [
        "import seaborn as sns\n",
        "\n",
        "sns.distplot(clean_pdl['pdl_total_daily_load'])\n",
        "plt.title(\"Distribution of PDL total daily load after winsorization\")\n",
        "sns.despine()"
      ],
      "execution_count": null,
      "outputs": [
        {
          "output_type": "stream",
          "text": [
            "/usr/local/lib/python3.7/dist-packages/seaborn/distributions.py:2557: FutureWarning: `distplot` is a deprecated function and will be removed in a future version. Please adapt your code to use either `displot` (a figure-level function with similar flexibility) or `histplot` (an axes-level function for histograms).\n",
            "  warnings.warn(msg, FutureWarning)\n"
          ],
          "name": "stderr"
        },
        {
          "output_type": "display_data",
          "data": {
            "image/png": "[encoded data removed]",
            "text/plain": [
              "<Figure size 432x288 with 1 Axes>"
            ]
          },
          "metadata": {
            "tags": [],
            "needs_background": "light"
          }
        }
      ]
    },
    {
      "cell_type": "code",
      "metadata": {
        "id": "MY9x2OXqmDk5"
      },
      "source": [
        "#export the clean dataset\n",
        "clean_pdl[['time','pdl_total_daily_load']].to_csv('pdl_daily_total_clean.csv')"
      ],
      "execution_count": null,
      "outputs": []
    },
    {
      "cell_type": "markdown",
      "metadata": {
        "id": "Z3BOCmwZ28Sw"
      },
      "source": [
        "## this notebook represents the cleaning of \"PDL total daily load\". THe same approach is applied to clean \"max PDL daily load\" as they share the weekly seasonality "
      ]
    },
    {
      "cell_type": "code",
      "metadata": {
        "id": "Enw4LuAimNyk"
      },
      "source": [
        ""
      ],
      "execution_count": null,
      "outputs": []
    }
  ]
}