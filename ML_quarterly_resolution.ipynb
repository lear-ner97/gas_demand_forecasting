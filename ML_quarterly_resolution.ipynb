{
  "nbformat": 4,
  "nbformat_minor": 0,
  "metadata": {
    "colab": {
      "name": "ML_quarterly_resolution.ipynb",
      "provenance": [],
      "collapsed_sections": []
    },
    "kernelspec": {
      "name": "python3",
      "display_name": "Python 3"
    },
    "language_info": {
      "name": "python"
    }
  },
  "cells": [
    {
      "cell_type": "markdown",
      "metadata": {
        "id": "GgMrPZLBHnOo"
      },
      "source": [
        "# this notebook represents long-term forecasting(3years) with daily resolution using ML models"
      ]
    },
    {
      "cell_type": "markdown",
      "metadata": {
        "id": "IKIY1WhO8z57"
      },
      "source": [
        "refs:\n",
        "\n",
        "\n",
        "1.   https://towardsdatascience.com/how-not-to-use-machine-learning-for-time-series-forecasting-avoiding-the-pitfalls-19f9d7adf424\n",
        "2.   (sklearn)https://towardsdatascience.com/time-series-modeling-using-scikit-pandas-and-numpy-682e3b8db8d1\n",
        "3.   https://towardsdatascience.com/sktime-a-unified-python-library-for-time-series-machine-learning-3c103c139a55\n",
        "4.   https://stackoverflow.com/questions/63517126/any-way-to-predict-monthly-time-series-with-scikit-learn-in-python\n",
        "5.   https://paperswithcode.com/paper/forecasting-foreign-exchange-rate-a\n",
        "6. https://github.com/alan-turing-institute/sktime/blob/main/examples/01_forecasting.ipynb\n",
        "7. https://arxiv.org/pdf/2005.08067.pdf (sktime paper-metrics p9)\n",
        "\n",
        "\n",
        "\n",
        "\n",
        "\n",
        "\n"
      ]
    },
    {
      "cell_type": "markdown",
      "metadata": {
        "id": "2iMMCpIyL46i"
      },
      "source": [
        "fine tuning RF : \n",
        "\n",
        "*   https://towardsdatascience.com/hyperparameter-tuning-the-random-forest-in-python-using-scikit-learn-28d2aa77dd74\n",
        "*   xgboost: https://machinelearningmastery.com/xgboost-for-time-series-forecasting/\n",
        "* to read: https://towardsdatascience.com/random-forest-hyperparameters-and-how-to-fine-tune-them-17aee785ee0d \n",
        "\n"
      ]
    },
    {
      "cell_type": "markdown",
      "metadata": {
        "id": "V3mfVfCumG9k"
      },
      "source": [
        "Regarding a machine learning paper, consider starting by reviewing papers related to your work (Google Scholar may help) and write a section about it (keep in mind how your work relates to them and what innovation it brings to the field, and write about it). Then write sections for describing your dataset(s), for describing your algorithms and methodology, and why you have selected them. Also, don’t forget to write about your results (you will see how a machine learning paper is organized by reviewing other papers anyway).\n",
        "\n",
        "At the end, get ready to answer the reviews you will receive some time after submitting.\n",
        "\n",
        "It would be easier if you already have academic experience on researching or if you have a professor or experienced researcher to advise you with that. Also, at least talk to someone with academic experience to advise you WHERE you should submit your paper, given your work subject.\n",
        "\n",
        "In summary: yes, you can! But it will be a lot easier if you have an advisor, at least…\n",
        "\n",
        "\n"
      ]
    },
    {
      "cell_type": "markdown",
      "metadata": {
        "id": "yYirXA1MqJYx"
      },
      "source": [
        "One also needs to choose the journal which is most suited to the subject field of the article. Is the article a review article or a piece of original investigation? Does the study provide incremental gains in knowledge or is there something exceptionally novel to report? Journals and fields will vary in what they consider appropriate and which formats they publish.\n",
        "\n",
        "Depending on the journal, choosing an appropriate editor(s) is the final step. There may be a list of editors and reviewers to choose from and it makes sense to choose someone who works in a closely related field."
      ]
    },
    {
      "cell_type": "markdown",
      "metadata": {
        "id": "jafUzMrprfnK"
      },
      "source": [
        "The stages of publishing research may differ by field and publisher, but broadly you'll follow these steps:\n",
        "\n",
        "Do the research\n",
        "Decide what research results you want to publish together as an account of your research findings. This should be decided independently of the direction of the results, i.e. whether or not you got the results you wanted.\n",
        "Discuss authorship with those who contributed to the research\n",
        "Draft the text, tables and figures and work with all the authors on revising and editing the paper. Anyone involved in this process who is not an author should be acknowledged.\n",
        "Optionally, get feedback from colleagues about the manuscript\n",
        "Optionally, get the paper edited by a language editing service\n",
        "Get approval from all the authors of the version to be submitted\n",
        "Agree among the authors where you will submit and how any page charges or article processing charges will be paid\n",
        "Have the underlying data and any code ready to share on request or ideally deposit this publicly. Also have documentation such as of ethics approval ready.\n",
        "Prepare a cover letter and the manuscript files\n",
        "Read the instructions for authors of the target journal, check you comply with their policies\n",
        "Submit the article via the online submission\n",
        "The article will undergo different initials checks / triage depending on the journal, such as scope or issues like reporting.\n",
        "If the paper is not rejected, it will be assigned to an editor, either a staff editor or an academic editor. In some journals, the Editor-in-Chief decides this allocation.\n",
        "The editor will decide if the paper is suitable for peer review. If not, they may reject the paper (often called a “desk reject”) or ask for revisions. Some journals discuss decisions or require approval by the EiC or a section editor, others give individual editors autonomy in their decisions.\n",
        "Most journals require peer review before a paper can be accepted, though some rely on editorial review. Peer reviewers are experts in the topic and/or methods of the research. They may be selected from a database of reviewers, researchers the editors knows of themselves, or chosen based on their publication record.\n",
        "Potential reviewers are asked to review, usually by email but occasionally by phone. If they agree, they will be sent the paper and given anything from a few days to several weeks to submit their review. The number of reviewers is usually two or three, but can vary. If reviewers decline, they may suggest alternatives. Publishing staff often support editors in this process.\n",
        "Reviewers will usually send their comments via the online system or email. They might be asked to answer specific questions and are often asked about their recommendation (accept/revise/reject).\n",
        "Once the editor has enough reviews, they will make their decision based on the reviews, the journal guidelines, and their own assessment of the paper and the reviewers' expertise. The editor may be able to overrule the reviewers. Their decision might need to be approved or discussed. They will send their decision, usually by email, to the authors.\n",
        "If the article needs revisions, the authors will be asked to resubmit by a certain date. That deadline can often be extended. Authors might need to do more research, a reanalysis, or revise the language.\n",
        "If the article is rejected, the authors might appeal the decision or be allowed to resubmit to the same journal if they address all the editor and reviewer concerns. Otherwise, go back to step 10 at the next journal of the authors' choice.\n",
        "If revised, editor might make the next decision themselves or send the paper for re-review\n",
        "Once accepted, the paper might be posted publicly as an “in press” version or this might wait until production is complete\n",
        "During production, typesetting, formatting, copyediting and other checks will be performed by the publisher\n",
        "The final article is then formally published, usually as HTML and/or PDF, and sent to indexing services"
      ]
    },
    {
      "cell_type": "code",
      "metadata": {
        "id": "scyRsTjNg2Jt"
      },
      "source": [
        "#ref 1\n",
        "#make zoom on pred vs test data\n",
        "#make cross-correlation between pred-test data\n",
        "#dont be overconfident with traditional accuracy metrics : r2, mae,...\n",
        "#ref2\n",
        "#A better alternative for cross validation on time series data (than K-fold CV) is \n",
        "#Forward Chaining strategy.\n",
        "\n",
        "#sktime tuto github [6]\n",
        "#1.2.1, 1.2.2, 1.3, 1.4.1, 3.3(tuning), 3.4 (ensembling)\n",
        "#LSTM can overcome the problem of back-propagated error decay through memory blocks of LSTM. In \n",
        "#contrast, MLP) models very often face the problem ofoverfitting, backpropagated error decay, \n",
        "#and it cannot automatically determine the optimal time lags while fitting time-series data[5]\n",
        "\n",
        "#ML mastery: xgboost, Random Forest"
      ],
      "execution_count": null,
      "outputs": []
    },
    {
      "cell_type": "code",
      "metadata": {
        "id": "1HRWeLc2Gc10"
      },
      "source": [
        "\n",
        "from numpy import argsort\n",
        "from sklearn.model_selection import GridSearchCV\n",
        "from sklearn.metrics import mean_absolute_error\n",
        "from sklearn.ensemble import VotingRegressor\n",
        "import pandas as pd\n",
        "from sklearn.preprocessing import MinMaxScaler\n",
        "from numpy import concatenate\n",
        "from sklearn.model_selection import TimeSeriesSplit\n",
        "from xgboost import XGBRegressor\n",
        "from sklearn.model_selection import cross_val_score\n",
        "import matplotlib.pyplot as plt\n",
        "from sklearn.linear_model import LinearRegression\n",
        "from sklearn.neural_network import MLPRegressor\n",
        "from sklearn.neighbors import KNeighborsRegressor\n",
        "from sklearn.ensemble import RandomForestRegressor\n",
        "from sklearn.gaussian_process import GaussianProcessRegressor\n",
        "from sklearn.linear_model import Ridge\n",
        "from sklearn import linear_model\n",
        "from sklearn.svm import SVR\n",
        "from sklearn.linear_model import ElasticNet\n",
        "import sklearn\n",
        "from sklearn import metrics\n",
        "import numpy as np\n",
        "import matplotlib.dates as mdates"
      ],
      "execution_count": null,
      "outputs": []
    },
    {
      "cell_type": "code",
      "metadata": {
        "id": "pAw-KeR0XqqF",
        "colab": {
          "base_uri": "https://localhost:8080/"
        },
        "outputId": "f6653725-5927-4f7b-f108-32227c576e09"
      },
      "source": [
        "#read multivariate data\n",
        "df=pd.read_csv('/content/clean_quarterly_df_human.csv')\n",
        "df.time=pd.to_datetime(df.time,dayfirst=True)\n",
        "df.columns"
      ],
      "execution_count": null,
      "outputs": [
        {
          "output_type": "execute_result",
          "data": {
            "text/plain": [
              "Index(['time', 'MIN_TEMPERATURE_C_t_12', 'max_clients_quarter_t_12',\n",
              "       'total_Holiday_Food_Related_t_12', 'total_consommation_t_12',\n",
              "       'pdl_max_total_daily_load_t_12', 'pdl_max_daily_load_t_12',\n",
              "       'MIN_TEMPERATURE_C_t', 'max_clients_quarter_t',\n",
              "       'total_Holiday_Food_Related_t', 'pdl_max_daily_load_t'],\n",
              "      dtype='object')"
            ]
          },
          "metadata": {
            "tags": []
          },
          "execution_count": 6
        }
      ]
    },
    {
      "cell_type": "code",
      "metadata": {
        "id": "wgKOf0xp8ZFC"
      },
      "source": [
        "data=pd.read_csv('/content/clean_quarterly_df_human.csv',\n",
        "                 index_col='time')[['MIN_TEMPERATURE_C_t_12', 'max_clients_quarter_t_12',\n",
        "       'total_Holiday_Food_Related_t_12', 'total_consommation_t_12',\n",
        "       'pdl_max_total_daily_load_t_12', 'pdl_max_daily_load_t_12',\n",
        "       \n",
        "       'MIN_TEMPERATURE_C_t', 'max_clients_quarter_t',\n",
        "       'total_Holiday_Food_Related_t', 'pdl_max_daily_load_t']].dropna()\n"
      ],
      "execution_count": null,
      "outputs": []
    },
    {
      "cell_type": "code",
      "metadata": {
        "colab": {
          "base_uri": "https://localhost:8080/"
        },
        "id": "e9QfJ8FPyGYL",
        "outputId": "3e277d04-6918-4d43-8f43-77cd66a0523e"
      },
      "source": [
        "data.shape"
      ],
      "execution_count": null,
      "outputs": [
        {
          "output_type": "execute_result",
          "data": {
            "text/plain": [
              "(10, 10)"
            ]
          },
          "metadata": {
            "tags": []
          },
          "execution_count": 8
        }
      ]
    },
    {
      "cell_type": "code",
      "metadata": {
        "id": "dRaIduTRqmPq"
      },
      "source": [
        "data.index=pd.to_datetime(data.index,dayfirst=True)"
      ],
      "execution_count": null,
      "outputs": []
    },
    {
      "cell_type": "code",
      "metadata": {
        "colab": {
          "base_uri": "https://localhost:8080/",
          "height": 343
        },
        "id": "XOKVBlf2-uTH",
        "outputId": "fa8c353a-c6a1-475e-a44d-94d6a1f612df"
      },
      "source": [
        "data.head()"
      ],
      "execution_count": null,
      "outputs": [
        {
          "output_type": "execute_result",
          "data": {
            "text/html": [
              "<div>\n",
              "<style scoped>\n",
              "    .dataframe tbody tr th:only-of-type {\n",
              "        vertical-align: middle;\n",
              "    }\n",
              "\n",
              "    .dataframe tbody tr th {\n",
              "        vertical-align: top;\n",
              "    }\n",
              "\n",
              "    .dataframe thead th {\n",
              "        text-align: right;\n",
              "    }\n",
              "</style>\n",
              "<table border=\"1\" class=\"dataframe\">\n",
              "  <thead>\n",
              "    <tr style=\"text-align: right;\">\n",
              "      <th></th>\n",
              "      <th>MIN_TEMPERATURE_C_t_12</th>\n",
              "      <th>max_clients_quarter_t_12</th>\n",
              "      <th>total_Holiday_Food_Related_t_12</th>\n",
              "      <th>total_consommation_t_12</th>\n",
              "      <th>pdl_max_total_daily_load_t_12</th>\n",
              "      <th>pdl_max_daily_load_t_12</th>\n",
              "      <th>MIN_TEMPERATURE_C_t</th>\n",
              "      <th>max_clients_quarter_t</th>\n",
              "      <th>total_Holiday_Food_Related_t</th>\n",
              "      <th>pdl_max_daily_load_t</th>\n",
              "    </tr>\n",
              "    <tr>\n",
              "      <th>time</th>\n",
              "      <th></th>\n",
              "      <th></th>\n",
              "      <th></th>\n",
              "      <th></th>\n",
              "      <th></th>\n",
              "      <th></th>\n",
              "      <th></th>\n",
              "      <th></th>\n",
              "      <th></th>\n",
              "      <th></th>\n",
              "    </tr>\n",
              "  </thead>\n",
              "  <tbody>\n",
              "    <tr>\n",
              "      <th>2018-03-31</th>\n",
              "      <td>8.0</td>\n",
              "      <td>4060.0</td>\n",
              "      <td>2.0</td>\n",
              "      <td>757059.40</td>\n",
              "      <td>22257.0</td>\n",
              "      <td>1551.0</td>\n",
              "      <td>11.0</td>\n",
              "      <td>4943.0</td>\n",
              "      <td>1.0</td>\n",
              "      <td>1472.0</td>\n",
              "    </tr>\n",
              "    <tr>\n",
              "      <th>2018-06-30</th>\n",
              "      <td>14.0</td>\n",
              "      <td>4137.0</td>\n",
              "      <td>13.0</td>\n",
              "      <td>690218.16</td>\n",
              "      <td>16752.0</td>\n",
              "      <td>1253.0</td>\n",
              "      <td>15.0</td>\n",
              "      <td>5056.0</td>\n",
              "      <td>33.0</td>\n",
              "      <td>1494.0</td>\n",
              "    </tr>\n",
              "    <tr>\n",
              "      <th>2018-09-30</th>\n",
              "      <td>23.0</td>\n",
              "      <td>4194.0</td>\n",
              "      <td>23.0</td>\n",
              "      <td>669288.36</td>\n",
              "      <td>9186.0</td>\n",
              "      <td>1051.0</td>\n",
              "      <td>23.0</td>\n",
              "      <td>5113.0</td>\n",
              "      <td>4.0</td>\n",
              "      <td>1029.0</td>\n",
              "    </tr>\n",
              "    <tr>\n",
              "      <th>2018-12-31</th>\n",
              "      <td>13.0</td>\n",
              "      <td>4242.0</td>\n",
              "      <td>3.0</td>\n",
              "      <td>702182.67</td>\n",
              "      <td>18801.0</td>\n",
              "      <td>1327.0</td>\n",
              "      <td>13.0</td>\n",
              "      <td>5171.0</td>\n",
              "      <td>1.0</td>\n",
              "      <td>1411.0</td>\n",
              "    </tr>\n",
              "    <tr>\n",
              "      <th>2019-03-31</th>\n",
              "      <td>11.0</td>\n",
              "      <td>4346.0</td>\n",
              "      <td>1.0</td>\n",
              "      <td>735924.27</td>\n",
              "      <td>20212.0</td>\n",
              "      <td>1391.0</td>\n",
              "      <td>9.0</td>\n",
              "      <td>5217.0</td>\n",
              "      <td>1.0</td>\n",
              "      <td>1600.0</td>\n",
              "    </tr>\n",
              "  </tbody>\n",
              "</table>\n",
              "</div>"
            ],
            "text/plain": [
              "            MIN_TEMPERATURE_C_t_12  ...  pdl_max_daily_load_t\n",
              "time                                ...                      \n",
              "2018-03-31                     8.0  ...                1472.0\n",
              "2018-06-30                    14.0  ...                1494.0\n",
              "2018-09-30                    23.0  ...                1029.0\n",
              "2018-12-31                    13.0  ...                1411.0\n",
              "2019-03-31                    11.0  ...                1600.0\n",
              "\n",
              "[5 rows x 10 columns]"
            ]
          },
          "metadata": {
            "tags": []
          },
          "execution_count": 10
        }
      ]
    },
    {
      "cell_type": "code",
      "metadata": {
        "colab": {
          "base_uri": "https://localhost:8080/",
          "height": 343
        },
        "id": "xktaLYwMkSPU",
        "outputId": "b8e90a74-ea6f-49eb-8452-78ac7c5fe2c7"
      },
      "source": [
        "data.tail()"
      ],
      "execution_count": null,
      "outputs": [
        {
          "output_type": "execute_result",
          "data": {
            "text/html": [
              "<div>\n",
              "<style scoped>\n",
              "    .dataframe tbody tr th:only-of-type {\n",
              "        vertical-align: middle;\n",
              "    }\n",
              "\n",
              "    .dataframe tbody tr th {\n",
              "        vertical-align: top;\n",
              "    }\n",
              "\n",
              "    .dataframe thead th {\n",
              "        text-align: right;\n",
              "    }\n",
              "</style>\n",
              "<table border=\"1\" class=\"dataframe\">\n",
              "  <thead>\n",
              "    <tr style=\"text-align: right;\">\n",
              "      <th></th>\n",
              "      <th>MIN_TEMPERATURE_C_t_12</th>\n",
              "      <th>max_clients_quarter_t_12</th>\n",
              "      <th>total_Holiday_Food_Related_t_12</th>\n",
              "      <th>total_consommation_t_12</th>\n",
              "      <th>pdl_max_total_daily_load_t_12</th>\n",
              "      <th>pdl_max_daily_load_t_12</th>\n",
              "      <th>MIN_TEMPERATURE_C_t</th>\n",
              "      <th>max_clients_quarter_t</th>\n",
              "      <th>total_Holiday_Food_Related_t</th>\n",
              "      <th>pdl_max_daily_load_t</th>\n",
              "    </tr>\n",
              "    <tr>\n",
              "      <th>time</th>\n",
              "      <th></th>\n",
              "      <th></th>\n",
              "      <th></th>\n",
              "      <th></th>\n",
              "      <th></th>\n",
              "      <th></th>\n",
              "      <th></th>\n",
              "      <th></th>\n",
              "      <th></th>\n",
              "      <th></th>\n",
              "    </tr>\n",
              "  </thead>\n",
              "  <tbody>\n",
              "    <tr>\n",
              "      <th>2019-06-30</th>\n",
              "      <td>16.0</td>\n",
              "      <td>4385.0</td>\n",
              "      <td>25.0</td>\n",
              "      <td>744902.25</td>\n",
              "      <td>14084.0</td>\n",
              "      <td>1269.0</td>\n",
              "      <td>13.0</td>\n",
              "      <td>5248.0</td>\n",
              "      <td>33.0</td>\n",
              "      <td>1556.0</td>\n",
              "    </tr>\n",
              "    <tr>\n",
              "      <th>2019-09-30</th>\n",
              "      <td>22.0</td>\n",
              "      <td>4453.0</td>\n",
              "      <td>10.0</td>\n",
              "      <td>644673.06</td>\n",
              "      <td>12568.0</td>\n",
              "      <td>1097.0</td>\n",
              "      <td>22.0</td>\n",
              "      <td>5308.0</td>\n",
              "      <td>4.0</td>\n",
              "      <td>1077.0</td>\n",
              "    </tr>\n",
              "    <tr>\n",
              "      <th>2019-12-31</th>\n",
              "      <td>11.0</td>\n",
              "      <td>4516.0</td>\n",
              "      <td>3.0</td>\n",
              "      <td>672429.05</td>\n",
              "      <td>22860.0</td>\n",
              "      <td>1419.0</td>\n",
              "      <td>12.0</td>\n",
              "      <td>5354.0</td>\n",
              "      <td>1.0</td>\n",
              "      <td>1469.0</td>\n",
              "    </tr>\n",
              "    <tr>\n",
              "      <th>2020-03-31</th>\n",
              "      <td>10.0</td>\n",
              "      <td>4640.0</td>\n",
              "      <td>1.0</td>\n",
              "      <td>689678.54</td>\n",
              "      <td>27928.0</td>\n",
              "      <td>1628.0</td>\n",
              "      <td>8.0</td>\n",
              "      <td>5348.0</td>\n",
              "      <td>1.0</td>\n",
              "      <td>1560.0</td>\n",
              "    </tr>\n",
              "    <tr>\n",
              "      <th>2020-06-30</th>\n",
              "      <td>15.0</td>\n",
              "      <td>4705.0</td>\n",
              "      <td>33.0</td>\n",
              "      <td>661543.78</td>\n",
              "      <td>15536.0</td>\n",
              "      <td>1271.0</td>\n",
              "      <td>12.0</td>\n",
              "      <td>5326.0</td>\n",
              "      <td>33.0</td>\n",
              "      <td>1599.0</td>\n",
              "    </tr>\n",
              "  </tbody>\n",
              "</table>\n",
              "</div>"
            ],
            "text/plain": [
              "            MIN_TEMPERATURE_C_t_12  ...  pdl_max_daily_load_t\n",
              "time                                ...                      \n",
              "2019-06-30                    16.0  ...                1556.0\n",
              "2019-09-30                    22.0  ...                1077.0\n",
              "2019-12-31                    11.0  ...                1469.0\n",
              "2020-03-31                    10.0  ...                1560.0\n",
              "2020-06-30                    15.0  ...                1599.0\n",
              "\n",
              "[5 rows x 10 columns]"
            ]
          },
          "metadata": {
            "tags": []
          },
          "execution_count": 11
        }
      ]
    },
    {
      "cell_type": "markdown",
      "metadata": {
        "id": "MmwYalon6Y4C"
      },
      "source": [
        "# data scaling made difference and improved the performance of some ML models (KNN, SVR, Ridge), but scaling is not required for decision tree based models (decision tree, random forest, xgboost,..) https://towardsdatascience.com/do-decision-trees-need-feature-scaling-97809eaa60c6"
      ]
    },
    {
      "cell_type": "code",
      "metadata": {
        "id": "gdnkSpWaENYQ"
      },
      "source": [
        "scaler = MinMaxScaler(feature_range=(0, 1))\n",
        "data_scaled = scaler.fit_transform(data)"
      ],
      "execution_count": null,
      "outputs": []
    },
    {
      "cell_type": "code",
      "metadata": {
        "id": "IEZuMY99zfLU"
      },
      "source": [
        "features=data_scaled[:,:-1]\n",
        "target=data_scaled[:,-1]"
      ],
      "execution_count": null,
      "outputs": []
    },
    {
      "cell_type": "code",
      "metadata": {
        "id": "nDaUCPH6njFx"
      },
      "source": [
        "# split into train and test sets\n",
        "\n",
        "n_train_days = -2\n",
        "\n",
        "X_train,y_train = features[:n_train_days, :],target[:n_train_days]\n",
        "X_test, y_test = features[n_train_days:, :],target[n_train_days:]\n",
        "\n"
      ],
      "execution_count": null,
      "outputs": []
    },
    {
      "cell_type": "code",
      "metadata": {
        "id": "KmrKiF8_LVs6"
      },
      "source": [
        "def timeseries_evaluation_metrics_func(y_true, y_pred):\n",
        "  def mean_absolute_percentage_error(y_true, y_pred):\n",
        "    y_true, y_pred = np.array(y_true), np.array(y_pred)\n",
        "    return np.mean(np.abs((y_true - y_pred) / y_true)) * 100\n",
        "  def smape(y_true,y_pred):\n",
        "    y_true, y_pred = np.array(y_true), np.array(y_pred)\n",
        "    return 2/y_true.shape[0]*np.sum(np.abs(y_true-y_pred))/np.sum((np.abs(y_true)+np.abs(y_pred)))*100\n",
        "  def mase(y_true,y_pred):\n",
        "    y_true, y_pred = np.array(y_true), np.array(y_pred)\n",
        "    naive_pred=y_true[1:]\n",
        "    return 1/y_true.shape[0]*np.sum(np.abs(y_true-y_pred))/np.sum(np.abs(y_true[:len(y_true)-1]-naive_pred))*(y_true.shape[0]-1)\n",
        "  #def owe(y_true,y_pred):\n",
        "   # return (mase(y_true,y_pred)+smape(y_true,y_pred))/2\n",
        "\n",
        "  print('Evaluation metric results:-')\n",
        "  print(f'MSE is : {metrics.mean_squared_error(y_true, y_pred)}')\n",
        "  print(f'MAE is : {metrics.mean_absolute_error(y_true, y_pred)}')\n",
        "  rmse=np.sqrt(metrics.mean_squared_error(y_true, y_pred))\n",
        "  print(f'RMSE is : {rmse}')\n",
        "  mape=mean_absolute_percentage_error(y_true, y_pred)\n",
        "  print(f'MAPE is : {mape} %')\n",
        "  r2=metrics.r2_score(y_true, y_pred)\n",
        "  print(f'R2 is : {r2}',end='\\n\\n')\n",
        "  print('SMAPE is : '+str(smape(y_true,y_pred))+'\\n')\n",
        "  print('MASE is : '+str(mase(y_true,y_pred)))\n",
        "  #model_scores[model_name] = [rmse, mape, r2]\n",
        "  return"
      ],
      "execution_count": null,
      "outputs": []
    },
    {
      "cell_type": "code",
      "metadata": {
        "colab": {
          "base_uri": "https://localhost:8080/"
        },
        "id": "o0gtYxCKB8cy",
        "outputId": "b330fca3-7abd-462e-fd15-fcfd9a1a0195"
      },
      "source": [
        "!pip install xgboost"
      ],
      "execution_count": null,
      "outputs": [
        {
          "output_type": "stream",
          "text": [
            "Requirement already satisfied: xgboost in /usr/local/lib/python3.7/dist-packages (0.90)\n",
            "Requirement already satisfied: numpy in /usr/local/lib/python3.7/dist-packages (from xgboost) (1.19.5)\n",
            "Requirement already satisfied: scipy in /usr/local/lib/python3.7/dist-packages (from xgboost) (1.4.1)\n"
          ],
          "name": "stdout"
        }
      ]
    },
    {
      "cell_type": "code",
      "metadata": {
        "colab": {
          "base_uri": "https://localhost:8080/",
          "height": 436
        },
        "id": "5z6WpGP7BWs8",
        "outputId": "078f7841-aed8-4ea6-c514-6338aa09f62c"
      },
      "source": [
        "# ML models to test\n",
        "models = []\n",
        "models.append(('LR', LinearRegression()))\n",
        "models.append(('Ridge R',Ridge()))\n",
        "models.append(('lasso',linear_model.Lasso()))\n",
        "models.append(('elastic net',ElasticNet()))\n",
        "#models.append(('GP',GaussianProcessRegressor())) (very poor)\n",
        "models.append(('NN', MLPRegressor(solver = 'lbfgs')))  #neural network\n",
        "models.append(('KNN', KNeighborsRegressor(n_neighbors=2))) \n",
        "models.append(('RF', RandomForestRegressor(n_estimators = 1000))) # Ensemble method - collection of many decision trees\n",
        "models.append(('SVR', SVR(gamma='auto'))) # kernel = linear\n",
        "models.append(('Xgboost',XGBRegressor(objective='reg:squarederror', n_estimators=1000)))\n",
        "# Evaluate each model in turn\n",
        "results = []\n",
        "names = []\n",
        "for name, model in models:\n",
        "    # TimeSeries Cross validation\n",
        "  tscv = TimeSeriesSplit(n_splits=2)#4seasons in year\n",
        "    #n_splits=3 : because in train data there are 3 steps of prediction\n",
        "    #1-2016 features -->predict 2017; 2-16,17-->predict 18; 3-16,17,18-->predict 19\n",
        "  cv_results = cross_val_score(model, X_train, y_train, cv=tscv, scoring='r2')\n",
        "  results.append(cv_results)\n",
        "  names.append(name)\n",
        "  print('%s: %f (%f)' % (name, cv_results.mean(), cv_results.std()))\n",
        "    \n",
        "# Compare Algorithms\n",
        "plt.boxplot(results, labels=names)\n",
        "plt.title('Algorithm Comparison')\n",
        "plt.show()\n"
      ],
      "execution_count": null,
      "outputs": [
        {
          "output_type": "stream",
          "text": [
            "LR: -6.146003 (6.989525)\n",
            "Ridge R: -30.583923 (31.193433)\n",
            "lasso: -53.306866 (52.689519)\n",
            "elastic net: -53.306866 (52.689519)\n",
            "NN: -6.363525 (7.180641)\n",
            "KNN: -17.651302 (18.367810)\n",
            "RF: -37.277065 (37.789137)\n",
            "SVR: -33.483465 (33.765417)\n",
            "Xgboost: -25.376448 (26.293671)\n"
          ],
          "name": "stdout"
        },
        {
          "output_type": "display_data",
          "data": {
            "image/png": "[encoded data removed]",
            "text/plain": [
              "<Figure size 432x288 with 1 Axes>"
            ]
          },
          "metadata": {
            "tags": [],
            "needs_background": "light"
          }
        }
      ]
    },
    {
      "cell_type": "markdown",
      "metadata": {
        "id": "cQYbEMC7a3V6"
      },
      "source": [
        "# **poor performance of the models**"
      ]
    },
    {
      "cell_type": "code",
      "metadata": {
        "id": "_-CbaLSOa6UJ"
      },
      "source": [
        ""
      ],
      "execution_count": null,
      "outputs": []
    }
  ]
}