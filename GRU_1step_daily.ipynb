{
  "nbformat": 4,
  "nbformat_minor": 0,
  "metadata": {
    "accelerator": "GPU",
    "colab": {
      "name": "GRU_1step_daily.ipynb",
      "provenance": [],
      "collapsed_sections": []
    },
    "kernelspec": {
      "display_name": "Python 3",
      "name": "python3"
    }
  },
  "cells": [
    {
      "cell_type": "markdown",
      "metadata": {
        "id": "BexZygSl10H4"
      },
      "source": [
        "references:\n",
        "\n",
        "\n",
        "*   Multivariate Time Series Forecasting with LSTMs in Keras (machinelearningmastery.com)\n",
        "*   https://www.youtube.com/watch?v=4FmVIpcwl4k&t=1117s\n",
        "\n",
        "\n",
        "*   BOOK: Hands-on time series analysis\n",
        "*   List item\n",
        "\n",
        "\n",
        "\n"
      ]
    },
    {
      "cell_type": "code",
      "metadata": {
        "id": "9kMK3WMBNZjl"
      },
      "source": [
        "from numpy.random import seed\n",
        "seed(1)\n",
        "import tensorflow as tf\n",
        "tf.compat.v1.set_random_seed(2)"
      ],
      "execution_count": null,
      "outputs": []
    },
    {
      "cell_type": "code",
      "metadata": {
        "id": "_GY3HgVB7T8D"
      },
      "source": [
        "import numpy as np\n",
        "import pandas as pd\n",
        "import matplotlib as mpl\n",
        "import matplotlib.pyplot as plt\n",
        "from keras.constraints import maxnorm\n",
        "from sklearn.model_selection import train_test_split\n",
        "from keras.preprocessing.sequence import TimeseriesGenerator\n",
        "from sklearn.preprocessing import MinMaxScaler, StandardScaler\n",
        "import tensorflow as tf\n",
        "from keras.models import load_model\n",
        "from keras.wrappers.scikit_learn import KerasClassifier\n",
        "from sklearn.model_selection import GridSearchCV\n",
        "from sklearn.model_selection import TimeSeriesSplit\n",
        "from sklearn.model_selection import cross_val_score\n",
        "\n",
        "mpl.rcParams['figure.figsize'] = (20, 20)\n",
        "mpl.rcParams['axes.grid'] = False"
      ],
      "execution_count": null,
      "outputs": []
    },
    {
      "cell_type": "code",
      "metadata": {
        "id": "tj0hXjtjrJYT"
      },
      "source": [
        "from math import sqrt\n",
        "from numpy import concatenate\n",
        "from matplotlib import pyplot\n",
        "from pandas import read_csv\n",
        "from pandas import DataFrame\n",
        "from pandas import concat\n",
        "from sklearn.preprocessing import MinMaxScaler\n",
        "from sklearn.preprocessing import LabelEncoder\n",
        "from sklearn.metrics import mean_squared_error\n",
        "from keras.models import Sequential\n",
        "from keras.layers import Dense,Dropout\n",
        "from keras.layers import GRU"
      ],
      "execution_count": null,
      "outputs": []
    },
    {
      "cell_type": "code",
      "metadata": {
        "id": "lmNbWyCJ7n0a"
      },
      "source": [
        "df = pd.read_csv('/content/clean_daily_df_human_logic_supervised.csv')"
      ],
      "execution_count": null,
      "outputs": []
    },
    {
      "cell_type": "code",
      "metadata": {
        "colab": {
          "base_uri": "https://localhost:8080/",
          "height": 225
        },
        "id": "4MZJsxPq76CN",
        "outputId": "c0b35924-ab84-4e37-c541-792bac57a1f8"
      },
      "source": [
        "df.head()"
      ],
      "execution_count": null,
      "outputs": [
        {
          "output_type": "execute_result",
          "data": {
            "text/html": [
              "<div>\n",
              "<style scoped>\n",
              "    .dataframe tbody tr th:only-of-type {\n",
              "        vertical-align: middle;\n",
              "    }\n",
              "\n",
              "    .dataframe tbody tr th {\n",
              "        vertical-align: top;\n",
              "    }\n",
              "\n",
              "    .dataframe thead th {\n",
              "        text-align: right;\n",
              "    }\n",
              "</style>\n",
              "<table border=\"1\" class=\"dataframe\">\n",
              "  <thead>\n",
              "    <tr style=\"text-align: right;\">\n",
              "      <th></th>\n",
              "      <th>time</th>\n",
              "      <th>MIN_TEMPERATURE_C_t_7</th>\n",
              "      <th>clients_day_t_7</th>\n",
              "      <th>Holiday_Food_Related_t_7</th>\n",
              "      <th>consommation_t_7</th>\n",
              "      <th>pdl_total_daily_load_t_7</th>\n",
              "      <th>max_pdl_daily_load_t_7</th>\n",
              "      <th>weekend_t_7</th>\n",
              "      <th>MIN_TEMPERATURE_C_t_1</th>\n",
              "      <th>clients_day_t_1</th>\n",
              "      <th>Holiday_Food_Related_t_1</th>\n",
              "      <th>consommation_t_1</th>\n",
              "      <th>pdl_total_daily_load_t_1</th>\n",
              "      <th>max_pdl_daily_load_t_1</th>\n",
              "      <th>weekend_t_1</th>\n",
              "      <th>MIN_TEMPERATURE_C_t</th>\n",
              "      <th>clients_day_t</th>\n",
              "      <th>Holiday_Food_Related_t</th>\n",
              "      <th>consommation_t</th>\n",
              "      <th>pdl_total_daily_load_t</th>\n",
              "      <th>weekend_t</th>\n",
              "      <th>max_pdl_daily_load_t</th>\n",
              "    </tr>\n",
              "  </thead>\n",
              "  <tbody>\n",
              "    <tr>\n",
              "      <th>0</th>\n",
              "      <td>08/01/2015</td>\n",
              "      <td>8</td>\n",
              "      <td>3970</td>\n",
              "      <td>1</td>\n",
              "      <td>7068.81</td>\n",
              "      <td>16580</td>\n",
              "      <td>1433.0</td>\n",
              "      <td>0</td>\n",
              "      <td>13</td>\n",
              "      <td>3972</td>\n",
              "      <td>0</td>\n",
              "      <td>7468.64</td>\n",
              "      <td>20928</td>\n",
              "      <td>1319.0</td>\n",
              "      <td>0</td>\n",
              "      <td>13</td>\n",
              "      <td>3972</td>\n",
              "      <td>0</td>\n",
              "      <td>7464.41</td>\n",
              "      <td>20809</td>\n",
              "      <td>0</td>\n",
              "      <td>1379.0</td>\n",
              "    </tr>\n",
              "    <tr>\n",
              "      <th>1</th>\n",
              "      <td>09/01/2015</td>\n",
              "      <td>12</td>\n",
              "      <td>3970</td>\n",
              "      <td>0</td>\n",
              "      <td>7074.65</td>\n",
              "      <td>22006</td>\n",
              "      <td>1439.0</td>\n",
              "      <td>0</td>\n",
              "      <td>13</td>\n",
              "      <td>3972</td>\n",
              "      <td>0</td>\n",
              "      <td>7464.41</td>\n",
              "      <td>20809</td>\n",
              "      <td>1379.0</td>\n",
              "      <td>0</td>\n",
              "      <td>13</td>\n",
              "      <td>3972</td>\n",
              "      <td>0</td>\n",
              "      <td>7464.41</td>\n",
              "      <td>20803</td>\n",
              "      <td>0</td>\n",
              "      <td>1370.0</td>\n",
              "    </tr>\n",
              "    <tr>\n",
              "      <th>2</th>\n",
              "      <td>10/01/2015</td>\n",
              "      <td>12</td>\n",
              "      <td>3970</td>\n",
              "      <td>1</td>\n",
              "      <td>7074.65</td>\n",
              "      <td>18629</td>\n",
              "      <td>1127.0</td>\n",
              "      <td>1</td>\n",
              "      <td>13</td>\n",
              "      <td>3972</td>\n",
              "      <td>0</td>\n",
              "      <td>7464.41</td>\n",
              "      <td>20803</td>\n",
              "      <td>1370.0</td>\n",
              "      <td>0</td>\n",
              "      <td>14</td>\n",
              "      <td>3972</td>\n",
              "      <td>0</td>\n",
              "      <td>7446.13</td>\n",
              "      <td>18059</td>\n",
              "      <td>1</td>\n",
              "      <td>1181.0</td>\n",
              "    </tr>\n",
              "    <tr>\n",
              "      <th>3</th>\n",
              "      <td>11/01/2015</td>\n",
              "      <td>15</td>\n",
              "      <td>3971</td>\n",
              "      <td>0</td>\n",
              "      <td>7075.31</td>\n",
              "      <td>18060</td>\n",
              "      <td>1099.0</td>\n",
              "      <td>1</td>\n",
              "      <td>14</td>\n",
              "      <td>3972</td>\n",
              "      <td>0</td>\n",
              "      <td>7446.13</td>\n",
              "      <td>18059</td>\n",
              "      <td>1181.0</td>\n",
              "      <td>1</td>\n",
              "      <td>16</td>\n",
              "      <td>3972</td>\n",
              "      <td>0</td>\n",
              "      <td>7058.37</td>\n",
              "      <td>17478</td>\n",
              "      <td>1</td>\n",
              "      <td>1093.0</td>\n",
              "    </tr>\n",
              "    <tr>\n",
              "      <th>4</th>\n",
              "      <td>12/01/2015</td>\n",
              "      <td>15</td>\n",
              "      <td>3971</td>\n",
              "      <td>0</td>\n",
              "      <td>7083.30</td>\n",
              "      <td>20122</td>\n",
              "      <td>1288.0</td>\n",
              "      <td>0</td>\n",
              "      <td>16</td>\n",
              "      <td>3972</td>\n",
              "      <td>0</td>\n",
              "      <td>7058.37</td>\n",
              "      <td>17478</td>\n",
              "      <td>1093.0</td>\n",
              "      <td>1</td>\n",
              "      <td>14</td>\n",
              "      <td>3979</td>\n",
              "      <td>0</td>\n",
              "      <td>7217.96</td>\n",
              "      <td>18556</td>\n",
              "      <td>0</td>\n",
              "      <td>1205.0</td>\n",
              "    </tr>\n",
              "  </tbody>\n",
              "</table>\n",
              "</div>"
            ],
            "text/plain": [
              "         time  MIN_TEMPERATURE_C_t_7  ...  weekend_t  max_pdl_daily_load_t\n",
              "0  08/01/2015                      8  ...          0                1379.0\n",
              "1  09/01/2015                     12  ...          0                1370.0\n",
              "2  10/01/2015                     12  ...          1                1181.0\n",
              "3  11/01/2015                     15  ...          1                1093.0\n",
              "4  12/01/2015                     15  ...          0                1205.0\n",
              "\n",
              "[5 rows x 22 columns]"
            ]
          },
          "metadata": {},
          "execution_count": 5
        }
      ]
    },
    {
      "cell_type": "code",
      "metadata": {
        "colab": {
          "base_uri": "https://localhost:8080/",
          "height": 225
        },
        "id": "r1Nv6sDzc6DA",
        "outputId": "f4fa42d2-2e90-4a11-9942-06180e554d76"
      },
      "source": [
        "df.tail()"
      ],
      "execution_count": null,
      "outputs": [
        {
          "output_type": "execute_result",
          "data": {
            "text/html": [
              "<div>\n",
              "<style scoped>\n",
              "    .dataframe tbody tr th:only-of-type {\n",
              "        vertical-align: middle;\n",
              "    }\n",
              "\n",
              "    .dataframe tbody tr th {\n",
              "        vertical-align: top;\n",
              "    }\n",
              "\n",
              "    .dataframe thead th {\n",
              "        text-align: right;\n",
              "    }\n",
              "</style>\n",
              "<table border=\"1\" class=\"dataframe\">\n",
              "  <thead>\n",
              "    <tr style=\"text-align: right;\">\n",
              "      <th></th>\n",
              "      <th>time</th>\n",
              "      <th>MIN_TEMPERATURE_C_t_7</th>\n",
              "      <th>clients_day_t_7</th>\n",
              "      <th>Holiday_Food_Related_t_7</th>\n",
              "      <th>consommation_t_7</th>\n",
              "      <th>pdl_total_daily_load_t_7</th>\n",
              "      <th>max_pdl_daily_load_t_7</th>\n",
              "      <th>weekend_t_7</th>\n",
              "      <th>MIN_TEMPERATURE_C_t_1</th>\n",
              "      <th>clients_day_t_1</th>\n",
              "      <th>Holiday_Food_Related_t_1</th>\n",
              "      <th>consommation_t_1</th>\n",
              "      <th>pdl_total_daily_load_t_1</th>\n",
              "      <th>max_pdl_daily_load_t_1</th>\n",
              "      <th>weekend_t_1</th>\n",
              "      <th>MIN_TEMPERATURE_C_t</th>\n",
              "      <th>clients_day_t</th>\n",
              "      <th>Holiday_Food_Related_t</th>\n",
              "      <th>consommation_t</th>\n",
              "      <th>pdl_total_daily_load_t</th>\n",
              "      <th>weekend_t</th>\n",
              "      <th>max_pdl_daily_load_t</th>\n",
              "    </tr>\n",
              "  </thead>\n",
              "  <tbody>\n",
              "    <tr>\n",
              "      <th>2027</th>\n",
              "      <td>27/07/2020</td>\n",
              "      <td>24</td>\n",
              "      <td>5189</td>\n",
              "      <td>0</td>\n",
              "      <td>5719.4</td>\n",
              "      <td>12627</td>\n",
              "      <td>924.0</td>\n",
              "      <td>0</td>\n",
              "      <td>27</td>\n",
              "      <td>5189</td>\n",
              "      <td>0</td>\n",
              "      <td>5719.4</td>\n",
              "      <td>11167</td>\n",
              "      <td>781.0</td>\n",
              "      <td>1</td>\n",
              "      <td>28</td>\n",
              "      <td>5189</td>\n",
              "      <td>0</td>\n",
              "      <td>5719.4</td>\n",
              "      <td>13174</td>\n",
              "      <td>0</td>\n",
              "      <td>1010.0</td>\n",
              "    </tr>\n",
              "    <tr>\n",
              "      <th>2028</th>\n",
              "      <td>28/07/2020</td>\n",
              "      <td>25</td>\n",
              "      <td>5189</td>\n",
              "      <td>0</td>\n",
              "      <td>5719.4</td>\n",
              "      <td>12536</td>\n",
              "      <td>935.0</td>\n",
              "      <td>0</td>\n",
              "      <td>28</td>\n",
              "      <td>5189</td>\n",
              "      <td>0</td>\n",
              "      <td>5719.4</td>\n",
              "      <td>13174</td>\n",
              "      <td>1010.0</td>\n",
              "      <td>0</td>\n",
              "      <td>28</td>\n",
              "      <td>5189</td>\n",
              "      <td>0</td>\n",
              "      <td>5719.4</td>\n",
              "      <td>13097</td>\n",
              "      <td>0</td>\n",
              "      <td>986.0</td>\n",
              "    </tr>\n",
              "    <tr>\n",
              "      <th>2029</th>\n",
              "      <td>29/07/2020</td>\n",
              "      <td>25</td>\n",
              "      <td>5189</td>\n",
              "      <td>0</td>\n",
              "      <td>5719.4</td>\n",
              "      <td>13369</td>\n",
              "      <td>1023.0</td>\n",
              "      <td>0</td>\n",
              "      <td>28</td>\n",
              "      <td>5189</td>\n",
              "      <td>0</td>\n",
              "      <td>5719.4</td>\n",
              "      <td>13097</td>\n",
              "      <td>986.0</td>\n",
              "      <td>0</td>\n",
              "      <td>27</td>\n",
              "      <td>5189</td>\n",
              "      <td>0</td>\n",
              "      <td>5719.4</td>\n",
              "      <td>12000</td>\n",
              "      <td>0</td>\n",
              "      <td>873.0</td>\n",
              "    </tr>\n",
              "    <tr>\n",
              "      <th>2030</th>\n",
              "      <td>30/07/2020</td>\n",
              "      <td>26</td>\n",
              "      <td>5189</td>\n",
              "      <td>0</td>\n",
              "      <td>5719.4</td>\n",
              "      <td>13587</td>\n",
              "      <td>1027.0</td>\n",
              "      <td>0</td>\n",
              "      <td>27</td>\n",
              "      <td>5189</td>\n",
              "      <td>0</td>\n",
              "      <td>5719.4</td>\n",
              "      <td>12000</td>\n",
              "      <td>873.0</td>\n",
              "      <td>0</td>\n",
              "      <td>27</td>\n",
              "      <td>5189</td>\n",
              "      <td>0</td>\n",
              "      <td>5719.4</td>\n",
              "      <td>11604</td>\n",
              "      <td>0</td>\n",
              "      <td>762.0</td>\n",
              "    </tr>\n",
              "    <tr>\n",
              "      <th>2031</th>\n",
              "      <td>31/07/2020</td>\n",
              "      <td>27</td>\n",
              "      <td>5189</td>\n",
              "      <td>0</td>\n",
              "      <td>5719.4</td>\n",
              "      <td>13226</td>\n",
              "      <td>1017.0</td>\n",
              "      <td>0</td>\n",
              "      <td>27</td>\n",
              "      <td>5189</td>\n",
              "      <td>0</td>\n",
              "      <td>5719.4</td>\n",
              "      <td>11604</td>\n",
              "      <td>762.0</td>\n",
              "      <td>0</td>\n",
              "      <td>28</td>\n",
              "      <td>5189</td>\n",
              "      <td>1</td>\n",
              "      <td>5719.4</td>\n",
              "      <td>8935</td>\n",
              "      <td>0</td>\n",
              "      <td>528.0</td>\n",
              "    </tr>\n",
              "  </tbody>\n",
              "</table>\n",
              "</div>"
            ],
            "text/plain": [
              "            time  MIN_TEMPERATURE_C_t_7  ...  weekend_t  max_pdl_daily_load_t\n",
              "2027  27/07/2020                     24  ...          0                1010.0\n",
              "2028  28/07/2020                     25  ...          0                 986.0\n",
              "2029  29/07/2020                     25  ...          0                 873.0\n",
              "2030  30/07/2020                     26  ...          0                 762.0\n",
              "2031  31/07/2020                     27  ...          0                 528.0\n",
              "\n",
              "[5 rows x 22 columns]"
            ]
          },
          "metadata": {},
          "execution_count": 6
        }
      ]
    },
    {
      "cell_type": "code",
      "metadata": {
        "colab": {
          "base_uri": "https://localhost:8080/"
        },
        "id": "e_gfpzvA0cJa",
        "outputId": "b9821e8e-840a-47bf-f881-cdcfd82bb34b"
      },
      "source": [
        "df.info()"
      ],
      "execution_count": null,
      "outputs": [
        {
          "output_type": "stream",
          "text": [
            "<class 'pandas.core.frame.DataFrame'>\n",
            "RangeIndex: 2032 entries, 0 to 2031\n",
            "Data columns (total 22 columns):\n",
            " #   Column                    Non-Null Count  Dtype  \n",
            "---  ------                    --------------  -----  \n",
            " 0   time                      2032 non-null   object \n",
            " 1   MIN_TEMPERATURE_C_t_7     2032 non-null   int64  \n",
            " 2   clients_day_t_7           2032 non-null   int64  \n",
            " 3   Holiday_Food_Related_t_7  2032 non-null   int64  \n",
            " 4   consommation_t_7          2032 non-null   float64\n",
            " 5   pdl_total_daily_load_t_7  2032 non-null   int64  \n",
            " 6   max_pdl_daily_load_t_7    2032 non-null   float64\n",
            " 7   weekend_t_7               2032 non-null   int64  \n",
            " 8   MIN_TEMPERATURE_C_t_1     2032 non-null   int64  \n",
            " 9   clients_day_t_1           2032 non-null   int64  \n",
            " 10  Holiday_Food_Related_t_1  2032 non-null   int64  \n",
            " 11  consommation_t_1          2032 non-null   float64\n",
            " 12  pdl_total_daily_load_t_1  2032 non-null   int64  \n",
            " 13  max_pdl_daily_load_t_1    2032 non-null   float64\n",
            " 14  weekend_t_1               2032 non-null   int64  \n",
            " 15  MIN_TEMPERATURE_C_t       2032 non-null   int64  \n",
            " 16  clients_day_t             2032 non-null   int64  \n",
            " 17  Holiday_Food_Related_t    2032 non-null   int64  \n",
            " 18  consommation_t            2032 non-null   float64\n",
            " 19  pdl_total_daily_load_t    2032 non-null   int64  \n",
            " 20  weekend_t                 2032 non-null   int64  \n",
            " 21  max_pdl_daily_load_t      2032 non-null   float64\n",
            "dtypes: float64(6), int64(15), object(1)\n",
            "memory usage: 349.4+ KB\n"
          ],
          "name": "stdout"
        }
      ]
    },
    {
      "cell_type": "code",
      "metadata": {
        "id": "DX4Wjmy08aWn"
      },
      "source": [
        "time = pd.to_datetime(df['time'], dayfirst=True).dropna()"
      ],
      "execution_count": null,
      "outputs": []
    },
    {
      "cell_type": "code",
      "metadata": {
        "colab": {
          "base_uri": "https://localhost:8080/",
          "height": 319
        },
        "id": "s3QqtUCsyKLa",
        "outputId": "071713e8-eec6-42f5-94b2-623993abf4a5"
      },
      "source": [
        "df.describe()"
      ],
      "execution_count": null,
      "outputs": [
        {
          "output_type": "execute_result",
          "data": {
            "text/html": [
              "<div>\n",
              "<style scoped>\n",
              "    .dataframe tbody tr th:only-of-type {\n",
              "        vertical-align: middle;\n",
              "    }\n",
              "\n",
              "    .dataframe tbody tr th {\n",
              "        vertical-align: top;\n",
              "    }\n",
              "\n",
              "    .dataframe thead th {\n",
              "        text-align: right;\n",
              "    }\n",
              "</style>\n",
              "<table border=\"1\" class=\"dataframe\">\n",
              "  <thead>\n",
              "    <tr style=\"text-align: right;\">\n",
              "      <th></th>\n",
              "      <th>MIN_TEMPERATURE_C_t_7</th>\n",
              "      <th>clients_day_t_7</th>\n",
              "      <th>Holiday_Food_Related_t_7</th>\n",
              "      <th>consommation_t_7</th>\n",
              "      <th>pdl_total_daily_load_t_7</th>\n",
              "      <th>max_pdl_daily_load_t_7</th>\n",
              "      <th>weekend_t_7</th>\n",
              "      <th>MIN_TEMPERATURE_C_t_1</th>\n",
              "      <th>clients_day_t_1</th>\n",
              "      <th>Holiday_Food_Related_t_1</th>\n",
              "      <th>consommation_t_1</th>\n",
              "      <th>pdl_total_daily_load_t_1</th>\n",
              "      <th>max_pdl_daily_load_t_1</th>\n",
              "      <th>weekend_t_1</th>\n",
              "      <th>MIN_TEMPERATURE_C_t</th>\n",
              "      <th>clients_day_t</th>\n",
              "      <th>Holiday_Food_Related_t</th>\n",
              "      <th>consommation_t</th>\n",
              "      <th>pdl_total_daily_load_t</th>\n",
              "      <th>weekend_t</th>\n",
              "      <th>max_pdl_daily_load_t</th>\n",
              "    </tr>\n",
              "  </thead>\n",
              "  <tbody>\n",
              "    <tr>\n",
              "      <th>count</th>\n",
              "      <td>2032.000000</td>\n",
              "      <td>2032.000000</td>\n",
              "      <td>2032.000000</td>\n",
              "      <td>2032.000000</td>\n",
              "      <td>2032.000000</td>\n",
              "      <td>2032.000000</td>\n",
              "      <td>2032.000000</td>\n",
              "      <td>2032.000000</td>\n",
              "      <td>2032.000000</td>\n",
              "      <td>2032.000000</td>\n",
              "      <td>2032.000000</td>\n",
              "      <td>2032.000000</td>\n",
              "      <td>2032.000000</td>\n",
              "      <td>2032.000000</td>\n",
              "      <td>2032.000000</td>\n",
              "      <td>2032.000000</td>\n",
              "      <td>2032.000000</td>\n",
              "      <td>2032.000000</td>\n",
              "      <td>2032.000000</td>\n",
              "      <td>2032.000000</td>\n",
              "      <td>2032.000000</td>\n",
              "    </tr>\n",
              "    <tr>\n",
              "      <th>mean</th>\n",
              "      <td>20.633366</td>\n",
              "      <td>4761.092028</td>\n",
              "      <td>0.113681</td>\n",
              "      <td>7498.069537</td>\n",
              "      <td>13720.760827</td>\n",
              "      <td>1082.264365</td>\n",
              "      <td>0.285433</td>\n",
              "      <td>20.678150</td>\n",
              "      <td>4764.689961</td>\n",
              "      <td>0.112697</td>\n",
              "      <td>7494.061850</td>\n",
              "      <td>13700.614665</td>\n",
              "      <td>1081.028637</td>\n",
              "      <td>0.285433</td>\n",
              "      <td>20.685531</td>\n",
              "      <td>4765.288878</td>\n",
              "      <td>0.113189</td>\n",
              "      <td>7493.201004</td>\n",
              "      <td>13694.712598</td>\n",
              "      <td>0.285433</td>\n",
              "      <td>1080.639365</td>\n",
              "    </tr>\n",
              "    <tr>\n",
              "      <th>std</th>\n",
              "      <td>5.917364</td>\n",
              "      <td>435.595628</td>\n",
              "      <td>0.317502</td>\n",
              "      <td>1189.333584</td>\n",
              "      <td>4953.021415</td>\n",
              "      <td>209.215731</td>\n",
              "      <td>0.451732</td>\n",
              "      <td>5.910439</td>\n",
              "      <td>434.079536</td>\n",
              "      <td>0.316300</td>\n",
              "      <td>1193.029654</td>\n",
              "      <td>4944.948179</td>\n",
              "      <td>209.136835</td>\n",
              "      <td>0.451732</td>\n",
              "      <td>5.910212</td>\n",
              "      <td>433.824788</td>\n",
              "      <td>0.316902</td>\n",
              "      <td>1193.678924</td>\n",
              "      <td>4943.474583</td>\n",
              "      <td>0.451732</td>\n",
              "      <td>209.429624</td>\n",
              "    </tr>\n",
              "    <tr>\n",
              "      <th>min</th>\n",
              "      <td>8.000000</td>\n",
              "      <td>3970.000000</td>\n",
              "      <td>0.000000</td>\n",
              "      <td>4664.350000</td>\n",
              "      <td>3197.000000</td>\n",
              "      <td>404.000000</td>\n",
              "      <td>0.000000</td>\n",
              "      <td>8.000000</td>\n",
              "      <td>3972.000000</td>\n",
              "      <td>0.000000</td>\n",
              "      <td>4664.350000</td>\n",
              "      <td>3197.000000</td>\n",
              "      <td>404.000000</td>\n",
              "      <td>0.000000</td>\n",
              "      <td>8.000000</td>\n",
              "      <td>3972.000000</td>\n",
              "      <td>0.000000</td>\n",
              "      <td>4664.350000</td>\n",
              "      <td>3197.000000</td>\n",
              "      <td>0.000000</td>\n",
              "      <td>404.000000</td>\n",
              "    </tr>\n",
              "    <tr>\n",
              "      <th>25%</th>\n",
              "      <td>16.000000</td>\n",
              "      <td>4355.000000</td>\n",
              "      <td>0.000000</td>\n",
              "      <td>6750.780000</td>\n",
              "      <td>10185.750000</td>\n",
              "      <td>936.750000</td>\n",
              "      <td>0.000000</td>\n",
              "      <td>16.000000</td>\n",
              "      <td>4356.000000</td>\n",
              "      <td>0.000000</td>\n",
              "      <td>6747.520000</td>\n",
              "      <td>10185.750000</td>\n",
              "      <td>935.000000</td>\n",
              "      <td>0.000000</td>\n",
              "      <td>16.000000</td>\n",
              "      <td>4356.000000</td>\n",
              "      <td>0.000000</td>\n",
              "      <td>6747.520000</td>\n",
              "      <td>10174.500000</td>\n",
              "      <td>0.000000</td>\n",
              "      <td>935.000000</td>\n",
              "    </tr>\n",
              "    <tr>\n",
              "      <th>50%</th>\n",
              "      <td>20.000000</td>\n",
              "      <td>4795.000000</td>\n",
              "      <td>0.000000</td>\n",
              "      <td>7383.670000</td>\n",
              "      <td>12869.000000</td>\n",
              "      <td>1073.000000</td>\n",
              "      <td>0.000000</td>\n",
              "      <td>20.000000</td>\n",
              "      <td>4799.000000</td>\n",
              "      <td>0.000000</td>\n",
              "      <td>7383.670000</td>\n",
              "      <td>12855.000000</td>\n",
              "      <td>1071.000000</td>\n",
              "      <td>0.000000</td>\n",
              "      <td>20.000000</td>\n",
              "      <td>4801.000000</td>\n",
              "      <td>0.000000</td>\n",
              "      <td>7381.705000</td>\n",
              "      <td>12855.000000</td>\n",
              "      <td>0.000000</td>\n",
              "      <td>1071.000000</td>\n",
              "    </tr>\n",
              "    <tr>\n",
              "      <th>75%</th>\n",
              "      <td>26.000000</td>\n",
              "      <td>5189.000000</td>\n",
              "      <td>0.000000</td>\n",
              "      <td>8125.475000</td>\n",
              "      <td>17240.500000</td>\n",
              "      <td>1243.717949</td>\n",
              "      <td>1.000000</td>\n",
              "      <td>26.000000</td>\n",
              "      <td>5189.000000</td>\n",
              "      <td>0.000000</td>\n",
              "      <td>8125.475000</td>\n",
              "      <td>17198.750000</td>\n",
              "      <td>1243.000000</td>\n",
              "      <td>1.000000</td>\n",
              "      <td>26.000000</td>\n",
              "      <td>5189.000000</td>\n",
              "      <td>0.000000</td>\n",
              "      <td>8125.475000</td>\n",
              "      <td>17174.000000</td>\n",
              "      <td>1.000000</td>\n",
              "      <td>1242.250000</td>\n",
              "    </tr>\n",
              "    <tr>\n",
              "      <th>max</th>\n",
              "      <td>34.000000</td>\n",
              "      <td>5354.000000</td>\n",
              "      <td>1.000000</td>\n",
              "      <td>10771.150000</td>\n",
              "      <td>27936.000000</td>\n",
              "      <td>1628.000000</td>\n",
              "      <td>1.000000</td>\n",
              "      <td>34.000000</td>\n",
              "      <td>5354.000000</td>\n",
              "      <td>1.000000</td>\n",
              "      <td>10771.150000</td>\n",
              "      <td>27936.000000</td>\n",
              "      <td>1628.000000</td>\n",
              "      <td>1.000000</td>\n",
              "      <td>34.000000</td>\n",
              "      <td>5354.000000</td>\n",
              "      <td>1.000000</td>\n",
              "      <td>10771.150000</td>\n",
              "      <td>27936.000000</td>\n",
              "      <td>1.000000</td>\n",
              "      <td>1628.000000</td>\n",
              "    </tr>\n",
              "  </tbody>\n",
              "</table>\n",
              "</div>"
            ],
            "text/plain": [
              "       MIN_TEMPERATURE_C_t_7  ...  max_pdl_daily_load_t\n",
              "count            2032.000000  ...           2032.000000\n",
              "mean               20.633366  ...           1080.639365\n",
              "std                 5.917364  ...            209.429624\n",
              "min                 8.000000  ...            404.000000\n",
              "25%                16.000000  ...            935.000000\n",
              "50%                20.000000  ...           1071.000000\n",
              "75%                26.000000  ...           1242.250000\n",
              "max                34.000000  ...           1628.000000\n",
              "\n",
              "[8 rows x 21 columns]"
            ]
          },
          "metadata": {},
          "execution_count": 9
        }
      ]
    },
    {
      "cell_type": "code",
      "metadata": {
        "colab": {
          "base_uri": "https://localhost:8080/"
        },
        "id": "uVuqU0u0dmbG",
        "outputId": "f0444cfe-b23a-45a6-e51f-8b05fb9055e6"
      },
      "source": [
        "df.columns"
      ],
      "execution_count": null,
      "outputs": [
        {
          "output_type": "execute_result",
          "data": {
            "text/plain": [
              "Index(['time', 'MIN_TEMPERATURE_C_t_7', 'clients_day_t_7',\n",
              "       'Holiday_Food_Related_t_7', 'consommation_t_7',\n",
              "       'pdl_total_daily_load_t_7', 'max_pdl_daily_load_t_7', 'weekend_t_7',\n",
              "       'MIN_TEMPERATURE_C_t_1', 'clients_day_t_1', 'Holiday_Food_Related_t_1',\n",
              "       'consommation_t_1', 'pdl_total_daily_load_t_1',\n",
              "       'max_pdl_daily_load_t_1', 'weekend_t_1', 'MIN_TEMPERATURE_C_t',\n",
              "       'clients_day_t', 'Holiday_Food_Related_t', 'consommation_t',\n",
              "       'pdl_total_daily_load_t', 'weekend_t', 'max_pdl_daily_load_t'],\n",
              "      dtype='object')"
            ]
          },
          "metadata": {},
          "execution_count": 10
        }
      ]
    },
    {
      "cell_type": "code",
      "metadata": {
        "id": "0YVVz0bEduD6"
      },
      "source": [
        "df_input=df[['MIN_TEMPERATURE_C_t_7',\n",
        "        'clients_day_t_7','Holiday_Food_Related_t_7', 'consommation_t_7',\n",
        "       'pdl_total_daily_load_t_7', 'max_pdl_daily_load_t_7', 'weekend_t_7',\n",
        "\n",
        "       'MIN_TEMPERATURE_C_t_1', 'clients_day_t_1', 'Holiday_Food_Related_t_1',\n",
        "       'consommation_t_1', 'pdl_total_daily_load_t_1',\n",
        "       'max_pdl_daily_load_t_1', 'weekend_t_1',\n",
        "       \n",
        "        'MIN_TEMPERATURE_C_t','clients_day_t', 'Holiday_Food_Related_t',\n",
        "        'weekend_t', 'max_pdl_daily_load_t']].dropna()"
      ],
      "execution_count": null,
      "outputs": []
    },
    {
      "cell_type": "markdown",
      "metadata": {
        "id": "59aKcM4mdUQU"
      },
      "source": [
        "the add of weekend feature makes the seasonal weekend decrease more visible, so increases performance"
      ]
    },
    {
      "cell_type": "code",
      "metadata": {
        "id": "gdnkSpWaENYQ"
      },
      "source": [
        "scaler = MinMaxScaler(feature_range=(0, 1))\n",
        "data_scaled = scaler.fit_transform(df_input)"
      ],
      "execution_count": null,
      "outputs": []
    },
    {
      "cell_type": "code",
      "metadata": {
        "colab": {
          "base_uri": "https://localhost:8080/"
        },
        "id": "rCY48qWVESHY",
        "outputId": "77f99b1b-7f4e-4033-ac21-925115166f14"
      },
      "source": [
        "data_scaled[-1]"
      ],
      "execution_count": null,
      "outputs": [
        {
          "output_type": "execute_result",
          "data": {
            "text/plain": [
              "array([0.73076923, 0.88078035, 0.        , 0.17276642, 0.4053923 ,\n",
              "       0.50081699, 0.        , 0.73076923, 0.88060781, 0.        ,\n",
              "       0.17276642, 0.3398278 , 0.29248366, 0.        , 0.76923077,\n",
              "       0.88060781, 1.        , 0.        , 0.10130719])"
            ]
          },
          "metadata": {},
          "execution_count": 13
        }
      ]
    },
    {
      "cell_type": "code",
      "metadata": {
        "id": "IEZuMY99zfLU"
      },
      "source": [
        "features=data_scaled[:,:-1]\n",
        "target=data_scaled[:,-1]"
      ],
      "execution_count": null,
      "outputs": []
    },
    {
      "cell_type": "code",
      "metadata": {
        "colab": {
          "base_uri": "https://localhost:8080/"
        },
        "id": "6x_iIIrkomf7",
        "outputId": "723c6164-488b-4cf3-a3a3-96e608db7fb0"
      },
      "source": [
        "features.shape"
      ],
      "execution_count": null,
      "outputs": [
        {
          "output_type": "execute_result",
          "data": {
            "text/plain": [
              "(2032, 18)"
            ]
          },
          "metadata": {},
          "execution_count": 15
        }
      ]
    },
    {
      "cell_type": "code",
      "metadata": {
        "colab": {
          "base_uri": "https://localhost:8080/"
        },
        "id": "fpuzlDtTotWA",
        "outputId": "9a0ba3af-a9e0-415d-931d-d5fe17864c6c"
      },
      "source": [
        "target.shape"
      ],
      "execution_count": null,
      "outputs": [
        {
          "output_type": "execute_result",
          "data": {
            "text/plain": [
              "(2032,)"
            ]
          },
          "metadata": {},
          "execution_count": 16
        }
      ]
    },
    {
      "cell_type": "code",
      "metadata": {
        "colab": {
          "base_uri": "https://localhost:8080/"
        },
        "id": "nDaUCPH6njFx",
        "outputId": "b6c71dd3-26a5-434a-8f60-087ab157cce5"
      },
      "source": [
        "# split into train and test sets\n",
        "\n",
        "n_train_days = -30*7\n",
        "\n",
        "train_X,train_y = features[:n_train_days, :],target[:n_train_days]\n",
        "test_X, test_y = features[n_train_days:, :],target[n_train_days:]\n",
        "\n",
        "# reshape input to be 3D\n",
        "train_X = train_X.reshape((train_X.shape[0], train_X.shape[1],1))\n",
        "test_X = test_X.reshape((test_X.shape[0],test_X.shape[1],1))\n",
        "print(train_X.shape, train_y.shape, test_X.shape, test_y.shape)"
      ],
      "execution_count": null,
      "outputs": [
        {
          "output_type": "stream",
          "text": [
            "(1822, 18, 1) (1822,) (210, 18, 1) (210,)\n"
          ],
          "name": "stdout"
        }
      ]
    },
    {
      "cell_type": "code",
      "metadata": {
        "colab": {
          "base_uri": "https://localhost:8080/"
        },
        "id": "kZthsjPVnjHh",
        "outputId": "2ad7dc02-7bca-433b-df4a-f3a3b9bb233b"
      },
      "source": [
        "def create_model(layers):\n",
        "    model = Sequential()\n",
        "    for i, nodes in enumerate(layers):\n",
        "        if i==0:\n",
        "            model.add(GRU(units=nodes,input_shape= (train_X.shape[1],1), kernel_constraint=maxnorm(3.5)))\n",
        "            model.add(Dropout(0.3))\n",
        "        else:\n",
        "            model.add(GRU(units=nodes, kernel_constraint=maxnorm(3.5)))\n",
        "            model.add(Dropout(0.3))\n",
        "    model.add(Dense(1)) \n",
        "    \n",
        "    model.compile(loss='mse', optimizer='adam')\n",
        "    return model\n",
        "\n",
        "model = KerasClassifier(build_fn=create_model, verbose=0) #build_fn is the name of the \n",
        "#function to call to get your model.   \n",
        "tscv = TimeSeriesSplit(n_splits=4)\n",
        "layers = [[100], [100, 50], [100, 50, 25]]\n",
        "batches=[16,32]\n",
        "epochs=[100,200]\n",
        "param_grid = dict(layers=layers, batch_size = batches , epochs=epochs)\n",
        "gsearch = GridSearchCV(estimator=model, cv=tscv, param_grid=param_grid,scoring='r2')\n",
        "grid_result=gsearch.fit(train_X, train_y)\n",
        "print(\"Best: %f using %s\" % (grid_result.best_score_, grid_result.best_params_))\n"
      ],
      "execution_count": null,
      "outputs": [
        {
          "output_type": "stream",
          "text": [
            "/usr/local/lib/python3.7/dist-packages/keras/engine/sequential.py:450: UserWarning: `model.predict_classes()` is deprecated and will be removed after 2021-01-01. Please use instead:* `np.argmax(model.predict(x), axis=-1)`,   if your model does multi-class classification   (e.g. if it uses a `softmax` last-layer activation).* `(model.predict(x) > 0.5).astype(\"int32\")`,   if your model does binary classification   (e.g. if it uses a `sigmoid` last-layer activation).\n",
            "  warnings.warn('`model.predict_classes()` is deprecated and '\n",
            "/usr/local/lib/python3.7/dist-packages/keras/engine/sequential.py:450: UserWarning: `model.predict_classes()` is deprecated and will be removed after 2021-01-01. Please use instead:* `np.argmax(model.predict(x), axis=-1)`,   if your model does multi-class classification   (e.g. if it uses a `softmax` last-layer activation).* `(model.predict(x) > 0.5).astype(\"int32\")`,   if your model does binary classification   (e.g. if it uses a `sigmoid` last-layer activation).\n",
            "  warnings.warn('`model.predict_classes()` is deprecated and '\n",
            "/usr/local/lib/python3.7/dist-packages/keras/engine/sequential.py:450: UserWarning: `model.predict_classes()` is deprecated and will be removed after 2021-01-01. Please use instead:* `np.argmax(model.predict(x), axis=-1)`,   if your model does multi-class classification   (e.g. if it uses a `softmax` last-layer activation).* `(model.predict(x) > 0.5).astype(\"int32\")`,   if your model does binary classification   (e.g. if it uses a `sigmoid` last-layer activation).\n",
            "  warnings.warn('`model.predict_classes()` is deprecated and '\n",
            "/usr/local/lib/python3.7/dist-packages/keras/engine/sequential.py:450: UserWarning: `model.predict_classes()` is deprecated and will be removed after 2021-01-01. Please use instead:* `np.argmax(model.predict(x), axis=-1)`,   if your model does multi-class classification   (e.g. if it uses a `softmax` last-layer activation).* `(model.predict(x) > 0.5).astype(\"int32\")`,   if your model does binary classification   (e.g. if it uses a `sigmoid` last-layer activation).\n",
            "  warnings.warn('`model.predict_classes()` is deprecated and '\n",
            "/usr/local/lib/python3.7/dist-packages/sklearn/model_selection/_validation.py:536: FitFailedWarning: Estimator fit failed. The score on this train-test partition for these parameters will be set to nan. Details: \n",
            "ValueError: Input 0 of layer gru_70 is incompatible with the layer: expected ndim=3, found ndim=2. Full shape received: (None, 100)\n",
            "\n",
            "  FitFailedWarning)\n",
            "/usr/local/lib/python3.7/dist-packages/sklearn/model_selection/_validation.py:536: FitFailedWarning: Estimator fit failed. The score on this train-test partition for these parameters will be set to nan. Details: \n",
            "ValueError: Input 0 of layer gru_72 is incompatible with the layer: expected ndim=3, found ndim=2. Full shape received: (None, 100)\n",
            "\n",
            "  FitFailedWarning)\n",
            "/usr/local/lib/python3.7/dist-packages/sklearn/model_selection/_validation.py:536: FitFailedWarning: Estimator fit failed. The score on this train-test partition for these parameters will be set to nan. Details: \n",
            "ValueError: Input 0 of layer gru_74 is incompatible with the layer: expected ndim=3, found ndim=2. Full shape received: (None, 100)\n",
            "\n",
            "  FitFailedWarning)\n",
            "/usr/local/lib/python3.7/dist-packages/sklearn/model_selection/_validation.py:536: FitFailedWarning: Estimator fit failed. The score on this train-test partition for these parameters will be set to nan. Details: \n",
            "ValueError: Input 0 of layer gru_76 is incompatible with the layer: expected ndim=3, found ndim=2. Full shape received: (None, 100)\n",
            "\n",
            "  FitFailedWarning)\n",
            "/usr/local/lib/python3.7/dist-packages/sklearn/model_selection/_validation.py:536: FitFailedWarning: Estimator fit failed. The score on this train-test partition for these parameters will be set to nan. Details: \n",
            "ValueError: Input 0 of layer gru_78 is incompatible with the layer: expected ndim=3, found ndim=2. Full shape received: (None, 100)\n",
            "\n",
            "  FitFailedWarning)\n",
            "/usr/local/lib/python3.7/dist-packages/sklearn/model_selection/_validation.py:536: FitFailedWarning: Estimator fit failed. The score on this train-test partition for these parameters will be set to nan. Details: \n",
            "ValueError: Input 0 of layer gru_80 is incompatible with the layer: expected ndim=3, found ndim=2. Full shape received: (None, 100)\n",
            "\n",
            "  FitFailedWarning)\n",
            "/usr/local/lib/python3.7/dist-packages/sklearn/model_selection/_validation.py:536: FitFailedWarning: Estimator fit failed. The score on this train-test partition for these parameters will be set to nan. Details: \n",
            "ValueError: Input 0 of layer gru_82 is incompatible with the layer: expected ndim=3, found ndim=2. Full shape received: (None, 100)\n",
            "\n",
            "  FitFailedWarning)\n",
            "/usr/local/lib/python3.7/dist-packages/sklearn/model_selection/_validation.py:536: FitFailedWarning: Estimator fit failed. The score on this train-test partition for these parameters will be set to nan. Details: \n",
            "ValueError: Input 0 of layer gru_84 is incompatible with the layer: expected ndim=3, found ndim=2. Full shape received: (None, 100)\n",
            "\n",
            "  FitFailedWarning)\n",
            "/usr/local/lib/python3.7/dist-packages/keras/engine/sequential.py:450: UserWarning: `model.predict_classes()` is deprecated and will be removed after 2021-01-01. Please use instead:* `np.argmax(model.predict(x), axis=-1)`,   if your model does multi-class classification   (e.g. if it uses a `softmax` last-layer activation).* `(model.predict(x) > 0.5).astype(\"int32\")`,   if your model does binary classification   (e.g. if it uses a `sigmoid` last-layer activation).\n",
            "  warnings.warn('`model.predict_classes()` is deprecated and '\n",
            "/usr/local/lib/python3.7/dist-packages/keras/engine/sequential.py:450: UserWarning: `model.predict_classes()` is deprecated and will be removed after 2021-01-01. Please use instead:* `np.argmax(model.predict(x), axis=-1)`,   if your model does multi-class classification   (e.g. if it uses a `softmax` last-layer activation).* `(model.predict(x) > 0.5).astype(\"int32\")`,   if your model does binary classification   (e.g. if it uses a `sigmoid` last-layer activation).\n",
            "  warnings.warn('`model.predict_classes()` is deprecated and '\n",
            "/usr/local/lib/python3.7/dist-packages/keras/engine/sequential.py:450: UserWarning: `model.predict_classes()` is deprecated and will be removed after 2021-01-01. Please use instead:* `np.argmax(model.predict(x), axis=-1)`,   if your model does multi-class classification   (e.g. if it uses a `softmax` last-layer activation).* `(model.predict(x) > 0.5).astype(\"int32\")`,   if your model does binary classification   (e.g. if it uses a `sigmoid` last-layer activation).\n",
            "  warnings.warn('`model.predict_classes()` is deprecated and '\n",
            "/usr/local/lib/python3.7/dist-packages/keras/engine/sequential.py:450: UserWarning: `model.predict_classes()` is deprecated and will be removed after 2021-01-01. Please use instead:* `np.argmax(model.predict(x), axis=-1)`,   if your model does multi-class classification   (e.g. if it uses a `softmax` last-layer activation).* `(model.predict(x) > 0.5).astype(\"int32\")`,   if your model does binary classification   (e.g. if it uses a `sigmoid` last-layer activation).\n",
            "  warnings.warn('`model.predict_classes()` is deprecated and '\n",
            "/usr/local/lib/python3.7/dist-packages/sklearn/model_selection/_validation.py:536: FitFailedWarning: Estimator fit failed. The score on this train-test partition for these parameters will be set to nan. Details: \n",
            "ValueError: Input 0 of layer gru_90 is incompatible with the layer: expected ndim=3, found ndim=2. Full shape received: (None, 100)\n",
            "\n",
            "  FitFailedWarning)\n",
            "/usr/local/lib/python3.7/dist-packages/sklearn/model_selection/_validation.py:536: FitFailedWarning: Estimator fit failed. The score on this train-test partition for these parameters will be set to nan. Details: \n",
            "ValueError: Input 0 of layer gru_92 is incompatible with the layer: expected ndim=3, found ndim=2. Full shape received: (None, 100)\n",
            "\n",
            "  FitFailedWarning)\n",
            "/usr/local/lib/python3.7/dist-packages/sklearn/model_selection/_validation.py:536: FitFailedWarning: Estimator fit failed. The score on this train-test partition for these parameters will be set to nan. Details: \n",
            "ValueError: Input 0 of layer gru_94 is incompatible with the layer: expected ndim=3, found ndim=2. Full shape received: (None, 100)\n",
            "\n",
            "  FitFailedWarning)\n",
            "/usr/local/lib/python3.7/dist-packages/sklearn/model_selection/_validation.py:536: FitFailedWarning: Estimator fit failed. The score on this train-test partition for these parameters will be set to nan. Details: \n",
            "ValueError: Input 0 of layer gru_96 is incompatible with the layer: expected ndim=3, found ndim=2. Full shape received: (None, 100)\n",
            "\n",
            "  FitFailedWarning)\n",
            "/usr/local/lib/python3.7/dist-packages/sklearn/model_selection/_validation.py:536: FitFailedWarning: Estimator fit failed. The score on this train-test partition for these parameters will be set to nan. Details: \n",
            "ValueError: Input 0 of layer gru_98 is incompatible with the layer: expected ndim=3, found ndim=2. Full shape received: (None, 100)\n",
            "\n",
            "  FitFailedWarning)\n",
            "/usr/local/lib/python3.7/dist-packages/sklearn/model_selection/_validation.py:536: FitFailedWarning: Estimator fit failed. The score on this train-test partition for these parameters will be set to nan. Details: \n",
            "ValueError: Input 0 of layer gru_100 is incompatible with the layer: expected ndim=3, found ndim=2. Full shape received: (None, 100)\n",
            "\n",
            "  FitFailedWarning)\n",
            "/usr/local/lib/python3.7/dist-packages/sklearn/model_selection/_validation.py:536: FitFailedWarning: Estimator fit failed. The score on this train-test partition for these parameters will be set to nan. Details: \n",
            "ValueError: Input 0 of layer gru_102 is incompatible with the layer: expected ndim=3, found ndim=2. Full shape received: (None, 100)\n",
            "\n",
            "  FitFailedWarning)\n",
            "/usr/local/lib/python3.7/dist-packages/sklearn/model_selection/_validation.py:536: FitFailedWarning: Estimator fit failed. The score on this train-test partition for these parameters will be set to nan. Details: \n",
            "ValueError: Input 0 of layer gru_104 is incompatible with the layer: expected ndim=3, found ndim=2. Full shape received: (None, 100)\n",
            "\n",
            "  FitFailedWarning)\n",
            "/usr/local/lib/python3.7/dist-packages/keras/engine/sequential.py:450: UserWarning: `model.predict_classes()` is deprecated and will be removed after 2021-01-01. Please use instead:* `np.argmax(model.predict(x), axis=-1)`,   if your model does multi-class classification   (e.g. if it uses a `softmax` last-layer activation).* `(model.predict(x) > 0.5).astype(\"int32\")`,   if your model does binary classification   (e.g. if it uses a `sigmoid` last-layer activation).\n",
            "  warnings.warn('`model.predict_classes()` is deprecated and '\n",
            "/usr/local/lib/python3.7/dist-packages/keras/engine/sequential.py:450: UserWarning: `model.predict_classes()` is deprecated and will be removed after 2021-01-01. Please use instead:* `np.argmax(model.predict(x), axis=-1)`,   if your model does multi-class classification   (e.g. if it uses a `softmax` last-layer activation).* `(model.predict(x) > 0.5).astype(\"int32\")`,   if your model does binary classification   (e.g. if it uses a `sigmoid` last-layer activation).\n",
            "  warnings.warn('`model.predict_classes()` is deprecated and '\n",
            "/usr/local/lib/python3.7/dist-packages/keras/engine/sequential.py:450: UserWarning: `model.predict_classes()` is deprecated and will be removed after 2021-01-01. Please use instead:* `np.argmax(model.predict(x), axis=-1)`,   if your model does multi-class classification   (e.g. if it uses a `softmax` last-layer activation).* `(model.predict(x) > 0.5).astype(\"int32\")`,   if your model does binary classification   (e.g. if it uses a `sigmoid` last-layer activation).\n",
            "  warnings.warn('`model.predict_classes()` is deprecated and '\n",
            "/usr/local/lib/python3.7/dist-packages/keras/engine/sequential.py:450: UserWarning: `model.predict_classes()` is deprecated and will be removed after 2021-01-01. Please use instead:* `np.argmax(model.predict(x), axis=-1)`,   if your model does multi-class classification   (e.g. if it uses a `softmax` last-layer activation).* `(model.predict(x) > 0.5).astype(\"int32\")`,   if your model does binary classification   (e.g. if it uses a `sigmoid` last-layer activation).\n",
            "  warnings.warn('`model.predict_classes()` is deprecated and '\n",
            "/usr/local/lib/python3.7/dist-packages/sklearn/model_selection/_validation.py:536: FitFailedWarning: Estimator fit failed. The score on this train-test partition for these parameters will be set to nan. Details: \n",
            "ValueError: Input 0 of layer gru_110 is incompatible with the layer: expected ndim=3, found ndim=2. Full shape received: (None, 100)\n",
            "\n",
            "  FitFailedWarning)\n",
            "/usr/local/lib/python3.7/dist-packages/sklearn/model_selection/_validation.py:536: FitFailedWarning: Estimator fit failed. The score on this train-test partition for these parameters will be set to nan. Details: \n",
            "ValueError: Input 0 of layer gru_112 is incompatible with the layer: expected ndim=3, found ndim=2. Full shape received: (None, 100)\n",
            "\n",
            "  FitFailedWarning)\n",
            "/usr/local/lib/python3.7/dist-packages/sklearn/model_selection/_validation.py:536: FitFailedWarning: Estimator fit failed. The score on this train-test partition for these parameters will be set to nan. Details: \n",
            "ValueError: Input 0 of layer gru_114 is incompatible with the layer: expected ndim=3, found ndim=2. Full shape received: (None, 100)\n",
            "\n",
            "  FitFailedWarning)\n",
            "/usr/local/lib/python3.7/dist-packages/sklearn/model_selection/_validation.py:536: FitFailedWarning: Estimator fit failed. The score on this train-test partition for these parameters will be set to nan. Details: \n",
            "ValueError: Input 0 of layer gru_116 is incompatible with the layer: expected ndim=3, found ndim=2. Full shape received: (None, 100)\n",
            "\n",
            "  FitFailedWarning)\n",
            "/usr/local/lib/python3.7/dist-packages/sklearn/model_selection/_validation.py:536: FitFailedWarning: Estimator fit failed. The score on this train-test partition for these parameters will be set to nan. Details: \n",
            "ValueError: Input 0 of layer gru_118 is incompatible with the layer: expected ndim=3, found ndim=2. Full shape received: (None, 100)\n",
            "\n",
            "  FitFailedWarning)\n",
            "/usr/local/lib/python3.7/dist-packages/sklearn/model_selection/_validation.py:536: FitFailedWarning: Estimator fit failed. The score on this train-test partition for these parameters will be set to nan. Details: \n",
            "ValueError: Input 0 of layer gru_120 is incompatible with the layer: expected ndim=3, found ndim=2. Full shape received: (None, 100)\n",
            "\n",
            "  FitFailedWarning)\n",
            "/usr/local/lib/python3.7/dist-packages/sklearn/model_selection/_validation.py:536: FitFailedWarning: Estimator fit failed. The score on this train-test partition for these parameters will be set to nan. Details: \n",
            "ValueError: Input 0 of layer gru_122 is incompatible with the layer: expected ndim=3, found ndim=2. Full shape received: (None, 100)\n",
            "\n",
            "  FitFailedWarning)\n",
            "/usr/local/lib/python3.7/dist-packages/sklearn/model_selection/_validation.py:536: FitFailedWarning: Estimator fit failed. The score on this train-test partition for these parameters will be set to nan. Details: \n",
            "ValueError: Input 0 of layer gru_124 is incompatible with the layer: expected ndim=3, found ndim=2. Full shape received: (None, 100)\n",
            "\n",
            "  FitFailedWarning)\n",
            "/usr/local/lib/python3.7/dist-packages/keras/engine/sequential.py:450: UserWarning: `model.predict_classes()` is deprecated and will be removed after 2021-01-01. Please use instead:* `np.argmax(model.predict(x), axis=-1)`,   if your model does multi-class classification   (e.g. if it uses a `softmax` last-layer activation).* `(model.predict(x) > 0.5).astype(\"int32\")`,   if your model does binary classification   (e.g. if it uses a `sigmoid` last-layer activation).\n",
            "  warnings.warn('`model.predict_classes()` is deprecated and '\n",
            "/usr/local/lib/python3.7/dist-packages/keras/engine/sequential.py:450: UserWarning: `model.predict_classes()` is deprecated and will be removed after 2021-01-01. Please use instead:* `np.argmax(model.predict(x), axis=-1)`,   if your model does multi-class classification   (e.g. if it uses a `softmax` last-layer activation).* `(model.predict(x) > 0.5).astype(\"int32\")`,   if your model does binary classification   (e.g. if it uses a `sigmoid` last-layer activation).\n",
            "  warnings.warn('`model.predict_classes()` is deprecated and '\n",
            "/usr/local/lib/python3.7/dist-packages/keras/engine/sequential.py:450: UserWarning: `model.predict_classes()` is deprecated and will be removed after 2021-01-01. Please use instead:* `np.argmax(model.predict(x), axis=-1)`,   if your model does multi-class classification   (e.g. if it uses a `softmax` last-layer activation).* `(model.predict(x) > 0.5).astype(\"int32\")`,   if your model does binary classification   (e.g. if it uses a `sigmoid` last-layer activation).\n",
            "  warnings.warn('`model.predict_classes()` is deprecated and '\n",
            "/usr/local/lib/python3.7/dist-packages/keras/engine/sequential.py:450: UserWarning: `model.predict_classes()` is deprecated and will be removed after 2021-01-01. Please use instead:* `np.argmax(model.predict(x), axis=-1)`,   if your model does multi-class classification   (e.g. if it uses a `softmax` last-layer activation).* `(model.predict(x) > 0.5).astype(\"int32\")`,   if your model does binary classification   (e.g. if it uses a `sigmoid` last-layer activation).\n",
            "  warnings.warn('`model.predict_classes()` is deprecated and '\n",
            "/usr/local/lib/python3.7/dist-packages/sklearn/model_selection/_validation.py:536: FitFailedWarning: Estimator fit failed. The score on this train-test partition for these parameters will be set to nan. Details: \n",
            "ValueError: Input 0 of layer gru_130 is incompatible with the layer: expected ndim=3, found ndim=2. Full shape received: (None, 100)\n",
            "\n",
            "  FitFailedWarning)\n",
            "/usr/local/lib/python3.7/dist-packages/sklearn/model_selection/_validation.py:536: FitFailedWarning: Estimator fit failed. The score on this train-test partition for these parameters will be set to nan. Details: \n",
            "ValueError: Input 0 of layer gru_132 is incompatible with the layer: expected ndim=3, found ndim=2. Full shape received: (None, 100)\n",
            "\n",
            "  FitFailedWarning)\n",
            "/usr/local/lib/python3.7/dist-packages/sklearn/model_selection/_validation.py:536: FitFailedWarning: Estimator fit failed. The score on this train-test partition for these parameters will be set to nan. Details: \n",
            "ValueError: Input 0 of layer gru_134 is incompatible with the layer: expected ndim=3, found ndim=2. Full shape received: (None, 100)\n",
            "\n",
            "  FitFailedWarning)\n",
            "/usr/local/lib/python3.7/dist-packages/sklearn/model_selection/_validation.py:536: FitFailedWarning: Estimator fit failed. The score on this train-test partition for these parameters will be set to nan. Details: \n",
            "ValueError: Input 0 of layer gru_136 is incompatible with the layer: expected ndim=3, found ndim=2. Full shape received: (None, 100)\n",
            "\n",
            "  FitFailedWarning)\n",
            "/usr/local/lib/python3.7/dist-packages/sklearn/model_selection/_validation.py:536: FitFailedWarning: Estimator fit failed. The score on this train-test partition for these parameters will be set to nan. Details: \n",
            "ValueError: Input 0 of layer gru_138 is incompatible with the layer: expected ndim=3, found ndim=2. Full shape received: (None, 100)\n",
            "\n",
            "  FitFailedWarning)\n",
            "/usr/local/lib/python3.7/dist-packages/sklearn/model_selection/_validation.py:536: FitFailedWarning: Estimator fit failed. The score on this train-test partition for these parameters will be set to nan. Details: \n",
            "ValueError: Input 0 of layer gru_140 is incompatible with the layer: expected ndim=3, found ndim=2. Full shape received: (None, 100)\n",
            "\n",
            "  FitFailedWarning)\n",
            "/usr/local/lib/python3.7/dist-packages/sklearn/model_selection/_validation.py:536: FitFailedWarning: Estimator fit failed. The score on this train-test partition for these parameters will be set to nan. Details: \n",
            "ValueError: Input 0 of layer gru_142 is incompatible with the layer: expected ndim=3, found ndim=2. Full shape received: (None, 100)\n",
            "\n",
            "  FitFailedWarning)\n",
            "/usr/local/lib/python3.7/dist-packages/sklearn/model_selection/_validation.py:536: FitFailedWarning: Estimator fit failed. The score on this train-test partition for these parameters will be set to nan. Details: \n",
            "ValueError: Input 0 of layer gru_144 is incompatible with the layer: expected ndim=3, found ndim=2. Full shape received: (None, 100)\n",
            "\n",
            "  FitFailedWarning)\n"
          ],
          "name": "stderr"
        },
        {
          "output_type": "stream",
          "text": [
            "Best: -9.754916 using {'batch_size': 16, 'epochs': 100, 'layers': [100]}\n"
          ],
          "name": "stdout"
        }
      ]
    },
    {
      "cell_type": "code",
      "metadata": {
        "colab": {
          "base_uri": "https://localhost:8080/"
        },
        "id": "j2wZgmBbYLOS",
        "outputId": "3005fddc-f25b-47eb-8431-441f1349831e"
      },
      "source": [
        "model = Sequential()\n",
        "model.add(GRU(units=100,input_shape= (train_X.shape[1],1)))\n",
        "model.add(Dropout(0.3))\n",
        "model.add(Dense(units=1))\n",
        "\n",
        "es = tf.keras.callbacks.EarlyStopping(monitor='val_loss',patience=20,mode='min',verbose=1)\n",
        "mc = tf.keras.callbacks.ModelCheckpoint('best_model.h5', monitor='val_loss', mode='min', verbose=1, \n",
        "                     save_best_only=True)\n",
        "model.compile(loss='mae', optimizer='adam')\n",
        "history = model.fit(train_X, train_y, epochs=100, batch_size=16,validation_data=(test_X,test_y),\n",
        "                    verbose=0,callbacks=[es,mc], shuffle=False)"
      ],
      "execution_count": null,
      "outputs": [
        {
          "output_type": "stream",
          "text": [
            "\n",
            "Epoch 00001: val_loss improved from inf to 0.17763, saving model to best_model.h5\n",
            "\n",
            "Epoch 00002: val_loss improved from 0.17763 to 0.14985, saving model to best_model.h5\n",
            "\n",
            "Epoch 00003: val_loss did not improve from 0.14985\n",
            "\n",
            "Epoch 00004: val_loss did not improve from 0.14985\n",
            "\n",
            "Epoch 00005: val_loss did not improve from 0.14985\n",
            "\n",
            "Epoch 00006: val_loss improved from 0.14985 to 0.14951, saving model to best_model.h5\n",
            "\n",
            "Epoch 00007: val_loss did not improve from 0.14951\n",
            "\n",
            "Epoch 00008: val_loss improved from 0.14951 to 0.14192, saving model to best_model.h5\n",
            "\n",
            "Epoch 00009: val_loss did not improve from 0.14192\n",
            "\n",
            "Epoch 00010: val_loss did not improve from 0.14192\n",
            "\n",
            "Epoch 00011: val_loss did not improve from 0.14192\n",
            "\n",
            "Epoch 00012: val_loss did not improve from 0.14192\n",
            "\n",
            "Epoch 00013: val_loss did not improve from 0.14192\n",
            "\n",
            "Epoch 00014: val_loss improved from 0.14192 to 0.11976, saving model to best_model.h5\n",
            "\n",
            "Epoch 00015: val_loss did not improve from 0.11976\n",
            "\n",
            "Epoch 00016: val_loss improved from 0.11976 to 0.11943, saving model to best_model.h5\n",
            "\n",
            "Epoch 00017: val_loss improved from 0.11943 to 0.11440, saving model to best_model.h5\n",
            "\n",
            "Epoch 00018: val_loss improved from 0.11440 to 0.09368, saving model to best_model.h5\n",
            "\n",
            "Epoch 00019: val_loss improved from 0.09368 to 0.07188, saving model to best_model.h5\n",
            "\n",
            "Epoch 00020: val_loss improved from 0.07188 to 0.06169, saving model to best_model.h5\n",
            "\n",
            "Epoch 00021: val_loss improved from 0.06169 to 0.05589, saving model to best_model.h5\n",
            "\n",
            "Epoch 00022: val_loss improved from 0.05589 to 0.05526, saving model to best_model.h5\n",
            "\n",
            "Epoch 00023: val_loss did not improve from 0.05526\n",
            "\n",
            "Epoch 00024: val_loss improved from 0.05526 to 0.05424, saving model to best_model.h5\n",
            "\n",
            "Epoch 00025: val_loss did not improve from 0.05424\n",
            "\n",
            "Epoch 00026: val_loss improved from 0.05424 to 0.05388, saving model to best_model.h5\n",
            "\n",
            "Epoch 00027: val_loss did not improve from 0.05388\n",
            "\n",
            "Epoch 00028: val_loss did not improve from 0.05388\n",
            "\n",
            "Epoch 00029: val_loss did not improve from 0.05388\n",
            "\n",
            "Epoch 00030: val_loss did not improve from 0.05388\n",
            "\n",
            "Epoch 00031: val_loss did not improve from 0.05388\n",
            "\n",
            "Epoch 00032: val_loss did not improve from 0.05388\n",
            "\n",
            "Epoch 00033: val_loss did not improve from 0.05388\n",
            "\n",
            "Epoch 00034: val_loss did not improve from 0.05388\n",
            "\n",
            "Epoch 00035: val_loss did not improve from 0.05388\n",
            "\n",
            "Epoch 00036: val_loss did not improve from 0.05388\n",
            "\n",
            "Epoch 00037: val_loss did not improve from 0.05388\n",
            "\n",
            "Epoch 00038: val_loss did not improve from 0.05388\n",
            "\n",
            "Epoch 00039: val_loss did not improve from 0.05388\n",
            "\n",
            "Epoch 00040: val_loss did not improve from 0.05388\n",
            "\n",
            "Epoch 00041: val_loss did not improve from 0.05388\n",
            "\n",
            "Epoch 00042: val_loss did not improve from 0.05388\n",
            "\n",
            "Epoch 00043: val_loss did not improve from 0.05388\n",
            "\n",
            "Epoch 00044: val_loss did not improve from 0.05388\n",
            "\n",
            "Epoch 00045: val_loss did not improve from 0.05388\n",
            "\n",
            "Epoch 00046: val_loss did not improve from 0.05388\n",
            "Epoch 00046: early stopping\n"
          ],
          "name": "stdout"
        }
      ]
    },
    {
      "cell_type": "code",
      "metadata": {
        "colab": {
          "base_uri": "https://localhost:8080/",
          "height": 795
        },
        "id": "S2DtZsevRZXZ",
        "outputId": "0211a5f8-5c9f-463b-92aa-fd367532bd88"
      },
      "source": [
        "# plot history\n",
        "pyplot.plot(history.history['loss'], label='train')\n",
        "pyplot.plot(history.history['val_loss'], label='test')\n",
        "pyplot.legend()\n",
        "pyplot.show()"
      ],
      "execution_count": null,
      "outputs": [
        {
          "output_type": "display_data",
          "data": {
            "image/png": "[encoded data removed]",
            "text/plain": [
              "<Figure size 1440x1440 with 1 Axes>"
            ]
          },
          "metadata": {
            "needs_background": "light"
          }
        }
      ]
    },
    {
      "cell_type": "code",
      "metadata": {
        "colab": {
          "base_uri": "https://localhost:8080/"
        },
        "id": "S_KMCaeInjNn",
        "outputId": "717d7566-9c05-444b-fb64-eb7af7d4518b"
      },
      "source": [
        "  # load the saved model\n",
        "model = load_model('best_model.h5')\n",
        "model.summary()"
      ],
      "execution_count": null,
      "outputs": [
        {
          "output_type": "stream",
          "text": [
            "Model: \"sequential\"\n",
            "_________________________________________________________________\n",
            "Layer (type)                 Output Shape              Param #   \n",
            "=================================================================\n",
            "gru (GRU)                    (None, 100)               30900     \n",
            "_________________________________________________________________\n",
            "dropout (Dropout)            (None, 100)               0         \n",
            "_________________________________________________________________\n",
            "dense (Dense)                (None, 1)                 101       \n",
            "=================================================================\n",
            "Total params: 31,001\n",
            "Trainable params: 31,001\n",
            "Non-trainable params: 0\n",
            "_________________________________________________________________\n"
          ],
          "name": "stdout"
        }
      ]
    },
    {
      "cell_type": "code",
      "metadata": {
        "id": "Hsk_n93VtEES"
      },
      "source": [
        "# make a prediction\n",
        "yhat = model.predict(test_X) #shape=(14,1)\n",
        "test_X = test_X.reshape((test_X.shape[0], test_X.shape[1]))\n",
        "# invert scaling for forecast\n",
        "#inv_yhat = concatenate((test_X[:, :-1],yhat), axis=1)\n",
        "inv_yhat = concatenate((test_X,yhat), axis=1)\n",
        "inv_yhat = scaler.inverse_transform(inv_yhat)\n",
        "inv_yhat = inv_yhat[:,-1]\n",
        "# invert scaling for actual\n",
        "test_y = test_y.reshape((len(test_y), 1))\n",
        "#inv_y = concatenate((test_X[:, :-1],test_y), axis=1)\n",
        "inv_y = concatenate((test_X,test_y), axis=1)\n",
        "inv_y = scaler.inverse_transform(inv_y)\n",
        "inv_y = inv_y[:,-1]"
      ],
      "execution_count": null,
      "outputs": []
    },
    {
      "cell_type": "code",
      "metadata": {
        "id": "CejIp8s7rvO6"
      },
      "source": [
        "def timeseries_evaluation_metrics_func(y_true, y_pred):\n",
        "  def mean_absolute_percentage_error(y_true, y_pred):\n",
        "    y_true, y_pred = np.array(y_true), np.array(y_pred)\n",
        "    return np.mean(np.abs((y_true - y_pred) / y_true)) * 100\n",
        "  def smape(y_true,y_pred):\n",
        "    y_true, y_pred = np.array(y_true), np.array(y_pred)\n",
        "    return 2/y_true.shape[0]*np.sum(np.abs(y_true-y_pred))/np.sum((np.abs(y_true)+np.abs(y_pred)))*100\n",
        "  def mase(y_true,y_pred):\n",
        "    y_true, y_pred = np.array(y_true), np.array(y_pred)\n",
        "    naive_pred=y_true[1:]\n",
        "    return 1/y_true.shape[0]*np.sum(np.abs(y_true-y_pred))/np.sum(np.abs(y_true[:len(y_true)-1]-naive_pred))*(y_true.shape[0]-1)\n",
        "  #def owe(y_true,y_pred):\n",
        "   # return (mase(y_true,y_pred)+smape(y_true,y_pred))/2\n",
        "\n",
        "  print('Evaluation metric results:-')\n",
        "  print(f'MSE is : {metrics.mean_squared_error(y_true, y_pred)}')\n",
        "  print(f'MAE is : {metrics.mean_absolute_error(y_true, y_pred)}')\n",
        "  print(f'RMSE is : {np.sqrt(metrics.mean_squared_error(y_true, y_pred))}')\n",
        "  print(f'MAPE is : {mean_absolute_percentage_error(y_true, y_pred)} %')\n",
        "  #mape.append(mean_absolute_percentage_error(y_true, y_pred))\n",
        "  #rmse.append(np.sqrt(metrics.mean_squared_error(y_true, y_pred)))\n",
        "  print(f'R2 is : {metrics.r2_score(y_true, y_pred)}',end='\\n\\n')\n",
        "  print('SMAPE is : '+str(smape(y_true,y_pred))+'\\n')\n",
        "  print('MASE is : '+str(mase(y_true,y_pred)))\n",
        "  return"
      ],
      "execution_count": null,
      "outputs": []
    },
    {
      "cell_type": "code",
      "metadata": {
        "colab": {
          "base_uri": "https://localhost:8080/"
        },
        "id": "U-yxUOktrvTD",
        "outputId": "c2ca5922-8b3d-437b-ae8f-8f1fd530a600"
      },
      "source": [
        "from sklearn import metrics\n",
        "import numpy as np\n",
        "\n",
        "timeseries_evaluation_metrics_func(inv_y, inv_yhat)"
      ],
      "execution_count": null,
      "outputs": [
        {
          "output_type": "stream",
          "text": [
            "Evaluation metric results:-\n",
            "MSE is : 10369.612360459052\n",
            "MAE is : 65.95487927936374\n",
            "RMSE is : 101.83129362066973\n",
            "MAPE is : 6.065249897890543 %\n",
            "R2 is : 0.7331216820946649\n",
            "\n",
            "SMAPE is : 0.02635422762096681\n",
            "\n",
            "MASE is : 0.7563549942050494\n"
          ],
          "name": "stdout"
        }
      ]
    },
    {
      "cell_type": "code",
      "metadata": {
        "colab": {
          "base_uri": "https://localhost:8080/",
          "height": 413
        },
        "id": "smzoQvxrrvUh",
        "outputId": "a6efa865-f5b5-4e1b-eafc-d863882335a6"
      },
      "source": [
        "from matplotlib.pyplot import figure\n",
        "\n",
        "figure(figsize=(8, 6), dpi=80)\n",
        "plt.plot(time[train_X.shape[0]:len(time)],inv_y,label='actual')\n",
        "plt.plot(time[train_X.shape[0]:len(time)],inv_yhat,label='Pred')\n",
        "plt.legend()\n",
        "#plt.savefig('xgboost_test')\n",
        "plt.show()"
      ],
      "execution_count": null,
      "outputs": [
        {
          "output_type": "display_data",
          "data": {
            "image/png": "[encoded data removed]",
            "text/plain": [
              "<Figure size 640x480 with 1 Axes>"
            ]
          },
          "metadata": {
            "needs_background": "light"
          }
        }
      ]
    },
    {
      "cell_type": "markdown",
      "metadata": {
        "id": "creouAuRJ2qH"
      },
      "source": [
        "# peak period"
      ]
    },
    {
      "cell_type": "code",
      "metadata": {
        "colab": {
          "base_uri": "https://localhost:8080/"
        },
        "id": "Owa5qPllJ4_7",
        "outputId": "5fa4066c-e94d-479d-c4d8-9eaf44aaf8f6"
      },
      "source": [
        "timeseries_evaluation_metrics_func(inv_y[:90], inv_yhat[:90])"
      ],
      "execution_count": null,
      "outputs": [
        {
          "output_type": "stream",
          "text": [
            "Evaluation metric results:-\n",
            "MSE is : 10715.817725371999\n",
            "MAE is : 73.52317136658567\n",
            "RMSE is : 103.51723395344371\n",
            "MAPE is : 5.737268158290192 %\n",
            "R2 is : 0.35850857605725783\n",
            "\n",
            "SMAPE is : 0.062280653856000796\n",
            "\n",
            "MASE is : 0.7344065377807096\n"
          ],
          "name": "stdout"
        }
      ]
    },
    {
      "cell_type": "code",
      "metadata": {
        "colab": {
          "base_uri": "https://localhost:8080/",
          "height": 413
        },
        "id": "Yfk5WcvcNBlt",
        "outputId": "d3036e4f-9b7a-43ca-87ba-1f4812342c6b"
      },
      "source": [
        "from matplotlib.pyplot import figure\n",
        "\n",
        "figure(figsize=(8, 6), dpi=80)\n",
        "plt.plot(time[train_X.shape[0]:train_X.shape[0]+90],inv_y[:90],label='actual')\n",
        "plt.plot(time[train_X.shape[0]:train_X.shape[0]+90],inv_yhat[:90],label='Pred')\n",
        "plt.legend()\n",
        "plt.show()"
      ],
      "execution_count": null,
      "outputs": [
        {
          "output_type": "display_data",
          "data": {
            "image/png": "[encoded data removed]",
            "text/plain": [
              "<Figure size 640x480 with 1 Axes>"
            ]
          },
          "metadata": {
            "needs_background": "light"
          }
        }
      ]
    }
  ]
}