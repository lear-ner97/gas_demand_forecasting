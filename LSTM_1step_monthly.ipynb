{
  "nbformat": 4,
  "nbformat_minor": 0,
  "metadata": {
    "colab": {
      "name": "LSTM_1step_monthly.ipynb",
      "provenance": [],
      "collapsed_sections": []
    },
    "kernelspec": {
      "name": "python3",
      "display_name": "Python 3"
    },
    "accelerator": "GPU"
  },
  "cells": [
    {
      "cell_type": "markdown",
      "metadata": {
        "id": "BexZygSl10H4"
      },
      "source": [
        "references:\n",
        "\n",
        "\n",
        "*   Multivariate Time Series Forecasting with LSTMs in Keras (machinelearningmastery.com)\n",
        "*   https://www.youtube.com/watch?v=4FmVIpcwl4k&t=1117s\n",
        "\n",
        "\n",
        "*   BOOK: Hands-on time series analysis\n",
        "*   List item\n",
        "\n",
        "\n",
        "\n"
      ]
    },
    {
      "cell_type": "code",
      "metadata": {
        "id": "AF-q7YZCPKn0"
      },
      "source": [
        "from numpy.random import seed\n",
        "seed(1)\n",
        "import tensorflow as tf\n",
        "tf.compat.v1.set_random_seed(2)"
      ],
      "execution_count": null,
      "outputs": []
    },
    {
      "cell_type": "code",
      "metadata": {
        "id": "_GY3HgVB7T8D"
      },
      "source": [
        "import numpy as np\n",
        "import pandas as pd\n",
        "import matplotlib as mpl\n",
        "import matplotlib.pyplot as plt\n",
        "from keras.constraints import maxnorm\n",
        "from sklearn.model_selection import train_test_split\n",
        "from keras.preprocessing.sequence import TimeseriesGenerator\n",
        "from sklearn.preprocessing import MinMaxScaler, StandardScaler\n",
        "import tensorflow as tf\n",
        "from keras.models import load_model\n",
        "from keras.wrappers.scikit_learn import KerasClassifier\n",
        "from sklearn.model_selection import GridSearchCV\n",
        "from sklearn.model_selection import TimeSeriesSplit\n",
        "from sklearn.model_selection import cross_val_score\n",
        "\n",
        "mpl.rcParams['figure.figsize'] = (20, 20)\n",
        "mpl.rcParams['axes.grid'] = False"
      ],
      "execution_count": null,
      "outputs": []
    },
    {
      "cell_type": "code",
      "metadata": {
        "id": "tj0hXjtjrJYT"
      },
      "source": [
        "from math import sqrt\n",
        "from numpy import concatenate\n",
        "from matplotlib import pyplot\n",
        "from pandas import read_csv\n",
        "from pandas import DataFrame\n",
        "from pandas import concat\n",
        "from sklearn.preprocessing import MinMaxScaler\n",
        "from sklearn.preprocessing import LabelEncoder\n",
        "from sklearn.metrics import mean_squared_error\n",
        "from keras.models import Sequential\n",
        "from keras.layers import Dense,Dropout\n",
        "from keras.layers import LSTM"
      ],
      "execution_count": null,
      "outputs": []
    },
    {
      "cell_type": "code",
      "metadata": {
        "id": "lmNbWyCJ7n0a"
      },
      "source": [
        "df = pd.read_csv('/content/clean_monthly_df_human_supervised.csv')"
      ],
      "execution_count": null,
      "outputs": []
    },
    {
      "cell_type": "code",
      "metadata": {
        "id": "4MZJsxPq76CN",
        "colab": {
          "base_uri": "https://localhost:8080/",
          "height": 225
        },
        "outputId": "f18dca25-f602-4d72-ee76-735767f697ac"
      },
      "source": [
        "df.head()"
      ],
      "execution_count": null,
      "outputs": [
        {
          "output_type": "execute_result",
          "data": {
            "text/html": [
              "<div>\n",
              "<style scoped>\n",
              "    .dataframe tbody tr th:only-of-type {\n",
              "        vertical-align: middle;\n",
              "    }\n",
              "\n",
              "    .dataframe tbody tr th {\n",
              "        vertical-align: top;\n",
              "    }\n",
              "\n",
              "    .dataframe thead th {\n",
              "        text-align: right;\n",
              "    }\n",
              "</style>\n",
              "<table border=\"1\" class=\"dataframe\">\n",
              "  <thead>\n",
              "    <tr style=\"text-align: right;\">\n",
              "      <th></th>\n",
              "      <th>time</th>\n",
              "      <th>MIN_TEMPERATURE_C_t_1</th>\n",
              "      <th>max_clients_month_t_1</th>\n",
              "      <th>total_Holiday_Food_Related_t_1</th>\n",
              "      <th>total_consommation_t_1</th>\n",
              "      <th>max_pdl_total_daily_load_t_1</th>\n",
              "      <th>max_pdl_daily_load_t_1</th>\n",
              "      <th>MIN_TEMPERATURE_C_t</th>\n",
              "      <th>max_clients_month_t</th>\n",
              "      <th>total_Holiday_Food_Related_t</th>\n",
              "      <th>total_consommation_t</th>\n",
              "      <th>max_pdl_total_daily_load_t</th>\n",
              "      <th>max_pdl_daily_load_t</th>\n",
              "    </tr>\n",
              "  </thead>\n",
              "  <tbody>\n",
              "    <tr>\n",
              "      <th>0</th>\n",
              "      <td>28/02/2015</td>\n",
              "      <td>8</td>\n",
              "      <td>3980</td>\n",
              "      <td>2</td>\n",
              "      <td>247497.63</td>\n",
              "      <td>22257</td>\n",
              "      <td>1479</td>\n",
              "      <td>11</td>\n",
              "      <td>4023</td>\n",
              "      <td>0</td>\n",
              "      <td>263249.88</td>\n",
              "      <td>22242</td>\n",
              "      <td>1494</td>\n",
              "    </tr>\n",
              "    <tr>\n",
              "      <th>1</th>\n",
              "      <td>31/03/2015</td>\n",
              "      <td>11</td>\n",
              "      <td>4023</td>\n",
              "      <td>0</td>\n",
              "      <td>263249.88</td>\n",
              "      <td>22242</td>\n",
              "      <td>1494</td>\n",
              "      <td>12</td>\n",
              "      <td>4060</td>\n",
              "      <td>0</td>\n",
              "      <td>246311.89</td>\n",
              "      <td>21691</td>\n",
              "      <td>1551</td>\n",
              "    </tr>\n",
              "    <tr>\n",
              "      <th>2</th>\n",
              "      <td>30/04/2015</td>\n",
              "      <td>12</td>\n",
              "      <td>4060</td>\n",
              "      <td>0</td>\n",
              "      <td>246311.89</td>\n",
              "      <td>21691</td>\n",
              "      <td>1551</td>\n",
              "      <td>14</td>\n",
              "      <td>4094</td>\n",
              "      <td>0</td>\n",
              "      <td>237177.99</td>\n",
              "      <td>16752</td>\n",
              "      <td>1253</td>\n",
              "    </tr>\n",
              "    <tr>\n",
              "      <th>3</th>\n",
              "      <td>31/05/2015</td>\n",
              "      <td>14</td>\n",
              "      <td>4094</td>\n",
              "      <td>0</td>\n",
              "      <td>237177.99</td>\n",
              "      <td>16752</td>\n",
              "      <td>1253</td>\n",
              "      <td>19</td>\n",
              "      <td>4112</td>\n",
              "      <td>0</td>\n",
              "      <td>229106.03</td>\n",
              "      <td>12318</td>\n",
              "      <td>1123</td>\n",
              "    </tr>\n",
              "    <tr>\n",
              "      <th>4</th>\n",
              "      <td>30/06/2015</td>\n",
              "      <td>19</td>\n",
              "      <td>4112</td>\n",
              "      <td>0</td>\n",
              "      <td>229106.03</td>\n",
              "      <td>12318</td>\n",
              "      <td>1123</td>\n",
              "      <td>22</td>\n",
              "      <td>4137</td>\n",
              "      <td>13</td>\n",
              "      <td>223934.14</td>\n",
              "      <td>11655</td>\n",
              "      <td>1122</td>\n",
              "    </tr>\n",
              "  </tbody>\n",
              "</table>\n",
              "</div>"
            ],
            "text/plain": [
              "         time  ...  max_pdl_daily_load_t\n",
              "0  28/02/2015  ...                  1494\n",
              "1  31/03/2015  ...                  1551\n",
              "2  30/04/2015  ...                  1253\n",
              "3  31/05/2015  ...                  1123\n",
              "4  30/06/2015  ...                  1122\n",
              "\n",
              "[5 rows x 13 columns]"
            ]
          },
          "metadata": {},
          "execution_count": 28
        }
      ]
    },
    {
      "cell_type": "code",
      "metadata": {
        "colab": {
          "base_uri": "https://localhost:8080/",
          "height": 225
        },
        "id": "r1Nv6sDzc6DA",
        "outputId": "3c79379e-7b5b-4d24-efcc-d71d4df16fdd"
      },
      "source": [
        "df.tail()"
      ],
      "execution_count": null,
      "outputs": [
        {
          "output_type": "execute_result",
          "data": {
            "text/html": [
              "<div>\n",
              "<style scoped>\n",
              "    .dataframe tbody tr th:only-of-type {\n",
              "        vertical-align: middle;\n",
              "    }\n",
              "\n",
              "    .dataframe tbody tr th {\n",
              "        vertical-align: top;\n",
              "    }\n",
              "\n",
              "    .dataframe thead th {\n",
              "        text-align: right;\n",
              "    }\n",
              "</style>\n",
              "<table border=\"1\" class=\"dataframe\">\n",
              "  <thead>\n",
              "    <tr style=\"text-align: right;\">\n",
              "      <th></th>\n",
              "      <th>time</th>\n",
              "      <th>MIN_TEMPERATURE_C_t_1</th>\n",
              "      <th>max_clients_month_t_1</th>\n",
              "      <th>total_Holiday_Food_Related_t_1</th>\n",
              "      <th>total_consommation_t_1</th>\n",
              "      <th>max_pdl_total_daily_load_t_1</th>\n",
              "      <th>max_pdl_daily_load_t_1</th>\n",
              "      <th>MIN_TEMPERATURE_C_t</th>\n",
              "      <th>max_clients_month_t</th>\n",
              "      <th>total_Holiday_Food_Related_t</th>\n",
              "      <th>total_consommation_t</th>\n",
              "      <th>max_pdl_total_daily_load_t</th>\n",
              "      <th>max_pdl_daily_load_t</th>\n",
              "    </tr>\n",
              "  </thead>\n",
              "  <tbody>\n",
              "    <tr>\n",
              "      <th>61</th>\n",
              "      <td>31/03/2020</td>\n",
              "      <td>11</td>\n",
              "      <td>5348</td>\n",
              "      <td>0</td>\n",
              "      <td>222261.04</td>\n",
              "      <td>23365</td>\n",
              "      <td>1451</td>\n",
              "      <td>9</td>\n",
              "      <td>5321</td>\n",
              "      <td>0</td>\n",
              "      <td>219707.61</td>\n",
              "      <td>23370</td>\n",
              "      <td>1463</td>\n",
              "    </tr>\n",
              "    <tr>\n",
              "      <th>62</th>\n",
              "      <td>30/04/2020</td>\n",
              "      <td>9</td>\n",
              "      <td>5321</td>\n",
              "      <td>0</td>\n",
              "      <td>219707.61</td>\n",
              "      <td>23370</td>\n",
              "      <td>1463</td>\n",
              "      <td>12</td>\n",
              "      <td>5324</td>\n",
              "      <td>7</td>\n",
              "      <td>207015.41</td>\n",
              "      <td>18875</td>\n",
              "      <td>1599</td>\n",
              "    </tr>\n",
              "    <tr>\n",
              "      <th>63</th>\n",
              "      <td>31/05/2020</td>\n",
              "      <td>12</td>\n",
              "      <td>5324</td>\n",
              "      <td>7</td>\n",
              "      <td>207015.41</td>\n",
              "      <td>18875</td>\n",
              "      <td>1599</td>\n",
              "      <td>18</td>\n",
              "      <td>5326</td>\n",
              "      <td>26</td>\n",
              "      <td>193552.21</td>\n",
              "      <td>15439</td>\n",
              "      <td>1400</td>\n",
              "    </tr>\n",
              "    <tr>\n",
              "      <th>64</th>\n",
              "      <td>30/06/2020</td>\n",
              "      <td>18</td>\n",
              "      <td>5326</td>\n",
              "      <td>26</td>\n",
              "      <td>193552.21</td>\n",
              "      <td>15439</td>\n",
              "      <td>1400</td>\n",
              "      <td>20</td>\n",
              "      <td>5324</td>\n",
              "      <td>0</td>\n",
              "      <td>182548.79</td>\n",
              "      <td>14697</td>\n",
              "      <td>1105</td>\n",
              "    </tr>\n",
              "    <tr>\n",
              "      <th>65</th>\n",
              "      <td>31/07/2020</td>\n",
              "      <td>20</td>\n",
              "      <td>5324</td>\n",
              "      <td>0</td>\n",
              "      <td>182548.79</td>\n",
              "      <td>14697</td>\n",
              "      <td>1105</td>\n",
              "      <td>23</td>\n",
              "      <td>5277</td>\n",
              "      <td>1</td>\n",
              "      <td>177683.15</td>\n",
              "      <td>13664</td>\n",
              "      <td>1084</td>\n",
              "    </tr>\n",
              "  </tbody>\n",
              "</table>\n",
              "</div>"
            ],
            "text/plain": [
              "          time  ...  max_pdl_daily_load_t\n",
              "61  31/03/2020  ...                  1463\n",
              "62  30/04/2020  ...                  1599\n",
              "63  31/05/2020  ...                  1400\n",
              "64  30/06/2020  ...                  1105\n",
              "65  31/07/2020  ...                  1084\n",
              "\n",
              "[5 rows x 13 columns]"
            ]
          },
          "metadata": {},
          "execution_count": 29
        }
      ]
    },
    {
      "cell_type": "code",
      "metadata": {
        "id": "e_gfpzvA0cJa",
        "colab": {
          "base_uri": "https://localhost:8080/"
        },
        "outputId": "93842f81-70e3-402f-e48f-c4c49722f10d"
      },
      "source": [
        "df.info()"
      ],
      "execution_count": null,
      "outputs": [
        {
          "output_type": "stream",
          "text": [
            "<class 'pandas.core.frame.DataFrame'>\n",
            "RangeIndex: 66 entries, 0 to 65\n",
            "Data columns (total 13 columns):\n",
            " #   Column                          Non-Null Count  Dtype  \n",
            "---  ------                          --------------  -----  \n",
            " 0   time                            66 non-null     object \n",
            " 1   MIN_TEMPERATURE_C_t_1           66 non-null     int64  \n",
            " 2   max_clients_month_t_1           66 non-null     int64  \n",
            " 3   total_Holiday_Food_Related_t_1  66 non-null     int64  \n",
            " 4   total_consommation_t_1          66 non-null     float64\n",
            " 5   max_pdl_total_daily_load_t_1    66 non-null     int64  \n",
            " 6   max_pdl_daily_load_t_1          66 non-null     int64  \n",
            " 7   MIN_TEMPERATURE_C_t             66 non-null     int64  \n",
            " 8   max_clients_month_t             66 non-null     int64  \n",
            " 9   total_Holiday_Food_Related_t    66 non-null     int64  \n",
            " 10  total_consommation_t            66 non-null     float64\n",
            " 11  max_pdl_total_daily_load_t      66 non-null     int64  \n",
            " 12  max_pdl_daily_load_t            66 non-null     int64  \n",
            "dtypes: float64(2), int64(10), object(1)\n",
            "memory usage: 6.8+ KB\n"
          ],
          "name": "stdout"
        }
      ]
    },
    {
      "cell_type": "code",
      "metadata": {
        "id": "DX4Wjmy08aWn"
      },
      "source": [
        "time = pd.to_datetime(df['time'], dayfirst=True).dropna()"
      ],
      "execution_count": null,
      "outputs": []
    },
    {
      "cell_type": "code",
      "metadata": {
        "id": "s3QqtUCsyKLa",
        "colab": {
          "base_uri": "https://localhost:8080/",
          "height": 319
        },
        "outputId": "4baaf2ac-9f65-43c1-a09e-c8e2c043318d"
      },
      "source": [
        "df.describe()"
      ],
      "execution_count": null,
      "outputs": [
        {
          "output_type": "execute_result",
          "data": {
            "text/html": [
              "<div>\n",
              "<style scoped>\n",
              "    .dataframe tbody tr th:only-of-type {\n",
              "        vertical-align: middle;\n",
              "    }\n",
              "\n",
              "    .dataframe tbody tr th {\n",
              "        vertical-align: top;\n",
              "    }\n",
              "\n",
              "    .dataframe thead th {\n",
              "        text-align: right;\n",
              "    }\n",
              "</style>\n",
              "<table border=\"1\" class=\"dataframe\">\n",
              "  <thead>\n",
              "    <tr style=\"text-align: right;\">\n",
              "      <th></th>\n",
              "      <th>MIN_TEMPERATURE_C_t_1</th>\n",
              "      <th>max_clients_month_t_1</th>\n",
              "      <th>total_Holiday_Food_Related_t_1</th>\n",
              "      <th>total_consommation_t_1</th>\n",
              "      <th>max_pdl_total_daily_load_t_1</th>\n",
              "      <th>max_pdl_daily_load_t_1</th>\n",
              "      <th>MIN_TEMPERATURE_C_t</th>\n",
              "      <th>max_clients_month_t</th>\n",
              "      <th>total_Holiday_Food_Related_t</th>\n",
              "      <th>total_consommation_t</th>\n",
              "      <th>max_pdl_total_daily_load_t</th>\n",
              "      <th>max_pdl_daily_load_t</th>\n",
              "    </tr>\n",
              "  </thead>\n",
              "  <tbody>\n",
              "    <tr>\n",
              "      <th>count</th>\n",
              "      <td>66.000000</td>\n",
              "      <td>66.000000</td>\n",
              "      <td>66.000000</td>\n",
              "      <td>66.000000</td>\n",
              "      <td>66.000000</td>\n",
              "      <td>66.000000</td>\n",
              "      <td>66.000000</td>\n",
              "      <td>66.000000</td>\n",
              "      <td>66.000000</td>\n",
              "      <td>66.000000</td>\n",
              "      <td>66.000000</td>\n",
              "      <td>66.000000</td>\n",
              "    </tr>\n",
              "    <tr>\n",
              "      <th>mean</th>\n",
              "      <td>16.833333</td>\n",
              "      <td>4768.469697</td>\n",
              "      <td>3.500000</td>\n",
              "      <td>228764.090152</td>\n",
              "      <td>16520.727273</td>\n",
              "      <td>1264.818182</td>\n",
              "      <td>17.060606</td>\n",
              "      <td>4788.121212</td>\n",
              "      <td>3.484848</td>\n",
              "      <td>227706.295000</td>\n",
              "      <td>16390.530303</td>\n",
              "      <td>1258.833333</td>\n",
              "    </tr>\n",
              "    <tr>\n",
              "      <th>std</th>\n",
              "      <td>5.682858</td>\n",
              "      <td>441.257442</td>\n",
              "      <td>7.190271</td>\n",
              "      <td>28276.748973</td>\n",
              "      <td>5479.954448</td>\n",
              "      <td>201.969983</td>\n",
              "      <td>5.623792</td>\n",
              "      <td>434.430822</td>\n",
              "      <td>7.194533</td>\n",
              "      <td>28864.887407</td>\n",
              "      <td>5443.529444</td>\n",
              "      <td>201.377150</td>\n",
              "    </tr>\n",
              "    <tr>\n",
              "      <th>min</th>\n",
              "      <td>8.000000</td>\n",
              "      <td>3980.000000</td>\n",
              "      <td>0.000000</td>\n",
              "      <td>141878.540000</td>\n",
              "      <td>7586.000000</td>\n",
              "      <td>892.000000</td>\n",
              "      <td>8.000000</td>\n",
              "      <td>4023.000000</td>\n",
              "      <td>0.000000</td>\n",
              "      <td>141878.540000</td>\n",
              "      <td>7586.000000</td>\n",
              "      <td>892.000000</td>\n",
              "    </tr>\n",
              "    <tr>\n",
              "      <th>25%</th>\n",
              "      <td>12.000000</td>\n",
              "      <td>4363.250000</td>\n",
              "      <td>0.000000</td>\n",
              "      <td>213317.625000</td>\n",
              "      <td>11801.000000</td>\n",
              "      <td>1099.000000</td>\n",
              "      <td>12.000000</td>\n",
              "      <td>4391.500000</td>\n",
              "      <td>0.000000</td>\n",
              "      <td>212747.710000</td>\n",
              "      <td>11801.000000</td>\n",
              "      <td>1096.250000</td>\n",
              "    </tr>\n",
              "    <tr>\n",
              "      <th>50%</th>\n",
              "      <td>16.000000</td>\n",
              "      <td>4788.000000</td>\n",
              "      <td>0.500000</td>\n",
              "      <td>228354.610000</td>\n",
              "      <td>15427.000000</td>\n",
              "      <td>1273.500000</td>\n",
              "      <td>16.000000</td>\n",
              "      <td>4819.000000</td>\n",
              "      <td>0.500000</td>\n",
              "      <td>228211.575000</td>\n",
              "      <td>15143.000000</td>\n",
              "      <td>1270.000000</td>\n",
              "    </tr>\n",
              "    <tr>\n",
              "      <th>75%</th>\n",
              "      <td>22.000000</td>\n",
              "      <td>5199.250000</td>\n",
              "      <td>2.000000</td>\n",
              "      <td>247201.195000</td>\n",
              "      <td>21182.250000</td>\n",
              "      <td>1440.000000</td>\n",
              "      <td>22.000000</td>\n",
              "      <td>5214.500000</td>\n",
              "      <td>2.000000</td>\n",
              "      <td>245909.882500</td>\n",
              "      <td>20605.000000</td>\n",
              "      <td>1417.000000</td>\n",
              "    </tr>\n",
              "    <tr>\n",
              "      <th>max</th>\n",
              "      <td>27.000000</td>\n",
              "      <td>5354.000000</td>\n",
              "      <td>28.000000</td>\n",
              "      <td>313725.300000</td>\n",
              "      <td>27936.000000</td>\n",
              "      <td>1628.000000</td>\n",
              "      <td>27.000000</td>\n",
              "      <td>5354.000000</td>\n",
              "      <td>28.000000</td>\n",
              "      <td>313725.300000</td>\n",
              "      <td>27936.000000</td>\n",
              "      <td>1628.000000</td>\n",
              "    </tr>\n",
              "  </tbody>\n",
              "</table>\n",
              "</div>"
            ],
            "text/plain": [
              "       MIN_TEMPERATURE_C_t_1  ...  max_pdl_daily_load_t\n",
              "count              66.000000  ...             66.000000\n",
              "mean               16.833333  ...           1258.833333\n",
              "std                 5.682858  ...            201.377150\n",
              "min                 8.000000  ...            892.000000\n",
              "25%                12.000000  ...           1096.250000\n",
              "50%                16.000000  ...           1270.000000\n",
              "75%                22.000000  ...           1417.000000\n",
              "max                27.000000  ...           1628.000000\n",
              "\n",
              "[8 rows x 12 columns]"
            ]
          },
          "metadata": {},
          "execution_count": 32
        }
      ]
    },
    {
      "cell_type": "code",
      "metadata": {
        "colab": {
          "base_uri": "https://localhost:8080/"
        },
        "id": "uVuqU0u0dmbG",
        "outputId": "3299c884-4bc7-419b-cf27-babc8122fa2f"
      },
      "source": [
        "df.columns"
      ],
      "execution_count": null,
      "outputs": [
        {
          "output_type": "execute_result",
          "data": {
            "text/plain": [
              "Index(['time', 'MIN_TEMPERATURE_C_t_1', 'max_clients_month_t_1',\n",
              "       'total_Holiday_Food_Related_t_1', 'total_consommation_t_1',\n",
              "       'max_pdl_total_daily_load_t_1', 'max_pdl_daily_load_t_1',\n",
              "       'MIN_TEMPERATURE_C_t', 'max_clients_month_t',\n",
              "       'total_Holiday_Food_Related_t', 'total_consommation_t',\n",
              "       'max_pdl_total_daily_load_t', 'max_pdl_daily_load_t'],\n",
              "      dtype='object')"
            ]
          },
          "metadata": {},
          "execution_count": 33
        }
      ]
    },
    {
      "cell_type": "code",
      "metadata": {
        "id": "0YVVz0bEduD6"
      },
      "source": [
        "df_input=df[['MIN_TEMPERATURE_C_t_1', 'max_clients_month_t_1',\n",
        "       'total_Holiday_Food_Related_t_1', 'total_consommation_t_1',\n",
        "       'max_pdl_total_daily_load_t_1', 'max_pdl_daily_load_t_1',\n",
        "       \n",
        "       'MIN_TEMPERATURE_C_t', 'max_clients_month_t',\n",
        "       'total_Holiday_Food_Related_t','max_pdl_daily_load_t']].dropna()"
      ],
      "execution_count": null,
      "outputs": []
    },
    {
      "cell_type": "markdown",
      "metadata": {
        "id": "59aKcM4mdUQU"
      },
      "source": [
        "the add of weekend feature makes the seasonal weekend decrease more visible, so increases performance"
      ]
    },
    {
      "cell_type": "code",
      "metadata": {
        "id": "gdnkSpWaENYQ"
      },
      "source": [
        "scaler = MinMaxScaler(feature_range=(0, 1))\n",
        "data_scaled = scaler.fit_transform(df_input)"
      ],
      "execution_count": null,
      "outputs": []
    },
    {
      "cell_type": "code",
      "metadata": {
        "id": "rCY48qWVESHY",
        "colab": {
          "base_uri": "https://localhost:8080/"
        },
        "outputId": "d6e6f954-fad9-43f1-bf75-d03ab46c9b16"
      },
      "source": [
        "data_scaled[-1]"
      ],
      "execution_count": null,
      "outputs": [
        {
          "output_type": "execute_result",
          "data": {
            "text/plain": [
              "array([0.63157895, 0.97816594, 0.        , 0.23666579, 0.34943489,\n",
              "       0.28940217, 0.78947368, 0.94214876, 0.03571429, 0.26086957])"
            ]
          },
          "metadata": {},
          "execution_count": 36
        }
      ]
    },
    {
      "cell_type": "code",
      "metadata": {
        "id": "IEZuMY99zfLU"
      },
      "source": [
        "features=data_scaled[:,:-1]\n",
        "target=data_scaled[:,-1]"
      ],
      "execution_count": null,
      "outputs": []
    },
    {
      "cell_type": "code",
      "metadata": {
        "colab": {
          "base_uri": "https://localhost:8080/"
        },
        "id": "6x_iIIrkomf7",
        "outputId": "2c3c6ff7-bc9b-4dce-950a-037836639212"
      },
      "source": [
        "features.shape"
      ],
      "execution_count": null,
      "outputs": [
        {
          "output_type": "execute_result",
          "data": {
            "text/plain": [
              "(66, 9)"
            ]
          },
          "metadata": {},
          "execution_count": 38
        }
      ]
    },
    {
      "cell_type": "code",
      "metadata": {
        "colab": {
          "base_uri": "https://localhost:8080/"
        },
        "id": "fpuzlDtTotWA",
        "outputId": "07d755fa-72da-4af7-e676-4214c370afab"
      },
      "source": [
        "target.shape"
      ],
      "execution_count": null,
      "outputs": [
        {
          "output_type": "execute_result",
          "data": {
            "text/plain": [
              "(66,)"
            ]
          },
          "metadata": {},
          "execution_count": 39
        }
      ]
    },
    {
      "cell_type": "code",
      "metadata": {
        "colab": {
          "base_uri": "https://localhost:8080/"
        },
        "id": "nDaUCPH6njFx",
        "outputId": "4d3ea18b-d8a9-4dbd-c67c-9cbf422b90ac"
      },
      "source": [
        "# split into train and test sets\n",
        "\n",
        "n_train_days = -7 #train months \n",
        "\n",
        "train_X,train_y = features[:n_train_days, :],target[:n_train_days]\n",
        "test_X, test_y = features[n_train_days:, :],target[n_train_days:]\n",
        "\n",
        "# reshape input to be 3D\n",
        "train_X = train_X.reshape((train_X.shape[0], train_X.shape[1],1))\n",
        "test_X = test_X.reshape((test_X.shape[0],test_X.shape[1],1))\n",
        "print(train_X.shape, train_y.shape, test_X.shape, test_y.shape)"
      ],
      "execution_count": null,
      "outputs": [
        {
          "output_type": "stream",
          "text": [
            "(59, 9, 1) (59,) (7, 9, 1) (7,)\n"
          ],
          "name": "stdout"
        }
      ]
    },
    {
      "cell_type": "code",
      "metadata": {
        "colab": {
          "base_uri": "https://localhost:8080/"
        },
        "id": "kZthsjPVnjHh",
        "outputId": "26036970-80ef-46fb-df14-e94f26c0882d"
      },
      "source": [
        "def create_model(layers):\n",
        "    model = Sequential()\n",
        "    for i, nodes in enumerate(layers):\n",
        "        if i==0:\n",
        "            model.add(LSTM(units=nodes,input_shape= (train_X.shape[1],1), kernel_constraint=maxnorm(3.5)))\n",
        "            model.add(Dropout(0.3))\n",
        "        else:\n",
        "            model.add(LSTM(units=nodes, kernel_constraint=maxnorm(3.5)))\n",
        "            model.add(Dropout(0.3))\n",
        "    model.add(Dense(1)) \n",
        "    \n",
        "    model.compile(loss='mse', optimizer='adam')\n",
        "    return model\n",
        "\n",
        "model = KerasClassifier(build_fn=create_model, verbose=0) #build_fn is the name of the \n",
        "#function to call to get your model.   \n",
        "tscv = TimeSeriesSplit(n_splits=4)\n",
        "layers = [[100], [100, 50], [100,50, 25]]\n",
        "batches=[4,8]\n",
        "epochs=[100,200]\n",
        "param_grid = dict(layers=layers, batch_size = batches , epochs=epochs)\n",
        "gsearch = GridSearchCV(estimator=model, cv=tscv, param_grid=param_grid,scoring='r2')\n",
        "grid_result=gsearch.fit(train_X, train_y)\n",
        "print(\"Best: %f using %s\" % (grid_result.best_score_, grid_result.best_params_))\n"
      ],
      "execution_count": null,
      "outputs": [
        {
          "output_type": "stream",
          "text": [
            "/usr/local/lib/python3.7/dist-packages/keras/engine/sequential.py:450: UserWarning: `model.predict_classes()` is deprecated and will be removed after 2021-01-01. Please use instead:* `np.argmax(model.predict(x), axis=-1)`,   if your model does multi-class classification   (e.g. if it uses a `softmax` last-layer activation).* `(model.predict(x) > 0.5).astype(\"int32\")`,   if your model does binary classification   (e.g. if it uses a `sigmoid` last-layer activation).\n",
            "  warnings.warn('`model.predict_classes()` is deprecated and '\n",
            "/usr/local/lib/python3.7/dist-packages/keras/engine/sequential.py:450: UserWarning: `model.predict_classes()` is deprecated and will be removed after 2021-01-01. Please use instead:* `np.argmax(model.predict(x), axis=-1)`,   if your model does multi-class classification   (e.g. if it uses a `softmax` last-layer activation).* `(model.predict(x) > 0.5).astype(\"int32\")`,   if your model does binary classification   (e.g. if it uses a `sigmoid` last-layer activation).\n",
            "  warnings.warn('`model.predict_classes()` is deprecated and '\n",
            "/usr/local/lib/python3.7/dist-packages/keras/engine/sequential.py:450: UserWarning: `model.predict_classes()` is deprecated and will be removed after 2021-01-01. Please use instead:* `np.argmax(model.predict(x), axis=-1)`,   if your model does multi-class classification   (e.g. if it uses a `softmax` last-layer activation).* `(model.predict(x) > 0.5).astype(\"int32\")`,   if your model does binary classification   (e.g. if it uses a `sigmoid` last-layer activation).\n",
            "  warnings.warn('`model.predict_classes()` is deprecated and '\n",
            "/usr/local/lib/python3.7/dist-packages/keras/engine/sequential.py:450: UserWarning: `model.predict_classes()` is deprecated and will be removed after 2021-01-01. Please use instead:* `np.argmax(model.predict(x), axis=-1)`,   if your model does multi-class classification   (e.g. if it uses a `softmax` last-layer activation).* `(model.predict(x) > 0.5).astype(\"int32\")`,   if your model does binary classification   (e.g. if it uses a `sigmoid` last-layer activation).\n",
            "  warnings.warn('`model.predict_classes()` is deprecated and '\n",
            "/usr/local/lib/python3.7/dist-packages/sklearn/model_selection/_validation.py:536: FitFailedWarning: Estimator fit failed. The score on this train-test partition for these parameters will be set to nan. Details: \n",
            "ValueError: Input 0 of layer lstm_170 is incompatible with the layer: expected ndim=3, found ndim=2. Full shape received: (None, 100)\n",
            "\n",
            "  FitFailedWarning)\n",
            "/usr/local/lib/python3.7/dist-packages/sklearn/model_selection/_validation.py:536: FitFailedWarning: Estimator fit failed. The score on this train-test partition for these parameters will be set to nan. Details: \n",
            "ValueError: Input 0 of layer lstm_172 is incompatible with the layer: expected ndim=3, found ndim=2. Full shape received: (None, 100)\n",
            "\n",
            "  FitFailedWarning)\n",
            "/usr/local/lib/python3.7/dist-packages/sklearn/model_selection/_validation.py:536: FitFailedWarning: Estimator fit failed. The score on this train-test partition for these parameters will be set to nan. Details: \n",
            "ValueError: Input 0 of layer lstm_174 is incompatible with the layer: expected ndim=3, found ndim=2. Full shape received: (None, 100)\n",
            "\n",
            "  FitFailedWarning)\n",
            "/usr/local/lib/python3.7/dist-packages/sklearn/model_selection/_validation.py:536: FitFailedWarning: Estimator fit failed. The score on this train-test partition for these parameters will be set to nan. Details: \n",
            "ValueError: Input 0 of layer lstm_176 is incompatible with the layer: expected ndim=3, found ndim=2. Full shape received: (None, 100)\n",
            "\n",
            "  FitFailedWarning)\n",
            "/usr/local/lib/python3.7/dist-packages/sklearn/model_selection/_validation.py:536: FitFailedWarning: Estimator fit failed. The score on this train-test partition for these parameters will be set to nan. Details: \n",
            "ValueError: Input 0 of layer lstm_178 is incompatible with the layer: expected ndim=3, found ndim=2. Full shape received: (None, 100)\n",
            "\n",
            "  FitFailedWarning)\n",
            "/usr/local/lib/python3.7/dist-packages/sklearn/model_selection/_validation.py:536: FitFailedWarning: Estimator fit failed. The score on this train-test partition for these parameters will be set to nan. Details: \n",
            "ValueError: Input 0 of layer lstm_180 is incompatible with the layer: expected ndim=3, found ndim=2. Full shape received: (None, 100)\n",
            "\n",
            "  FitFailedWarning)\n",
            "/usr/local/lib/python3.7/dist-packages/sklearn/model_selection/_validation.py:536: FitFailedWarning: Estimator fit failed. The score on this train-test partition for these parameters will be set to nan. Details: \n",
            "ValueError: Input 0 of layer lstm_182 is incompatible with the layer: expected ndim=3, found ndim=2. Full shape received: (None, 100)\n",
            "\n",
            "  FitFailedWarning)\n",
            "/usr/local/lib/python3.7/dist-packages/sklearn/model_selection/_validation.py:536: FitFailedWarning: Estimator fit failed. The score on this train-test partition for these parameters will be set to nan. Details: \n",
            "ValueError: Input 0 of layer lstm_184 is incompatible with the layer: expected ndim=3, found ndim=2. Full shape received: (None, 100)\n",
            "\n",
            "  FitFailedWarning)\n",
            "/usr/local/lib/python3.7/dist-packages/keras/engine/sequential.py:450: UserWarning: `model.predict_classes()` is deprecated and will be removed after 2021-01-01. Please use instead:* `np.argmax(model.predict(x), axis=-1)`,   if your model does multi-class classification   (e.g. if it uses a `softmax` last-layer activation).* `(model.predict(x) > 0.5).astype(\"int32\")`,   if your model does binary classification   (e.g. if it uses a `sigmoid` last-layer activation).\n",
            "  warnings.warn('`model.predict_classes()` is deprecated and '\n",
            "/usr/local/lib/python3.7/dist-packages/keras/engine/sequential.py:450: UserWarning: `model.predict_classes()` is deprecated and will be removed after 2021-01-01. Please use instead:* `np.argmax(model.predict(x), axis=-1)`,   if your model does multi-class classification   (e.g. if it uses a `softmax` last-layer activation).* `(model.predict(x) > 0.5).astype(\"int32\")`,   if your model does binary classification   (e.g. if it uses a `sigmoid` last-layer activation).\n",
            "  warnings.warn('`model.predict_classes()` is deprecated and '\n",
            "/usr/local/lib/python3.7/dist-packages/keras/engine/sequential.py:450: UserWarning: `model.predict_classes()` is deprecated and will be removed after 2021-01-01. Please use instead:* `np.argmax(model.predict(x), axis=-1)`,   if your model does multi-class classification   (e.g. if it uses a `softmax` last-layer activation).* `(model.predict(x) > 0.5).astype(\"int32\")`,   if your model does binary classification   (e.g. if it uses a `sigmoid` last-layer activation).\n",
            "  warnings.warn('`model.predict_classes()` is deprecated and '\n",
            "/usr/local/lib/python3.7/dist-packages/keras/engine/sequential.py:450: UserWarning: `model.predict_classes()` is deprecated and will be removed after 2021-01-01. Please use instead:* `np.argmax(model.predict(x), axis=-1)`,   if your model does multi-class classification   (e.g. if it uses a `softmax` last-layer activation).* `(model.predict(x) > 0.5).astype(\"int32\")`,   if your model does binary classification   (e.g. if it uses a `sigmoid` last-layer activation).\n",
            "  warnings.warn('`model.predict_classes()` is deprecated and '\n",
            "/usr/local/lib/python3.7/dist-packages/sklearn/model_selection/_validation.py:536: FitFailedWarning: Estimator fit failed. The score on this train-test partition for these parameters will be set to nan. Details: \n",
            "ValueError: Input 0 of layer lstm_190 is incompatible with the layer: expected ndim=3, found ndim=2. Full shape received: (None, 100)\n",
            "\n",
            "  FitFailedWarning)\n",
            "/usr/local/lib/python3.7/dist-packages/sklearn/model_selection/_validation.py:536: FitFailedWarning: Estimator fit failed. The score on this train-test partition for these parameters will be set to nan. Details: \n",
            "ValueError: Input 0 of layer lstm_192 is incompatible with the layer: expected ndim=3, found ndim=2. Full shape received: (None, 100)\n",
            "\n",
            "  FitFailedWarning)\n",
            "/usr/local/lib/python3.7/dist-packages/sklearn/model_selection/_validation.py:536: FitFailedWarning: Estimator fit failed. The score on this train-test partition for these parameters will be set to nan. Details: \n",
            "ValueError: Input 0 of layer lstm_194 is incompatible with the layer: expected ndim=3, found ndim=2. Full shape received: (None, 100)\n",
            "\n",
            "  FitFailedWarning)\n",
            "/usr/local/lib/python3.7/dist-packages/sklearn/model_selection/_validation.py:536: FitFailedWarning: Estimator fit failed. The score on this train-test partition for these parameters will be set to nan. Details: \n",
            "ValueError: Input 0 of layer lstm_196 is incompatible with the layer: expected ndim=3, found ndim=2. Full shape received: (None, 100)\n",
            "\n",
            "  FitFailedWarning)\n",
            "/usr/local/lib/python3.7/dist-packages/sklearn/model_selection/_validation.py:536: FitFailedWarning: Estimator fit failed. The score on this train-test partition for these parameters will be set to nan. Details: \n",
            "ValueError: Input 0 of layer lstm_198 is incompatible with the layer: expected ndim=3, found ndim=2. Full shape received: (None, 100)\n",
            "\n",
            "  FitFailedWarning)\n",
            "/usr/local/lib/python3.7/dist-packages/sklearn/model_selection/_validation.py:536: FitFailedWarning: Estimator fit failed. The score on this train-test partition for these parameters will be set to nan. Details: \n",
            "ValueError: Input 0 of layer lstm_200 is incompatible with the layer: expected ndim=3, found ndim=2. Full shape received: (None, 100)\n",
            "\n",
            "  FitFailedWarning)\n",
            "/usr/local/lib/python3.7/dist-packages/sklearn/model_selection/_validation.py:536: FitFailedWarning: Estimator fit failed. The score on this train-test partition for these parameters will be set to nan. Details: \n",
            "ValueError: Input 0 of layer lstm_202 is incompatible with the layer: expected ndim=3, found ndim=2. Full shape received: (None, 100)\n",
            "\n",
            "  FitFailedWarning)\n",
            "/usr/local/lib/python3.7/dist-packages/sklearn/model_selection/_validation.py:536: FitFailedWarning: Estimator fit failed. The score on this train-test partition for these parameters will be set to nan. Details: \n",
            "ValueError: Input 0 of layer lstm_204 is incompatible with the layer: expected ndim=3, found ndim=2. Full shape received: (None, 100)\n",
            "\n",
            "  FitFailedWarning)\n",
            "/usr/local/lib/python3.7/dist-packages/keras/engine/sequential.py:450: UserWarning: `model.predict_classes()` is deprecated and will be removed after 2021-01-01. Please use instead:* `np.argmax(model.predict(x), axis=-1)`,   if your model does multi-class classification   (e.g. if it uses a `softmax` last-layer activation).* `(model.predict(x) > 0.5).astype(\"int32\")`,   if your model does binary classification   (e.g. if it uses a `sigmoid` last-layer activation).\n",
            "  warnings.warn('`model.predict_classes()` is deprecated and '\n",
            "/usr/local/lib/python3.7/dist-packages/keras/engine/sequential.py:450: UserWarning: `model.predict_classes()` is deprecated and will be removed after 2021-01-01. Please use instead:* `np.argmax(model.predict(x), axis=-1)`,   if your model does multi-class classification   (e.g. if it uses a `softmax` last-layer activation).* `(model.predict(x) > 0.5).astype(\"int32\")`,   if your model does binary classification   (e.g. if it uses a `sigmoid` last-layer activation).\n",
            "  warnings.warn('`model.predict_classes()` is deprecated and '\n",
            "/usr/local/lib/python3.7/dist-packages/keras/engine/sequential.py:450: UserWarning: `model.predict_classes()` is deprecated and will be removed after 2021-01-01. Please use instead:* `np.argmax(model.predict(x), axis=-1)`,   if your model does multi-class classification   (e.g. if it uses a `softmax` last-layer activation).* `(model.predict(x) > 0.5).astype(\"int32\")`,   if your model does binary classification   (e.g. if it uses a `sigmoid` last-layer activation).\n",
            "  warnings.warn('`model.predict_classes()` is deprecated and '\n",
            "/usr/local/lib/python3.7/dist-packages/keras/engine/sequential.py:450: UserWarning: `model.predict_classes()` is deprecated and will be removed after 2021-01-01. Please use instead:* `np.argmax(model.predict(x), axis=-1)`,   if your model does multi-class classification   (e.g. if it uses a `softmax` last-layer activation).* `(model.predict(x) > 0.5).astype(\"int32\")`,   if your model does binary classification   (e.g. if it uses a `sigmoid` last-layer activation).\n",
            "  warnings.warn('`model.predict_classes()` is deprecated and '\n",
            "/usr/local/lib/python3.7/dist-packages/sklearn/model_selection/_validation.py:536: FitFailedWarning: Estimator fit failed. The score on this train-test partition for these parameters will be set to nan. Details: \n",
            "ValueError: Input 0 of layer lstm_210 is incompatible with the layer: expected ndim=3, found ndim=2. Full shape received: (None, 100)\n",
            "\n",
            "  FitFailedWarning)\n",
            "/usr/local/lib/python3.7/dist-packages/sklearn/model_selection/_validation.py:536: FitFailedWarning: Estimator fit failed. The score on this train-test partition for these parameters will be set to nan. Details: \n",
            "ValueError: Input 0 of layer lstm_212 is incompatible with the layer: expected ndim=3, found ndim=2. Full shape received: (None, 100)\n",
            "\n",
            "  FitFailedWarning)\n",
            "/usr/local/lib/python3.7/dist-packages/sklearn/model_selection/_validation.py:536: FitFailedWarning: Estimator fit failed. The score on this train-test partition for these parameters will be set to nan. Details: \n",
            "ValueError: Input 0 of layer lstm_214 is incompatible with the layer: expected ndim=3, found ndim=2. Full shape received: (None, 100)\n",
            "\n",
            "  FitFailedWarning)\n",
            "/usr/local/lib/python3.7/dist-packages/sklearn/model_selection/_validation.py:536: FitFailedWarning: Estimator fit failed. The score on this train-test partition for these parameters will be set to nan. Details: \n",
            "ValueError: Input 0 of layer lstm_216 is incompatible with the layer: expected ndim=3, found ndim=2. Full shape received: (None, 100)\n",
            "\n",
            "  FitFailedWarning)\n",
            "/usr/local/lib/python3.7/dist-packages/sklearn/model_selection/_validation.py:536: FitFailedWarning: Estimator fit failed. The score on this train-test partition for these parameters will be set to nan. Details: \n",
            "ValueError: Input 0 of layer lstm_218 is incompatible with the layer: expected ndim=3, found ndim=2. Full shape received: (None, 100)\n",
            "\n",
            "  FitFailedWarning)\n",
            "/usr/local/lib/python3.7/dist-packages/sklearn/model_selection/_validation.py:536: FitFailedWarning: Estimator fit failed. The score on this train-test partition for these parameters will be set to nan. Details: \n",
            "ValueError: Input 0 of layer lstm_220 is incompatible with the layer: expected ndim=3, found ndim=2. Full shape received: (None, 100)\n",
            "\n",
            "  FitFailedWarning)\n",
            "/usr/local/lib/python3.7/dist-packages/sklearn/model_selection/_validation.py:536: FitFailedWarning: Estimator fit failed. The score on this train-test partition for these parameters will be set to nan. Details: \n",
            "ValueError: Input 0 of layer lstm_222 is incompatible with the layer: expected ndim=3, found ndim=2. Full shape received: (None, 100)\n",
            "\n",
            "  FitFailedWarning)\n",
            "/usr/local/lib/python3.7/dist-packages/sklearn/model_selection/_validation.py:536: FitFailedWarning: Estimator fit failed. The score on this train-test partition for these parameters will be set to nan. Details: \n",
            "ValueError: Input 0 of layer lstm_224 is incompatible with the layer: expected ndim=3, found ndim=2. Full shape received: (None, 100)\n",
            "\n",
            "  FitFailedWarning)\n",
            "/usr/local/lib/python3.7/dist-packages/keras/engine/sequential.py:450: UserWarning: `model.predict_classes()` is deprecated and will be removed after 2021-01-01. Please use instead:* `np.argmax(model.predict(x), axis=-1)`,   if your model does multi-class classification   (e.g. if it uses a `softmax` last-layer activation).* `(model.predict(x) > 0.5).astype(\"int32\")`,   if your model does binary classification   (e.g. if it uses a `sigmoid` last-layer activation).\n",
            "  warnings.warn('`model.predict_classes()` is deprecated and '\n",
            "/usr/local/lib/python3.7/dist-packages/keras/engine/sequential.py:450: UserWarning: `model.predict_classes()` is deprecated and will be removed after 2021-01-01. Please use instead:* `np.argmax(model.predict(x), axis=-1)`,   if your model does multi-class classification   (e.g. if it uses a `softmax` last-layer activation).* `(model.predict(x) > 0.5).astype(\"int32\")`,   if your model does binary classification   (e.g. if it uses a `sigmoid` last-layer activation).\n",
            "  warnings.warn('`model.predict_classes()` is deprecated and '\n",
            "/usr/local/lib/python3.7/dist-packages/keras/engine/sequential.py:450: UserWarning: `model.predict_classes()` is deprecated and will be removed after 2021-01-01. Please use instead:* `np.argmax(model.predict(x), axis=-1)`,   if your model does multi-class classification   (e.g. if it uses a `softmax` last-layer activation).* `(model.predict(x) > 0.5).astype(\"int32\")`,   if your model does binary classification   (e.g. if it uses a `sigmoid` last-layer activation).\n",
            "  warnings.warn('`model.predict_classes()` is deprecated and '\n",
            "/usr/local/lib/python3.7/dist-packages/keras/engine/sequential.py:450: UserWarning: `model.predict_classes()` is deprecated and will be removed after 2021-01-01. Please use instead:* `np.argmax(model.predict(x), axis=-1)`,   if your model does multi-class classification   (e.g. if it uses a `softmax` last-layer activation).* `(model.predict(x) > 0.5).astype(\"int32\")`,   if your model does binary classification   (e.g. if it uses a `sigmoid` last-layer activation).\n",
            "  warnings.warn('`model.predict_classes()` is deprecated and '\n",
            "/usr/local/lib/python3.7/dist-packages/sklearn/model_selection/_validation.py:536: FitFailedWarning: Estimator fit failed. The score on this train-test partition for these parameters will be set to nan. Details: \n",
            "ValueError: Input 0 of layer lstm_230 is incompatible with the layer: expected ndim=3, found ndim=2. Full shape received: (None, 100)\n",
            "\n",
            "  FitFailedWarning)\n",
            "/usr/local/lib/python3.7/dist-packages/sklearn/model_selection/_validation.py:536: FitFailedWarning: Estimator fit failed. The score on this train-test partition for these parameters will be set to nan. Details: \n",
            "ValueError: Input 0 of layer lstm_232 is incompatible with the layer: expected ndim=3, found ndim=2. Full shape received: (None, 100)\n",
            "\n",
            "  FitFailedWarning)\n",
            "/usr/local/lib/python3.7/dist-packages/sklearn/model_selection/_validation.py:536: FitFailedWarning: Estimator fit failed. The score on this train-test partition for these parameters will be set to nan. Details: \n",
            "ValueError: Input 0 of layer lstm_234 is incompatible with the layer: expected ndim=3, found ndim=2. Full shape received: (None, 100)\n",
            "\n",
            "  FitFailedWarning)\n",
            "/usr/local/lib/python3.7/dist-packages/sklearn/model_selection/_validation.py:536: FitFailedWarning: Estimator fit failed. The score on this train-test partition for these parameters will be set to nan. Details: \n",
            "ValueError: Input 0 of layer lstm_236 is incompatible with the layer: expected ndim=3, found ndim=2. Full shape received: (None, 100)\n",
            "\n",
            "  FitFailedWarning)\n",
            "/usr/local/lib/python3.7/dist-packages/sklearn/model_selection/_validation.py:536: FitFailedWarning: Estimator fit failed. The score on this train-test partition for these parameters will be set to nan. Details: \n",
            "ValueError: Input 0 of layer lstm_238 is incompatible with the layer: expected ndim=3, found ndim=2. Full shape received: (None, 100)\n",
            "\n",
            "  FitFailedWarning)\n",
            "/usr/local/lib/python3.7/dist-packages/sklearn/model_selection/_validation.py:536: FitFailedWarning: Estimator fit failed. The score on this train-test partition for these parameters will be set to nan. Details: \n",
            "ValueError: Input 0 of layer lstm_240 is incompatible with the layer: expected ndim=3, found ndim=2. Full shape received: (None, 100)\n",
            "\n",
            "  FitFailedWarning)\n",
            "/usr/local/lib/python3.7/dist-packages/sklearn/model_selection/_validation.py:536: FitFailedWarning: Estimator fit failed. The score on this train-test partition for these parameters will be set to nan. Details: \n",
            "ValueError: Input 0 of layer lstm_242 is incompatible with the layer: expected ndim=3, found ndim=2. Full shape received: (None, 100)\n",
            "\n",
            "  FitFailedWarning)\n",
            "/usr/local/lib/python3.7/dist-packages/sklearn/model_selection/_validation.py:536: FitFailedWarning: Estimator fit failed. The score on this train-test partition for these parameters will be set to nan. Details: \n",
            "ValueError: Input 0 of layer lstm_244 is incompatible with the layer: expected ndim=3, found ndim=2. Full shape received: (None, 100)\n",
            "\n",
            "  FitFailedWarning)\n"
          ],
          "name": "stderr"
        },
        {
          "output_type": "stream",
          "text": [
            "Best: -3.337210 using {'batch_size': 4, 'epochs': 100, 'layers': [100]}\n"
          ],
          "name": "stdout"
        }
      ]
    },
    {
      "cell_type": "code",
      "metadata": {
        "colab": {
          "base_uri": "https://localhost:8080/"
        },
        "id": "j2wZgmBbYLOS",
        "outputId": "b2dcbf60-8df8-407d-fe5f-9f4fd608c993"
      },
      "source": [
        "model = Sequential()\n",
        "model.add(LSTM(units=100,input_shape= (train_X.shape[1],1),kernel_constraint=maxnorm(3.5)))\n",
        "model.add(Dropout(0.3))\n",
        "model.add(Dense(units=1))\n",
        "\n",
        "es = tf.keras.callbacks.EarlyStopping(monitor='val_loss',patience=20,mode='min',verbose=1)\n",
        "mc = tf.keras.callbacks.ModelCheckpoint('best_model.h5', monitor='val_loss', mode='min', verbose=1, \n",
        "                     save_best_only=True)\n",
        "model.compile(loss='mae', optimizer='adam')\n",
        "history = model.fit(train_X, train_y, epochs=100, batch_size=4,validation_data=(test_X,test_y),\n",
        "                    verbose=0,callbacks=[es,mc], shuffle=False)"
      ],
      "execution_count": null,
      "outputs": [
        {
          "output_type": "stream",
          "text": [
            "\n",
            "Epoch 00001: val_loss improved from inf to 0.22276, saving model to best_model.h5\n",
            "\n",
            "Epoch 00002: val_loss did not improve from 0.22276\n",
            "\n",
            "Epoch 00003: val_loss did not improve from 0.22276\n",
            "\n",
            "Epoch 00004: val_loss did not improve from 0.22276\n",
            "\n",
            "Epoch 00005: val_loss did not improve from 0.22276\n",
            "\n",
            "Epoch 00006: val_loss did not improve from 0.22276\n",
            "\n",
            "Epoch 00007: val_loss improved from 0.22276 to 0.21700, saving model to best_model.h5\n",
            "\n",
            "Epoch 00008: val_loss improved from 0.21700 to 0.21467, saving model to best_model.h5\n",
            "\n",
            "Epoch 00009: val_loss improved from 0.21467 to 0.18621, saving model to best_model.h5\n",
            "\n",
            "Epoch 00010: val_loss improved from 0.18621 to 0.17193, saving model to best_model.h5\n",
            "\n",
            "Epoch 00011: val_loss improved from 0.17193 to 0.13561, saving model to best_model.h5\n",
            "\n",
            "Epoch 00012: val_loss improved from 0.13561 to 0.13061, saving model to best_model.h5\n",
            "\n",
            "Epoch 00013: val_loss did not improve from 0.13061\n",
            "\n",
            "Epoch 00014: val_loss did not improve from 0.13061\n",
            "\n",
            "Epoch 00015: val_loss did not improve from 0.13061\n",
            "\n",
            "Epoch 00016: val_loss did not improve from 0.13061\n",
            "\n",
            "Epoch 00017: val_loss did not improve from 0.13061\n",
            "\n",
            "Epoch 00018: val_loss did not improve from 0.13061\n",
            "\n",
            "Epoch 00019: val_loss improved from 0.13061 to 0.12479, saving model to best_model.h5\n",
            "\n",
            "Epoch 00020: val_loss did not improve from 0.12479\n",
            "\n",
            "Epoch 00021: val_loss improved from 0.12479 to 0.11920, saving model to best_model.h5\n",
            "\n",
            "Epoch 00022: val_loss did not improve from 0.11920\n",
            "\n",
            "Epoch 00023: val_loss improved from 0.11920 to 0.11492, saving model to best_model.h5\n",
            "\n",
            "Epoch 00024: val_loss did not improve from 0.11492\n",
            "\n",
            "Epoch 00025: val_loss did not improve from 0.11492\n",
            "\n",
            "Epoch 00026: val_loss did not improve from 0.11492\n",
            "\n",
            "Epoch 00027: val_loss did not improve from 0.11492\n",
            "\n",
            "Epoch 00028: val_loss did not improve from 0.11492\n",
            "\n",
            "Epoch 00029: val_loss did not improve from 0.11492\n",
            "\n",
            "Epoch 00030: val_loss did not improve from 0.11492\n",
            "\n",
            "Epoch 00031: val_loss did not improve from 0.11492\n",
            "\n",
            "Epoch 00032: val_loss did not improve from 0.11492\n",
            "\n",
            "Epoch 00033: val_loss did not improve from 0.11492\n",
            "\n",
            "Epoch 00034: val_loss did not improve from 0.11492\n",
            "\n",
            "Epoch 00035: val_loss did not improve from 0.11492\n",
            "\n",
            "Epoch 00036: val_loss did not improve from 0.11492\n",
            "\n",
            "Epoch 00037: val_loss did not improve from 0.11492\n",
            "\n",
            "Epoch 00038: val_loss did not improve from 0.11492\n",
            "\n",
            "Epoch 00039: val_loss did not improve from 0.11492\n",
            "\n",
            "Epoch 00040: val_loss did not improve from 0.11492\n",
            "\n",
            "Epoch 00041: val_loss did not improve from 0.11492\n",
            "\n",
            "Epoch 00042: val_loss did not improve from 0.11492\n",
            "\n",
            "Epoch 00043: val_loss did not improve from 0.11492\n",
            "Epoch 00043: early stopping\n"
          ],
          "name": "stdout"
        }
      ]
    },
    {
      "cell_type": "code",
      "metadata": {
        "id": "S2DtZsevRZXZ",
        "colab": {
          "base_uri": "https://localhost:8080/",
          "height": 790
        },
        "outputId": "4b50437d-a54c-44dc-c1ad-53c7d61191bd"
      },
      "source": [
        "# plot history\n",
        "pyplot.plot(history.history['loss'], label='train')\n",
        "pyplot.plot(history.history['val_loss'], label='test')\n",
        "pyplot.legend()\n",
        "pyplot.show()"
      ],
      "execution_count": null,
      "outputs": [
        {
          "output_type": "display_data",
          "data": {
            "image/png": "[encoded data removed]",
            "text/plain": [
              "<Figure size 1440x1440 with 1 Axes>"
            ]
          },
          "metadata": {
            "needs_background": "light"
          }
        }
      ]
    },
    {
      "cell_type": "code",
      "metadata": {
        "id": "S_KMCaeInjNn",
        "colab": {
          "base_uri": "https://localhost:8080/"
        },
        "outputId": "b483a94f-a022-4b8a-ecc0-1085da2a7499"
      },
      "source": [
        "  # load the saved model\n",
        "model = load_model('best_model.h5')\n",
        "model.summary()"
      ],
      "execution_count": null,
      "outputs": [
        {
          "output_type": "stream",
          "text": [
            "Model: \"sequential_1\"\n",
            "_________________________________________________________________\n",
            "Layer (type)                 Output Shape              Param #   \n",
            "=================================================================\n",
            "lstm_1 (LSTM)                (None, 100)               40800     \n",
            "_________________________________________________________________\n",
            "dropout_1 (Dropout)          (None, 100)               0         \n",
            "_________________________________________________________________\n",
            "dense_1 (Dense)              (None, 1)                 101       \n",
            "=================================================================\n",
            "Total params: 40,901\n",
            "Trainable params: 40,901\n",
            "Non-trainable params: 0\n",
            "_________________________________________________________________\n"
          ],
          "name": "stdout"
        }
      ]
    },
    {
      "cell_type": "code",
      "metadata": {
        "id": "Hsk_n93VtEES"
      },
      "source": [
        "# make a prediction\n",
        "yhat = model.predict(test_X) #shape=(14,1)\n",
        "test_X = test_X.reshape((test_X.shape[0], test_X.shape[1]))\n",
        "# invert scaling for forecast\n",
        "#inv_yhat = concatenate((test_X[:, :-1],yhat), axis=1)\n",
        "inv_yhat = concatenate((test_X,yhat), axis=1)\n",
        "inv_yhat = scaler.inverse_transform(inv_yhat)\n",
        "inv_yhat = inv_yhat[:,-1]\n",
        "# invert scaling for actual\n",
        "test_y = test_y.reshape((len(test_y), 1))\n",
        "#inv_y = concatenate((test_X[:, :-1],test_y), axis=1)\n",
        "inv_y = concatenate((test_X,test_y), axis=1)\n",
        "inv_y = scaler.inverse_transform(inv_y)\n",
        "inv_y = inv_y[:,-1]"
      ],
      "execution_count": null,
      "outputs": []
    },
    {
      "cell_type": "code",
      "metadata": {
        "id": "CejIp8s7rvO6"
      },
      "source": [
        "def timeseries_evaluation_metrics_func(y_true, y_pred):\n",
        "  def mean_absolute_percentage_error(y_true, y_pred):\n",
        "    y_true, y_pred = np.array(y_true), np.array(y_pred)\n",
        "    return np.mean(np.abs((y_true - y_pred) / y_true)) * 100\n",
        "  def smape(y_true,y_pred):\n",
        "    y_true, y_pred = np.array(y_true), np.array(y_pred)\n",
        "    return 2/y_true.shape[0]*np.sum(np.abs(y_true-y_pred))/np.sum((np.abs(y_true)+np.abs(y_pred)))*100\n",
        "  def mase(y_true,y_pred):\n",
        "    y_true, y_pred = np.array(y_true), np.array(y_pred)\n",
        "    naive_pred=y_true[1:]\n",
        "    return 1/y_true.shape[0]*np.sum(np.abs(y_true-y_pred))/np.sum(np.abs(y_true[:len(y_true)-1]-naive_pred))*(y_true.shape[0]-1)\n",
        "  #def owe(y_true,y_pred):\n",
        "   # return (mase(y_true,y_pred)+smape(y_true,y_pred))/2\n",
        "\n",
        "  print('Evaluation metric results:-')\n",
        "  print(f'MSE is : {metrics.mean_squared_error(y_true, y_pred)}')\n",
        "  print(f'MAE is : {metrics.mean_absolute_error(y_true, y_pred)}')\n",
        "  print(f'RMSE is : {np.sqrt(metrics.mean_squared_error(y_true, y_pred))}')\n",
        "  print(f'MAPE is : {mean_absolute_percentage_error(y_true, y_pred)} %')\n",
        "  #mape.append(mean_absolute_percentage_error(y_true, y_pred))\n",
        "  #rmse.append(np.sqrt(metrics.mean_squared_error(y_true, y_pred)))\n",
        "  print(f'R2 is : {metrics.r2_score(y_true, y_pred)}',end='\\n\\n')\n",
        "  print('SMAPE is : '+str(smape(y_true,y_pred))+'\\n')\n",
        "  print('MASE is : '+str(mase(y_true,y_pred)))\n",
        "  return"
      ],
      "execution_count": null,
      "outputs": []
    },
    {
      "cell_type": "code",
      "metadata": {
        "id": "U-yxUOktrvTD",
        "colab": {
          "base_uri": "https://localhost:8080/"
        },
        "outputId": "59de2c76-4aca-4730-ae3f-04603b745643"
      },
      "source": [
        "from sklearn import metrics\n",
        "import numpy as np\n",
        "\n",
        "timeseries_evaluation_metrics_func(inv_y, inv_yhat)"
      ],
      "execution_count": null,
      "outputs": [
        {
          "output_type": "stream",
          "text": [
            "Evaluation metric results:-\n",
            "MSE is : 10655.916648791006\n",
            "MAE is : 84.57849230085101\n",
            "RMSE is : 103.22749947950403\n",
            "MAPE is : 6.17754213551925 %\n",
            "R2 is : 0.7085492119592529\n",
            "\n",
            "SMAPE is : 0.8798685666175332\n",
            "\n",
            "MASE is : 0.6573457950843341\n"
          ],
          "name": "stdout"
        }
      ]
    },
    {
      "cell_type": "code",
      "metadata": {
        "colab": {
          "base_uri": "https://localhost:8080/",
          "height": 413
        },
        "id": "TUIag9jQ7IzX",
        "outputId": "c80c9430-e26a-4b04-8397-af52a8f383fc"
      },
      "source": [
        "from matplotlib.pyplot import figure\n",
        "\n",
        "figure(figsize=(8, 6), dpi=80)\n",
        "plt.plot(time[train_X.shape[0]:len(time)],inv_y,label='actual')\n",
        "plt.plot(time[train_X.shape[0]:len(time)],inv_yhat,label='Pred')\n",
        "plt.legend()\n",
        "#plt.savefig('xgboost_test')\n",
        "plt.show()"
      ],
      "execution_count": null,
      "outputs": [
        {
          "output_type": "display_data",
          "data": {
            "image/png": "[encoded data removed]",
            "text/plain": [
              "<Figure size 640x480 with 1 Axes>"
            ]
          },
          "metadata": {
            "needs_background": "light"
          }
        }
      ]
    },
    {
      "cell_type": "code",
      "metadata": {
        "id": "jrW7gDcmPPJ5"
      },
      "source": [
        ""
      ],
      "execution_count": null,
      "outputs": []
    },
    {
      "cell_type": "markdown",
      "metadata": {
        "id": "creouAuRJ2qH"
      },
      "source": [
        "# peak period"
      ]
    },
    {
      "cell_type": "code",
      "metadata": {
        "colab": {
          "base_uri": "https://localhost:8080/"
        },
        "id": "Owa5qPllJ4_7",
        "outputId": "ff755fb4-5a8b-4986-aa31-1b708ddd738f"
      },
      "source": [
        "timeseries_evaluation_metrics_func(inv_y[:3], inv_yhat[:3])"
      ],
      "execution_count": null,
      "outputs": [
        {
          "output_type": "stream",
          "text": [
            "Evaluation metric results:-\n",
            "MSE is : 5486.1595182088895\n",
            "MAE is : 70.78961753845215\n",
            "RMSE is : 74.06861358368259\n",
            "MAPE is : 4.787724573035385 %\n",
            "R2 is : -1.3036034181151441\n",
            "\n",
            "SMAPE is : 1.5955547026389183\n",
            "\n",
            "MASE is : 1.1700763229496223\n"
          ],
          "name": "stdout"
        }
      ]
    },
    {
      "cell_type": "code",
      "metadata": {
        "id": "smzoQvxrrvUh",
        "colab": {
          "base_uri": "https://localhost:8080/",
          "height": 413
        },
        "outputId": "7ce53204-d493-491b-8ef6-e8a186efc065"
      },
      "source": [
        "from matplotlib.pyplot import figure\n",
        "\n",
        "figure(figsize=(8, 6), dpi=80)\n",
        "plt.plot(time[train_X.shape[0]:train_X.shape[0]+3],inv_y[:3],label='actual')\n",
        "plt.plot(time[train_X.shape[0]:train_X.shape[0]+3],inv_yhat[:3],label='Pred')\n",
        "plt.legend()\n",
        "plt.show()"
      ],
      "execution_count": null,
      "outputs": [
        {
          "output_type": "display_data",
          "data": {
            "image/png": "[encoded data removed]",
            "text/plain": [
              "<Figure size 640x480 with 1 Axes>"
            ]
          },
          "metadata": {
            "needs_background": "light"
          }
        }
      ]
    }
  ]
}