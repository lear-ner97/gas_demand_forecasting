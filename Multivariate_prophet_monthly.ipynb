{
  "nbformat": 4,
  "nbformat_minor": 0,
  "metadata": {
    "colab": {
      "name": "Multivariate_prophet_monthly.ipynb",
      "provenance": [],
      "collapsed_sections": []
    },
    "kernelspec": {
      "name": "python3",
      "display_name": "Python 3"
    }
  },
  "cells": [
    {
      "cell_type": "markdown",
      "metadata": {
        "id": "0JanmLa5WJlg"
      },
      "source": [
        "Link to video explaining the code - https://www.youtube.com/watch?v=XZhPO043lqU"
      ]
    },
    {
      "cell_type": "markdown",
      "metadata": {
        "id": "w1IWsnJzMD_a"
      },
      "source": [
        "\n",
        "\n",
        "*   https://www.kaggle.com/drscarlat/predict-the-weather-with-fb-prophet\n",
        "*   additional regressors (at the end, using forecasts of variables to forecast the target to 2030) https://facebook.github.io/prophet/docs/seasonality,_holiday_effects,_and_regressors.html \n",
        "* uncertainty intervals assume that the future will see the same frequency and magnitude of rate changes as the past. This assumption is probably not true, so you should not expect to get accurate coverage on these uncertainty intervals.\n"
      ]
    },
    {
      "cell_type": "code",
      "metadata": {
        "id": "NUe7BW37S6VA",
        "colab": {
          "base_uri": "https://localhost:8080/"
        },
        "outputId": "a0b4a4b5-92e8-4d99-b646-a100a2d08d81"
      },
      "source": [
        "!pip install fbprophet"
      ],
      "execution_count": null,
      "outputs": [
        {
          "output_type": "stream",
          "text": [
            "Requirement already satisfied: fbprophet in /usr/local/lib/python3.7/dist-packages (0.7.1)\n",
            "Requirement already satisfied: Cython>=0.22 in /usr/local/lib/python3.7/dist-packages (from fbprophet) (0.29.24)\n",
            "Requirement already satisfied: cmdstanpy==0.9.5 in /usr/local/lib/python3.7/dist-packages (from fbprophet) (0.9.5)\n",
            "Requirement already satisfied: pystan>=2.14 in /usr/local/lib/python3.7/dist-packages (from fbprophet) (2.19.1.1)\n",
            "Requirement already satisfied: numpy>=1.15.4 in /usr/local/lib/python3.7/dist-packages (from fbprophet) (1.19.5)\n",
            "Requirement already satisfied: pandas>=1.0.4 in /usr/local/lib/python3.7/dist-packages (from fbprophet) (1.1.5)\n",
            "Requirement already satisfied: matplotlib>=2.0.0 in /usr/local/lib/python3.7/dist-packages (from fbprophet) (3.2.2)\n",
            "Requirement already satisfied: LunarCalendar>=0.0.9 in /usr/local/lib/python3.7/dist-packages (from fbprophet) (0.0.9)\n",
            "Requirement already satisfied: convertdate>=2.1.2 in /usr/local/lib/python3.7/dist-packages (from fbprophet) (2.3.2)\n",
            "Requirement already satisfied: holidays>=0.10.2 in /usr/local/lib/python3.7/dist-packages (from fbprophet) (0.10.5.2)\n",
            "Requirement already satisfied: setuptools-git>=1.2 in /usr/local/lib/python3.7/dist-packages (from fbprophet) (1.2)\n",
            "Requirement already satisfied: python-dateutil>=2.8.0 in /usr/local/lib/python3.7/dist-packages (from fbprophet) (2.8.2)\n",
            "Requirement already satisfied: tqdm>=4.36.1 in /usr/local/lib/python3.7/dist-packages (from fbprophet) (4.62.0)\n",
            "Requirement already satisfied: pytz>=2014.10 in /usr/local/lib/python3.7/dist-packages (from convertdate>=2.1.2->fbprophet) (2018.9)\n",
            "Requirement already satisfied: pymeeus<=1,>=0.3.13 in /usr/local/lib/python3.7/dist-packages (from convertdate>=2.1.2->fbprophet) (0.5.11)\n",
            "Requirement already satisfied: korean-lunar-calendar in /usr/local/lib/python3.7/dist-packages (from holidays>=0.10.2->fbprophet) (0.2.1)\n",
            "Requirement already satisfied: six in /usr/local/lib/python3.7/dist-packages (from holidays>=0.10.2->fbprophet) (1.15.0)\n",
            "Requirement already satisfied: hijri-converter in /usr/local/lib/python3.7/dist-packages (from holidays>=0.10.2->fbprophet) (2.1.3)\n",
            "Requirement already satisfied: ephem>=3.7.5.3 in /usr/local/lib/python3.7/dist-packages (from LunarCalendar>=0.0.9->fbprophet) (4.0.0.2)\n",
            "Requirement already satisfied: cycler>=0.10 in /usr/local/lib/python3.7/dist-packages (from matplotlib>=2.0.0->fbprophet) (0.10.0)\n",
            "Requirement already satisfied: pyparsing!=2.0.4,!=2.1.2,!=2.1.6,>=2.0.1 in /usr/local/lib/python3.7/dist-packages (from matplotlib>=2.0.0->fbprophet) (2.4.7)\n",
            "Requirement already satisfied: kiwisolver>=1.0.1 in /usr/local/lib/python3.7/dist-packages (from matplotlib>=2.0.0->fbprophet) (1.3.1)\n"
          ],
          "name": "stdout"
        }
      ]
    },
    {
      "cell_type": "code",
      "metadata": {
        "id": "CY5G7SE9PLEB"
      },
      "source": [
        "import matplotlib as mpl\n",
        "import matplotlib.pyplot as plt\n",
        "import itertools\n",
        "import numpy as np\n",
        "import os\n",
        "from datetime import datetime\n",
        "from fbprophet.diagnostics import performance_metrics\n",
        "from fbprophet.diagnostics import cross_validation\n",
        "import holidays\n",
        "import pandas as pd\n",
        "import plotly.express as px\n",
        "\n",
        "mpl.rcParams['figure.figsize'] = (10, 8)\n",
        "mpl.rcParams['axes.grid'] = False\n"
      ],
      "execution_count": null,
      "outputs": []
    },
    {
      "cell_type": "code",
      "metadata": {
        "id": "PJaoc_EcR1pB"
      },
      "source": [
        "df = pd.read_csv('/content/clean_monthly_df_human.csv').dropna()"
      ],
      "execution_count": null,
      "outputs": []
    },
    {
      "cell_type": "code",
      "metadata": {
        "id": "vjjJKsOR5GtF"
      },
      "source": [
        "df['time']=pd.to_datetime(df['time'],dayfirst=True)"
      ],
      "execution_count": null,
      "outputs": []
    },
    {
      "cell_type": "code",
      "metadata": {
        "id": "gQjU-JsX58EB",
        "colab": {
          "base_uri": "https://localhost:8080/"
        },
        "outputId": "873f03de-ec09-44dc-9dc1-7018e1078859"
      },
      "source": [
        "df.info()"
      ],
      "execution_count": null,
      "outputs": [
        {
          "output_type": "stream",
          "text": [
            "<class 'pandas.core.frame.DataFrame'>\n",
            "Int64Index: 67 entries, 0 to 66\n",
            "Data columns (total 7 columns):\n",
            " #   Column                      Non-Null Count  Dtype         \n",
            "---  ------                      --------------  -----         \n",
            " 0   time                        67 non-null     datetime64[ns]\n",
            " 1   MIN_TEMPERATURE_C           67 non-null     int64         \n",
            " 2   max_clients_month           67 non-null     int64         \n",
            " 3   total_Holiday_Food_Related  67 non-null     int64         \n",
            " 4   total_consommation          67 non-null     float64       \n",
            " 5   max_pdl_total_daily_load    67 non-null     int64         \n",
            " 6   max_pdl_daily_load          67 non-null     int64         \n",
            "dtypes: datetime64[ns](1), float64(1), int64(5)\n",
            "memory usage: 4.2 KB\n"
          ],
          "name": "stdout"
        }
      ]
    },
    {
      "cell_type": "code",
      "metadata": {
        "id": "1ALsQm_eoVsh",
        "colab": {
          "base_uri": "https://localhost:8080/",
          "height": 312
        },
        "outputId": "eb8474ef-1070-4ba4-9eeb-995663740553"
      },
      "source": [
        "df.head()"
      ],
      "execution_count": null,
      "outputs": [
        {
          "output_type": "execute_result",
          "data": {
            "text/html": [
              "<div>\n",
              "<style scoped>\n",
              "    .dataframe tbody tr th:only-of-type {\n",
              "        vertical-align: middle;\n",
              "    }\n",
              "\n",
              "    .dataframe tbody tr th {\n",
              "        vertical-align: top;\n",
              "    }\n",
              "\n",
              "    .dataframe thead th {\n",
              "        text-align: right;\n",
              "    }\n",
              "</style>\n",
              "<table border=\"1\" class=\"dataframe\">\n",
              "  <thead>\n",
              "    <tr style=\"text-align: right;\">\n",
              "      <th></th>\n",
              "      <th>time</th>\n",
              "      <th>MIN_TEMPERATURE_C</th>\n",
              "      <th>max_clients_month</th>\n",
              "      <th>total_Holiday_Food_Related</th>\n",
              "      <th>total_consommation</th>\n",
              "      <th>max_pdl_total_daily_load</th>\n",
              "      <th>max_pdl_daily_load</th>\n",
              "    </tr>\n",
              "  </thead>\n",
              "  <tbody>\n",
              "    <tr>\n",
              "      <th>0</th>\n",
              "      <td>2015-01-31</td>\n",
              "      <td>8</td>\n",
              "      <td>3980</td>\n",
              "      <td>2</td>\n",
              "      <td>247497.63</td>\n",
              "      <td>22257</td>\n",
              "      <td>1479</td>\n",
              "    </tr>\n",
              "    <tr>\n",
              "      <th>1</th>\n",
              "      <td>2015-02-28</td>\n",
              "      <td>11</td>\n",
              "      <td>4023</td>\n",
              "      <td>0</td>\n",
              "      <td>263249.88</td>\n",
              "      <td>22242</td>\n",
              "      <td>1494</td>\n",
              "    </tr>\n",
              "    <tr>\n",
              "      <th>2</th>\n",
              "      <td>2015-03-31</td>\n",
              "      <td>12</td>\n",
              "      <td>4060</td>\n",
              "      <td>0</td>\n",
              "      <td>246311.89</td>\n",
              "      <td>21691</td>\n",
              "      <td>1551</td>\n",
              "    </tr>\n",
              "    <tr>\n",
              "      <th>3</th>\n",
              "      <td>2015-04-30</td>\n",
              "      <td>14</td>\n",
              "      <td>4094</td>\n",
              "      <td>0</td>\n",
              "      <td>237177.99</td>\n",
              "      <td>16752</td>\n",
              "      <td>1253</td>\n",
              "    </tr>\n",
              "    <tr>\n",
              "      <th>4</th>\n",
              "      <td>2015-05-31</td>\n",
              "      <td>19</td>\n",
              "      <td>4112</td>\n",
              "      <td>0</td>\n",
              "      <td>229106.03</td>\n",
              "      <td>12318</td>\n",
              "      <td>1123</td>\n",
              "    </tr>\n",
              "  </tbody>\n",
              "</table>\n",
              "</div>"
            ],
            "text/plain": [
              "        time  MIN_TEMPERATURE_C  ...  max_pdl_total_daily_load  max_pdl_daily_load\n",
              "0 2015-01-31                  8  ...                     22257                1479\n",
              "1 2015-02-28                 11  ...                     22242                1494\n",
              "2 2015-03-31                 12  ...                     21691                1551\n",
              "3 2015-04-30                 14  ...                     16752                1253\n",
              "4 2015-05-31                 19  ...                     12318                1123\n",
              "\n",
              "[5 rows x 7 columns]"
            ]
          },
          "metadata": {
            "tags": []
          },
          "execution_count": 17
        }
      ]
    },
    {
      "cell_type": "code",
      "metadata": {
        "id": "2fQYtWH8Cy-w"
      },
      "source": [
        "ny_df_daily=df.set_index('time')"
      ],
      "execution_count": null,
      "outputs": []
    },
    {
      "cell_type": "code",
      "metadata": {
        "id": "_oewn0xg6NvF",
        "colab": {
          "base_uri": "https://localhost:8080/",
          "height": 586
        },
        "outputId": "d7dfaf8c-2b30-4a0a-fd82-b7d6728b7bd8"
      },
      "source": [
        "ny_df_daily.plot(subplots=True)"
      ],
      "execution_count": null,
      "outputs": [
        {
          "output_type": "execute_result",
          "data": {
            "text/plain": [
              "array([<matplotlib.axes._subplots.AxesSubplot object at 0x7f24b079add0>,\n",
              "       <matplotlib.axes._subplots.AxesSubplot object at 0x7f24af767150>,\n",
              "       <matplotlib.axes._subplots.AxesSubplot object at 0x7f24af71d510>,\n",
              "       <matplotlib.axes._subplots.AxesSubplot object at 0x7f24af6d48d0>,\n",
              "       <matplotlib.axes._subplots.AxesSubplot object at 0x7f24af68cc90>,\n",
              "       <matplotlib.axes._subplots.AxesSubplot object at 0x7f24af6b9b90>],\n",
              "      dtype=object)"
            ]
          },
          "metadata": {
            "tags": []
          },
          "execution_count": 19
        },
        {
          "output_type": "display_data",
          "data": {
            "image/png": "[encoded data removed]",
            "text/plain": [
              "<Figure size 720x576 with 6 Axes>"
            ]
          },
          "metadata": {
            "tags": [],
            "needs_background": "light"
          }
        }
      ]
    },
    {
      "cell_type": "code",
      "metadata": {
        "id": "0KkcROyGVrrE"
      },
      "source": [
        "from fbprophet import Prophet"
      ],
      "execution_count": null,
      "outputs": []
    },
    {
      "cell_type": "code",
      "metadata": {
        "id": "vcWCMnvcv-DH",
        "colab": {
          "base_uri": "https://localhost:8080/",
          "height": 646
        },
        "outputId": "0b0b51c2-fb25-4a17-dbdf-310a477e3466"
      },
      "source": [
        "ny_df_daily"
      ],
      "execution_count": null,
      "outputs": [
        {
          "output_type": "execute_result",
          "data": {
            "text/html": [
              "<div>\n",
              "<style scoped>\n",
              "    .dataframe tbody tr th:only-of-type {\n",
              "        vertical-align: middle;\n",
              "    }\n",
              "\n",
              "    .dataframe tbody tr th {\n",
              "        vertical-align: top;\n",
              "    }\n",
              "\n",
              "    .dataframe thead th {\n",
              "        text-align: right;\n",
              "    }\n",
              "</style>\n",
              "<table border=\"1\" class=\"dataframe\">\n",
              "  <thead>\n",
              "    <tr style=\"text-align: right;\">\n",
              "      <th></th>\n",
              "      <th>MIN_TEMPERATURE_C</th>\n",
              "      <th>max_clients_month</th>\n",
              "      <th>total_Holiday_Food_Related</th>\n",
              "      <th>total_consommation</th>\n",
              "      <th>max_pdl_total_daily_load</th>\n",
              "      <th>max_pdl_daily_load</th>\n",
              "    </tr>\n",
              "    <tr>\n",
              "      <th>time</th>\n",
              "      <th></th>\n",
              "      <th></th>\n",
              "      <th></th>\n",
              "      <th></th>\n",
              "      <th></th>\n",
              "      <th></th>\n",
              "    </tr>\n",
              "  </thead>\n",
              "  <tbody>\n",
              "    <tr>\n",
              "      <th>2015-01-31</th>\n",
              "      <td>8</td>\n",
              "      <td>3980</td>\n",
              "      <td>2</td>\n",
              "      <td>247497.63</td>\n",
              "      <td>22257</td>\n",
              "      <td>1479</td>\n",
              "    </tr>\n",
              "    <tr>\n",
              "      <th>2015-02-28</th>\n",
              "      <td>11</td>\n",
              "      <td>4023</td>\n",
              "      <td>0</td>\n",
              "      <td>263249.88</td>\n",
              "      <td>22242</td>\n",
              "      <td>1494</td>\n",
              "    </tr>\n",
              "    <tr>\n",
              "      <th>2015-03-31</th>\n",
              "      <td>12</td>\n",
              "      <td>4060</td>\n",
              "      <td>0</td>\n",
              "      <td>246311.89</td>\n",
              "      <td>21691</td>\n",
              "      <td>1551</td>\n",
              "    </tr>\n",
              "    <tr>\n",
              "      <th>2015-04-30</th>\n",
              "      <td>14</td>\n",
              "      <td>4094</td>\n",
              "      <td>0</td>\n",
              "      <td>237177.99</td>\n",
              "      <td>16752</td>\n",
              "      <td>1253</td>\n",
              "    </tr>\n",
              "    <tr>\n",
              "      <th>2015-05-31</th>\n",
              "      <td>19</td>\n",
              "      <td>4112</td>\n",
              "      <td>0</td>\n",
              "      <td>229106.03</td>\n",
              "      <td>12318</td>\n",
              "      <td>1123</td>\n",
              "    </tr>\n",
              "    <tr>\n",
              "      <th>...</th>\n",
              "      <td>...</td>\n",
              "      <td>...</td>\n",
              "      <td>...</td>\n",
              "      <td>...</td>\n",
              "      <td>...</td>\n",
              "      <td>...</td>\n",
              "    </tr>\n",
              "    <tr>\n",
              "      <th>2020-03-31</th>\n",
              "      <td>9</td>\n",
              "      <td>5321</td>\n",
              "      <td>0</td>\n",
              "      <td>219707.61</td>\n",
              "      <td>23370</td>\n",
              "      <td>1463</td>\n",
              "    </tr>\n",
              "    <tr>\n",
              "      <th>2020-04-30</th>\n",
              "      <td>12</td>\n",
              "      <td>5324</td>\n",
              "      <td>7</td>\n",
              "      <td>207015.41</td>\n",
              "      <td>18875</td>\n",
              "      <td>1599</td>\n",
              "    </tr>\n",
              "    <tr>\n",
              "      <th>2020-05-31</th>\n",
              "      <td>18</td>\n",
              "      <td>5326</td>\n",
              "      <td>26</td>\n",
              "      <td>193552.21</td>\n",
              "      <td>15439</td>\n",
              "      <td>1400</td>\n",
              "    </tr>\n",
              "    <tr>\n",
              "      <th>2020-06-30</th>\n",
              "      <td>20</td>\n",
              "      <td>5324</td>\n",
              "      <td>0</td>\n",
              "      <td>182548.79</td>\n",
              "      <td>14697</td>\n",
              "      <td>1105</td>\n",
              "    </tr>\n",
              "    <tr>\n",
              "      <th>2020-07-31</th>\n",
              "      <td>23</td>\n",
              "      <td>5277</td>\n",
              "      <td>1</td>\n",
              "      <td>177683.15</td>\n",
              "      <td>13664</td>\n",
              "      <td>1084</td>\n",
              "    </tr>\n",
              "  </tbody>\n",
              "</table>\n",
              "<p>67 rows × 6 columns</p>\n",
              "</div>"
            ],
            "text/plain": [
              "            MIN_TEMPERATURE_C  ...  max_pdl_daily_load\n",
              "time                           ...                    \n",
              "2015-01-31                  8  ...                1479\n",
              "2015-02-28                 11  ...                1494\n",
              "2015-03-31                 12  ...                1551\n",
              "2015-04-30                 14  ...                1253\n",
              "2015-05-31                 19  ...                1123\n",
              "...                       ...  ...                 ...\n",
              "2020-03-31                  9  ...                1463\n",
              "2020-04-30                 12  ...                1599\n",
              "2020-05-31                 18  ...                1400\n",
              "2020-06-30                 20  ...                1105\n",
              "2020-07-31                 23  ...                1084\n",
              "\n",
              "[67 rows x 6 columns]"
            ]
          },
          "metadata": {
            "tags": []
          },
          "execution_count": 21
        }
      ]
    },
    {
      "cell_type": "code",
      "metadata": {
        "id": "jgXH0yWfUprK",
        "colab": {
          "base_uri": "https://localhost:8080/"
        },
        "outputId": "755488ff-a95d-4c9c-a517-94b16132a8a4"
      },
      "source": [
        "ny_df_daily.columns"
      ],
      "execution_count": null,
      "outputs": [
        {
          "output_type": "execute_result",
          "data": {
            "text/plain": [
              "Index(['MIN_TEMPERATURE_C', 'max_clients_month', 'total_Holiday_Food_Related',\n",
              "       'total_consommation', 'max_pdl_total_daily_load', 'max_pdl_daily_load'],\n",
              "      dtype='object')"
            ]
          },
          "metadata": {
            "tags": []
          },
          "execution_count": 22
        }
      ]
    },
    {
      "cell_type": "code",
      "metadata": {
        "id": "LT5FPlA3dhot"
      },
      "source": [
        "ny_df_final=ny_df_daily.reset_index()[['time','MIN_TEMPERATURE_C', 'max_clients_month', \n",
        "        'total_consommation', 'max_pdl_total_daily_load', 'max_pdl_daily_load']].rename({'time':'ds',\n",
        "        'MIN_TEMPERATURE_C':'MIN_TEMPERATURE_C', 'max_clients_month':'max_clients_month',\n",
        "        'total_consommation':'total_consommation','max_pdl_total_daily_load':'max_pdl_total_daily_load',\n",
        "        'max_pdl_daily_load':'y'}, axis='columns')"
      ],
      "execution_count": null,
      "outputs": []
    },
    {
      "cell_type": "code",
      "metadata": {
        "id": "zpqAZy3Bdhmv",
        "colab": {
          "base_uri": "https://localhost:8080/",
          "height": 422
        },
        "outputId": "58d2589e-7278-4129-caba-3bbcbe8a778f"
      },
      "source": [
        "ny_df_final"
      ],
      "execution_count": null,
      "outputs": [
        {
          "output_type": "execute_result",
          "data": {
            "text/html": [
              "<div>\n",
              "<style scoped>\n",
              "    .dataframe tbody tr th:only-of-type {\n",
              "        vertical-align: middle;\n",
              "    }\n",
              "\n",
              "    .dataframe tbody tr th {\n",
              "        vertical-align: top;\n",
              "    }\n",
              "\n",
              "    .dataframe thead th {\n",
              "        text-align: right;\n",
              "    }\n",
              "</style>\n",
              "<table border=\"1\" class=\"dataframe\">\n",
              "  <thead>\n",
              "    <tr style=\"text-align: right;\">\n",
              "      <th></th>\n",
              "      <th>ds</th>\n",
              "      <th>MIN_TEMPERATURE_C</th>\n",
              "      <th>max_clients_month</th>\n",
              "      <th>total_consommation</th>\n",
              "      <th>max_pdl_total_daily_load</th>\n",
              "      <th>y</th>\n",
              "    </tr>\n",
              "  </thead>\n",
              "  <tbody>\n",
              "    <tr>\n",
              "      <th>0</th>\n",
              "      <td>2015-01-31</td>\n",
              "      <td>8</td>\n",
              "      <td>3980</td>\n",
              "      <td>247497.63</td>\n",
              "      <td>22257</td>\n",
              "      <td>1479</td>\n",
              "    </tr>\n",
              "    <tr>\n",
              "      <th>1</th>\n",
              "      <td>2015-02-28</td>\n",
              "      <td>11</td>\n",
              "      <td>4023</td>\n",
              "      <td>263249.88</td>\n",
              "      <td>22242</td>\n",
              "      <td>1494</td>\n",
              "    </tr>\n",
              "    <tr>\n",
              "      <th>2</th>\n",
              "      <td>2015-03-31</td>\n",
              "      <td>12</td>\n",
              "      <td>4060</td>\n",
              "      <td>246311.89</td>\n",
              "      <td>21691</td>\n",
              "      <td>1551</td>\n",
              "    </tr>\n",
              "    <tr>\n",
              "      <th>3</th>\n",
              "      <td>2015-04-30</td>\n",
              "      <td>14</td>\n",
              "      <td>4094</td>\n",
              "      <td>237177.99</td>\n",
              "      <td>16752</td>\n",
              "      <td>1253</td>\n",
              "    </tr>\n",
              "    <tr>\n",
              "      <th>4</th>\n",
              "      <td>2015-05-31</td>\n",
              "      <td>19</td>\n",
              "      <td>4112</td>\n",
              "      <td>229106.03</td>\n",
              "      <td>12318</td>\n",
              "      <td>1123</td>\n",
              "    </tr>\n",
              "    <tr>\n",
              "      <th>...</th>\n",
              "      <td>...</td>\n",
              "      <td>...</td>\n",
              "      <td>...</td>\n",
              "      <td>...</td>\n",
              "      <td>...</td>\n",
              "      <td>...</td>\n",
              "    </tr>\n",
              "    <tr>\n",
              "      <th>62</th>\n",
              "      <td>2020-03-31</td>\n",
              "      <td>9</td>\n",
              "      <td>5321</td>\n",
              "      <td>219707.61</td>\n",
              "      <td>23370</td>\n",
              "      <td>1463</td>\n",
              "    </tr>\n",
              "    <tr>\n",
              "      <th>63</th>\n",
              "      <td>2020-04-30</td>\n",
              "      <td>12</td>\n",
              "      <td>5324</td>\n",
              "      <td>207015.41</td>\n",
              "      <td>18875</td>\n",
              "      <td>1599</td>\n",
              "    </tr>\n",
              "    <tr>\n",
              "      <th>64</th>\n",
              "      <td>2020-05-31</td>\n",
              "      <td>18</td>\n",
              "      <td>5326</td>\n",
              "      <td>193552.21</td>\n",
              "      <td>15439</td>\n",
              "      <td>1400</td>\n",
              "    </tr>\n",
              "    <tr>\n",
              "      <th>65</th>\n",
              "      <td>2020-06-30</td>\n",
              "      <td>20</td>\n",
              "      <td>5324</td>\n",
              "      <td>182548.79</td>\n",
              "      <td>14697</td>\n",
              "      <td>1105</td>\n",
              "    </tr>\n",
              "    <tr>\n",
              "      <th>66</th>\n",
              "      <td>2020-07-31</td>\n",
              "      <td>23</td>\n",
              "      <td>5277</td>\n",
              "      <td>177683.15</td>\n",
              "      <td>13664</td>\n",
              "      <td>1084</td>\n",
              "    </tr>\n",
              "  </tbody>\n",
              "</table>\n",
              "<p>67 rows × 6 columns</p>\n",
              "</div>"
            ],
            "text/plain": [
              "           ds  MIN_TEMPERATURE_C  ...  max_pdl_total_daily_load     y\n",
              "0  2015-01-31                  8  ...                     22257  1479\n",
              "1  2015-02-28                 11  ...                     22242  1494\n",
              "2  2015-03-31                 12  ...                     21691  1551\n",
              "3  2015-04-30                 14  ...                     16752  1253\n",
              "4  2015-05-31                 19  ...                     12318  1123\n",
              "..        ...                ...  ...                       ...   ...\n",
              "62 2020-03-31                  9  ...                     23370  1463\n",
              "63 2020-04-30                 12  ...                     18875  1599\n",
              "64 2020-05-31                 18  ...                     15439  1400\n",
              "65 2020-06-30                 20  ...                     14697  1105\n",
              "66 2020-07-31                 23  ...                     13664  1084\n",
              "\n",
              "[67 rows x 6 columns]"
            ]
          },
          "metadata": {
            "tags": []
          },
          "execution_count": 24
        }
      ]
    },
    {
      "cell_type": "code",
      "metadata": {
        "id": "qkj44Up8dhkA"
      },
      "source": [
        "train=ny_df_final[ny_df_final['ds'] <= '2019-12-31']\n",
        "test=ny_df_final[(ny_df_final['ds'] > '2019-12-31')]"
      ],
      "execution_count": null,
      "outputs": []
    },
    {
      "cell_type": "code",
      "metadata": {
        "id": "4mCsdGq2dhf-",
        "colab": {
          "base_uri": "https://localhost:8080/"
        },
        "outputId": "ba381b57-757b-4065-ea34-ecf2e68f0d58"
      },
      "source": [
        "train.shape"
      ],
      "execution_count": null,
      "outputs": [
        {
          "output_type": "execute_result",
          "data": {
            "text/plain": [
              "(60, 6)"
            ]
          },
          "metadata": {
            "tags": []
          },
          "execution_count": 26
        }
      ]
    },
    {
      "cell_type": "code",
      "metadata": {
        "id": "Ei0NwfB9dhd6",
        "colab": {
          "base_uri": "https://localhost:8080/"
        },
        "outputId": "433fec51-155f-44e8-f11b-1f6adc17dd12"
      },
      "source": [
        "test.shape"
      ],
      "execution_count": null,
      "outputs": [
        {
          "output_type": "execute_result",
          "data": {
            "text/plain": [
              "(7, 6)"
            ]
          },
          "metadata": {
            "tags": []
          },
          "execution_count": 27
        }
      ]
    },
    {
      "cell_type": "code",
      "metadata": {
        "id": "Yqk2papXrQwM",
        "colab": {
          "base_uri": "https://localhost:8080/",
          "height": 268
        },
        "outputId": "496764a7-0a13-44e1-9220-16c41bdc3ebd"
      },
      "source": [
        "test"
      ],
      "execution_count": null,
      "outputs": [
        {
          "output_type": "execute_result",
          "data": {
            "text/html": [
              "<div>\n",
              "<style scoped>\n",
              "    .dataframe tbody tr th:only-of-type {\n",
              "        vertical-align: middle;\n",
              "    }\n",
              "\n",
              "    .dataframe tbody tr th {\n",
              "        vertical-align: top;\n",
              "    }\n",
              "\n",
              "    .dataframe thead th {\n",
              "        text-align: right;\n",
              "    }\n",
              "</style>\n",
              "<table border=\"1\" class=\"dataframe\">\n",
              "  <thead>\n",
              "    <tr style=\"text-align: right;\">\n",
              "      <th></th>\n",
              "      <th>ds</th>\n",
              "      <th>MIN_TEMPERATURE_C</th>\n",
              "      <th>max_clients_month</th>\n",
              "      <th>total_consommation</th>\n",
              "      <th>max_pdl_total_daily_load</th>\n",
              "      <th>y</th>\n",
              "    </tr>\n",
              "  </thead>\n",
              "  <tbody>\n",
              "    <tr>\n",
              "      <th>60</th>\n",
              "      <td>2020-01-31</td>\n",
              "      <td>8</td>\n",
              "      <td>5339</td>\n",
              "      <td>249158.97</td>\n",
              "      <td>26139</td>\n",
              "      <td>1560</td>\n",
              "    </tr>\n",
              "    <tr>\n",
              "      <th>61</th>\n",
              "      <td>2020-02-29</td>\n",
              "      <td>11</td>\n",
              "      <td>5348</td>\n",
              "      <td>222261.04</td>\n",
              "      <td>23365</td>\n",
              "      <td>1451</td>\n",
              "    </tr>\n",
              "    <tr>\n",
              "      <th>62</th>\n",
              "      <td>2020-03-31</td>\n",
              "      <td>9</td>\n",
              "      <td>5321</td>\n",
              "      <td>219707.61</td>\n",
              "      <td>23370</td>\n",
              "      <td>1463</td>\n",
              "    </tr>\n",
              "    <tr>\n",
              "      <th>63</th>\n",
              "      <td>2020-04-30</td>\n",
              "      <td>12</td>\n",
              "      <td>5324</td>\n",
              "      <td>207015.41</td>\n",
              "      <td>18875</td>\n",
              "      <td>1599</td>\n",
              "    </tr>\n",
              "    <tr>\n",
              "      <th>64</th>\n",
              "      <td>2020-05-31</td>\n",
              "      <td>18</td>\n",
              "      <td>5326</td>\n",
              "      <td>193552.21</td>\n",
              "      <td>15439</td>\n",
              "      <td>1400</td>\n",
              "    </tr>\n",
              "    <tr>\n",
              "      <th>65</th>\n",
              "      <td>2020-06-30</td>\n",
              "      <td>20</td>\n",
              "      <td>5324</td>\n",
              "      <td>182548.79</td>\n",
              "      <td>14697</td>\n",
              "      <td>1105</td>\n",
              "    </tr>\n",
              "    <tr>\n",
              "      <th>66</th>\n",
              "      <td>2020-07-31</td>\n",
              "      <td>23</td>\n",
              "      <td>5277</td>\n",
              "      <td>177683.15</td>\n",
              "      <td>13664</td>\n",
              "      <td>1084</td>\n",
              "    </tr>\n",
              "  </tbody>\n",
              "</table>\n",
              "</div>"
            ],
            "text/plain": [
              "           ds  MIN_TEMPERATURE_C  ...  max_pdl_total_daily_load     y\n",
              "60 2020-01-31                  8  ...                     26139  1560\n",
              "61 2020-02-29                 11  ...                     23365  1451\n",
              "62 2020-03-31                  9  ...                     23370  1463\n",
              "63 2020-04-30                 12  ...                     18875  1599\n",
              "64 2020-05-31                 18  ...                     15439  1400\n",
              "65 2020-06-30                 20  ...                     14697  1105\n",
              "66 2020-07-31                 23  ...                     13664  1084\n",
              "\n",
              "[7 rows x 6 columns]"
            ]
          },
          "metadata": {
            "tags": []
          },
          "execution_count": 28
        }
      ]
    },
    {
      "cell_type": "code",
      "metadata": {
        "id": "dsZQ2L5KkN1i"
      },
      "source": [
        "holidays=pd.DataFrame({'holiday': 'food_related',\n",
        "  'ds': pd.to_datetime(df[df.total_Holiday_Food_Related>=1].time)})"
      ],
      "execution_count": null,
      "outputs": []
    },
    {
      "cell_type": "code",
      "metadata": {
        "colab": {
          "base_uri": "https://localhost:8080/",
          "height": 1000
        },
        "id": "dgnjS6wnk8wM",
        "outputId": "61db6549-645a-4009-b5c9-4cdc7a9bde89"
      },
      "source": [
        "holidays"
      ],
      "execution_count": null,
      "outputs": [
        {
          "output_type": "execute_result",
          "data": {
            "text/html": [
              "<div>\n",
              "<style scoped>\n",
              "    .dataframe tbody tr th:only-of-type {\n",
              "        vertical-align: middle;\n",
              "    }\n",
              "\n",
              "    .dataframe tbody tr th {\n",
              "        vertical-align: top;\n",
              "    }\n",
              "\n",
              "    .dataframe thead th {\n",
              "        text-align: right;\n",
              "    }\n",
              "</style>\n",
              "<table border=\"1\" class=\"dataframe\">\n",
              "  <thead>\n",
              "    <tr style=\"text-align: right;\">\n",
              "      <th></th>\n",
              "      <th>holiday</th>\n",
              "      <th>ds</th>\n",
              "    </tr>\n",
              "  </thead>\n",
              "  <tbody>\n",
              "    <tr>\n",
              "      <th>0</th>\n",
              "      <td>food_related</td>\n",
              "      <td>2015-01-31</td>\n",
              "    </tr>\n",
              "    <tr>\n",
              "      <th>5</th>\n",
              "      <td>food_related</td>\n",
              "      <td>2015-06-30</td>\n",
              "    </tr>\n",
              "    <tr>\n",
              "      <th>6</th>\n",
              "      <td>food_related</td>\n",
              "      <td>2015-07-31</td>\n",
              "    </tr>\n",
              "    <tr>\n",
              "      <th>8</th>\n",
              "      <td>food_related</td>\n",
              "      <td>2015-09-30</td>\n",
              "    </tr>\n",
              "    <tr>\n",
              "      <th>9</th>\n",
              "      <td>food_related</td>\n",
              "      <td>2015-10-31</td>\n",
              "    </tr>\n",
              "    <tr>\n",
              "      <th>11</th>\n",
              "      <td>food_related</td>\n",
              "      <td>2015-12-31</td>\n",
              "    </tr>\n",
              "    <tr>\n",
              "      <th>12</th>\n",
              "      <td>food_related</td>\n",
              "      <td>2016-01-31</td>\n",
              "    </tr>\n",
              "    <tr>\n",
              "      <th>17</th>\n",
              "      <td>food_related</td>\n",
              "      <td>2016-06-30</td>\n",
              "    </tr>\n",
              "    <tr>\n",
              "      <th>18</th>\n",
              "      <td>food_related</td>\n",
              "      <td>2016-07-31</td>\n",
              "    </tr>\n",
              "    <tr>\n",
              "      <th>20</th>\n",
              "      <td>food_related</td>\n",
              "      <td>2016-09-30</td>\n",
              "    </tr>\n",
              "    <tr>\n",
              "      <th>21</th>\n",
              "      <td>food_related</td>\n",
              "      <td>2016-10-31</td>\n",
              "    </tr>\n",
              "    <tr>\n",
              "      <th>23</th>\n",
              "      <td>food_related</td>\n",
              "      <td>2016-12-31</td>\n",
              "    </tr>\n",
              "    <tr>\n",
              "      <th>24</th>\n",
              "      <td>food_related</td>\n",
              "      <td>2017-01-31</td>\n",
              "    </tr>\n",
              "    <tr>\n",
              "      <th>28</th>\n",
              "      <td>food_related</td>\n",
              "      <td>2017-05-31</td>\n",
              "    </tr>\n",
              "    <tr>\n",
              "      <th>29</th>\n",
              "      <td>food_related</td>\n",
              "      <td>2017-06-30</td>\n",
              "    </tr>\n",
              "    <tr>\n",
              "      <th>32</th>\n",
              "      <td>food_related</td>\n",
              "      <td>2017-09-30</td>\n",
              "    </tr>\n",
              "    <tr>\n",
              "      <th>33</th>\n",
              "      <td>food_related</td>\n",
              "      <td>2017-10-31</td>\n",
              "    </tr>\n",
              "    <tr>\n",
              "      <th>35</th>\n",
              "      <td>food_related</td>\n",
              "      <td>2017-12-31</td>\n",
              "    </tr>\n",
              "    <tr>\n",
              "      <th>36</th>\n",
              "      <td>food_related</td>\n",
              "      <td>2018-01-31</td>\n",
              "    </tr>\n",
              "    <tr>\n",
              "      <th>40</th>\n",
              "      <td>food_related</td>\n",
              "      <td>2018-05-31</td>\n",
              "    </tr>\n",
              "    <tr>\n",
              "      <th>41</th>\n",
              "      <td>food_related</td>\n",
              "      <td>2018-06-30</td>\n",
              "    </tr>\n",
              "    <tr>\n",
              "      <th>43</th>\n",
              "      <td>food_related</td>\n",
              "      <td>2018-08-31</td>\n",
              "    </tr>\n",
              "    <tr>\n",
              "      <th>44</th>\n",
              "      <td>food_related</td>\n",
              "      <td>2018-09-30</td>\n",
              "    </tr>\n",
              "    <tr>\n",
              "      <th>46</th>\n",
              "      <td>food_related</td>\n",
              "      <td>2018-11-30</td>\n",
              "    </tr>\n",
              "    <tr>\n",
              "      <th>48</th>\n",
              "      <td>food_related</td>\n",
              "      <td>2019-01-31</td>\n",
              "    </tr>\n",
              "    <tr>\n",
              "      <th>52</th>\n",
              "      <td>food_related</td>\n",
              "      <td>2019-05-31</td>\n",
              "    </tr>\n",
              "    <tr>\n",
              "      <th>53</th>\n",
              "      <td>food_related</td>\n",
              "      <td>2019-06-30</td>\n",
              "    </tr>\n",
              "    <tr>\n",
              "      <th>55</th>\n",
              "      <td>food_related</td>\n",
              "      <td>2019-08-31</td>\n",
              "    </tr>\n",
              "    <tr>\n",
              "      <th>56</th>\n",
              "      <td>food_related</td>\n",
              "      <td>2019-09-30</td>\n",
              "    </tr>\n",
              "    <tr>\n",
              "      <th>58</th>\n",
              "      <td>food_related</td>\n",
              "      <td>2019-11-30</td>\n",
              "    </tr>\n",
              "    <tr>\n",
              "      <th>60</th>\n",
              "      <td>food_related</td>\n",
              "      <td>2020-01-31</td>\n",
              "    </tr>\n",
              "    <tr>\n",
              "      <th>63</th>\n",
              "      <td>food_related</td>\n",
              "      <td>2020-04-30</td>\n",
              "    </tr>\n",
              "    <tr>\n",
              "      <th>64</th>\n",
              "      <td>food_related</td>\n",
              "      <td>2020-05-31</td>\n",
              "    </tr>\n",
              "    <tr>\n",
              "      <th>66</th>\n",
              "      <td>food_related</td>\n",
              "      <td>2020-07-31</td>\n",
              "    </tr>\n",
              "  </tbody>\n",
              "</table>\n",
              "</div>"
            ],
            "text/plain": [
              "         holiday         ds\n",
              "0   food_related 2015-01-31\n",
              "5   food_related 2015-06-30\n",
              "6   food_related 2015-07-31\n",
              "8   food_related 2015-09-30\n",
              "9   food_related 2015-10-31\n",
              "11  food_related 2015-12-31\n",
              "12  food_related 2016-01-31\n",
              "17  food_related 2016-06-30\n",
              "18  food_related 2016-07-31\n",
              "20  food_related 2016-09-30\n",
              "21  food_related 2016-10-31\n",
              "23  food_related 2016-12-31\n",
              "24  food_related 2017-01-31\n",
              "28  food_related 2017-05-31\n",
              "29  food_related 2017-06-30\n",
              "32  food_related 2017-09-30\n",
              "33  food_related 2017-10-31\n",
              "35  food_related 2017-12-31\n",
              "36  food_related 2018-01-31\n",
              "40  food_related 2018-05-31\n",
              "41  food_related 2018-06-30\n",
              "43  food_related 2018-08-31\n",
              "44  food_related 2018-09-30\n",
              "46  food_related 2018-11-30\n",
              "48  food_related 2019-01-31\n",
              "52  food_related 2019-05-31\n",
              "53  food_related 2019-06-30\n",
              "55  food_related 2019-08-31\n",
              "56  food_related 2019-09-30\n",
              "58  food_related 2019-11-30\n",
              "60  food_related 2020-01-31\n",
              "63  food_related 2020-04-30\n",
              "64  food_related 2020-05-31\n",
              "66  food_related 2020-07-31"
            ]
          },
          "metadata": {
            "tags": []
          },
          "execution_count": 30
        }
      ]
    },
    {
      "cell_type": "markdown",
      "metadata": {
        "id": "XbU4yPKJ4Oph"
      },
      "source": [
        "# cross validation"
      ]
    },
    {
      "cell_type": "code",
      "metadata": {
        "colab": {
          "base_uri": "https://localhost:8080/"
        },
        "id": "Hv1218HQ4R0F",
        "outputId": "13824712-69cb-427f-aa27-c27bccbd3ba6"
      },
      "source": [
        "param_grid = {  \n",
        "    'changepoint_prior_scale': [0.001, 0.01, 0.1],\n",
        "    'seasonality_prior_scale': [0.01, 0.1, 1.0, 10.0]\n",
        "    #'holidays_prior_scale' : [0.01, 0.1, 1.0, 10.0]\n",
        "    #'changepoint_range' : [0.8,0.85,0.9,0.95]\n",
        "}\n",
        "\n",
        "# Generate all combinations of parameters\n",
        "all_params = [dict(zip(param_grid.keys(), v)) for v in itertools.product(*param_grid.values())]\n",
        "mapes = []  # Store the RMSEs for each params here\n",
        "\n",
        "# Use cross validation to evaluate all parameters\n",
        "for params in all_params:\n",
        "    m = Prophet(**params).fit(train)  # Fit model with given params\n",
        "    df_cv = cross_validation(m, initial = 24,horizon='365 days', parallel=\"processes\")\n",
        "    #by default,initial_training_\n",
        "    #data_size=3*horizon_size and cutoff is every half horizon\n",
        "    df_p = performance_metrics(df_cv, rolling_window=1)\n",
        "    mapes.append(df_p['mape'].values[0])\n",
        "\n",
        "\n",
        "best_params = all_params[np.argmin(mapes)]\n",
        "print(best_params)"
      ],
      "execution_count": null,
      "outputs": [
        {
          "output_type": "stream",
          "text": [
            "INFO:fbprophet:Disabling weekly seasonality. Run prophet with weekly_seasonality=True to override this.\n",
            "INFO:fbprophet:Disabling daily seasonality. Run prophet with daily_seasonality=True to override this.\n",
            "INFO:fbprophet:Making 7 forecasts with cutoffs between 2015-08-01 00:00:00 and 2018-07-31 00:00:00\n",
            "WARNING:fbprophet:Seasonality has period of 365.25 days which is larger than initial window. Consider increasing initial.\n",
            "INFO:fbprophet:Applying in parallel with <concurrent.futures.process.ProcessPoolExecutor object at 0x7ff76f14d990>\n",
            "INFO:fbprophet:n_changepoints greater than number of observations. Using 4.\n",
            "INFO:fbprophet:n_changepoints greater than number of observations. Using 8.\n",
            "INFO:fbprophet:n_changepoints greater than number of observations. Using 14.\n",
            "INFO:fbprophet:n_changepoints greater than number of observations. Using 18.\n",
            "INFO:fbprophet:n_changepoints greater than number of observations. Using 23.\n",
            "INFO:fbprophet:Disabling weekly seasonality. Run prophet with weekly_seasonality=True to override this.\n",
            "INFO:fbprophet:Disabling daily seasonality. Run prophet with daily_seasonality=True to override this.\n",
            "INFO:fbprophet:Making 7 forecasts with cutoffs between 2015-08-01 00:00:00 and 2018-07-31 00:00:00\n",
            "WARNING:fbprophet:Seasonality has period of 365.25 days which is larger than initial window. Consider increasing initial.\n",
            "INFO:fbprophet:Applying in parallel with <concurrent.futures.process.ProcessPoolExecutor object at 0x7ff76ed21350>\n",
            "INFO:fbprophet:n_changepoints greater than number of observations. Using 4.\n",
            "INFO:fbprophet:n_changepoints greater than number of observations. Using 8.\n",
            "INFO:fbprophet:n_changepoints greater than number of observations. Using 14.\n",
            "INFO:fbprophet:n_changepoints greater than number of observations. Using 18.\n",
            "INFO:fbprophet:n_changepoints greater than number of observations. Using 23.\n",
            "INFO:fbprophet:Disabling weekly seasonality. Run prophet with weekly_seasonality=True to override this.\n",
            "INFO:fbprophet:Disabling daily seasonality. Run prophet with daily_seasonality=True to override this.\n",
            "INFO:fbprophet:Making 7 forecasts with cutoffs between 2015-08-01 00:00:00 and 2018-07-31 00:00:00\n",
            "WARNING:fbprophet:Seasonality has period of 365.25 days which is larger than initial window. Consider increasing initial.\n",
            "INFO:fbprophet:Applying in parallel with <concurrent.futures.process.ProcessPoolExecutor object at 0x7ff76eadc6d0>\n",
            "INFO:fbprophet:n_changepoints greater than number of observations. Using 4.\n",
            "INFO:fbprophet:n_changepoints greater than number of observations. Using 8.\n",
            "INFO:fbprophet:n_changepoints greater than number of observations. Using 14.\n",
            "INFO:fbprophet:n_changepoints greater than number of observations. Using 18.\n",
            "INFO:fbprophet:n_changepoints greater than number of observations. Using 23.\n",
            "INFO:fbprophet:Disabling weekly seasonality. Run prophet with weekly_seasonality=True to override this.\n",
            "INFO:fbprophet:Disabling daily seasonality. Run prophet with daily_seasonality=True to override this.\n",
            "INFO:fbprophet:Making 7 forecasts with cutoffs between 2015-08-01 00:00:00 and 2018-07-31 00:00:00\n",
            "WARNING:fbprophet:Seasonality has period of 365.25 days which is larger than initial window. Consider increasing initial.\n",
            "INFO:fbprophet:Applying in parallel with <concurrent.futures.process.ProcessPoolExecutor object at 0x7ff76ed8cb50>\n",
            "INFO:fbprophet:n_changepoints greater than number of observations. Using 4.\n",
            "INFO:fbprophet:n_changepoints greater than number of observations. Using 8.\n",
            "INFO:fbprophet:n_changepoints greater than number of observations. Using 14.\n",
            "INFO:fbprophet:n_changepoints greater than number of observations. Using 18.\n",
            "INFO:fbprophet:n_changepoints greater than number of observations. Using 23.\n",
            "INFO:fbprophet:Disabling weekly seasonality. Run prophet with weekly_seasonality=True to override this.\n",
            "INFO:fbprophet:Disabling daily seasonality. Run prophet with daily_seasonality=True to override this.\n",
            "INFO:fbprophet:Making 7 forecasts with cutoffs between 2015-08-01 00:00:00 and 2018-07-31 00:00:00\n",
            "WARNING:fbprophet:Seasonality has period of 365.25 days which is larger than initial window. Consider increasing initial.\n",
            "INFO:fbprophet:Applying in parallel with <concurrent.futures.process.ProcessPoolExecutor object at 0x7ff76ed8ce10>\n",
            "INFO:fbprophet:n_changepoints greater than number of observations. Using 4.\n",
            "INFO:fbprophet:n_changepoints greater than number of observations. Using 8.\n",
            "INFO:fbprophet:n_changepoints greater than number of observations. Using 14.\n",
            "INFO:fbprophet:n_changepoints greater than number of observations. Using 18.\n",
            "INFO:fbprophet:n_changepoints greater than number of observations. Using 23.\n",
            "INFO:fbprophet:Disabling weekly seasonality. Run prophet with weekly_seasonality=True to override this.\n",
            "INFO:fbprophet:Disabling daily seasonality. Run prophet with daily_seasonality=True to override this.\n",
            "INFO:fbprophet:Making 7 forecasts with cutoffs between 2015-08-01 00:00:00 and 2018-07-31 00:00:00\n",
            "WARNING:fbprophet:Seasonality has period of 365.25 days which is larger than initial window. Consider increasing initial.\n",
            "INFO:fbprophet:Applying in parallel with <concurrent.futures.process.ProcessPoolExecutor object at 0x7ff76ed48c50>\n",
            "INFO:fbprophet:n_changepoints greater than number of observations. Using 4.\n",
            "INFO:fbprophet:n_changepoints greater than number of observations. Using 8.\n",
            "INFO:fbprophet:n_changepoints greater than number of observations. Using 14.\n",
            "INFO:fbprophet:n_changepoints greater than number of observations. Using 18.\n",
            "INFO:fbprophet:n_changepoints greater than number of observations. Using 23.\n",
            "INFO:fbprophet:Disabling weekly seasonality. Run prophet with weekly_seasonality=True to override this.\n",
            "INFO:fbprophet:Disabling daily seasonality. Run prophet with daily_seasonality=True to override this.\n",
            "INFO:fbprophet:Making 7 forecasts with cutoffs between 2015-08-01 00:00:00 and 2018-07-31 00:00:00\n",
            "WARNING:fbprophet:Seasonality has period of 365.25 days which is larger than initial window. Consider increasing initial.\n",
            "INFO:fbprophet:Applying in parallel with <concurrent.futures.process.ProcessPoolExecutor object at 0x7ff76ed69ed0>\n",
            "INFO:fbprophet:n_changepoints greater than number of observations. Using 4.\n",
            "INFO:fbprophet:n_changepoints greater than number of observations. Using 8.\n",
            "INFO:fbprophet:n_changepoints greater than number of observations. Using 14.\n",
            "INFO:fbprophet:n_changepoints greater than number of observations. Using 18.\n",
            "INFO:fbprophet:n_changepoints greater than number of observations. Using 23.\n",
            "INFO:fbprophet:Disabling weekly seasonality. Run prophet with weekly_seasonality=True to override this.\n",
            "INFO:fbprophet:Disabling daily seasonality. Run prophet with daily_seasonality=True to override this.\n",
            "INFO:fbprophet:Making 7 forecasts with cutoffs between 2015-08-01 00:00:00 and 2018-07-31 00:00:00\n",
            "WARNING:fbprophet:Seasonality has period of 365.25 days which is larger than initial window. Consider increasing initial.\n",
            "INFO:fbprophet:Applying in parallel with <concurrent.futures.process.ProcessPoolExecutor object at 0x7ff76eadc6d0>\n",
            "INFO:fbprophet:n_changepoints greater than number of observations. Using 4.\n",
            "INFO:fbprophet:n_changepoints greater than number of observations. Using 8.\n",
            "INFO:fbprophet:n_changepoints greater than number of observations. Using 14.\n",
            "INFO:fbprophet:n_changepoints greater than number of observations. Using 18.\n",
            "INFO:fbprophet:n_changepoints greater than number of observations. Using 23.\n",
            "INFO:fbprophet:Disabling weekly seasonality. Run prophet with weekly_seasonality=True to override this.\n",
            "INFO:fbprophet:Disabling daily seasonality. Run prophet with daily_seasonality=True to override this.\n",
            "INFO:fbprophet:Making 7 forecasts with cutoffs between 2015-08-01 00:00:00 and 2018-07-31 00:00:00\n",
            "WARNING:fbprophet:Seasonality has period of 365.25 days which is larger than initial window. Consider increasing initial.\n",
            "INFO:fbprophet:Applying in parallel with <concurrent.futures.process.ProcessPoolExecutor object at 0x7ff774900b50>\n",
            "INFO:fbprophet:n_changepoints greater than number of observations. Using 4.\n",
            "INFO:fbprophet:n_changepoints greater than number of observations. Using 8.\n",
            "INFO:fbprophet:n_changepoints greater than number of observations. Using 14.\n",
            "INFO:fbprophet:n_changepoints greater than number of observations. Using 18.\n",
            "INFO:fbprophet:n_changepoints greater than number of observations. Using 23.\n",
            "INFO:fbprophet:Disabling weekly seasonality. Run prophet with weekly_seasonality=True to override this.\n",
            "INFO:fbprophet:Disabling daily seasonality. Run prophet with daily_seasonality=True to override this.\n",
            "INFO:fbprophet:Making 7 forecasts with cutoffs between 2015-08-01 00:00:00 and 2018-07-31 00:00:00\n",
            "WARNING:fbprophet:Seasonality has period of 365.25 days which is larger than initial window. Consider increasing initial.\n",
            "INFO:fbprophet:Applying in parallel with <concurrent.futures.process.ProcessPoolExecutor object at 0x7ff76ed69c50>\n",
            "INFO:fbprophet:n_changepoints greater than number of observations. Using 4.\n",
            "INFO:fbprophet:n_changepoints greater than number of observations. Using 8.\n",
            "INFO:fbprophet:n_changepoints greater than number of observations. Using 14.\n",
            "INFO:fbprophet:n_changepoints greater than number of observations. Using 18.\n",
            "INFO:fbprophet:n_changepoints greater than number of observations. Using 23.\n",
            "INFO:fbprophet:Disabling weekly seasonality. Run prophet with weekly_seasonality=True to override this.\n",
            "INFO:fbprophet:Disabling daily seasonality. Run prophet with daily_seasonality=True to override this.\n",
            "INFO:fbprophet:Making 7 forecasts with cutoffs between 2015-08-01 00:00:00 and 2018-07-31 00:00:00\n",
            "WARNING:fbprophet:Seasonality has period of 365.25 days which is larger than initial window. Consider increasing initial.\n",
            "INFO:fbprophet:Applying in parallel with <concurrent.futures.process.ProcessPoolExecutor object at 0x7ff76ed722d0>\n",
            "INFO:fbprophet:n_changepoints greater than number of observations. Using 4.\n",
            "INFO:fbprophet:n_changepoints greater than number of observations. Using 8.\n",
            "INFO:fbprophet:n_changepoints greater than number of observations. Using 14.\n",
            "INFO:fbprophet:n_changepoints greater than number of observations. Using 18.\n",
            "INFO:fbprophet:n_changepoints greater than number of observations. Using 23.\n",
            "INFO:fbprophet:Disabling weekly seasonality. Run prophet with weekly_seasonality=True to override this.\n",
            "INFO:fbprophet:Disabling daily seasonality. Run prophet with daily_seasonality=True to override this.\n",
            "INFO:fbprophet:Making 7 forecasts with cutoffs between 2015-08-01 00:00:00 and 2018-07-31 00:00:00\n",
            "WARNING:fbprophet:Seasonality has period of 365.25 days which is larger than initial window. Consider increasing initial.\n",
            "INFO:fbprophet:Applying in parallel with <concurrent.futures.process.ProcessPoolExecutor object at 0x7ff76f156610>\n",
            "INFO:fbprophet:n_changepoints greater than number of observations. Using 4.\n",
            "INFO:fbprophet:n_changepoints greater than number of observations. Using 8.\n",
            "INFO:fbprophet:n_changepoints greater than number of observations. Using 14.\n",
            "INFO:fbprophet:n_changepoints greater than number of observations. Using 18.\n",
            "INFO:fbprophet:n_changepoints greater than number of observations. Using 23.\n"
          ],
          "name": "stderr"
        },
        {
          "output_type": "stream",
          "text": [
            "{'changepoint_prior_scale': 0.01, 'seasonality_prior_scale': 0.1}\n"
          ],
          "name": "stdout"
        }
      ]
    },
    {
      "cell_type": "markdown",
      "metadata": {
        "id": "EnsLuPWhZ_YF"
      },
      "source": [
        "{'changepoint_prior_scale': 0.01, 'seasonality_prior_scale': 0.1}"
      ]
    },
    {
      "cell_type": "code",
      "metadata": {
        "id": "ckWH1s5MdhcD"
      },
      "source": [
        "\n",
        "m = Prophet(interval_width=0.95,yearly_seasonality=True,\n",
        "            changepoint_prior_scale=0.01,holidays=holidays,seasonality_prior_scale=0.1)\n",
        "#,changepoint_range=1,)\n"
      ],
      "execution_count": null,
      "outputs": []
    },
    {
      "cell_type": "code",
      "metadata": {
        "colab": {
          "base_uri": "https://localhost:8080/",
          "height": 225
        },
        "id": "B1klK4gX9J3S",
        "outputId": "5085a31c-2fbb-4235-fb29-552ef55dd9a1"
      },
      "source": [
        "ny_df_final.drop(['ds'], axis = 1).corr(method='pearson')"
      ],
      "execution_count": null,
      "outputs": [
        {
          "output_type": "execute_result",
          "data": {
            "text/html": [
              "<div>\n",
              "<style scoped>\n",
              "    .dataframe tbody tr th:only-of-type {\n",
              "        vertical-align: middle;\n",
              "    }\n",
              "\n",
              "    .dataframe tbody tr th {\n",
              "        vertical-align: top;\n",
              "    }\n",
              "\n",
              "    .dataframe thead th {\n",
              "        text-align: right;\n",
              "    }\n",
              "</style>\n",
              "<table border=\"1\" class=\"dataframe\">\n",
              "  <thead>\n",
              "    <tr style=\"text-align: right;\">\n",
              "      <th></th>\n",
              "      <th>MIN_TEMPERATURE_C</th>\n",
              "      <th>max_clients_month</th>\n",
              "      <th>total_consommation</th>\n",
              "      <th>max_pdl_total_daily_load</th>\n",
              "      <th>y</th>\n",
              "    </tr>\n",
              "  </thead>\n",
              "  <tbody>\n",
              "    <tr>\n",
              "      <th>MIN_TEMPERATURE_C</th>\n",
              "      <td>1.000000</td>\n",
              "      <td>-0.034793</td>\n",
              "      <td>-0.353991</td>\n",
              "      <td>-0.889470</td>\n",
              "      <td>-0.854300</td>\n",
              "    </tr>\n",
              "    <tr>\n",
              "      <th>max_clients_month</th>\n",
              "      <td>-0.034793</td>\n",
              "      <td>1.000000</td>\n",
              "      <td>-0.139208</td>\n",
              "      <td>0.190713</td>\n",
              "      <td>0.178039</td>\n",
              "    </tr>\n",
              "    <tr>\n",
              "      <th>total_consommation</th>\n",
              "      <td>-0.353991</td>\n",
              "      <td>-0.139208</td>\n",
              "      <td>1.000000</td>\n",
              "      <td>0.352043</td>\n",
              "      <td>0.187843</td>\n",
              "    </tr>\n",
              "    <tr>\n",
              "      <th>max_pdl_total_daily_load</th>\n",
              "      <td>-0.889470</td>\n",
              "      <td>0.190713</td>\n",
              "      <td>0.352043</td>\n",
              "      <td>1.000000</td>\n",
              "      <td>0.868119</td>\n",
              "    </tr>\n",
              "    <tr>\n",
              "      <th>y</th>\n",
              "      <td>-0.854300</td>\n",
              "      <td>0.178039</td>\n",
              "      <td>0.187843</td>\n",
              "      <td>0.868119</td>\n",
              "      <td>1.000000</td>\n",
              "    </tr>\n",
              "  </tbody>\n",
              "</table>\n",
              "</div>"
            ],
            "text/plain": [
              "                          MIN_TEMPERATURE_C  ...         y\n",
              "MIN_TEMPERATURE_C                  1.000000  ... -0.854300\n",
              "max_clients_month                 -0.034793  ...  0.178039\n",
              "total_consommation                -0.353991  ...  0.187843\n",
              "max_pdl_total_daily_load          -0.889470  ...  0.868119\n",
              "y                                 -0.854300  ...  1.000000\n",
              "\n",
              "[5 rows x 5 columns]"
            ]
          },
          "metadata": {
            "tags": []
          },
          "execution_count": 32
        }
      ]
    },
    {
      "cell_type": "code",
      "metadata": {
        "id": "BhUWOLDY_Lyu",
        "colab": {
          "base_uri": "https://localhost:8080/"
        },
        "outputId": "47dc713c-fe3e-46cc-e4a0-5496bfe416ed"
      },
      "source": [
        "#max_pdl_total_daily_load and MIN_TEMPERATURE_C are the most correlated variables with our target y\n",
        "m.add_regressor('MIN_TEMPERATURE_C',standardize=False)\n",
        "m.add_regressor('max_pdl_total_daily_load',standardize=False)\n"
      ],
      "execution_count": null,
      "outputs": [
        {
          "output_type": "execute_result",
          "data": {
            "text/plain": [
              "<fbprophet.forecaster.Prophet at 0x7f24af408650>"
            ]
          },
          "metadata": {
            "tags": []
          },
          "execution_count": 33
        }
      ]
    },
    {
      "cell_type": "code",
      "metadata": {
        "id": "-NbyPxRldhXl",
        "colab": {
          "base_uri": "https://localhost:8080/"
        },
        "outputId": "4cc99ffd-54b5-4791-885a-83d99faaa87f"
      },
      "source": [
        "m.fit(train)"
      ],
      "execution_count": null,
      "outputs": [
        {
          "output_type": "stream",
          "text": [
            "INFO:fbprophet:Disabling weekly seasonality. Run prophet with weekly_seasonality=True to override this.\n",
            "INFO:fbprophet:Disabling daily seasonality. Run prophet with daily_seasonality=True to override this.\n"
          ],
          "name": "stderr"
        },
        {
          "output_type": "execute_result",
          "data": {
            "text/plain": [
              "<fbprophet.forecaster.Prophet at 0x7f24af408650>"
            ]
          },
          "metadata": {
            "tags": []
          },
          "execution_count": 34
        }
      ]
    },
    {
      "cell_type": "code",
      "metadata": {
        "id": "9dUI9dGWxyiz",
        "colab": {
          "base_uri": "https://localhost:8080/"
        },
        "outputId": "0867ad81-5eeb-4f34-bafd-91ec2feaa501"
      },
      "source": [
        "m.params"
      ],
      "execution_count": null,
      "outputs": [
        {
          "output_type": "execute_result",
          "data": {
            "text/plain": [
              "{'beta': array([[-2.39700558e-02, -7.99117590e-02,  7.73033462e-03,\n",
              "          1.96713940e-02, -1.81652715e-02,  3.44370986e-02,\n",
              "         -8.13226256e-03,  2.98655436e-02, -1.29044551e-01,\n",
              "          2.67625353e-02, -3.21073867e-02,  5.35335981e-04,\n",
              "         -1.14645670e-01, -7.52749166e-02,  1.65116932e-02,\n",
              "         -2.43334602e-02,  1.51956409e-02, -5.39914090e-02,\n",
              "          2.38691458e-02, -3.35422852e-04,  5.19324764e-02,\n",
              "         -1.36349474e-02,  1.66818217e-05]]),\n",
              " 'delta': array([[-6.88797954e-12, -8.75630622e-12,  6.06638031e-12,\n",
              "         -3.27946069e-12,  1.11095983e-11, -6.90111878e-12,\n",
              "          9.37065091e-12, -4.40537163e-13,  1.16349203e-11,\n",
              "          9.56332403e-12,  2.23371005e-12, -2.37571185e-12,\n",
              "          1.61362533e-12,  9.35290907e-12,  1.47635657e-11,\n",
              "          4.79485883e-12,  3.33314827e-12,  1.09250270e-11,\n",
              "          1.28018667e-07,  6.84024727e-12, -4.95592579e-12,\n",
              "          7.38644277e-12,  4.79181784e-13, -5.97587220e-12,\n",
              "          4.19271468e-12]]),\n",
              " 'k': array([[0.00486203]]),\n",
              " 'm': array([[0.70726854]]),\n",
              " 'sigma_obs': array([[0.03280497]]),\n",
              " 'trend': array([[0.70726854, 0.70734438, 0.70742835, 0.70750961, 0.70759358,\n",
              "         0.70767484, 0.7077588 , 0.70784277, 0.70792403, 0.708008  ,\n",
              "         0.70808926, 0.70817323, 0.7082572 , 0.70833575, 0.70841971,\n",
              "         0.70850097, 0.70858494, 0.7086662 , 0.70875017, 0.70883414,\n",
              "         0.7089154 , 0.70899937, 0.70908063, 0.70916459, 0.70924856,\n",
              "         0.7093244 , 0.70940837, 0.70948963, 0.7095736 , 0.70965486,\n",
              "         0.70973883, 0.7098228 , 0.70990406, 0.70998802, 0.71006928,\n",
              "         0.71015325, 0.71023722, 0.71031306, 0.71039704, 0.7104783 ,\n",
              "         0.71056227, 0.71064353, 0.7107275 , 0.71081147, 0.71089273,\n",
              "         0.7109767 , 0.71105796, 0.71114193, 0.7112259 , 0.71130175,\n",
              "         0.71138572, 0.71146698, 0.71155095, 0.71163221, 0.71171618,\n",
              "         0.71180015, 0.71188142, 0.71196539, 0.71204665, 0.71213062]])}"
            ]
          },
          "metadata": {
            "tags": []
          },
          "execution_count": 35
        }
      ]
    },
    {
      "cell_type": "code",
      "metadata": {
        "id": "iw4iZd6Txyfx"
      },
      "source": [
        "future=pd.DataFrame({'ds' : []})\n",
        "future.ds=test.ds"
      ],
      "execution_count": null,
      "outputs": []
    },
    {
      "cell_type": "code",
      "metadata": {
        "colab": {
          "base_uri": "https://localhost:8080/",
          "height": 268
        },
        "id": "paPer-c6JpJa",
        "outputId": "fafefc6a-15b4-49ce-d2ee-52663a030a14"
      },
      "source": [
        "future"
      ],
      "execution_count": null,
      "outputs": [
        {
          "output_type": "execute_result",
          "data": {
            "text/html": [
              "<div>\n",
              "<style scoped>\n",
              "    .dataframe tbody tr th:only-of-type {\n",
              "        vertical-align: middle;\n",
              "    }\n",
              "\n",
              "    .dataframe tbody tr th {\n",
              "        vertical-align: top;\n",
              "    }\n",
              "\n",
              "    .dataframe thead th {\n",
              "        text-align: right;\n",
              "    }\n",
              "</style>\n",
              "<table border=\"1\" class=\"dataframe\">\n",
              "  <thead>\n",
              "    <tr style=\"text-align: right;\">\n",
              "      <th></th>\n",
              "      <th>ds</th>\n",
              "    </tr>\n",
              "  </thead>\n",
              "  <tbody>\n",
              "    <tr>\n",
              "      <th>60</th>\n",
              "      <td>2020-01-31</td>\n",
              "    </tr>\n",
              "    <tr>\n",
              "      <th>61</th>\n",
              "      <td>2020-02-29</td>\n",
              "    </tr>\n",
              "    <tr>\n",
              "      <th>62</th>\n",
              "      <td>2020-03-31</td>\n",
              "    </tr>\n",
              "    <tr>\n",
              "      <th>63</th>\n",
              "      <td>2020-04-30</td>\n",
              "    </tr>\n",
              "    <tr>\n",
              "      <th>64</th>\n",
              "      <td>2020-05-31</td>\n",
              "    </tr>\n",
              "    <tr>\n",
              "      <th>65</th>\n",
              "      <td>2020-06-30</td>\n",
              "    </tr>\n",
              "    <tr>\n",
              "      <th>66</th>\n",
              "      <td>2020-07-31</td>\n",
              "    </tr>\n",
              "  </tbody>\n",
              "</table>\n",
              "</div>"
            ],
            "text/plain": [
              "           ds\n",
              "60 2020-01-31\n",
              "61 2020-02-29\n",
              "62 2020-03-31\n",
              "63 2020-04-30\n",
              "64 2020-05-31\n",
              "65 2020-06-30\n",
              "66 2020-07-31"
            ]
          },
          "metadata": {
            "tags": []
          },
          "execution_count": 37
        }
      ]
    },
    {
      "cell_type": "code",
      "metadata": {
        "id": "q0qk2WYrByYR"
      },
      "source": [
        "\n",
        "future['total_consommation'] = test['total_consommation']\n",
        "future['max_pdl_total_daily_load'] = test['max_pdl_total_daily_load']\n",
        "future['max_clients_month'] = test['max_clients_month']\n",
        "future['MIN_TEMPERATURE_C'] = test['MIN_TEMPERATURE_C']\n",
        "\n"
      ],
      "execution_count": null,
      "outputs": []
    },
    {
      "cell_type": "code",
      "metadata": {
        "colab": {
          "base_uri": "https://localhost:8080/",
          "height": 205
        },
        "id": "nu2XNfK3WEoZ",
        "outputId": "ff8fb5c0-6854-4661-a47d-bd291f90466a"
      },
      "source": [
        "forecast = m.predict(future)\n",
        "forecast[['ds', 'yhat', 'yhat_lower', 'yhat_upper']].head()"
      ],
      "execution_count": null,
      "outputs": [
        {
          "output_type": "execute_result",
          "data": {
            "text/html": [
              "<div>\n",
              "<style scoped>\n",
              "    .dataframe tbody tr th:only-of-type {\n",
              "        vertical-align: middle;\n",
              "    }\n",
              "\n",
              "    .dataframe tbody tr th {\n",
              "        vertical-align: top;\n",
              "    }\n",
              "\n",
              "    .dataframe thead th {\n",
              "        text-align: right;\n",
              "    }\n",
              "</style>\n",
              "<table border=\"1\" class=\"dataframe\">\n",
              "  <thead>\n",
              "    <tr style=\"text-align: right;\">\n",
              "      <th></th>\n",
              "      <th>ds</th>\n",
              "      <th>yhat</th>\n",
              "      <th>yhat_lower</th>\n",
              "      <th>yhat_upper</th>\n",
              "    </tr>\n",
              "  </thead>\n",
              "  <tbody>\n",
              "    <tr>\n",
              "      <th>0</th>\n",
              "      <td>2020-01-31</td>\n",
              "      <td>1591.167704</td>\n",
              "      <td>1482.355848</td>\n",
              "      <td>1703.985156</td>\n",
              "    </tr>\n",
              "    <tr>\n",
              "      <th>1</th>\n",
              "      <td>2020-02-29</td>\n",
              "      <td>1476.738951</td>\n",
              "      <td>1374.076629</td>\n",
              "      <td>1578.268197</td>\n",
              "    </tr>\n",
              "    <tr>\n",
              "      <th>2</th>\n",
              "      <td>2020-03-31</td>\n",
              "      <td>1558.756392</td>\n",
              "      <td>1451.367540</td>\n",
              "      <td>1657.103603</td>\n",
              "    </tr>\n",
              "    <tr>\n",
              "      <th>3</th>\n",
              "      <td>2020-04-30</td>\n",
              "      <td>1468.777736</td>\n",
              "      <td>1360.640579</td>\n",
              "      <td>1574.056774</td>\n",
              "    </tr>\n",
              "    <tr>\n",
              "      <th>4</th>\n",
              "      <td>2020-05-31</td>\n",
              "      <td>1362.295448</td>\n",
              "      <td>1258.873992</td>\n",
              "      <td>1469.860361</td>\n",
              "    </tr>\n",
              "  </tbody>\n",
              "</table>\n",
              "</div>"
            ],
            "text/plain": [
              "          ds         yhat   yhat_lower   yhat_upper\n",
              "0 2020-01-31  1591.167704  1482.355848  1703.985156\n",
              "1 2020-02-29  1476.738951  1374.076629  1578.268197\n",
              "2 2020-03-31  1558.756392  1451.367540  1657.103603\n",
              "3 2020-04-30  1468.777736  1360.640579  1574.056774\n",
              "4 2020-05-31  1362.295448  1258.873992  1469.860361"
            ]
          },
          "metadata": {
            "tags": []
          },
          "execution_count": 39
        }
      ]
    },
    {
      "cell_type": "code",
      "metadata": {
        "id": "wpNP1pEAxybY",
        "colab": {
          "base_uri": "https://localhost:8080/",
          "height": 205
        },
        "outputId": "2607a0bd-2e72-4864-98ba-d8c9582a7694"
      },
      "source": [
        "\n",
        "forecast[['ds', 'yhat', 'yhat_lower', 'yhat_upper']].tail()"
      ],
      "execution_count": null,
      "outputs": [
        {
          "output_type": "execute_result",
          "data": {
            "text/html": [
              "<div>\n",
              "<style scoped>\n",
              "    .dataframe tbody tr th:only-of-type {\n",
              "        vertical-align: middle;\n",
              "    }\n",
              "\n",
              "    .dataframe tbody tr th {\n",
              "        vertical-align: top;\n",
              "    }\n",
              "\n",
              "    .dataframe thead th {\n",
              "        text-align: right;\n",
              "    }\n",
              "</style>\n",
              "<table border=\"1\" class=\"dataframe\">\n",
              "  <thead>\n",
              "    <tr style=\"text-align: right;\">\n",
              "      <th></th>\n",
              "      <th>ds</th>\n",
              "      <th>yhat</th>\n",
              "      <th>yhat_lower</th>\n",
              "      <th>yhat_upper</th>\n",
              "    </tr>\n",
              "  </thead>\n",
              "  <tbody>\n",
              "    <tr>\n",
              "      <th>2</th>\n",
              "      <td>2020-03-31</td>\n",
              "      <td>1558.756392</td>\n",
              "      <td>1451.367540</td>\n",
              "      <td>1657.103603</td>\n",
              "    </tr>\n",
              "    <tr>\n",
              "      <th>3</th>\n",
              "      <td>2020-04-30</td>\n",
              "      <td>1468.777736</td>\n",
              "      <td>1360.640579</td>\n",
              "      <td>1574.056774</td>\n",
              "    </tr>\n",
              "    <tr>\n",
              "      <th>4</th>\n",
              "      <td>2020-05-31</td>\n",
              "      <td>1362.295448</td>\n",
              "      <td>1258.873992</td>\n",
              "      <td>1469.860361</td>\n",
              "    </tr>\n",
              "    <tr>\n",
              "      <th>5</th>\n",
              "      <td>2020-06-30</td>\n",
              "      <td>1299.615659</td>\n",
              "      <td>1193.658606</td>\n",
              "      <td>1403.010656</td>\n",
              "    </tr>\n",
              "    <tr>\n",
              "      <th>6</th>\n",
              "      <td>2020-07-31</td>\n",
              "      <td>1208.118626</td>\n",
              "      <td>1096.882661</td>\n",
              "      <td>1316.116788</td>\n",
              "    </tr>\n",
              "  </tbody>\n",
              "</table>\n",
              "</div>"
            ],
            "text/plain": [
              "          ds         yhat   yhat_lower   yhat_upper\n",
              "2 2020-03-31  1558.756392  1451.367540  1657.103603\n",
              "3 2020-04-30  1468.777736  1360.640579  1574.056774\n",
              "4 2020-05-31  1362.295448  1258.873992  1469.860361\n",
              "5 2020-06-30  1299.615659  1193.658606  1403.010656\n",
              "6 2020-07-31  1208.118626  1096.882661  1316.116788"
            ]
          },
          "metadata": {
            "tags": []
          },
          "execution_count": 40
        }
      ]
    },
    {
      "cell_type": "code",
      "metadata": {
        "id": "SUhl1klTxyYo",
        "colab": {
          "base_uri": "https://localhost:8080/",
          "height": 441
        },
        "outputId": "b0824f38-e516-4642-f2db-c0e99ca36748"
      },
      "source": [
        "fig=m.plot(forecast)\n"
      ],
      "execution_count": null,
      "outputs": [
        {
          "output_type": "display_data",
          "data": {
            "image/png": "[encoded data removed]",
            "text/plain": [
              "<Figure size 720x432 with 1 Axes>"
            ]
          },
          "metadata": {
            "tags": []
          }
        }
      ]
    },
    {
      "cell_type": "code",
      "metadata": {
        "id": "MRY3ZMDKxyVX",
        "colab": {
          "base_uri": "https://localhost:8080/",
          "height": 873
        },
        "outputId": "0bfaa343-26ef-4b23-9733-87248ede6a98"
      },
      "source": [
        "fig2 = m.plot_components(forecast)"
      ],
      "execution_count": null,
      "outputs": [
        {
          "output_type": "display_data",
          "data": {
            "image/png": "[encoded data removed]",
            "text/plain": [
              "<Figure size 648x864 with 4 Axes>"
            ]
          },
          "metadata": {
            "tags": []
          }
        }
      ]
    },
    {
      "cell_type": "code",
      "metadata": {
        "colab": {
          "base_uri": "https://localhost:8080/",
          "height": 441
        },
        "id": "Lgtg5Wpi1h1c",
        "outputId": "6ed954c9-cc1b-4a84-ac05-14320e68b95a"
      },
      "source": [
        "from fbprophet.plot import add_changepoints_to_plot\n",
        "a = add_changepoints_to_plot(fig.gca(),m,forecast)\n",
        "fig"
      ],
      "execution_count": null,
      "outputs": [
        {
          "output_type": "execute_result",
          "data": {
            "image/png": "[encoded data removed]",
            "text/plain": [
              "<Figure size 720x432 with 1 Axes>"
            ]
          },
          "metadata": {
            "tags": []
          },
          "execution_count": 43
        }
      ]
    },
    {
      "cell_type": "code",
      "metadata": {
        "id": "4y-I9JHka7-R"
      },
      "source": [
        "def timeseries_evaluation_metrics_func(y_true, y_pred):\n",
        "  def mean_absolute_percentage_error(y_true, y_pred):\n",
        "    y_true, y_pred = np.array(y_true), np.array(y_pred)\n",
        "    return np.mean(np.abs((y_true - y_pred) / y_true)) * 100\n",
        "  def smape(y_true,y_pred):\n",
        "    y_true, y_pred = np.array(y_true), np.array(y_pred)\n",
        "    return 2/y_true.shape[0]*np.sum(np.abs(y_true-y_pred))/np.sum((np.abs(y_true)+np.abs(y_pred)))*100\n",
        "  def mase(y_true,y_pred):\n",
        "    y_true, y_pred = np.array(y_true), np.array(y_pred)\n",
        "    naive_pred=y_true[1:]\n",
        "    return 1/y_true.shape[0]*np.sum(np.abs(y_true-y_pred))/np.sum(np.abs(y_true[:len(y_true)-1]-naive_pred))*(y_true.shape[0]-1)\n",
        "  #def owe(y_true,y_pred):\n",
        "   # return (mase(y_true,y_pred)+smape(y_true,y_pred))/2\n",
        "\n",
        "  print('Evaluation metric results:-')\n",
        "  print(f'MSE is : {metrics.mean_squared_error(y_true, y_pred)}')\n",
        "  print(f'MAE is : {metrics.mean_absolute_error(y_true, y_pred)}')\n",
        "  print(f'RMSE is : {np.sqrt(metrics.mean_squared_error(y_true, y_pred))}')\n",
        "  print(f'MAPE is : {mean_absolute_percentage_error(y_true, y_pred)} %')\n",
        "  print(f'R2 is : {metrics.r2_score(y_true, y_pred)}',end='\\n\\n')\n",
        "  print('SMAPE is : '+str(smape(y_true,y_pred))+'\\n')\n",
        "  print('MASE is : '+str(mase(y_true,y_pred)))\n",
        "  return"
      ],
      "execution_count": null,
      "outputs": []
    },
    {
      "cell_type": "code",
      "metadata": {
        "colab": {
          "base_uri": "https://localhost:8080/"
        },
        "id": "fMhLdXC3a8L0",
        "outputId": "77022b0e-df7e-4905-c9a3-3ba81555461b"
      },
      "source": [
        "from sklearn import metrics\n",
        "import numpy as np\n",
        "\n",
        "timeseries_evaluation_metrics_func(test['y'], forecast['yhat'])"
      ],
      "execution_count": null,
      "outputs": [
        {
          "output_type": "stream",
          "text": [
            "Evaluation metric results:-\n",
            "MSE is : 11780.48070599861\n",
            "MAE is : 91.33202096702578\n",
            "RMSE is : 108.53792289333074\n",
            "MAPE is : 7.173787520524498 %\n",
            "R2 is : 0.6777911747600183\n",
            "\n",
            "SMAPE is : 0.9306550316222583\n",
            "\n",
            "MASE is : 0.7098343598473507\n"
          ],
          "name": "stdout"
        }
      ]
    },
    {
      "cell_type": "code",
      "metadata": {
        "colab": {
          "base_uri": "https://localhost:8080/",
          "height": 413
        },
        "id": "d9DLNEYMa8M0",
        "outputId": "f356684d-d474-4b32-ae83-79297de5c8cf"
      },
      "source": [
        "from matplotlib.pyplot import figure\n",
        "\n",
        "figure(figsize=(8, 6), dpi=80)\n",
        "plt.plot(forecast['ds'],test['y'],label='actual')\n",
        "plt.plot(forecast['ds'],forecast['yhat'],label='Pred')\n",
        "plt.legend()\n",
        "#plt.savefig('xgboost_test')\n",
        "plt.show()"
      ],
      "execution_count": null,
      "outputs": [
        {
          "output_type": "display_data",
          "data": {
            "image/png": "[encoded data removed]",
            "text/plain": [
              "<Figure size 640x480 with 1 Axes>"
            ]
          },
          "metadata": {
            "tags": [],
            "needs_background": "light"
          }
        }
      ]
    },
    {
      "cell_type": "code",
      "metadata": {
        "id": "vOOVK4EnCeLa"
      },
      "source": [
        ""
      ],
      "execution_count": null,
      "outputs": []
    },
    {
      "cell_type": "markdown",
      "metadata": {
        "id": "lITnbUIH_Fe_"
      },
      "source": [
        "# peak period"
      ]
    },
    {
      "cell_type": "code",
      "metadata": {
        "id": "V-LF7EWR_HUp"
      },
      "source": [
        ""
      ],
      "execution_count": null,
      "outputs": []
    },
    {
      "cell_type": "code",
      "metadata": {
        "colab": {
          "base_uri": "https://localhost:8080/"
        },
        "id": "hfyAP4po_Hy8",
        "outputId": "905f155f-afc7-456d-c63d-672b22b3983b"
      },
      "source": [
        "from sklearn import metrics\n",
        "import numpy as np\n",
        "\n",
        "timeseries_evaluation_metrics_func(test['y'][:3], forecast['yhat'][:3])"
      ],
      "execution_count": null,
      "outputs": [
        {
          "output_type": "stream",
          "text": [
            "Evaluation metric results:-\n",
            "MSE is : 3601.068631272663\n",
            "MAE is : 50.887682214288816\n",
            "RMSE is : 60.0089045998397\n",
            "MAPE is : 3.4390047849149403 %\n",
            "R2 is : -0.5120657684731718\n",
            "\n",
            "SMAPE is : 1.1183291141201126\n",
            "\n",
            "MASE is : 0.8411187142857656\n"
          ],
          "name": "stdout"
        }
      ]
    },
    {
      "cell_type": "code",
      "metadata": {
        "colab": {
          "base_uri": "https://localhost:8080/",
          "height": 413
        },
        "id": "nw2qVFJu_Hy9",
        "outputId": "cc8cec08-0867-43e8-bdfb-5584a9911243"
      },
      "source": [
        "from matplotlib.pyplot import figure\n",
        "\n",
        "figure(figsize=(8, 6), dpi=80)\n",
        "plt.plot(forecast['ds'][:3],test['y'][:3],label='actual')\n",
        "plt.plot(forecast['ds'][:3],forecast['yhat'][:3],label='Pred')\n",
        "plt.legend()\n",
        "plt.show()"
      ],
      "execution_count": null,
      "outputs": [
        {
          "output_type": "display_data",
          "data": {
            "image/png": "[encoded data removed]",
            "text/plain": [
              "<Figure size 640x480 with 1 Axes>"
            ]
          },
          "metadata": {
            "tags": [],
            "needs_background": "light"
          }
        }
      ]
    },
    {
      "cell_type": "code",
      "metadata": {
        "id": "Egwz0_HjCoPG"
      },
      "source": [
        ""
      ],
      "execution_count": null,
      "outputs": []
    }
  ]
}