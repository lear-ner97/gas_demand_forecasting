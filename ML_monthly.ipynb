{
  "nbformat": 4,
  "nbformat_minor": 0,
  "metadata": {
    "colab": {
      "name": "ML_monthly.ipynb",
      "provenance": [],
      "collapsed_sections": [],
      "toc_visible": true
    },
    "kernelspec": {
      "name": "python3",
      "display_name": "Python 3"
    },
    "language_info": {
      "name": "python"
    }
  },
  "cells": [
    {
      "cell_type": "markdown",
      "metadata": {
        "id": "GgMrPZLBHnOo"
      },
      "source": [
        "# this notebook represents short-term forecasting(monthly)"
      ]
    },
    {
      "cell_type": "markdown",
      "metadata": {
        "id": "IKIY1WhO8z57"
      },
      "source": [
        "refs:\n",
        "\n",
        "\n",
        "1.   https://towardsdatascience.com/how-not-to-use-machine-learning-for-time-series-forecasting-avoiding-the-pitfalls-19f9d7adf424\n",
        "2.   (sklearn)https://towardsdatascience.com/time-series-modeling-using-scikit-pandas-and-numpy-682e3b8db8d1\n",
        "3.   https://towardsdatascience.com/sktime-a-unified-python-library-for-time-series-machine-learning-3c103c139a55\n",
        "4.   https://stackoverflow.com/questions/63517126/any-way-to-predict-monthly-time-series-with-scikit-learn-in-python\n",
        "5.   https://paperswithcode.com/paper/forecasting-foreign-exchange-rate-a\n",
        "6. https://github.com/alan-turing-institute/sktime/blob/main/examples/01_forecasting.ipynb\n",
        "7. https://arxiv.org/pdf/2005.08067.pdf (sktime paper-metrics p9)\n",
        "\n",
        "\n",
        "\n",
        "\n",
        "\n",
        "\n"
      ]
    },
    {
      "cell_type": "markdown",
      "metadata": {
        "id": "2iMMCpIyL46i"
      },
      "source": [
        "fine tuning RF : \n",
        "\n",
        "*   https://towardsdatascience.com/hyperparameter-tuning-the-random-forest-in-python-using-scikit-learn-28d2aa77dd74\n",
        "*   xgboost: https://machinelearningmastery.com/xgboost-for-time-series-forecasting/\n",
        "* to read: https://towardsdatascience.com/random-forest-hyperparameters-and-how-to-fine-tune-them-17aee785ee0d \n",
        "\n"
      ]
    },
    {
      "cell_type": "markdown",
      "metadata": {
        "id": "V3mfVfCumG9k"
      },
      "source": [
        "Regarding a machine learning paper, consider starting by reviewing papers related to your work (Google Scholar may help) and write a section about it (keep in mind how your work relates to them and what innovation it brings to the field, and write about it). Then write sections for describing your dataset(s), for describing your algorithms and methodology, and why you have selected them. Also, don’t forget to write about your results (you will see how a machine learning paper is organized by reviewing other papers anyway).\n",
        "\n",
        "At the end, get ready to answer the reviews you will receive some time after submitting.\n",
        "\n",
        "It would be easier if you already have academic experience on researching or if you have a professor or experienced researcher to advise you with that. Also, at least talk to someone with academic experience to advise you WHERE you should submit your paper, given your work subject.\n",
        "\n",
        "In summary: yes, you can! But it will be a lot easier if you have an advisor, at least…\n",
        "\n",
        "\n"
      ]
    },
    {
      "cell_type": "markdown",
      "metadata": {
        "id": "yYirXA1MqJYx"
      },
      "source": [
        "One also needs to choose the journal which is most suited to the subject field of the article. Is the article a review article or a piece of original investigation? Does the study provide incremental gains in knowledge or is there something exceptionally novel to report? Journals and fields will vary in what they consider appropriate and which formats they publish.\n",
        "\n",
        "Depending on the journal, choosing an appropriate editor(s) is the final step. There may be a list of editors and reviewers to choose from and it makes sense to choose someone who works in a closely related field."
      ]
    },
    {
      "cell_type": "markdown",
      "metadata": {
        "id": "jafUzMrprfnK"
      },
      "source": [
        "The stages of publishing research may differ by field and publisher, but broadly you'll follow these steps:\n",
        "\n",
        "Do the research\n",
        "Decide what research results you want to publish together as an account of your research findings. This should be decided independently of the direction of the results, i.e. whether or not you got the results you wanted.\n",
        "Discuss authorship with those who contributed to the research\n",
        "Draft the text, tables and figures and work with all the authors on revising and editing the paper. Anyone involved in this process who is not an author should be acknowledged.\n",
        "Optionally, get feedback from colleagues about the manuscript\n",
        "Optionally, get the paper edited by a language editing service\n",
        "Get approval from all the authors of the version to be submitted\n",
        "Agree among the authors where you will submit and how any page charges or article processing charges will be paid\n",
        "Have the underlying data and any code ready to share on request or ideally deposit this publicly. Also have documentation such as of ethics approval ready.\n",
        "Prepare a cover letter and the manuscript files\n",
        "Read the instructions for authors of the target journal, check you comply with their policies\n",
        "Submit the article via the online submission\n",
        "The article will undergo different initials checks / triage depending on the journal, such as scope or issues like reporting.\n",
        "If the paper is not rejected, it will be assigned to an editor, either a staff editor or an academic editor. In some journals, the Editor-in-Chief decides this allocation.\n",
        "The editor will decide if the paper is suitable for peer review. If not, they may reject the paper (often called a “desk reject”) or ask for revisions. Some journals discuss decisions or require approval by the EiC or a section editor, others give individual editors autonomy in their decisions.\n",
        "Most journals require peer review before a paper can be accepted, though some rely on editorial review. Peer reviewers are experts in the topic and/or methods of the research. They may be selected from a database of reviewers, researchers the editors knows of themselves, or chosen based on their publication record.\n",
        "Potential reviewers are asked to review, usually by email but occasionally by phone. If they agree, they will be sent the paper and given anything from a few days to several weeks to submit their review. The number of reviewers is usually two or three, but can vary. If reviewers decline, they may suggest alternatives. Publishing staff often support editors in this process.\n",
        "Reviewers will usually send their comments via the online system or email. They might be asked to answer specific questions and are often asked about their recommendation (accept/revise/reject).\n",
        "Once the editor has enough reviews, they will make their decision based on the reviews, the journal guidelines, and their own assessment of the paper and the reviewers' expertise. The editor may be able to overrule the reviewers. Their decision might need to be approved or discussed. They will send their decision, usually by email, to the authors.\n",
        "If the article needs revisions, the authors will be asked to resubmit by a certain date. That deadline can often be extended. Authors might need to do more research, a reanalysis, or revise the language.\n",
        "If the article is rejected, the authors might appeal the decision or be allowed to resubmit to the same journal if they address all the editor and reviewer concerns. Otherwise, go back to step 10 at the next journal of the authors' choice.\n",
        "If revised, editor might make the next decision themselves or send the paper for re-review\n",
        "Once accepted, the paper might be posted publicly as an “in press” version or this might wait until production is complete\n",
        "During production, typesetting, formatting, copyediting and other checks will be performed by the publisher\n",
        "The final article is then formally published, usually as HTML and/or PDF, and sent to indexing services"
      ]
    },
    {
      "cell_type": "code",
      "metadata": {
        "id": "scyRsTjNg2Jt"
      },
      "source": [
        "#ref 1\n",
        "#make zoom on pred vs test data\n",
        "#make cross-correlation between pred-test data\n",
        "#dont be overconfident with traditional accuracy metrics : r2, mae,...\n",
        "#ref2\n",
        "#A better alternative for cross validation on time series data (than K-fold CV) is \n",
        "#Forward Chaining strategy.\n",
        "\n",
        "#sktime tuto github [6]\n",
        "#1.2.1, 1.2.2, 1.3, 1.4.1, 3.3(tuning), 3.4 (ensembling)\n",
        "#LSTM can overcome the problem of back-propagated error decay through memory blocks of LSTM. In \n",
        "#contrast, MLP) models very often face the problem ofoverfitting, backpropagated error decay, \n",
        "#and it cannot automatically determine the optimal time lags while fitting time-series data[5]\n",
        "\n",
        "#ML mastery: xgboost, Random Forest"
      ],
      "execution_count": null,
      "outputs": []
    },
    {
      "cell_type": "code",
      "metadata": {
        "id": "1HRWeLc2Gc10"
      },
      "source": [
        "\n",
        "from numpy import argsort\n",
        "from sklearn.model_selection import GridSearchCV\n",
        "from sklearn.metrics import mean_absolute_error\n",
        "from sklearn.ensemble import VotingRegressor\n",
        "import pandas as pd\n",
        "from sklearn.preprocessing import MinMaxScaler\n",
        "from numpy import concatenate\n",
        "from sklearn.model_selection import TimeSeriesSplit\n",
        "from xgboost import XGBRegressor\n",
        "from sklearn.model_selection import cross_val_score\n",
        "import matplotlib.pyplot as plt\n",
        "from sklearn.linear_model import LinearRegression\n",
        "from sklearn.neural_network import MLPRegressor\n",
        "from sklearn.neighbors import KNeighborsRegressor\n",
        "from sklearn.ensemble import RandomForestRegressor\n",
        "from sklearn.gaussian_process import GaussianProcessRegressor\n",
        "from sklearn.linear_model import Ridge\n",
        "from sklearn import linear_model\n",
        "from sklearn.svm import SVR\n",
        "from sklearn.linear_model import ElasticNet\n",
        "import sklearn\n",
        "from sklearn import metrics\n",
        "import numpy as np\n",
        "import matplotlib.dates as mdates"
      ],
      "execution_count": null,
      "outputs": []
    },
    {
      "cell_type": "code",
      "metadata": {
        "id": "pAw-KeR0XqqF",
        "colab": {
          "base_uri": "https://localhost:8080/"
        },
        "outputId": "776c4d99-31f0-4d1b-eb9b-efa1b633f794"
      },
      "source": [
        "#read multivariate data\n",
        "df=pd.read_csv('/content/clean_monthly_df_human_supervised.csv')\n",
        "df.time=pd.to_datetime(df.time,dayfirst=True)\n",
        "df.columns"
      ],
      "execution_count": null,
      "outputs": [
        {
          "output_type": "execute_result",
          "data": {
            "text/plain": [
              "Index(['time', 'MIN_TEMPERATURE_C_t_1', 'max_clients_month_t_1',\n",
              "       'total_Holiday_Food_Related_t_1', 'total_consommation_t_1',\n",
              "       'max_pdl_total_daily_load_t_1', 'max_pdl_daily_load_t_1',\n",
              "       'MIN_TEMPERATURE_C_t', 'max_clients_month_t',\n",
              "       'total_Holiday_Food_Related_t', 'total_consommation_t',\n",
              "       'max_pdl_total_daily_load_t', 'max_pdl_daily_load_t'],\n",
              "      dtype='object')"
            ]
          },
          "metadata": {},
          "execution_count": 3
        }
      ]
    },
    {
      "cell_type": "code",
      "metadata": {
        "id": "wgKOf0xp8ZFC"
      },
      "source": [
        "data=pd.read_csv('/content/clean_monthly_df_human_supervised.csv',\n",
        "                 index_col='time')[['MIN_TEMPERATURE_C_t_1', 'max_clients_month_t_1',\n",
        "       'total_Holiday_Food_Related_t_1', 'total_consommation_t_1',\n",
        "       'max_pdl_total_daily_load_t_1', 'max_pdl_daily_load_t_1',\n",
        "\n",
        "       'MIN_TEMPERATURE_C_t', 'max_clients_month_t',\n",
        "       'total_Holiday_Food_Related_t','max_pdl_daily_load_t']].dropna()\n"
      ],
      "execution_count": null,
      "outputs": []
    },
    {
      "cell_type": "code",
      "metadata": {
        "colab": {
          "base_uri": "https://localhost:8080/"
        },
        "id": "e9QfJ8FPyGYL",
        "outputId": "ee70445c-d389-4b25-9beb-10eccddd6665"
      },
      "source": [
        "data.shape"
      ],
      "execution_count": null,
      "outputs": [
        {
          "output_type": "execute_result",
          "data": {
            "text/plain": [
              "(66, 10)"
            ]
          },
          "metadata": {},
          "execution_count": 5
        }
      ]
    },
    {
      "cell_type": "code",
      "metadata": {
        "id": "dRaIduTRqmPq"
      },
      "source": [
        "data.index=pd.to_datetime(data.index,dayfirst=True)"
      ],
      "execution_count": null,
      "outputs": []
    },
    {
      "cell_type": "code",
      "metadata": {
        "colab": {
          "base_uri": "https://localhost:8080/",
          "height": 343
        },
        "id": "XOKVBlf2-uTH",
        "outputId": "677e917d-8a40-4ad4-bfd9-d6b8d4bf5caa"
      },
      "source": [
        "data.head()"
      ],
      "execution_count": null,
      "outputs": [
        {
          "output_type": "execute_result",
          "data": {
            "text/html": [
              "<div>\n",
              "<style scoped>\n",
              "    .dataframe tbody tr th:only-of-type {\n",
              "        vertical-align: middle;\n",
              "    }\n",
              "\n",
              "    .dataframe tbody tr th {\n",
              "        vertical-align: top;\n",
              "    }\n",
              "\n",
              "    .dataframe thead th {\n",
              "        text-align: right;\n",
              "    }\n",
              "</style>\n",
              "<table border=\"1\" class=\"dataframe\">\n",
              "  <thead>\n",
              "    <tr style=\"text-align: right;\">\n",
              "      <th></th>\n",
              "      <th>MIN_TEMPERATURE_C_t_1</th>\n",
              "      <th>max_clients_month_t_1</th>\n",
              "      <th>total_Holiday_Food_Related_t_1</th>\n",
              "      <th>total_consommation_t_1</th>\n",
              "      <th>max_pdl_total_daily_load_t_1</th>\n",
              "      <th>max_pdl_daily_load_t_1</th>\n",
              "      <th>MIN_TEMPERATURE_C_t</th>\n",
              "      <th>max_clients_month_t</th>\n",
              "      <th>total_Holiday_Food_Related_t</th>\n",
              "      <th>max_pdl_daily_load_t</th>\n",
              "    </tr>\n",
              "    <tr>\n",
              "      <th>time</th>\n",
              "      <th></th>\n",
              "      <th></th>\n",
              "      <th></th>\n",
              "      <th></th>\n",
              "      <th></th>\n",
              "      <th></th>\n",
              "      <th></th>\n",
              "      <th></th>\n",
              "      <th></th>\n",
              "      <th></th>\n",
              "    </tr>\n",
              "  </thead>\n",
              "  <tbody>\n",
              "    <tr>\n",
              "      <th>2015-02-28</th>\n",
              "      <td>8</td>\n",
              "      <td>3980</td>\n",
              "      <td>2</td>\n",
              "      <td>247497.63</td>\n",
              "      <td>22257</td>\n",
              "      <td>1479</td>\n",
              "      <td>11</td>\n",
              "      <td>4023</td>\n",
              "      <td>0</td>\n",
              "      <td>1494</td>\n",
              "    </tr>\n",
              "    <tr>\n",
              "      <th>2015-03-31</th>\n",
              "      <td>11</td>\n",
              "      <td>4023</td>\n",
              "      <td>0</td>\n",
              "      <td>263249.88</td>\n",
              "      <td>22242</td>\n",
              "      <td>1494</td>\n",
              "      <td>12</td>\n",
              "      <td>4060</td>\n",
              "      <td>0</td>\n",
              "      <td>1551</td>\n",
              "    </tr>\n",
              "    <tr>\n",
              "      <th>2015-04-30</th>\n",
              "      <td>12</td>\n",
              "      <td>4060</td>\n",
              "      <td>0</td>\n",
              "      <td>246311.89</td>\n",
              "      <td>21691</td>\n",
              "      <td>1551</td>\n",
              "      <td>14</td>\n",
              "      <td>4094</td>\n",
              "      <td>0</td>\n",
              "      <td>1253</td>\n",
              "    </tr>\n",
              "    <tr>\n",
              "      <th>2015-05-31</th>\n",
              "      <td>14</td>\n",
              "      <td>4094</td>\n",
              "      <td>0</td>\n",
              "      <td>237177.99</td>\n",
              "      <td>16752</td>\n",
              "      <td>1253</td>\n",
              "      <td>19</td>\n",
              "      <td>4112</td>\n",
              "      <td>0</td>\n",
              "      <td>1123</td>\n",
              "    </tr>\n",
              "    <tr>\n",
              "      <th>2015-06-30</th>\n",
              "      <td>19</td>\n",
              "      <td>4112</td>\n",
              "      <td>0</td>\n",
              "      <td>229106.03</td>\n",
              "      <td>12318</td>\n",
              "      <td>1123</td>\n",
              "      <td>22</td>\n",
              "      <td>4137</td>\n",
              "      <td>13</td>\n",
              "      <td>1122</td>\n",
              "    </tr>\n",
              "  </tbody>\n",
              "</table>\n",
              "</div>"
            ],
            "text/plain": [
              "            MIN_TEMPERATURE_C_t_1  ...  max_pdl_daily_load_t\n",
              "time                               ...                      \n",
              "2015-02-28                      8  ...                  1494\n",
              "2015-03-31                     11  ...                  1551\n",
              "2015-04-30                     12  ...                  1253\n",
              "2015-05-31                     14  ...                  1123\n",
              "2015-06-30                     19  ...                  1122\n",
              "\n",
              "[5 rows x 10 columns]"
            ]
          },
          "metadata": {},
          "execution_count": 7
        }
      ]
    },
    {
      "cell_type": "code",
      "metadata": {
        "colab": {
          "base_uri": "https://localhost:8080/",
          "height": 343
        },
        "id": "xktaLYwMkSPU",
        "outputId": "935389f9-6480-4666-ca63-a40d3c7029ee"
      },
      "source": [
        "data.tail()"
      ],
      "execution_count": null,
      "outputs": [
        {
          "output_type": "execute_result",
          "data": {
            "text/html": [
              "<div>\n",
              "<style scoped>\n",
              "    .dataframe tbody tr th:only-of-type {\n",
              "        vertical-align: middle;\n",
              "    }\n",
              "\n",
              "    .dataframe tbody tr th {\n",
              "        vertical-align: top;\n",
              "    }\n",
              "\n",
              "    .dataframe thead th {\n",
              "        text-align: right;\n",
              "    }\n",
              "</style>\n",
              "<table border=\"1\" class=\"dataframe\">\n",
              "  <thead>\n",
              "    <tr style=\"text-align: right;\">\n",
              "      <th></th>\n",
              "      <th>MIN_TEMPERATURE_C_t_1</th>\n",
              "      <th>max_clients_month_t_1</th>\n",
              "      <th>total_Holiday_Food_Related_t_1</th>\n",
              "      <th>total_consommation_t_1</th>\n",
              "      <th>max_pdl_total_daily_load_t_1</th>\n",
              "      <th>max_pdl_daily_load_t_1</th>\n",
              "      <th>MIN_TEMPERATURE_C_t</th>\n",
              "      <th>max_clients_month_t</th>\n",
              "      <th>total_Holiday_Food_Related_t</th>\n",
              "      <th>max_pdl_daily_load_t</th>\n",
              "    </tr>\n",
              "    <tr>\n",
              "      <th>time</th>\n",
              "      <th></th>\n",
              "      <th></th>\n",
              "      <th></th>\n",
              "      <th></th>\n",
              "      <th></th>\n",
              "      <th></th>\n",
              "      <th></th>\n",
              "      <th></th>\n",
              "      <th></th>\n",
              "      <th></th>\n",
              "    </tr>\n",
              "  </thead>\n",
              "  <tbody>\n",
              "    <tr>\n",
              "      <th>2020-03-31</th>\n",
              "      <td>11</td>\n",
              "      <td>5348</td>\n",
              "      <td>0</td>\n",
              "      <td>222261.04</td>\n",
              "      <td>23365</td>\n",
              "      <td>1451</td>\n",
              "      <td>9</td>\n",
              "      <td>5321</td>\n",
              "      <td>0</td>\n",
              "      <td>1463</td>\n",
              "    </tr>\n",
              "    <tr>\n",
              "      <th>2020-04-30</th>\n",
              "      <td>9</td>\n",
              "      <td>5321</td>\n",
              "      <td>0</td>\n",
              "      <td>219707.61</td>\n",
              "      <td>23370</td>\n",
              "      <td>1463</td>\n",
              "      <td>12</td>\n",
              "      <td>5324</td>\n",
              "      <td>7</td>\n",
              "      <td>1599</td>\n",
              "    </tr>\n",
              "    <tr>\n",
              "      <th>2020-05-31</th>\n",
              "      <td>12</td>\n",
              "      <td>5324</td>\n",
              "      <td>7</td>\n",
              "      <td>207015.41</td>\n",
              "      <td>18875</td>\n",
              "      <td>1599</td>\n",
              "      <td>18</td>\n",
              "      <td>5326</td>\n",
              "      <td>26</td>\n",
              "      <td>1400</td>\n",
              "    </tr>\n",
              "    <tr>\n",
              "      <th>2020-06-30</th>\n",
              "      <td>18</td>\n",
              "      <td>5326</td>\n",
              "      <td>26</td>\n",
              "      <td>193552.21</td>\n",
              "      <td>15439</td>\n",
              "      <td>1400</td>\n",
              "      <td>20</td>\n",
              "      <td>5324</td>\n",
              "      <td>0</td>\n",
              "      <td>1105</td>\n",
              "    </tr>\n",
              "    <tr>\n",
              "      <th>2020-07-31</th>\n",
              "      <td>20</td>\n",
              "      <td>5324</td>\n",
              "      <td>0</td>\n",
              "      <td>182548.79</td>\n",
              "      <td>14697</td>\n",
              "      <td>1105</td>\n",
              "      <td>23</td>\n",
              "      <td>5277</td>\n",
              "      <td>1</td>\n",
              "      <td>1084</td>\n",
              "    </tr>\n",
              "  </tbody>\n",
              "</table>\n",
              "</div>"
            ],
            "text/plain": [
              "            MIN_TEMPERATURE_C_t_1  ...  max_pdl_daily_load_t\n",
              "time                               ...                      \n",
              "2020-03-31                     11  ...                  1463\n",
              "2020-04-30                      9  ...                  1599\n",
              "2020-05-31                     12  ...                  1400\n",
              "2020-06-30                     18  ...                  1105\n",
              "2020-07-31                     20  ...                  1084\n",
              "\n",
              "[5 rows x 10 columns]"
            ]
          },
          "metadata": {},
          "execution_count": 8
        }
      ]
    },
    {
      "cell_type": "markdown",
      "metadata": {
        "id": "MmwYalon6Y4C"
      },
      "source": [
        "# data scaling made difference and improved the performance of some ML models (KNN, SVR, Ridge), but scaling is not required for decision tree based models (decision tree, random forest, xgboost,..) https://towardsdatascience.com/do-decision-trees-need-feature-scaling-97809eaa60c6"
      ]
    },
    {
      "cell_type": "code",
      "metadata": {
        "id": "gdnkSpWaENYQ"
      },
      "source": [
        "scaler = MinMaxScaler(feature_range=(0, 1))\n",
        "data_scaled = scaler.fit_transform(data)"
      ],
      "execution_count": null,
      "outputs": []
    },
    {
      "cell_type": "code",
      "metadata": {
        "id": "IEZuMY99zfLU"
      },
      "source": [
        "features=data_scaled[:,:-1]\n",
        "target=data_scaled[:,-1]"
      ],
      "execution_count": null,
      "outputs": []
    },
    {
      "cell_type": "code",
      "metadata": {
        "id": "nDaUCPH6njFx"
      },
      "source": [
        "# split into train and test sets\n",
        "\n",
        "n_train_days = -7 #train months\n",
        "\n",
        "X_train,y_train = features[:n_train_days, :],target[:n_train_days]\n",
        "X_test, y_test = features[n_train_days:, :],target[n_train_days:]\n",
        "\n"
      ],
      "execution_count": null,
      "outputs": []
    },
    {
      "cell_type": "code",
      "metadata": {
        "id": "KmrKiF8_LVs6"
      },
      "source": [
        "def timeseries_evaluation_metrics_func(y_true, y_pred):\n",
        "  def mean_absolute_percentage_error(y_true, y_pred):\n",
        "    y_true, y_pred = np.array(y_true), np.array(y_pred)\n",
        "    return np.mean(np.abs((y_true - y_pred) / y_true)) * 100\n",
        "  def smape(y_true,y_pred):\n",
        "    y_true, y_pred = np.array(y_true), np.array(y_pred)\n",
        "    return 2/y_true.shape[0]*np.sum(np.abs(y_true-y_pred))/np.sum((np.abs(y_true)+np.abs(y_pred)))*100\n",
        "  def mase(y_true,y_pred):\n",
        "    y_true, y_pred = np.array(y_true), np.array(y_pred)\n",
        "    naive_pred=y_true[1:]\n",
        "    return 1/y_true.shape[0]*np.sum(np.abs(y_true-y_pred))/np.sum(np.abs(y_true[:len(y_true)-1]-naive_pred))*(y_true.shape[0]-1)\n",
        "  #def owe(y_true,y_pred):\n",
        "   # return (mase(y_true,y_pred)+smape(y_true,y_pred))/2\n",
        "\n",
        "  print('Evaluation metric results:-')\n",
        "  print(f'MSE is : {metrics.mean_squared_error(y_true, y_pred)}')\n",
        "  print(f'MAE is : {metrics.mean_absolute_error(y_true, y_pred)}')\n",
        "  rmse=np.sqrt(metrics.mean_squared_error(y_true, y_pred))\n",
        "  print(f'RMSE is : {rmse}')\n",
        "  mape=mean_absolute_percentage_error(y_true, y_pred)\n",
        "  print(f'MAPE is : {mape} %')\n",
        "  r2=metrics.r2_score(y_true, y_pred)\n",
        "  print(f'R2 is : {r2}',end='\\n\\n')\n",
        "  print('SMAPE is : '+str(smape(y_true,y_pred))+'\\n')\n",
        "  print('MASE is : '+str(mase(y_true,y_pred)))\n",
        "  #model_scores[model_name] = [rmse, mape, r2]\n",
        "  return"
      ],
      "execution_count": null,
      "outputs": []
    },
    {
      "cell_type": "code",
      "metadata": {
        "colab": {
          "base_uri": "https://localhost:8080/"
        },
        "id": "o0gtYxCKB8cy",
        "outputId": "16dc8863-3fb5-4f85-c090-f5f31af4b3d4"
      },
      "source": [
        "!pip install xgboost"
      ],
      "execution_count": null,
      "outputs": [
        {
          "output_type": "stream",
          "text": [
            "Requirement already satisfied: xgboost in /usr/local/lib/python3.7/dist-packages (0.90)\n",
            "Requirement already satisfied: numpy in /usr/local/lib/python3.7/dist-packages (from xgboost) (1.19.5)\n",
            "Requirement already satisfied: scipy in /usr/local/lib/python3.7/dist-packages (from xgboost) (1.4.1)\n"
          ],
          "name": "stdout"
        }
      ]
    },
    {
      "cell_type": "code",
      "metadata": {
        "colab": {
          "base_uri": "https://localhost:8080/",
          "height": 767
        },
        "id": "5z6WpGP7BWs8",
        "outputId": "af7091bb-c9eb-4359-dfe5-e0be2e89f4d0"
      },
      "source": [
        "# ML models to test\n",
        "models = []\n",
        "models.append(('LR', LinearRegression()))\n",
        "models.append(('Ridge R',Ridge()))\n",
        "models.append(('lasso',linear_model.Lasso()))\n",
        "models.append(('elastic net',ElasticNet()))\n",
        "#models.append(('GP',GaussianProcessRegressor())) (very poor)\n",
        "models.append(('NN', MLPRegressor(solver = 'lbfgs')))  #neural network\n",
        "models.append(('KNN', KNeighborsRegressor())) \n",
        "models.append(('RF', RandomForestRegressor(n_estimators = 1000))) # Ensemble method - collection of many decision trees\n",
        "models.append(('SVR', SVR(gamma='auto'))) # kernel = linear\n",
        "models.append(('Xgboost',XGBRegressor(objective='reg:squarederror', n_estimators=1000)))\n",
        "# Evaluate each model in turn\n",
        "results = []\n",
        "names = []\n",
        "for name, model in models:\n",
        "    # TimeSeries Cross validation\n",
        "  tscv = TimeSeriesSplit(n_splits=4)\n",
        "    #n_splits=3 : because in train data there are 3 steps of prediction\n",
        "    #1-2016 features -->predict 2017; 2-16,17-->predict 18; 3-16,17,18-->predict 19\n",
        "  cv_results = cross_val_score(model, X_train, y_train, cv=tscv, scoring='r2')\n",
        "  results.append(cv_results)\n",
        "  names.append(name)\n",
        "  print('%s: %f (%f)' % (name, cv_results.mean(), cv_results.std()))\n",
        "    \n",
        "# Compare Algorithms\n",
        "plt.boxplot(results, labels=names)\n",
        "plt.title('Algorithm Comparison')\n",
        "plt.show()\n"
      ],
      "execution_count": null,
      "outputs": [
        {
          "output_type": "stream",
          "text": [
            "LR: 0.094950 (1.210991)\n",
            "Ridge R: 0.715399 (0.142186)\n",
            "lasso: -0.051086 (0.061606)\n",
            "elastic net: -0.051086 (0.061606)\n"
          ],
          "name": "stdout"
        },
        {
          "output_type": "stream",
          "text": [
            "/usr/local/lib/python3.7/dist-packages/sklearn/neural_network/_multilayer_perceptron.py:470: ConvergenceWarning: lbfgs failed to converge (status=1):\n",
            "STOP: TOTAL NO. of ITERATIONS REACHED LIMIT.\n",
            "\n",
            "Increase the number of iterations (max_iter) or scale the data as shown in:\n",
            "    https://scikit-learn.org/stable/modules/preprocessing.html\n",
            "  self.n_iter_ = _check_optimize_result(\"lbfgs\", opt_res, self.max_iter)\n",
            "/usr/local/lib/python3.7/dist-packages/sklearn/neural_network/_multilayer_perceptron.py:470: ConvergenceWarning: lbfgs failed to converge (status=1):\n",
            "STOP: TOTAL NO. of ITERATIONS REACHED LIMIT.\n",
            "\n",
            "Increase the number of iterations (max_iter) or scale the data as shown in:\n",
            "    https://scikit-learn.org/stable/modules/preprocessing.html\n",
            "  self.n_iter_ = _check_optimize_result(\"lbfgs\", opt_res, self.max_iter)\n",
            "/usr/local/lib/python3.7/dist-packages/sklearn/neural_network/_multilayer_perceptron.py:470: ConvergenceWarning: lbfgs failed to converge (status=1):\n",
            "STOP: TOTAL NO. of ITERATIONS REACHED LIMIT.\n",
            "\n",
            "Increase the number of iterations (max_iter) or scale the data as shown in:\n",
            "    https://scikit-learn.org/stable/modules/preprocessing.html\n",
            "  self.n_iter_ = _check_optimize_result(\"lbfgs\", opt_res, self.max_iter)\n"
          ],
          "name": "stderr"
        },
        {
          "output_type": "stream",
          "text": [
            "NN: -0.639383 (1.099744)\n",
            "KNN: 0.631393 (0.148778)\n",
            "RF: 0.671502 (0.084831)\n",
            "SVR: 0.673994 (0.123298)\n",
            "Xgboost: 0.612890 (0.148098)\n"
          ],
          "name": "stdout"
        },
        {
          "output_type": "display_data",
          "data": {
            "image/png": "[encoded data removed]",
            "text/plain": [
              "<Figure size 432x288 with 1 Axes>"
            ]
          },
          "metadata": {
            "tags": [],
            "needs_background": "light"
          }
        }
      ]
    },
    {
      "cell_type": "markdown",
      "metadata": {
        "id": "KLnoDe-63Mdo"
      },
      "source": [
        "# the best models are: ridge, SVR, RF"
      ]
    },
    {
      "cell_type": "markdown",
      "metadata": {
        "id": "w96doMAYVX_q"
      },
      "source": [
        "# Ridge"
      ]
    },
    {
      "cell_type": "code",
      "metadata": {
        "id": "xIcS9xMVVph5"
      },
      "source": [
        "model = Ridge()\n",
        "param_search = { \n",
        "    'alpha': [0,0.1,0.2,0.3,0.4,0.5,0.6,0.7,0.8,0.9,1],\n",
        "    'solver': ['auto','svd','cholesky','lsqr','sparse_cg','sag','saga']\n",
        "\n",
        "}\n",
        "tscv = TimeSeriesSplit(n_splits=4)\n",
        "gsearch = GridSearchCV(estimator=model, param_grid=param_search, scoring = 'r2')#we \n",
        "#can define another metric as mentioned in the tuto\n",
        "gsearch.fit(X_train, y_train)\n",
        "best_score = gsearch.best_score_\n",
        "best_model = gsearch.best_estimator_"
      ],
      "execution_count": null,
      "outputs": []
    },
    {
      "cell_type": "code",
      "metadata": {
        "colab": {
          "base_uri": "https://localhost:8080/"
        },
        "id": "5zs1SEGhWCFP",
        "outputId": "dee6ec5f-0989-4476-fe47-7ffb620dfdbd"
      },
      "source": [
        "best_model"
      ],
      "execution_count": null,
      "outputs": [
        {
          "output_type": "execute_result",
          "data": {
            "text/plain": [
              "Ridge(alpha=0.2, copy_X=True, fit_intercept=True, max_iter=None,\n",
              "      normalize=False, random_state=None, solver='lsqr', tol=0.001)"
            ]
          },
          "metadata": {
            "tags": []
          },
          "execution_count": 23
        }
      ]
    },
    {
      "cell_type": "code",
      "metadata": {
        "colab": {
          "base_uri": "https://localhost:8080/"
        },
        "id": "R9VglUl3WEfN",
        "outputId": "61311b8c-6824-40d2-e610-c4c9504c006f"
      },
      "source": [
        "best_score"
      ],
      "execution_count": null,
      "outputs": [
        {
          "output_type": "execute_result",
          "data": {
            "text/plain": [
              "0.8143107787286347"
            ]
          },
          "metadata": {
            "tags": []
          },
          "execution_count": 24
        }
      ]
    },
    {
      "cell_type": "code",
      "metadata": {
        "id": "PRIOrotuWOQz"
      },
      "source": [
        "# make a prediction\n",
        "yhat = best_model.predict(X_test)\n",
        "yhat=yhat.reshape(yhat.shape[0],1)\n",
        "X_test = X_test.reshape((X_test.shape[0], X_test.shape[1]))\n",
        "# invert scaling for forecast\n",
        "#inv_yhat = concatenate((test_X[:, :-1],yhat), axis=1)\n",
        "inv_yhat = concatenate((X_test,yhat), axis=1)\n",
        "inv_yhat = scaler.inverse_transform(inv_yhat)\n",
        "inv_yhat = inv_yhat[:,-1]\n",
        "# invert scaling for actual\n",
        "y_test = y_test.reshape((len(y_test), 1))\n",
        "#inv_y = concatenate((test_X[:, :-1],test_y), axis=1)\n",
        "inv_y = concatenate((X_test,y_test), axis=1)\n",
        "inv_y = scaler.inverse_transform(inv_y)\n",
        "inv_y = inv_y[:,-1]"
      ],
      "execution_count": null,
      "outputs": []
    },
    {
      "cell_type": "code",
      "metadata": {
        "colab": {
          "base_uri": "https://localhost:8080/"
        },
        "id": "kR6_lqYLWOa_",
        "outputId": "a7554c9b-3d97-4b85-a16c-1dfc3b912bf6"
      },
      "source": [
        "#overall performance\n",
        "timeseries_evaluation_metrics_func(inv_y, inv_yhat)"
      ],
      "execution_count": null,
      "outputs": [
        {
          "output_type": "stream",
          "text": [
            "Evaluation metric results:-\n",
            "MSE is : 6102.179813071693\n",
            "MAE is : 71.38110318875245\n",
            "RMSE is : 78.11645033583959\n",
            "MAPE is : 5.244182702500159 %\n",
            "R2 is : 0.8330988150617838\n",
            "\n",
            "SMAPE is : 0.7279130620225214\n",
            "\n",
            "MASE is : 0.5547754133840863\n"
          ],
          "name": "stdout"
        }
      ]
    },
    {
      "cell_type": "code",
      "metadata": {
        "colab": {
          "base_uri": "https://localhost:8080/",
          "height": 265
        },
        "id": "GLSO9JC3WyU6",
        "outputId": "eaf2cc99-0a3e-4559-a90f-dbe0be472239"
      },
      "source": [
        "# plot real vs predictions\n",
        "time=data.index[-7:]\n",
        "plt.plot(time,inv_y,label='actual')\n",
        "plt.plot(time,inv_yhat,label='forecast')\n",
        "\n",
        "\n",
        "plt.legend()\n",
        "\n",
        "plt.show()"
      ],
      "execution_count": null,
      "outputs": [
        {
          "output_type": "display_data",
          "data": {
            "image/png": "[encoded data removed]",
            "text/plain": [
              "<Figure size 432x288 with 1 Axes>"
            ]
          },
          "metadata": {
            "tags": [],
            "needs_background": "light"
          }
        }
      ]
    },
    {
      "cell_type": "markdown",
      "metadata": {
        "id": "Gm93kP71WyU-"
      },
      "source": [
        "ZOOM on winter 2020"
      ]
    },
    {
      "cell_type": "code",
      "metadata": {
        "colab": {
          "base_uri": "https://localhost:8080/",
          "height": 416
        },
        "id": "wBcP3ab4WyU_",
        "outputId": "e4fc8849-a1f7-414b-9217-3b94cc772fbe"
      },
      "source": [
        "from matplotlib.pyplot import figure\n",
        "\n",
        "figure(figsize=(8, 6), dpi=80)\n",
        "plt.plot(time[:3],inv_y[:3],label='actual')\n",
        "plt.plot(time[:3],inv_yhat[:3],label='Pred')\n",
        "plt.legend()\n",
        "plt.show()"
      ],
      "execution_count": null,
      "outputs": [
        {
          "output_type": "display_data",
          "data": {
            "image/png": "[encoded data removed]",
            "text/plain": [
              "<Figure size 640x480 with 1 Axes>"
            ]
          },
          "metadata": {
            "tags": [],
            "needs_background": "light"
          }
        }
      ]
    },
    {
      "cell_type": "code",
      "metadata": {
        "id": "Og_Fqe57bOrU"
      },
      "source": [
        ""
      ],
      "execution_count": null,
      "outputs": []
    },
    {
      "cell_type": "markdown",
      "metadata": {
        "id": "CFRYgMQVbO2A"
      },
      "source": [
        "**peak period**"
      ]
    },
    {
      "cell_type": "code",
      "metadata": {
        "colab": {
          "base_uri": "https://localhost:8080/"
        },
        "id": "BqbvuVDybO2F",
        "outputId": "557c2dd0-f496-449a-ad14-83f69310cb9a"
      },
      "source": [
        "#model performance in peak period (winter)\n",
        "timeseries_evaluation_metrics_func(inv_y[:3], inv_yhat[:3])"
      ],
      "execution_count": null,
      "outputs": [
        {
          "output_type": "stream",
          "text": [
            "Evaluation metric results:-\n",
            "MSE is : 3567.5507481154295\n",
            "MAE is : 59.49878086572585\n",
            "RMSE is : 59.72897745747394\n",
            "MAPE is : 4.0043777276563475 %\n",
            "R2 is : -0.49799182294666733\n",
            "\n",
            "SMAPE is : 1.3038690562559072\n",
            "\n",
            "MASE is : 0.9834509234004273\n"
          ],
          "name": "stdout"
        }
      ]
    },
    {
      "cell_type": "markdown",
      "metadata": {
        "id": "TC0n4auI7dFM"
      },
      "source": [
        "# **same methodology is repeated**"
      ]
    },
    {
      "cell_type": "markdown",
      "metadata": {
        "id": "OY4Srs6LklJF"
      },
      "source": [
        "# SVR"
      ]
    },
    {
      "cell_type": "code",
      "metadata": {
        "id": "eZsDFjbvklJG"
      },
      "source": [
        "X_train,y_train = features[:n_train_days, :],target[:n_train_days]\n",
        "X_test, y_test = features[n_train_days:, :],target[n_train_days:]"
      ],
      "execution_count": null,
      "outputs": []
    },
    {
      "cell_type": "code",
      "metadata": {
        "id": "TyhqsxN2klJG",
        "colab": {
          "base_uri": "https://localhost:8080/"
        },
        "outputId": "28d54ee4-3f94-4c1c-c10b-9d50d8e669fb"
      },
      "source": [
        "\n",
        "model = SVR()\n",
        "param_search = { \n",
        "    #'kernel' : ['linear', 'poly', 'rbf', 'sigmoid'],\n",
        "    'degree' : [1,2,3],\n",
        "    'gamma' : ['scale','auto'],\n",
        "    'C' : [1.5,1.75,2,2.25,2.5,3],\n",
        "    'epsilon':[0.0001,0.001],\n",
        "    'shrinking':[True,False]\n",
        "}\n",
        "tscv = TimeSeriesSplit(n_splits=4)\n",
        "gsearch = GridSearchCV(estimator=model, cv=tscv, param_grid=param_search, scoring = 'r2')#we \n",
        "#can define another metric\n",
        "gsearch.fit(X_train, y_train)\n",
        "best_score = gsearch.best_score_\n",
        "best_model = gsearch.best_estimator_\n",
        "best_model.fit(X_train,y_train)\n"
      ],
      "execution_count": null,
      "outputs": [
        {
          "output_type": "execute_result",
          "data": {
            "text/plain": [
              "SVR(C=1.75, cache_size=200, coef0=0.0, degree=1, epsilon=0.0001, gamma='auto',\n",
              "    kernel='rbf', max_iter=-1, shrinking=True, tol=0.001, verbose=False)"
            ]
          },
          "metadata": {
            "tags": []
          },
          "execution_count": 32
        }
      ]
    },
    {
      "cell_type": "code",
      "metadata": {
        "colab": {
          "base_uri": "https://localhost:8080/"
        },
        "id": "k9Z0WFfOHpPG",
        "outputId": "a84bceb5-5308-439e-cabe-92e361055506"
      },
      "source": [
        "best_score"
      ],
      "execution_count": null,
      "outputs": [
        {
          "output_type": "execute_result",
          "data": {
            "text/plain": [
              "0.7538204407409845"
            ]
          },
          "metadata": {
            "tags": []
          },
          "execution_count": 33
        }
      ]
    },
    {
      "cell_type": "code",
      "metadata": {
        "id": "svm2v48eklJH"
      },
      "source": [
        "# make a prediction\n",
        "yhat = best_model.predict(X_test)\n",
        "yhat=yhat.reshape(yhat.shape[0],1)\n",
        "X_test = X_test.reshape((X_test.shape[0], X_test.shape[1]))\n",
        "# invert scaling for forecast\n",
        "#inv_yhat = concatenate((test_X[:, :-1],yhat), axis=1)\n",
        "inv_yhat = concatenate((X_test,yhat), axis=1)\n",
        "inv_yhat = scaler.inverse_transform(inv_yhat)\n",
        "inv_yhat = inv_yhat[:,-1]\n",
        "# invert scaling for actual\n",
        "y_test = y_test.reshape((len(y_test), 1))\n",
        "#inv_y = concatenate((test_X[:, :-1],test_y), axis=1)\n",
        "inv_y = concatenate((X_test,y_test), axis=1)\n",
        "inv_y = scaler.inverse_transform(inv_y)\n",
        "inv_y = inv_y[:,-1]"
      ],
      "execution_count": null,
      "outputs": []
    },
    {
      "cell_type": "code",
      "metadata": {
        "colab": {
          "base_uri": "https://localhost:8080/"
        },
        "id": "SFqJ_WeRklJH",
        "outputId": "932f99ca-db83-490b-be7a-5939275394b9"
      },
      "source": [
        "timeseries_evaluation_metrics_func(inv_y, inv_yhat)"
      ],
      "execution_count": null,
      "outputs": [
        {
          "output_type": "stream",
          "text": [
            "Evaluation metric results:-\n",
            "MSE is : 8265.984515234626\n",
            "MAE is : 74.03377691028176\n",
            "RMSE is : 90.91745990311556\n",
            "MAPE is : 5.583731452974592 %\n",
            "R2 is : 0.77391642781186\n",
            "\n",
            "SMAPE is : 0.7506181667574713\n",
            "\n",
            "MASE is : 0.575392048525506\n"
          ],
          "name": "stdout"
        }
      ]
    },
    {
      "cell_type": "code",
      "metadata": {
        "colab": {
          "base_uri": "https://localhost:8080/",
          "height": 265
        },
        "id": "nRWOuzyvklJH",
        "outputId": "bb76cada-94c2-458e-f022-ecd9bcd8c81f"
      },
      "source": [
        "# plot real vs predictions\n",
        "time=data.index[-7:]\n",
        "plt.plot(time,inv_y,label='actual')\n",
        "plt.plot(time,inv_yhat,label='forecast')\n",
        "\n",
        "\n",
        "plt.legend()\n",
        "\n",
        "plt.show()"
      ],
      "execution_count": null,
      "outputs": [
        {
          "output_type": "display_data",
          "data": {
            "image/png": "[encoded data removed]",
            "text/plain": [
              "<Figure size 432x288 with 1 Axes>"
            ]
          },
          "metadata": {
            "tags": [],
            "needs_background": "light"
          }
        }
      ]
    },
    {
      "cell_type": "markdown",
      "metadata": {
        "id": "6wkVNHhFklJI"
      },
      "source": [
        "ZOOM on winter 2020"
      ]
    },
    {
      "cell_type": "code",
      "metadata": {
        "colab": {
          "base_uri": "https://localhost:8080/",
          "height": 413
        },
        "id": "1PKnVTWwklJI",
        "outputId": "f9b0d783-52b7-4279-98b1-89b06617523a"
      },
      "source": [
        "from matplotlib.pyplot import figure\n",
        "\n",
        "figure(figsize=(8, 6), dpi=80)\n",
        "plt.plot(time[:3],inv_y[:3],label='actual')\n",
        "plt.plot(time[:3],inv_yhat[:3],label='Pred')\n",
        "plt.legend()\n",
        "plt.show()"
      ],
      "execution_count": null,
      "outputs": [
        {
          "output_type": "display_data",
          "data": {
            "image/png": "[encoded data removed]",
            "text/plain": [
              "<Figure size 640x480 with 1 Axes>"
            ]
          },
          "metadata": {
            "tags": [],
            "needs_background": "light"
          }
        }
      ]
    },
    {
      "cell_type": "markdown",
      "metadata": {
        "id": "YrlNzlzkklJJ"
      },
      "source": [
        "**peak period**"
      ]
    },
    {
      "cell_type": "code",
      "metadata": {
        "colab": {
          "base_uri": "https://localhost:8080/"
        },
        "id": "luHUgeJOklJJ",
        "outputId": "4af67bd5-f286-40f1-9398-e9883cacf154"
      },
      "source": [
        "#model performance in peak period (january to march)\n",
        "timeseries_evaluation_metrics_func(inv_y[:3], inv_yhat[:3])"
      ],
      "execution_count": null,
      "outputs": [
        {
          "output_type": "stream",
          "text": [
            "Evaluation metric results:-\n",
            "MSE is : 3538.298414442476\n",
            "MAE is : 54.090560798257535\n",
            "RMSE is : 59.48359786060756\n",
            "MAPE is : 3.681060951737799 %\n",
            "R2 is : -0.4857089544640423\n",
            "\n",
            "SMAPE is : 1.1874631774765911\n",
            "\n",
            "MASE is : 0.894058856169546\n"
          ],
          "name": "stdout"
        }
      ]
    },
    {
      "cell_type": "code",
      "metadata": {
        "id": "645y0g8DKdJS"
      },
      "source": [
        ""
      ],
      "execution_count": null,
      "outputs": []
    },
    {
      "cell_type": "markdown",
      "metadata": {
        "id": "Nrmb638qyllV"
      },
      "source": [
        "# Random forest"
      ]
    },
    {
      "cell_type": "code",
      "metadata": {
        "id": "LeRULN6z-QEh"
      },
      "source": [
        "#train data: all the data except the last 7 months\n",
        "#test data: the last 7 months\n",
        "\n",
        "X_train,y_train=data[:-7].drop(['max_pdl_daily_load_t'], axis = 1),data[:-7].max_pdl_daily_load_t\n",
        "X_test,y_test=data[-7:].drop(['max_pdl_daily_load_t'], axis = 1),data[-7:].max_pdl_daily_load_t"
      ],
      "execution_count": null,
      "outputs": []
    },
    {
      "cell_type": "code",
      "metadata": {
        "colab": {
          "base_uri": "https://localhost:8080/"
        },
        "id": "X8ErcWUENUAE",
        "outputId": "0967aa6c-f4b8-472a-acc3-d4226a737bab"
      },
      "source": [
        "#fine tuning, grid search\n",
        "from sklearn.model_selection import GridSearchCV\n",
        "model = RandomForestRegressor()\n",
        "param_search = { \n",
        "    'n_estimators': [10,20,30,40],#[10,20,30],#[10,50,100],#,\n",
        "    'max_features': ['auto', 'sqrt', 'log2'],\n",
        "    'max_depth' : [5,10,15,20,25,30],#[60,62,65,67,69],#[11,12,13],#[10,12,14,16,18,20],\n",
        "    #'min_samples_split' : [2, 5, 10],\n",
        "    'min_samples_leaf' : [2,4,6,8,10],#[5],#[4,5,6],[1, 2, 3,4],\n",
        "    'bootstrap' : [True, False]\n",
        "    #default_criterion for evaluation: mse\n",
        "}\n",
        "tscv = TimeSeriesSplit(n_splits=4)\n",
        "gsearch = GridSearchCV(estimator=model, cv=tscv, param_grid=param_search, scoring = 'r2')\n",
        "gsearch.fit(X_train, y_train)\n",
        "best_score = gsearch.best_score_\n",
        "best_model = gsearch.best_estimator_\n",
        "best_model.fit(X_train,y_train)"
      ],
      "execution_count": null,
      "outputs": [
        {
          "output_type": "execute_result",
          "data": {
            "text/plain": [
              "RandomForestRegressor(bootstrap=False, ccp_alpha=0.0, criterion='mse',\n",
              "                      max_depth=20, max_features='sqrt', max_leaf_nodes=None,\n",
              "                      max_samples=None, min_impurity_decrease=0.0,\n",
              "                      min_impurity_split=None, min_samples_leaf=2,\n",
              "                      min_samples_split=2, min_weight_fraction_leaf=0.0,\n",
              "                      n_estimators=20, n_jobs=None, oob_score=False,\n",
              "                      random_state=None, verbose=0, warm_start=False)"
            ]
          },
          "metadata": {},
          "execution_count": 14
        }
      ]
    },
    {
      "cell_type": "code",
      "metadata": {
        "colab": {
          "base_uri": "https://localhost:8080/"
        },
        "id": "--b74PDqJrCI",
        "outputId": "4df5d0b7-6f09-47b9-c196-fc0dab82c0c6"
      },
      "source": [
        "y_true = y_test.values\n",
        "y_pred = best_model.predict(X_test)\n",
        "timeseries_evaluation_metrics_func(y_true, y_pred)\n"
      ],
      "execution_count": null,
      "outputs": [
        {
          "output_type": "stream",
          "text": [
            "Evaluation metric results:-\n",
            "MSE is : 10489.921527777775\n",
            "MAE is : 81.1547619047619\n",
            "RMSE is : 102.42031794413536\n",
            "MAPE is : 6.465798913449043 %\n",
            "R2 is : 0.71308935715978\n",
            "\n",
            "SMAPE is : 0.8317529782722985\n",
            "\n",
            "MASE is : 0.6307364914877867\n"
          ],
          "name": "stdout"
        }
      ]
    },
    {
      "cell_type": "code",
      "metadata": {
        "colab": {
          "base_uri": "https://localhost:8080/",
          "height": 265
        },
        "id": "fTTj1mleNojo",
        "outputId": "d543a6c3-fc65-4aee-95c3-0ccd48152c5f"
      },
      "source": [
        "# plot real vs predictions\n",
        "time=data.index[-7:]\n",
        "plt.plot(time,y_true,label='actual')\n",
        "plt.plot(time,y_pred,label='forecast')\n",
        "\n",
        "\n",
        "plt.legend()\n",
        "\n",
        "plt.show()"
      ],
      "execution_count": null,
      "outputs": [
        {
          "output_type": "display_data",
          "data": {
            "image/png": "[encoded data removed]",
            "text/plain": [
              "<Figure size 432x288 with 1 Axes>"
            ]
          },
          "metadata": {
            "needs_background": "light"
          }
        }
      ]
    },
    {
      "cell_type": "code",
      "metadata": {
        "id": "vt0fLb6C3i8O"
      },
      "source": [
        ""
      ],
      "execution_count": null,
      "outputs": []
    },
    {
      "cell_type": "markdown",
      "metadata": {
        "id": "lY4lK5vbBaJZ"
      },
      "source": [
        "**peak period**"
      ]
    },
    {
      "cell_type": "code",
      "metadata": {
        "colab": {
          "base_uri": "https://localhost:8080/"
        },
        "id": "0ITKfChrBaJc",
        "outputId": "ea6f34d5-14ef-4127-8b90-f6ecebc7b3ef"
      },
      "source": [
        "#model performance in peak period (winter)\n",
        "timeseries_evaluation_metrics_func(y_true[:3], y_pred[:3])"
      ],
      "execution_count": null,
      "outputs": [
        {
          "output_type": "stream",
          "text": [
            "Evaluation metric results:-\n",
            "MSE is : 1284.4969907407428\n",
            "MAE is : 30.711111111111148\n",
            "RMSE is : 35.83987989294527\n",
            "MAPE is : 2.05840414151833 %\n",
            "R2 is : 0.46064789975428355\n",
            "\n",
            "SMAPE is : 0.6839662619536351\n",
            "\n",
            "MASE is : 0.5076216712580355\n"
          ],
          "name": "stdout"
        }
      ]
    },
    {
      "cell_type": "code",
      "metadata": {
        "colab": {
          "base_uri": "https://localhost:8080/",
          "height": 265
        },
        "id": "JaFRWmdOc3Q8",
        "outputId": "e9f6294f-fff9-43b5-d1d5-5a373aa46dbb"
      },
      "source": [
        "time=pd.to_datetime(time,dayfirst=True)\n",
        "plt.plot(time[:3],y_true[:3],label='actual')\n",
        "plt.plot(time[:3],y_pred[:3],label='forecast')\n",
        "\n",
        "\n",
        "plt.legend()\n",
        "locator = mdates.MonthLocator()\n",
        "fmt = mdates.DateFormatter('%b')\n",
        "X = plt.gca().xaxis\n",
        "X.set_major_locator(locator)\n",
        "# Specify formatter\n",
        "X.set_major_formatter(fmt)\n",
        "plt.show()"
      ],
      "execution_count": null,
      "outputs": [
        {
          "output_type": "display_data",
          "data": {
            "image/png": "[encoded data removed]",
            "text/plain": [
              "<Figure size 432x288 with 1 Axes>"
            ]
          },
          "metadata": {
            "needs_background": "light"
          }
        }
      ]
    },
    {
      "cell_type": "code",
      "metadata": {
        "colab": {
          "base_uri": "https://localhost:8080/"
        },
        "id": "HJACmDiWdkgU",
        "outputId": "9d91c3d3-991e-4efb-c58f-7d81cf6a5900"
      },
      "source": [
        "pd.to_datetime(data.index,dayfirst=True)"
      ],
      "execution_count": null,
      "outputs": [
        {
          "output_type": "execute_result",
          "data": {
            "text/plain": [
              "DatetimeIndex(['2015-02-28', '2015-03-31', '2015-04-30', '2015-05-31',\n",
              "               '2015-06-30', '2015-07-31', '2015-08-31', '2015-09-30',\n",
              "               '2015-10-31', '2015-11-30', '2015-12-31', '2016-01-31',\n",
              "               '2016-02-29', '2016-03-31', '2016-04-30', '2016-05-31',\n",
              "               '2016-06-30', '2016-07-31', '2016-08-31', '2016-09-30',\n",
              "               '2016-10-31', '2016-11-30', '2016-12-31', '2017-01-31',\n",
              "               '2017-02-28', '2017-03-31', '2017-04-30', '2017-05-31',\n",
              "               '2017-06-30', '2017-07-31', '2017-08-31', '2017-09-30',\n",
              "               '2017-10-31', '2017-11-30', '2017-12-31', '2018-01-31',\n",
              "               '2018-02-28', '2018-03-31', '2018-04-30', '2018-05-31',\n",
              "               '2018-06-30', '2018-07-31', '2018-08-31', '2018-09-30',\n",
              "               '2018-10-31', '2018-11-30', '2018-12-31', '2019-01-31',\n",
              "               '2019-02-28', '2019-03-31', '2019-04-30', '2019-05-31',\n",
              "               '2019-06-30', '2019-07-31', '2019-08-31', '2019-09-30',\n",
              "               '2019-10-31', '2019-11-30', '2019-12-31', '2020-01-31',\n",
              "               '2020-02-29', '2020-03-31', '2020-04-30', '2020-05-31',\n",
              "               '2020-06-30', '2020-07-31'],\n",
              "              dtype='datetime64[ns]', name='time', freq=None)"
            ]
          },
          "metadata": {},
          "execution_count": 20
        }
      ]
    },
    {
      "cell_type": "code",
      "metadata": {
        "id": "IERaLuvedmh5"
      },
      "source": [
        ""
      ],
      "execution_count": null,
      "outputs": []
    }
  ]
}