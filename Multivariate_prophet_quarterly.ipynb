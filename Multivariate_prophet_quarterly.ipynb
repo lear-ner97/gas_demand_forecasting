{
  "nbformat": 4,
  "nbformat_minor": 0,
  "metadata": {
    "colab": {
      "name": "Multivariate_prophet_quarterly.ipynb",
      "provenance": [],
      "collapsed_sections": []
    },
    "kernelspec": {
      "name": "python3",
      "display_name": "Python 3"
    }
  },
  "cells": [
    {
      "cell_type": "markdown",
      "metadata": {
        "id": "0JanmLa5WJlg"
      },
      "source": [
        "Link to video explaining the code - https://www.youtube.com/watch?v=XZhPO043lqU"
      ]
    },
    {
      "cell_type": "markdown",
      "metadata": {
        "id": "w1IWsnJzMD_a"
      },
      "source": [
        "\n",
        "\n",
        "*   https://www.kaggle.com/drscarlat/predict-the-weather-with-fb-prophet\n",
        "*   additional regressors (at the end, using forecasts of variables to forecast the target to 2030) https://facebook.github.io/prophet/docs/seasonality,_holiday_effects,_and_regressors.html \n",
        "* uncertainty intervals assume that the future will see the same frequency and magnitude of rate changes as the past. This assumption is probably not true, so you should not expect to get accurate coverage on these uncertainty intervals.\n"
      ]
    },
    {
      "cell_type": "code",
      "metadata": {
        "id": "NUe7BW37S6VA",
        "colab": {
          "base_uri": "https://localhost:8080/"
        },
        "outputId": "21fd3fb5-7e22-4a40-c0d9-8ca49afe8577"
      },
      "source": [
        "!pip install fbprophet"
      ],
      "execution_count": null,
      "outputs": [
        {
          "output_type": "stream",
          "text": [
            "Requirement already satisfied: fbprophet in /usr/local/lib/python3.7/dist-packages (0.7.1)\n",
            "Requirement already satisfied: Cython>=0.22 in /usr/local/lib/python3.7/dist-packages (from fbprophet) (0.29.24)\n",
            "Requirement already satisfied: cmdstanpy==0.9.5 in /usr/local/lib/python3.7/dist-packages (from fbprophet) (0.9.5)\n",
            "Requirement already satisfied: pystan>=2.14 in /usr/local/lib/python3.7/dist-packages (from fbprophet) (2.19.1.1)\n",
            "Requirement already satisfied: numpy>=1.15.4 in /usr/local/lib/python3.7/dist-packages (from fbprophet) (1.19.5)\n",
            "Requirement already satisfied: pandas>=1.0.4 in /usr/local/lib/python3.7/dist-packages (from fbprophet) (1.1.5)\n",
            "Requirement already satisfied: matplotlib>=2.0.0 in /usr/local/lib/python3.7/dist-packages (from fbprophet) (3.2.2)\n",
            "Requirement already satisfied: LunarCalendar>=0.0.9 in /usr/local/lib/python3.7/dist-packages (from fbprophet) (0.0.9)\n",
            "Requirement already satisfied: convertdate>=2.1.2 in /usr/local/lib/python3.7/dist-packages (from fbprophet) (2.3.2)\n",
            "Requirement already satisfied: holidays>=0.10.2 in /usr/local/lib/python3.7/dist-packages (from fbprophet) (0.10.5.2)\n",
            "Requirement already satisfied: setuptools-git>=1.2 in /usr/local/lib/python3.7/dist-packages (from fbprophet) (1.2)\n",
            "Requirement already satisfied: python-dateutil>=2.8.0 in /usr/local/lib/python3.7/dist-packages (from fbprophet) (2.8.2)\n",
            "Requirement already satisfied: tqdm>=4.36.1 in /usr/local/lib/python3.7/dist-packages (from fbprophet) (4.62.0)\n",
            "Requirement already satisfied: pytz>=2014.10 in /usr/local/lib/python3.7/dist-packages (from convertdate>=2.1.2->fbprophet) (2018.9)\n",
            "Requirement already satisfied: pymeeus<=1,>=0.3.13 in /usr/local/lib/python3.7/dist-packages (from convertdate>=2.1.2->fbprophet) (0.5.11)\n",
            "Requirement already satisfied: korean-lunar-calendar in /usr/local/lib/python3.7/dist-packages (from holidays>=0.10.2->fbprophet) (0.2.1)\n",
            "Requirement already satisfied: hijri-converter in /usr/local/lib/python3.7/dist-packages (from holidays>=0.10.2->fbprophet) (2.1.3)\n",
            "Requirement already satisfied: six in /usr/local/lib/python3.7/dist-packages (from holidays>=0.10.2->fbprophet) (1.15.0)\n",
            "Requirement already satisfied: ephem>=3.7.5.3 in /usr/local/lib/python3.7/dist-packages (from LunarCalendar>=0.0.9->fbprophet) (4.0.0.2)\n",
            "Requirement already satisfied: kiwisolver>=1.0.1 in /usr/local/lib/python3.7/dist-packages (from matplotlib>=2.0.0->fbprophet) (1.3.1)\n",
            "Requirement already satisfied: pyparsing!=2.0.4,!=2.1.2,!=2.1.6,>=2.0.1 in /usr/local/lib/python3.7/dist-packages (from matplotlib>=2.0.0->fbprophet) (2.4.7)\n",
            "Requirement already satisfied: cycler>=0.10 in /usr/local/lib/python3.7/dist-packages (from matplotlib>=2.0.0->fbprophet) (0.10.0)\n"
          ],
          "name": "stdout"
        }
      ]
    },
    {
      "cell_type": "code",
      "metadata": {
        "id": "CY5G7SE9PLEB"
      },
      "source": [
        "import matplotlib as mpl\n",
        "import matplotlib.pyplot as plt\n",
        "import itertools\n",
        "import numpy as np\n",
        "import os\n",
        "from datetime import datetime\n",
        "from fbprophet.diagnostics import performance_metrics\n",
        "from fbprophet.diagnostics import cross_validation\n",
        "import holidays\n",
        "import pandas as pd\n",
        "import plotly.express as px\n",
        "\n",
        "mpl.rcParams['figure.figsize'] = (10, 8)\n",
        "mpl.rcParams['axes.grid'] = False\n"
      ],
      "execution_count": null,
      "outputs": []
    },
    {
      "cell_type": "code",
      "metadata": {
        "id": "PJaoc_EcR1pB"
      },
      "source": [
        "df = pd.read_csv('/content/clean_quarterly_df_human.csv').dropna()"
      ],
      "execution_count": null,
      "outputs": []
    },
    {
      "cell_type": "code",
      "metadata": {
        "id": "vjjJKsOR5GtF"
      },
      "source": [
        "df['time']=pd.to_datetime(df['time'],dayfirst=True)"
      ],
      "execution_count": null,
      "outputs": []
    },
    {
      "cell_type": "code",
      "metadata": {
        "id": "gQjU-JsX58EB",
        "colab": {
          "base_uri": "https://localhost:8080/"
        },
        "outputId": "0e773d0a-a2f1-4e2a-dceb-bb08aa5e140c"
      },
      "source": [
        "df.info()"
      ],
      "execution_count": null,
      "outputs": [
        {
          "output_type": "stream",
          "text": [
            "<class 'pandas.core.frame.DataFrame'>\n",
            "Int64Index: 22 entries, 0 to 21\n",
            "Data columns (total 7 columns):\n",
            " #   Column                      Non-Null Count  Dtype         \n",
            "---  ------                      --------------  -----         \n",
            " 0   time                        22 non-null     datetime64[ns]\n",
            " 1   MIN_TEMPERATURE_C           22 non-null     float64       \n",
            " 2   max_clients_quarter         22 non-null     float64       \n",
            " 3   total_Holiday_Food_Related  22 non-null     float64       \n",
            " 4   total_consommation          22 non-null     float64       \n",
            " 5   pdl_max_total_daily_load    22 non-null     float64       \n",
            " 6   pdl_max_daily_load          22 non-null     float64       \n",
            "dtypes: datetime64[ns](1), float64(6)\n",
            "memory usage: 1.4 KB\n"
          ],
          "name": "stdout"
        }
      ]
    },
    {
      "cell_type": "code",
      "metadata": {
        "id": "1ALsQm_eoVsh",
        "colab": {
          "base_uri": "https://localhost:8080/",
          "height": 312
        },
        "outputId": "9e3716a6-c035-4809-bedf-2a2f74d3ec22"
      },
      "source": [
        "df.head()"
      ],
      "execution_count": null,
      "outputs": [
        {
          "output_type": "execute_result",
          "data": {
            "text/html": [
              "<div>\n",
              "<style scoped>\n",
              "    .dataframe tbody tr th:only-of-type {\n",
              "        vertical-align: middle;\n",
              "    }\n",
              "\n",
              "    .dataframe tbody tr th {\n",
              "        vertical-align: top;\n",
              "    }\n",
              "\n",
              "    .dataframe thead th {\n",
              "        text-align: right;\n",
              "    }\n",
              "</style>\n",
              "<table border=\"1\" class=\"dataframe\">\n",
              "  <thead>\n",
              "    <tr style=\"text-align: right;\">\n",
              "      <th></th>\n",
              "      <th>time</th>\n",
              "      <th>MIN_TEMPERATURE_C</th>\n",
              "      <th>max_clients_quarter</th>\n",
              "      <th>total_Holiday_Food_Related</th>\n",
              "      <th>total_consommation</th>\n",
              "      <th>pdl_max_total_daily_load</th>\n",
              "      <th>pdl_max_daily_load</th>\n",
              "    </tr>\n",
              "  </thead>\n",
              "  <tbody>\n",
              "    <tr>\n",
              "      <th>0</th>\n",
              "      <td>2015-03-31</td>\n",
              "      <td>8.0</td>\n",
              "      <td>4060.0</td>\n",
              "      <td>2.0</td>\n",
              "      <td>757059.40</td>\n",
              "      <td>22257.0</td>\n",
              "      <td>1551.0</td>\n",
              "    </tr>\n",
              "    <tr>\n",
              "      <th>1</th>\n",
              "      <td>2015-06-30</td>\n",
              "      <td>14.0</td>\n",
              "      <td>4137.0</td>\n",
              "      <td>13.0</td>\n",
              "      <td>690218.16</td>\n",
              "      <td>16752.0</td>\n",
              "      <td>1253.0</td>\n",
              "    </tr>\n",
              "    <tr>\n",
              "      <th>2</th>\n",
              "      <td>2015-09-30</td>\n",
              "      <td>23.0</td>\n",
              "      <td>4194.0</td>\n",
              "      <td>23.0</td>\n",
              "      <td>669288.36</td>\n",
              "      <td>9186.0</td>\n",
              "      <td>1051.0</td>\n",
              "    </tr>\n",
              "    <tr>\n",
              "      <th>3</th>\n",
              "      <td>2015-12-31</td>\n",
              "      <td>13.0</td>\n",
              "      <td>4242.0</td>\n",
              "      <td>3.0</td>\n",
              "      <td>702182.67</td>\n",
              "      <td>18801.0</td>\n",
              "      <td>1327.0</td>\n",
              "    </tr>\n",
              "    <tr>\n",
              "      <th>4</th>\n",
              "      <td>2016-03-31</td>\n",
              "      <td>11.0</td>\n",
              "      <td>4346.0</td>\n",
              "      <td>1.0</td>\n",
              "      <td>735924.27</td>\n",
              "      <td>20212.0</td>\n",
              "      <td>1391.0</td>\n",
              "    </tr>\n",
              "  </tbody>\n",
              "</table>\n",
              "</div>"
            ],
            "text/plain": [
              "        time  MIN_TEMPERATURE_C  ...  pdl_max_total_daily_load  pdl_max_daily_load\n",
              "0 2015-03-31                8.0  ...                   22257.0              1551.0\n",
              "1 2015-06-30               14.0  ...                   16752.0              1253.0\n",
              "2 2015-09-30               23.0  ...                    9186.0              1051.0\n",
              "3 2015-12-31               13.0  ...                   18801.0              1327.0\n",
              "4 2016-03-31               11.0  ...                   20212.0              1391.0\n",
              "\n",
              "[5 rows x 7 columns]"
            ]
          },
          "metadata": {
            "tags": []
          },
          "execution_count": 31
        }
      ]
    },
    {
      "cell_type": "code",
      "metadata": {
        "id": "2fQYtWH8Cy-w"
      },
      "source": [
        "ny_df_daily=df.set_index('time')"
      ],
      "execution_count": null,
      "outputs": []
    },
    {
      "cell_type": "code",
      "metadata": {
        "id": "_oewn0xg6NvF",
        "colab": {
          "base_uri": "https://localhost:8080/",
          "height": 586
        },
        "outputId": "31fab319-eae8-49fa-fde3-bcebb8fe2bab"
      },
      "source": [
        "ny_df_daily.plot(subplots=True)"
      ],
      "execution_count": null,
      "outputs": [
        {
          "output_type": "execute_result",
          "data": {
            "text/plain": [
              "array([<matplotlib.axes._subplots.AxesSubplot object at 0x7f4e36dd7590>,\n",
              "       <matplotlib.axes._subplots.AxesSubplot object at 0x7f4e36d8f550>,\n",
              "       <matplotlib.axes._subplots.AxesSubplot object at 0x7f4e36dd78d0>,\n",
              "       <matplotlib.axes._subplots.AxesSubplot object at 0x7f4e36cff3d0>,\n",
              "       <matplotlib.axes._subplots.AxesSubplot object at 0x7f4e36cb6790>,\n",
              "       <matplotlib.axes._subplots.AxesSubplot object at 0x7f4e36c6eb50>],\n",
              "      dtype=object)"
            ]
          },
          "metadata": {
            "tags": []
          },
          "execution_count": 33
        },
        {
          "output_type": "display_data",
          "data": {
            "image/png": "[encoded data removed]",
            "text/plain": [
              "<Figure size 720x576 with 6 Axes>"
            ]
          },
          "metadata": {
            "tags": [],
            "needs_background": "light"
          }
        }
      ]
    },
    {
      "cell_type": "code",
      "metadata": {
        "id": "0KkcROyGVrrE"
      },
      "source": [
        "from fbprophet import Prophet"
      ],
      "execution_count": null,
      "outputs": []
    },
    {
      "cell_type": "code",
      "metadata": {
        "id": "vcWCMnvcv-DH",
        "colab": {
          "base_uri": "https://localhost:8080/",
          "height": 1000
        },
        "outputId": "64771b88-5956-43af-934b-47b75891936a"
      },
      "source": [
        "ny_df_daily"
      ],
      "execution_count": null,
      "outputs": [
        {
          "output_type": "execute_result",
          "data": {
            "text/html": [
              "<div>\n",
              "<style scoped>\n",
              "    .dataframe tbody tr th:only-of-type {\n",
              "        vertical-align: middle;\n",
              "    }\n",
              "\n",
              "    .dataframe tbody tr th {\n",
              "        vertical-align: top;\n",
              "    }\n",
              "\n",
              "    .dataframe thead th {\n",
              "        text-align: right;\n",
              "    }\n",
              "</style>\n",
              "<table border=\"1\" class=\"dataframe\">\n",
              "  <thead>\n",
              "    <tr style=\"text-align: right;\">\n",
              "      <th></th>\n",
              "      <th>MIN_TEMPERATURE_C</th>\n",
              "      <th>max_clients_quarter</th>\n",
              "      <th>total_Holiday_Food_Related</th>\n",
              "      <th>total_consommation</th>\n",
              "      <th>pdl_max_total_daily_load</th>\n",
              "      <th>pdl_max_daily_load</th>\n",
              "    </tr>\n",
              "    <tr>\n",
              "      <th>time</th>\n",
              "      <th></th>\n",
              "      <th></th>\n",
              "      <th></th>\n",
              "      <th></th>\n",
              "      <th></th>\n",
              "      <th></th>\n",
              "    </tr>\n",
              "  </thead>\n",
              "  <tbody>\n",
              "    <tr>\n",
              "      <th>2015-03-31</th>\n",
              "      <td>8.0</td>\n",
              "      <td>4060.0</td>\n",
              "      <td>2.0</td>\n",
              "      <td>757059.40</td>\n",
              "      <td>22257.0</td>\n",
              "      <td>1551.0</td>\n",
              "    </tr>\n",
              "    <tr>\n",
              "      <th>2015-06-30</th>\n",
              "      <td>14.0</td>\n",
              "      <td>4137.0</td>\n",
              "      <td>13.0</td>\n",
              "      <td>690218.16</td>\n",
              "      <td>16752.0</td>\n",
              "      <td>1253.0</td>\n",
              "    </tr>\n",
              "    <tr>\n",
              "      <th>2015-09-30</th>\n",
              "      <td>23.0</td>\n",
              "      <td>4194.0</td>\n",
              "      <td>23.0</td>\n",
              "      <td>669288.36</td>\n",
              "      <td>9186.0</td>\n",
              "      <td>1051.0</td>\n",
              "    </tr>\n",
              "    <tr>\n",
              "      <th>2015-12-31</th>\n",
              "      <td>13.0</td>\n",
              "      <td>4242.0</td>\n",
              "      <td>3.0</td>\n",
              "      <td>702182.67</td>\n",
              "      <td>18801.0</td>\n",
              "      <td>1327.0</td>\n",
              "    </tr>\n",
              "    <tr>\n",
              "      <th>2016-03-31</th>\n",
              "      <td>11.0</td>\n",
              "      <td>4346.0</td>\n",
              "      <td>1.0</td>\n",
              "      <td>735924.27</td>\n",
              "      <td>20212.0</td>\n",
              "      <td>1391.0</td>\n",
              "    </tr>\n",
              "    <tr>\n",
              "      <th>2016-06-30</th>\n",
              "      <td>16.0</td>\n",
              "      <td>4385.0</td>\n",
              "      <td>25.0</td>\n",
              "      <td>744902.25</td>\n",
              "      <td>14084.0</td>\n",
              "      <td>1269.0</td>\n",
              "    </tr>\n",
              "    <tr>\n",
              "      <th>2016-09-30</th>\n",
              "      <td>22.0</td>\n",
              "      <td>4453.0</td>\n",
              "      <td>10.0</td>\n",
              "      <td>644673.06</td>\n",
              "      <td>12568.0</td>\n",
              "      <td>1097.0</td>\n",
              "    </tr>\n",
              "    <tr>\n",
              "      <th>2016-12-31</th>\n",
              "      <td>11.0</td>\n",
              "      <td>4516.0</td>\n",
              "      <td>3.0</td>\n",
              "      <td>672429.05</td>\n",
              "      <td>22860.0</td>\n",
              "      <td>1419.0</td>\n",
              "    </tr>\n",
              "    <tr>\n",
              "      <th>2017-03-31</th>\n",
              "      <td>10.0</td>\n",
              "      <td>4640.0</td>\n",
              "      <td>1.0</td>\n",
              "      <td>689678.54</td>\n",
              "      <td>27928.0</td>\n",
              "      <td>1628.0</td>\n",
              "    </tr>\n",
              "    <tr>\n",
              "      <th>2017-06-30</th>\n",
              "      <td>15.0</td>\n",
              "      <td>4705.0</td>\n",
              "      <td>33.0</td>\n",
              "      <td>661543.78</td>\n",
              "      <td>15536.0</td>\n",
              "      <td>1271.0</td>\n",
              "    </tr>\n",
              "    <tr>\n",
              "      <th>2017-09-30</th>\n",
              "      <td>22.0</td>\n",
              "      <td>4769.0</td>\n",
              "      <td>3.0</td>\n",
              "      <td>619084.06</td>\n",
              "      <td>10783.0</td>\n",
              "      <td>1040.0</td>\n",
              "    </tr>\n",
              "    <tr>\n",
              "      <th>2017-12-31</th>\n",
              "      <td>11.0</td>\n",
              "      <td>4836.0</td>\n",
              "      <td>2.0</td>\n",
              "      <td>714105.68</td>\n",
              "      <td>25544.0</td>\n",
              "      <td>1516.0</td>\n",
              "    </tr>\n",
              "    <tr>\n",
              "      <th>2018-03-31</th>\n",
              "      <td>11.0</td>\n",
              "      <td>4943.0</td>\n",
              "      <td>1.0</td>\n",
              "      <td>697997.02</td>\n",
              "      <td>24939.0</td>\n",
              "      <td>1472.0</td>\n",
              "    </tr>\n",
              "    <tr>\n",
              "      <th>2018-06-30</th>\n",
              "      <td>15.0</td>\n",
              "      <td>5056.0</td>\n",
              "      <td>33.0</td>\n",
              "      <td>713952.83</td>\n",
              "      <td>16467.0</td>\n",
              "      <td>1494.0</td>\n",
              "    </tr>\n",
              "    <tr>\n",
              "      <th>2018-09-30</th>\n",
              "      <td>23.0</td>\n",
              "      <td>5113.0</td>\n",
              "      <td>4.0</td>\n",
              "      <td>604697.83</td>\n",
              "      <td>12918.0</td>\n",
              "      <td>1029.0</td>\n",
              "    </tr>\n",
              "    <tr>\n",
              "      <th>2018-12-31</th>\n",
              "      <td>13.0</td>\n",
              "      <td>5171.0</td>\n",
              "      <td>1.0</td>\n",
              "      <td>711392.28</td>\n",
              "      <td>22859.0</td>\n",
              "      <td>1411.0</td>\n",
              "    </tr>\n",
              "    <tr>\n",
              "      <th>2019-03-31</th>\n",
              "      <td>9.0</td>\n",
              "      <td>5217.0</td>\n",
              "      <td>1.0</td>\n",
              "      <td>728026.49</td>\n",
              "      <td>26742.0</td>\n",
              "      <td>1600.0</td>\n",
              "    </tr>\n",
              "    <tr>\n",
              "      <th>2019-06-30</th>\n",
              "      <td>13.0</td>\n",
              "      <td>5248.0</td>\n",
              "      <td>33.0</td>\n",
              "      <td>489350.13</td>\n",
              "      <td>18087.0</td>\n",
              "      <td>1556.0</td>\n",
              "    </tr>\n",
              "    <tr>\n",
              "      <th>2019-09-30</th>\n",
              "      <td>22.0</td>\n",
              "      <td>5308.0</td>\n",
              "      <td>4.0</td>\n",
              "      <td>699426.90</td>\n",
              "      <td>12408.0</td>\n",
              "      <td>1077.0</td>\n",
              "    </tr>\n",
              "    <tr>\n",
              "      <th>2019-12-31</th>\n",
              "      <td>12.0</td>\n",
              "      <td>5354.0</td>\n",
              "      <td>1.0</td>\n",
              "      <td>878253.16</td>\n",
              "      <td>27936.0</td>\n",
              "      <td>1469.0</td>\n",
              "    </tr>\n",
              "    <tr>\n",
              "      <th>2020-03-31</th>\n",
              "      <td>8.0</td>\n",
              "      <td>5348.0</td>\n",
              "      <td>1.0</td>\n",
              "      <td>691127.62</td>\n",
              "      <td>26139.0</td>\n",
              "      <td>1560.0</td>\n",
              "    </tr>\n",
              "    <tr>\n",
              "      <th>2020-06-30</th>\n",
              "      <td>12.0</td>\n",
              "      <td>5326.0</td>\n",
              "      <td>33.0</td>\n",
              "      <td>583116.41</td>\n",
              "      <td>18875.0</td>\n",
              "      <td>1599.0</td>\n",
              "    </tr>\n",
              "  </tbody>\n",
              "</table>\n",
              "</div>"
            ],
            "text/plain": [
              "            MIN_TEMPERATURE_C  ...  pdl_max_daily_load\n",
              "time                           ...                    \n",
              "2015-03-31                8.0  ...              1551.0\n",
              "2015-06-30               14.0  ...              1253.0\n",
              "2015-09-30               23.0  ...              1051.0\n",
              "2015-12-31               13.0  ...              1327.0\n",
              "2016-03-31               11.0  ...              1391.0\n",
              "2016-06-30               16.0  ...              1269.0\n",
              "2016-09-30               22.0  ...              1097.0\n",
              "2016-12-31               11.0  ...              1419.0\n",
              "2017-03-31               10.0  ...              1628.0\n",
              "2017-06-30               15.0  ...              1271.0\n",
              "2017-09-30               22.0  ...              1040.0\n",
              "2017-12-31               11.0  ...              1516.0\n",
              "2018-03-31               11.0  ...              1472.0\n",
              "2018-06-30               15.0  ...              1494.0\n",
              "2018-09-30               23.0  ...              1029.0\n",
              "2018-12-31               13.0  ...              1411.0\n",
              "2019-03-31                9.0  ...              1600.0\n",
              "2019-06-30               13.0  ...              1556.0\n",
              "2019-09-30               22.0  ...              1077.0\n",
              "2019-12-31               12.0  ...              1469.0\n",
              "2020-03-31                8.0  ...              1560.0\n",
              "2020-06-30               12.0  ...              1599.0\n",
              "\n",
              "[22 rows x 6 columns]"
            ]
          },
          "metadata": {
            "tags": []
          },
          "execution_count": 35
        }
      ]
    },
    {
      "cell_type": "code",
      "metadata": {
        "id": "jgXH0yWfUprK",
        "colab": {
          "base_uri": "https://localhost:8080/"
        },
        "outputId": "482cae62-85fb-4f1b-a4b2-abab69321dd6"
      },
      "source": [
        "ny_df_daily.columns"
      ],
      "execution_count": null,
      "outputs": [
        {
          "output_type": "execute_result",
          "data": {
            "text/plain": [
              "Index(['MIN_TEMPERATURE_C', 'max_clients_quarter',\n",
              "       'total_Holiday_Food_Related', 'total_consommation',\n",
              "       'pdl_max_total_daily_load', 'pdl_max_daily_load'],\n",
              "      dtype='object')"
            ]
          },
          "metadata": {
            "tags": []
          },
          "execution_count": 36
        }
      ]
    },
    {
      "cell_type": "code",
      "metadata": {
        "id": "LT5FPlA3dhot"
      },
      "source": [
        "ny_df_final=ny_df_daily.reset_index()[['time','MIN_TEMPERATURE_C', 'max_clients_quarter', \n",
        "        'total_consommation', 'pdl_max_total_daily_load', 'pdl_max_daily_load']].rename({'time':'ds',\n",
        "        'MIN_TEMPERATURE_C':'MIN_TEMPERATURE_C', 'max_clients_quarter':'max_clients_quarter',\n",
        "        'total_consommation':'total_consommation','pdl_max_total_daily_load':'pdl_max_total_daily_load',\n",
        "        'pdl_max_daily_load':'y'}, axis='columns')"
      ],
      "execution_count": null,
      "outputs": []
    },
    {
      "cell_type": "code",
      "metadata": {
        "id": "zpqAZy3Bdhmv",
        "colab": {
          "base_uri": "https://localhost:8080/",
          "height": 1000
        },
        "outputId": "8ef28cd3-2355-4b9d-e570-a0b535078701"
      },
      "source": [
        "ny_df_final"
      ],
      "execution_count": null,
      "outputs": [
        {
          "output_type": "execute_result",
          "data": {
            "text/html": [
              "<div>\n",
              "<style scoped>\n",
              "    .dataframe tbody tr th:only-of-type {\n",
              "        vertical-align: middle;\n",
              "    }\n",
              "\n",
              "    .dataframe tbody tr th {\n",
              "        vertical-align: top;\n",
              "    }\n",
              "\n",
              "    .dataframe thead th {\n",
              "        text-align: right;\n",
              "    }\n",
              "</style>\n",
              "<table border=\"1\" class=\"dataframe\">\n",
              "  <thead>\n",
              "    <tr style=\"text-align: right;\">\n",
              "      <th></th>\n",
              "      <th>ds</th>\n",
              "      <th>MIN_TEMPERATURE_C</th>\n",
              "      <th>max_clients_quarter</th>\n",
              "      <th>total_consommation</th>\n",
              "      <th>pdl_max_total_daily_load</th>\n",
              "      <th>y</th>\n",
              "    </tr>\n",
              "  </thead>\n",
              "  <tbody>\n",
              "    <tr>\n",
              "      <th>0</th>\n",
              "      <td>2015-03-31</td>\n",
              "      <td>8.0</td>\n",
              "      <td>4060.0</td>\n",
              "      <td>757059.40</td>\n",
              "      <td>22257.0</td>\n",
              "      <td>1551.0</td>\n",
              "    </tr>\n",
              "    <tr>\n",
              "      <th>1</th>\n",
              "      <td>2015-06-30</td>\n",
              "      <td>14.0</td>\n",
              "      <td>4137.0</td>\n",
              "      <td>690218.16</td>\n",
              "      <td>16752.0</td>\n",
              "      <td>1253.0</td>\n",
              "    </tr>\n",
              "    <tr>\n",
              "      <th>2</th>\n",
              "      <td>2015-09-30</td>\n",
              "      <td>23.0</td>\n",
              "      <td>4194.0</td>\n",
              "      <td>669288.36</td>\n",
              "      <td>9186.0</td>\n",
              "      <td>1051.0</td>\n",
              "    </tr>\n",
              "    <tr>\n",
              "      <th>3</th>\n",
              "      <td>2015-12-31</td>\n",
              "      <td>13.0</td>\n",
              "      <td>4242.0</td>\n",
              "      <td>702182.67</td>\n",
              "      <td>18801.0</td>\n",
              "      <td>1327.0</td>\n",
              "    </tr>\n",
              "    <tr>\n",
              "      <th>4</th>\n",
              "      <td>2016-03-31</td>\n",
              "      <td>11.0</td>\n",
              "      <td>4346.0</td>\n",
              "      <td>735924.27</td>\n",
              "      <td>20212.0</td>\n",
              "      <td>1391.0</td>\n",
              "    </tr>\n",
              "    <tr>\n",
              "      <th>5</th>\n",
              "      <td>2016-06-30</td>\n",
              "      <td>16.0</td>\n",
              "      <td>4385.0</td>\n",
              "      <td>744902.25</td>\n",
              "      <td>14084.0</td>\n",
              "      <td>1269.0</td>\n",
              "    </tr>\n",
              "    <tr>\n",
              "      <th>6</th>\n",
              "      <td>2016-09-30</td>\n",
              "      <td>22.0</td>\n",
              "      <td>4453.0</td>\n",
              "      <td>644673.06</td>\n",
              "      <td>12568.0</td>\n",
              "      <td>1097.0</td>\n",
              "    </tr>\n",
              "    <tr>\n",
              "      <th>7</th>\n",
              "      <td>2016-12-31</td>\n",
              "      <td>11.0</td>\n",
              "      <td>4516.0</td>\n",
              "      <td>672429.05</td>\n",
              "      <td>22860.0</td>\n",
              "      <td>1419.0</td>\n",
              "    </tr>\n",
              "    <tr>\n",
              "      <th>8</th>\n",
              "      <td>2017-03-31</td>\n",
              "      <td>10.0</td>\n",
              "      <td>4640.0</td>\n",
              "      <td>689678.54</td>\n",
              "      <td>27928.0</td>\n",
              "      <td>1628.0</td>\n",
              "    </tr>\n",
              "    <tr>\n",
              "      <th>9</th>\n",
              "      <td>2017-06-30</td>\n",
              "      <td>15.0</td>\n",
              "      <td>4705.0</td>\n",
              "      <td>661543.78</td>\n",
              "      <td>15536.0</td>\n",
              "      <td>1271.0</td>\n",
              "    </tr>\n",
              "    <tr>\n",
              "      <th>10</th>\n",
              "      <td>2017-09-30</td>\n",
              "      <td>22.0</td>\n",
              "      <td>4769.0</td>\n",
              "      <td>619084.06</td>\n",
              "      <td>10783.0</td>\n",
              "      <td>1040.0</td>\n",
              "    </tr>\n",
              "    <tr>\n",
              "      <th>11</th>\n",
              "      <td>2017-12-31</td>\n",
              "      <td>11.0</td>\n",
              "      <td>4836.0</td>\n",
              "      <td>714105.68</td>\n",
              "      <td>25544.0</td>\n",
              "      <td>1516.0</td>\n",
              "    </tr>\n",
              "    <tr>\n",
              "      <th>12</th>\n",
              "      <td>2018-03-31</td>\n",
              "      <td>11.0</td>\n",
              "      <td>4943.0</td>\n",
              "      <td>697997.02</td>\n",
              "      <td>24939.0</td>\n",
              "      <td>1472.0</td>\n",
              "    </tr>\n",
              "    <tr>\n",
              "      <th>13</th>\n",
              "      <td>2018-06-30</td>\n",
              "      <td>15.0</td>\n",
              "      <td>5056.0</td>\n",
              "      <td>713952.83</td>\n",
              "      <td>16467.0</td>\n",
              "      <td>1494.0</td>\n",
              "    </tr>\n",
              "    <tr>\n",
              "      <th>14</th>\n",
              "      <td>2018-09-30</td>\n",
              "      <td>23.0</td>\n",
              "      <td>5113.0</td>\n",
              "      <td>604697.83</td>\n",
              "      <td>12918.0</td>\n",
              "      <td>1029.0</td>\n",
              "    </tr>\n",
              "    <tr>\n",
              "      <th>15</th>\n",
              "      <td>2018-12-31</td>\n",
              "      <td>13.0</td>\n",
              "      <td>5171.0</td>\n",
              "      <td>711392.28</td>\n",
              "      <td>22859.0</td>\n",
              "      <td>1411.0</td>\n",
              "    </tr>\n",
              "    <tr>\n",
              "      <th>16</th>\n",
              "      <td>2019-03-31</td>\n",
              "      <td>9.0</td>\n",
              "      <td>5217.0</td>\n",
              "      <td>728026.49</td>\n",
              "      <td>26742.0</td>\n",
              "      <td>1600.0</td>\n",
              "    </tr>\n",
              "    <tr>\n",
              "      <th>17</th>\n",
              "      <td>2019-06-30</td>\n",
              "      <td>13.0</td>\n",
              "      <td>5248.0</td>\n",
              "      <td>489350.13</td>\n",
              "      <td>18087.0</td>\n",
              "      <td>1556.0</td>\n",
              "    </tr>\n",
              "    <tr>\n",
              "      <th>18</th>\n",
              "      <td>2019-09-30</td>\n",
              "      <td>22.0</td>\n",
              "      <td>5308.0</td>\n",
              "      <td>699426.90</td>\n",
              "      <td>12408.0</td>\n",
              "      <td>1077.0</td>\n",
              "    </tr>\n",
              "    <tr>\n",
              "      <th>19</th>\n",
              "      <td>2019-12-31</td>\n",
              "      <td>12.0</td>\n",
              "      <td>5354.0</td>\n",
              "      <td>878253.16</td>\n",
              "      <td>27936.0</td>\n",
              "      <td>1469.0</td>\n",
              "    </tr>\n",
              "    <tr>\n",
              "      <th>20</th>\n",
              "      <td>2020-03-31</td>\n",
              "      <td>8.0</td>\n",
              "      <td>5348.0</td>\n",
              "      <td>691127.62</td>\n",
              "      <td>26139.0</td>\n",
              "      <td>1560.0</td>\n",
              "    </tr>\n",
              "    <tr>\n",
              "      <th>21</th>\n",
              "      <td>2020-06-30</td>\n",
              "      <td>12.0</td>\n",
              "      <td>5326.0</td>\n",
              "      <td>583116.41</td>\n",
              "      <td>18875.0</td>\n",
              "      <td>1599.0</td>\n",
              "    </tr>\n",
              "  </tbody>\n",
              "</table>\n",
              "</div>"
            ],
            "text/plain": [
              "           ds  MIN_TEMPERATURE_C  ...  pdl_max_total_daily_load       y\n",
              "0  2015-03-31                8.0  ...                   22257.0  1551.0\n",
              "1  2015-06-30               14.0  ...                   16752.0  1253.0\n",
              "2  2015-09-30               23.0  ...                    9186.0  1051.0\n",
              "3  2015-12-31               13.0  ...                   18801.0  1327.0\n",
              "4  2016-03-31               11.0  ...                   20212.0  1391.0\n",
              "5  2016-06-30               16.0  ...                   14084.0  1269.0\n",
              "6  2016-09-30               22.0  ...                   12568.0  1097.0\n",
              "7  2016-12-31               11.0  ...                   22860.0  1419.0\n",
              "8  2017-03-31               10.0  ...                   27928.0  1628.0\n",
              "9  2017-06-30               15.0  ...                   15536.0  1271.0\n",
              "10 2017-09-30               22.0  ...                   10783.0  1040.0\n",
              "11 2017-12-31               11.0  ...                   25544.0  1516.0\n",
              "12 2018-03-31               11.0  ...                   24939.0  1472.0\n",
              "13 2018-06-30               15.0  ...                   16467.0  1494.0\n",
              "14 2018-09-30               23.0  ...                   12918.0  1029.0\n",
              "15 2018-12-31               13.0  ...                   22859.0  1411.0\n",
              "16 2019-03-31                9.0  ...                   26742.0  1600.0\n",
              "17 2019-06-30               13.0  ...                   18087.0  1556.0\n",
              "18 2019-09-30               22.0  ...                   12408.0  1077.0\n",
              "19 2019-12-31               12.0  ...                   27936.0  1469.0\n",
              "20 2020-03-31                8.0  ...                   26139.0  1560.0\n",
              "21 2020-06-30               12.0  ...                   18875.0  1599.0\n",
              "\n",
              "[22 rows x 6 columns]"
            ]
          },
          "metadata": {
            "tags": []
          },
          "execution_count": 38
        }
      ]
    },
    {
      "cell_type": "code",
      "metadata": {
        "id": "qkj44Up8dhkA"
      },
      "source": [
        "train=ny_df_final[ny_df_final['ds'] <= '2019-12-31']\n",
        "test=ny_df_final[(ny_df_final['ds'] > '2019-12-31')]"
      ],
      "execution_count": null,
      "outputs": []
    },
    {
      "cell_type": "code",
      "metadata": {
        "id": "4mCsdGq2dhf-",
        "colab": {
          "base_uri": "https://localhost:8080/"
        },
        "outputId": "9bf86e78-32d1-4172-e4a9-5a2c98ff490b"
      },
      "source": [
        "train.shape"
      ],
      "execution_count": null,
      "outputs": [
        {
          "output_type": "execute_result",
          "data": {
            "text/plain": [
              "(20, 6)"
            ]
          },
          "metadata": {
            "tags": []
          },
          "execution_count": 40
        }
      ]
    },
    {
      "cell_type": "code",
      "metadata": {
        "id": "Ei0NwfB9dhd6",
        "colab": {
          "base_uri": "https://localhost:8080/"
        },
        "outputId": "bae3d3cd-f49e-4479-8cf4-7fbbace1a220"
      },
      "source": [
        "test.shape"
      ],
      "execution_count": null,
      "outputs": [
        {
          "output_type": "execute_result",
          "data": {
            "text/plain": [
              "(2, 6)"
            ]
          },
          "metadata": {
            "tags": []
          },
          "execution_count": 41
        }
      ]
    },
    {
      "cell_type": "code",
      "metadata": {
        "id": "Yqk2papXrQwM",
        "colab": {
          "base_uri": "https://localhost:8080/",
          "height": 146
        },
        "outputId": "2fe6efdf-2ba2-49e3-ff14-e70985950a44"
      },
      "source": [
        "test"
      ],
      "execution_count": null,
      "outputs": [
        {
          "output_type": "execute_result",
          "data": {
            "text/html": [
              "<div>\n",
              "<style scoped>\n",
              "    .dataframe tbody tr th:only-of-type {\n",
              "        vertical-align: middle;\n",
              "    }\n",
              "\n",
              "    .dataframe tbody tr th {\n",
              "        vertical-align: top;\n",
              "    }\n",
              "\n",
              "    .dataframe thead th {\n",
              "        text-align: right;\n",
              "    }\n",
              "</style>\n",
              "<table border=\"1\" class=\"dataframe\">\n",
              "  <thead>\n",
              "    <tr style=\"text-align: right;\">\n",
              "      <th></th>\n",
              "      <th>ds</th>\n",
              "      <th>MIN_TEMPERATURE_C</th>\n",
              "      <th>max_clients_quarter</th>\n",
              "      <th>total_consommation</th>\n",
              "      <th>pdl_max_total_daily_load</th>\n",
              "      <th>y</th>\n",
              "    </tr>\n",
              "  </thead>\n",
              "  <tbody>\n",
              "    <tr>\n",
              "      <th>20</th>\n",
              "      <td>2020-03-31</td>\n",
              "      <td>8.0</td>\n",
              "      <td>5348.0</td>\n",
              "      <td>691127.62</td>\n",
              "      <td>26139.0</td>\n",
              "      <td>1560.0</td>\n",
              "    </tr>\n",
              "    <tr>\n",
              "      <th>21</th>\n",
              "      <td>2020-06-30</td>\n",
              "      <td>12.0</td>\n",
              "      <td>5326.0</td>\n",
              "      <td>583116.41</td>\n",
              "      <td>18875.0</td>\n",
              "      <td>1599.0</td>\n",
              "    </tr>\n",
              "  </tbody>\n",
              "</table>\n",
              "</div>"
            ],
            "text/plain": [
              "           ds  MIN_TEMPERATURE_C  ...  pdl_max_total_daily_load       y\n",
              "20 2020-03-31                8.0  ...                   26139.0  1560.0\n",
              "21 2020-06-30               12.0  ...                   18875.0  1599.0\n",
              "\n",
              "[2 rows x 6 columns]"
            ]
          },
          "metadata": {
            "tags": []
          },
          "execution_count": 42
        }
      ]
    },
    {
      "cell_type": "code",
      "metadata": {
        "id": "dsZQ2L5KkN1i"
      },
      "source": [
        "holidays=pd.DataFrame({'holiday': 'food_related',\n",
        "  'ds': pd.to_datetime(df[df.total_Holiday_Food_Related>=1].time)})"
      ],
      "execution_count": null,
      "outputs": []
    },
    {
      "cell_type": "code",
      "metadata": {
        "colab": {
          "base_uri": "https://localhost:8080/",
          "height": 737
        },
        "id": "dgnjS6wnk8wM",
        "outputId": "94fc2968-d29e-43ea-a963-552111c2cea9"
      },
      "source": [
        "holidays"
      ],
      "execution_count": null,
      "outputs": [
        {
          "output_type": "execute_result",
          "data": {
            "text/html": [
              "<div>\n",
              "<style scoped>\n",
              "    .dataframe tbody tr th:only-of-type {\n",
              "        vertical-align: middle;\n",
              "    }\n",
              "\n",
              "    .dataframe tbody tr th {\n",
              "        vertical-align: top;\n",
              "    }\n",
              "\n",
              "    .dataframe thead th {\n",
              "        text-align: right;\n",
              "    }\n",
              "</style>\n",
              "<table border=\"1\" class=\"dataframe\">\n",
              "  <thead>\n",
              "    <tr style=\"text-align: right;\">\n",
              "      <th></th>\n",
              "      <th>holiday</th>\n",
              "      <th>ds</th>\n",
              "    </tr>\n",
              "  </thead>\n",
              "  <tbody>\n",
              "    <tr>\n",
              "      <th>0</th>\n",
              "      <td>food_related</td>\n",
              "      <td>2015-03-31</td>\n",
              "    </tr>\n",
              "    <tr>\n",
              "      <th>1</th>\n",
              "      <td>food_related</td>\n",
              "      <td>2015-06-30</td>\n",
              "    </tr>\n",
              "    <tr>\n",
              "      <th>2</th>\n",
              "      <td>food_related</td>\n",
              "      <td>2015-09-30</td>\n",
              "    </tr>\n",
              "    <tr>\n",
              "      <th>3</th>\n",
              "      <td>food_related</td>\n",
              "      <td>2015-12-31</td>\n",
              "    </tr>\n",
              "    <tr>\n",
              "      <th>4</th>\n",
              "      <td>food_related</td>\n",
              "      <td>2016-03-31</td>\n",
              "    </tr>\n",
              "    <tr>\n",
              "      <th>5</th>\n",
              "      <td>food_related</td>\n",
              "      <td>2016-06-30</td>\n",
              "    </tr>\n",
              "    <tr>\n",
              "      <th>6</th>\n",
              "      <td>food_related</td>\n",
              "      <td>2016-09-30</td>\n",
              "    </tr>\n",
              "    <tr>\n",
              "      <th>7</th>\n",
              "      <td>food_related</td>\n",
              "      <td>2016-12-31</td>\n",
              "    </tr>\n",
              "    <tr>\n",
              "      <th>8</th>\n",
              "      <td>food_related</td>\n",
              "      <td>2017-03-31</td>\n",
              "    </tr>\n",
              "    <tr>\n",
              "      <th>9</th>\n",
              "      <td>food_related</td>\n",
              "      <td>2017-06-30</td>\n",
              "    </tr>\n",
              "    <tr>\n",
              "      <th>10</th>\n",
              "      <td>food_related</td>\n",
              "      <td>2017-09-30</td>\n",
              "    </tr>\n",
              "    <tr>\n",
              "      <th>11</th>\n",
              "      <td>food_related</td>\n",
              "      <td>2017-12-31</td>\n",
              "    </tr>\n",
              "    <tr>\n",
              "      <th>12</th>\n",
              "      <td>food_related</td>\n",
              "      <td>2018-03-31</td>\n",
              "    </tr>\n",
              "    <tr>\n",
              "      <th>13</th>\n",
              "      <td>food_related</td>\n",
              "      <td>2018-06-30</td>\n",
              "    </tr>\n",
              "    <tr>\n",
              "      <th>14</th>\n",
              "      <td>food_related</td>\n",
              "      <td>2018-09-30</td>\n",
              "    </tr>\n",
              "    <tr>\n",
              "      <th>15</th>\n",
              "      <td>food_related</td>\n",
              "      <td>2018-12-31</td>\n",
              "    </tr>\n",
              "    <tr>\n",
              "      <th>16</th>\n",
              "      <td>food_related</td>\n",
              "      <td>2019-03-31</td>\n",
              "    </tr>\n",
              "    <tr>\n",
              "      <th>17</th>\n",
              "      <td>food_related</td>\n",
              "      <td>2019-06-30</td>\n",
              "    </tr>\n",
              "    <tr>\n",
              "      <th>18</th>\n",
              "      <td>food_related</td>\n",
              "      <td>2019-09-30</td>\n",
              "    </tr>\n",
              "    <tr>\n",
              "      <th>19</th>\n",
              "      <td>food_related</td>\n",
              "      <td>2019-12-31</td>\n",
              "    </tr>\n",
              "    <tr>\n",
              "      <th>20</th>\n",
              "      <td>food_related</td>\n",
              "      <td>2020-03-31</td>\n",
              "    </tr>\n",
              "    <tr>\n",
              "      <th>21</th>\n",
              "      <td>food_related</td>\n",
              "      <td>2020-06-30</td>\n",
              "    </tr>\n",
              "  </tbody>\n",
              "</table>\n",
              "</div>"
            ],
            "text/plain": [
              "         holiday         ds\n",
              "0   food_related 2015-03-31\n",
              "1   food_related 2015-06-30\n",
              "2   food_related 2015-09-30\n",
              "3   food_related 2015-12-31\n",
              "4   food_related 2016-03-31\n",
              "5   food_related 2016-06-30\n",
              "6   food_related 2016-09-30\n",
              "7   food_related 2016-12-31\n",
              "8   food_related 2017-03-31\n",
              "9   food_related 2017-06-30\n",
              "10  food_related 2017-09-30\n",
              "11  food_related 2017-12-31\n",
              "12  food_related 2018-03-31\n",
              "13  food_related 2018-06-30\n",
              "14  food_related 2018-09-30\n",
              "15  food_related 2018-12-31\n",
              "16  food_related 2019-03-31\n",
              "17  food_related 2019-06-30\n",
              "18  food_related 2019-09-30\n",
              "19  food_related 2019-12-31\n",
              "20  food_related 2020-03-31\n",
              "21  food_related 2020-06-30"
            ]
          },
          "metadata": {
            "tags": []
          },
          "execution_count": 44
        }
      ]
    },
    {
      "cell_type": "markdown",
      "metadata": {
        "id": "XbU4yPKJ4Oph"
      },
      "source": [
        "# cross validation"
      ]
    },
    {
      "cell_type": "code",
      "metadata": {
        "colab": {
          "base_uri": "https://localhost:8080/"
        },
        "id": "Hv1218HQ4R0F",
        "outputId": "0b9e7eca-0027-4b7f-a2d6-069f06c6fc8d"
      },
      "source": [
        "param_grid = {  \n",
        "    'changepoint_prior_scale': [0.001, 0.01, 0.1,0.5],\n",
        "    'seasonality_prior_scale': [0.01, 0.1, 1.0, 10.0]\n",
        "    #'holidays_prior_scale' : [0.01, 0.1, 1.0, 10.0]\n",
        "    #'changepoint_range' : [0.8,0.85,0.9,0.95]\n",
        "}\n",
        "\n",
        "# Generate all combinations of parameters\n",
        "all_params = [dict(zip(param_grid.keys(), v)) for v in itertools.product(*param_grid.values())]\n",
        "mapes = []  # Store the RMSEs for each params here\n",
        "\n",
        "# Use cross validation to evaluate all parameters\n",
        "for params in all_params:\n",
        "    m = Prophet(**params).fit(train)  # Fit model with given params\n",
        "    df_cv = cross_validation(m, initial = 8,horizon='365 days', parallel=\"processes\")\n",
        "    #by default,initial_training_\n",
        "    #data_size=3*horizon_size and cutoff is every half horizon\n",
        "    df_p = performance_metrics(df_cv, rolling_window=1)\n",
        "    mapes.append(df_p['mape'].values[0])\n",
        "\n",
        "\n",
        "best_params = all_params[np.argmin(mapes)]\n",
        "print(best_params)"
      ],
      "execution_count": null,
      "outputs": [
        {
          "output_type": "stream",
          "text": [
            "INFO:fbprophet:Disabling weekly seasonality. Run prophet with weekly_seasonality=True to override this.\n",
            "INFO:fbprophet:Disabling daily seasonality. Run prophet with daily_seasonality=True to override this.\n",
            "INFO:fbprophet:n_changepoints greater than number of observations. Using 13.\n",
            "INFO:fbprophet:Making 7 forecasts with cutoffs between 2015-07-01 00:00:00 and 2018-06-30 00:00:00\n",
            "WARNING:fbprophet:Seasonality has period of 365.25 days which is larger than initial window. Consider increasing initial.\n",
            "INFO:fbprophet:Applying in parallel with <concurrent.futures.process.ProcessPoolExecutor object at 0x7ff8fb9f49d0>\n",
            "INFO:fbprophet:n_changepoints greater than number of observations. Using 0.\n",
            "INFO:fbprophet:n_changepoints greater than number of observations. Using 1.\n",
            "INFO:fbprophet:n_changepoints greater than number of observations. Using 3.\n",
            "INFO:fbprophet:n_changepoints greater than number of observations. Using 4.\n",
            "INFO:fbprophet:n_changepoints greater than number of observations. Using 7.\n",
            "INFO:fbprophet:n_changepoints greater than number of observations. Using 7.\n",
            "INFO:fbprophet:n_changepoints greater than number of observations. Using 10.\n",
            "INFO:fbprophet:Disabling weekly seasonality. Run prophet with weekly_seasonality=True to override this.\n",
            "INFO:fbprophet:Disabling daily seasonality. Run prophet with daily_seasonality=True to override this.\n",
            "INFO:fbprophet:n_changepoints greater than number of observations. Using 13.\n",
            "INFO:fbprophet:Making 7 forecasts with cutoffs between 2015-07-01 00:00:00 and 2018-06-30 00:00:00\n",
            "WARNING:fbprophet:Seasonality has period of 365.25 days which is larger than initial window. Consider increasing initial.\n",
            "INFO:fbprophet:Applying in parallel with <concurrent.futures.process.ProcessPoolExecutor object at 0x7ff8fb654ad0>\n",
            "INFO:fbprophet:n_changepoints greater than number of observations. Using 0.\n",
            "INFO:fbprophet:n_changepoints greater than number of observations. Using 1.\n",
            "INFO:fbprophet:n_changepoints greater than number of observations. Using 3.\n",
            "INFO:fbprophet:n_changepoints greater than number of observations. Using 4.\n",
            "INFO:fbprophet:n_changepoints greater than number of observations. Using 7.\n",
            "INFO:fbprophet:n_changepoints greater than number of observations. Using 7.\n",
            "INFO:fbprophet:n_changepoints greater than number of observations. Using 10.\n",
            "INFO:fbprophet:Disabling weekly seasonality. Run prophet with weekly_seasonality=True to override this.\n",
            "INFO:fbprophet:Disabling daily seasonality. Run prophet with daily_seasonality=True to override this.\n",
            "INFO:fbprophet:n_changepoints greater than number of observations. Using 13.\n",
            "INFO:fbprophet:Making 7 forecasts with cutoffs between 2015-07-01 00:00:00 and 2018-06-30 00:00:00\n",
            "WARNING:fbprophet:Seasonality has period of 365.25 days which is larger than initial window. Consider increasing initial.\n",
            "INFO:fbprophet:Applying in parallel with <concurrent.futures.process.ProcessPoolExecutor object at 0x7ff8fb3f1e10>\n",
            "INFO:fbprophet:n_changepoints greater than number of observations. Using 0.\n",
            "INFO:fbprophet:n_changepoints greater than number of observations. Using 1.\n",
            "INFO:fbprophet:n_changepoints greater than number of observations. Using 3.\n",
            "INFO:fbprophet:n_changepoints greater than number of observations. Using 4.\n",
            "INFO:fbprophet:n_changepoints greater than number of observations. Using 7.\n",
            "INFO:fbprophet:n_changepoints greater than number of observations. Using 7.\n",
            "INFO:fbprophet:n_changepoints greater than number of observations. Using 10.\n",
            "INFO:fbprophet:Disabling weekly seasonality. Run prophet with weekly_seasonality=True to override this.\n",
            "INFO:fbprophet:Disabling daily seasonality. Run prophet with daily_seasonality=True to override this.\n",
            "INFO:fbprophet:n_changepoints greater than number of observations. Using 13.\n",
            "INFO:fbprophet:Making 7 forecasts with cutoffs between 2015-07-01 00:00:00 and 2018-06-30 00:00:00\n",
            "WARNING:fbprophet:Seasonality has period of 365.25 days which is larger than initial window. Consider increasing initial.\n",
            "INFO:fbprophet:Applying in parallel with <concurrent.futures.process.ProcessPoolExecutor object at 0x7ff8fb665810>\n",
            "INFO:fbprophet:n_changepoints greater than number of observations. Using 0.\n",
            "INFO:fbprophet:n_changepoints greater than number of observations. Using 1.\n",
            "INFO:fbprophet:n_changepoints greater than number of observations. Using 3.\n",
            "INFO:fbprophet:n_changepoints greater than number of observations. Using 4.\n",
            "INFO:fbprophet:n_changepoints greater than number of observations. Using 7.\n",
            "INFO:fbprophet:n_changepoints greater than number of observations. Using 7.\n",
            "INFO:fbprophet:n_changepoints greater than number of observations. Using 10.\n",
            "INFO:fbprophet:Disabling weekly seasonality. Run prophet with weekly_seasonality=True to override this.\n",
            "INFO:fbprophet:Disabling daily seasonality. Run prophet with daily_seasonality=True to override this.\n",
            "INFO:fbprophet:n_changepoints greater than number of observations. Using 13.\n",
            "INFO:fbprophet:Making 7 forecasts with cutoffs between 2015-07-01 00:00:00 and 2018-06-30 00:00:00\n",
            "WARNING:fbprophet:Seasonality has period of 365.25 days which is larger than initial window. Consider increasing initial.\n",
            "INFO:fbprophet:Applying in parallel with <concurrent.futures.process.ProcessPoolExecutor object at 0x7ff8fb3ecfd0>\n",
            "INFO:fbprophet:n_changepoints greater than number of observations. Using 0.\n",
            "INFO:fbprophet:n_changepoints greater than number of observations. Using 1.\n",
            "INFO:fbprophet:n_changepoints greater than number of observations. Using 3.\n",
            "INFO:fbprophet:n_changepoints greater than number of observations. Using 4.\n",
            "INFO:fbprophet:n_changepoints greater than number of observations. Using 7.\n",
            "INFO:fbprophet:n_changepoints greater than number of observations. Using 7.\n",
            "INFO:fbprophet:n_changepoints greater than number of observations. Using 10.\n",
            "INFO:fbprophet:Disabling weekly seasonality. Run prophet with weekly_seasonality=True to override this.\n",
            "INFO:fbprophet:Disabling daily seasonality. Run prophet with daily_seasonality=True to override this.\n",
            "INFO:fbprophet:n_changepoints greater than number of observations. Using 13.\n",
            "INFO:fbprophet:Making 7 forecasts with cutoffs between 2015-07-01 00:00:00 and 2018-06-30 00:00:00\n",
            "WARNING:fbprophet:Seasonality has period of 365.25 days which is larger than initial window. Consider increasing initial.\n",
            "INFO:fbprophet:Applying in parallel with <concurrent.futures.process.ProcessPoolExecutor object at 0x7ff90a181490>\n",
            "INFO:fbprophet:n_changepoints greater than number of observations. Using 0.\n",
            "INFO:fbprophet:n_changepoints greater than number of observations. Using 1.\n",
            "INFO:fbprophet:n_changepoints greater than number of observations. Using 3.\n",
            "INFO:fbprophet:n_changepoints greater than number of observations. Using 4.\n",
            "INFO:fbprophet:n_changepoints greater than number of observations. Using 7.\n",
            "INFO:fbprophet:n_changepoints greater than number of observations. Using 7.\n",
            "INFO:fbprophet:n_changepoints greater than number of observations. Using 10.\n",
            "INFO:fbprophet:Disabling weekly seasonality. Run prophet with weekly_seasonality=True to override this.\n",
            "INFO:fbprophet:Disabling daily seasonality. Run prophet with daily_seasonality=True to override this.\n",
            "INFO:fbprophet:n_changepoints greater than number of observations. Using 13.\n",
            "INFO:fbprophet:Making 7 forecasts with cutoffs between 2015-07-01 00:00:00 and 2018-06-30 00:00:00\n",
            "WARNING:fbprophet:Seasonality has period of 365.25 days which is larger than initial window. Consider increasing initial.\n",
            "INFO:fbprophet:Applying in parallel with <concurrent.futures.process.ProcessPoolExecutor object at 0x7ff8fba065d0>\n",
            "INFO:fbprophet:n_changepoints greater than number of observations. Using 0.\n",
            "INFO:fbprophet:n_changepoints greater than number of observations. Using 1.\n",
            "INFO:fbprophet:n_changepoints greater than number of observations. Using 3.\n",
            "INFO:fbprophet:n_changepoints greater than number of observations. Using 4.\n",
            "INFO:fbprophet:n_changepoints greater than number of observations. Using 7.\n",
            "INFO:fbprophet:n_changepoints greater than number of observations. Using 7.\n",
            "INFO:fbprophet:n_changepoints greater than number of observations. Using 10.\n",
            "INFO:fbprophet:Disabling weekly seasonality. Run prophet with weekly_seasonality=True to override this.\n",
            "INFO:fbprophet:Disabling daily seasonality. Run prophet with daily_seasonality=True to override this.\n",
            "INFO:fbprophet:n_changepoints greater than number of observations. Using 13.\n",
            "INFO:fbprophet:Making 7 forecasts with cutoffs between 2015-07-01 00:00:00 and 2018-06-30 00:00:00\n",
            "WARNING:fbprophet:Seasonality has period of 365.25 days which is larger than initial window. Consider increasing initial.\n",
            "INFO:fbprophet:Applying in parallel with <concurrent.futures.process.ProcessPoolExecutor object at 0x7ff8fba107d0>\n",
            "INFO:fbprophet:n_changepoints greater than number of observations. Using 0.\n",
            "INFO:fbprophet:n_changepoints greater than number of observations. Using 1.\n",
            "INFO:fbprophet:n_changepoints greater than number of observations. Using 3.\n",
            "INFO:fbprophet:n_changepoints greater than number of observations. Using 4.\n",
            "INFO:fbprophet:n_changepoints greater than number of observations. Using 7.\n",
            "INFO:fbprophet:n_changepoints greater than number of observations. Using 7.\n",
            "INFO:fbprophet:n_changepoints greater than number of observations. Using 10.\n",
            "INFO:fbprophet:Disabling weekly seasonality. Run prophet with weekly_seasonality=True to override this.\n",
            "INFO:fbprophet:Disabling daily seasonality. Run prophet with daily_seasonality=True to override this.\n",
            "INFO:fbprophet:n_changepoints greater than number of observations. Using 13.\n",
            "INFO:fbprophet:Making 7 forecasts with cutoffs between 2015-07-01 00:00:00 and 2018-06-30 00:00:00\n",
            "WARNING:fbprophet:Seasonality has period of 365.25 days which is larger than initial window. Consider increasing initial.\n",
            "INFO:fbprophet:Applying in parallel with <concurrent.futures.process.ProcessPoolExecutor object at 0x7ff8fba06390>\n",
            "INFO:fbprophet:n_changepoints greater than number of observations. Using 0.\n",
            "INFO:fbprophet:n_changepoints greater than number of observations. Using 1.\n",
            "INFO:fbprophet:n_changepoints greater than number of observations. Using 3.\n",
            "INFO:fbprophet:n_changepoints greater than number of observations. Using 4.\n",
            "INFO:fbprophet:n_changepoints greater than number of observations. Using 7.\n",
            "INFO:fbprophet:n_changepoints greater than number of observations. Using 7.\n",
            "INFO:fbprophet:n_changepoints greater than number of observations. Using 10.\n",
            "INFO:fbprophet:Disabling weekly seasonality. Run prophet with weekly_seasonality=True to override this.\n",
            "INFO:fbprophet:Disabling daily seasonality. Run prophet with daily_seasonality=True to override this.\n",
            "INFO:fbprophet:n_changepoints greater than number of observations. Using 13.\n",
            "INFO:fbprophet:Making 7 forecasts with cutoffs between 2015-07-01 00:00:00 and 2018-06-30 00:00:00\n",
            "WARNING:fbprophet:Seasonality has period of 365.25 days which is larger than initial window. Consider increasing initial.\n",
            "INFO:fbprophet:Applying in parallel with <concurrent.futures.process.ProcessPoolExecutor object at 0x7ff8fb3ec110>\n",
            "INFO:fbprophet:n_changepoints greater than number of observations. Using 0.\n",
            "INFO:fbprophet:n_changepoints greater than number of observations. Using 1.\n",
            "INFO:fbprophet:n_changepoints greater than number of observations. Using 3.\n",
            "INFO:fbprophet:n_changepoints greater than number of observations. Using 4.\n",
            "INFO:fbprophet:n_changepoints greater than number of observations. Using 7.\n",
            "INFO:fbprophet:n_changepoints greater than number of observations. Using 7.\n",
            "INFO:fbprophet:n_changepoints greater than number of observations. Using 10.\n",
            "INFO:fbprophet:Disabling weekly seasonality. Run prophet with weekly_seasonality=True to override this.\n",
            "INFO:fbprophet:Disabling daily seasonality. Run prophet with daily_seasonality=True to override this.\n",
            "INFO:fbprophet:n_changepoints greater than number of observations. Using 13.\n",
            "INFO:fbprophet:Making 7 forecasts with cutoffs between 2015-07-01 00:00:00 and 2018-06-30 00:00:00\n",
            "WARNING:fbprophet:Seasonality has period of 365.25 days which is larger than initial window. Consider increasing initial.\n",
            "INFO:fbprophet:Applying in parallel with <concurrent.futures.process.ProcessPoolExecutor object at 0x7ff8fb9f4390>\n",
            "INFO:fbprophet:n_changepoints greater than number of observations. Using 0.\n",
            "INFO:fbprophet:n_changepoints greater than number of observations. Using 1.\n",
            "INFO:fbprophet:n_changepoints greater than number of observations. Using 3.\n",
            "INFO:fbprophet:n_changepoints greater than number of observations. Using 4.\n",
            "INFO:fbprophet:n_changepoints greater than number of observations. Using 7.\n",
            "INFO:fbprophet:n_changepoints greater than number of observations. Using 7.\n",
            "INFO:fbprophet:n_changepoints greater than number of observations. Using 10.\n",
            "INFO:fbprophet:Disabling weekly seasonality. Run prophet with weekly_seasonality=True to override this.\n",
            "INFO:fbprophet:Disabling daily seasonality. Run prophet with daily_seasonality=True to override this.\n",
            "INFO:fbprophet:n_changepoints greater than number of observations. Using 13.\n",
            "INFO:fbprophet:Making 7 forecasts with cutoffs between 2015-07-01 00:00:00 and 2018-06-30 00:00:00\n",
            "WARNING:fbprophet:Seasonality has period of 365.25 days which is larger than initial window. Consider increasing initial.\n",
            "INFO:fbprophet:Applying in parallel with <concurrent.futures.process.ProcessPoolExecutor object at 0x7ff8fb9f4490>\n",
            "INFO:fbprophet:n_changepoints greater than number of observations. Using 0.\n",
            "INFO:fbprophet:n_changepoints greater than number of observations. Using 1.\n",
            "INFO:fbprophet:n_changepoints greater than number of observations. Using 3.\n",
            "INFO:fbprophet:n_changepoints greater than number of observations. Using 4.\n",
            "INFO:fbprophet:n_changepoints greater than number of observations. Using 7.\n",
            "INFO:fbprophet:n_changepoints greater than number of observations. Using 7.\n",
            "INFO:fbprophet:n_changepoints greater than number of observations. Using 10.\n",
            "INFO:fbprophet:Disabling weekly seasonality. Run prophet with weekly_seasonality=True to override this.\n",
            "INFO:fbprophet:Disabling daily seasonality. Run prophet with daily_seasonality=True to override this.\n",
            "INFO:fbprophet:n_changepoints greater than number of observations. Using 13.\n",
            "INFO:fbprophet:Making 7 forecasts with cutoffs between 2015-07-01 00:00:00 and 2018-06-30 00:00:00\n",
            "WARNING:fbprophet:Seasonality has period of 365.25 days which is larger than initial window. Consider increasing initial.\n",
            "INFO:fbprophet:Applying in parallel with <concurrent.futures.process.ProcessPoolExecutor object at 0x7ff8fb3f1ed0>\n",
            "INFO:fbprophet:n_changepoints greater than number of observations. Using 0.\n",
            "INFO:fbprophet:n_changepoints greater than number of observations. Using 1.\n",
            "INFO:fbprophet:n_changepoints greater than number of observations. Using 3.\n",
            "INFO:fbprophet:n_changepoints greater than number of observations. Using 4.\n",
            "INFO:fbprophet:n_changepoints greater than number of observations. Using 7.\n",
            "INFO:fbprophet:n_changepoints greater than number of observations. Using 7.\n",
            "INFO:fbprophet:n_changepoints greater than number of observations. Using 10.\n",
            "INFO:fbprophet:Disabling weekly seasonality. Run prophet with weekly_seasonality=True to override this.\n",
            "INFO:fbprophet:Disabling daily seasonality. Run prophet with daily_seasonality=True to override this.\n",
            "INFO:fbprophet:n_changepoints greater than number of observations. Using 13.\n",
            "INFO:fbprophet:Making 7 forecasts with cutoffs between 2015-07-01 00:00:00 and 2018-06-30 00:00:00\n",
            "WARNING:fbprophet:Seasonality has period of 365.25 days which is larger than initial window. Consider increasing initial.\n",
            "INFO:fbprophet:Applying in parallel with <concurrent.futures.process.ProcessPoolExecutor object at 0x7ff8fb3fce50>\n",
            "INFO:fbprophet:n_changepoints greater than number of observations. Using 0.\n",
            "INFO:fbprophet:n_changepoints greater than number of observations. Using 1.\n",
            "INFO:fbprophet:n_changepoints greater than number of observations. Using 3.\n",
            "INFO:fbprophet:n_changepoints greater than number of observations. Using 4.\n",
            "INFO:fbprophet:n_changepoints greater than number of observations. Using 7.\n",
            "INFO:fbprophet:n_changepoints greater than number of observations. Using 7.\n",
            "INFO:fbprophet:n_changepoints greater than number of observations. Using 10.\n",
            "INFO:fbprophet:Disabling weekly seasonality. Run prophet with weekly_seasonality=True to override this.\n",
            "INFO:fbprophet:Disabling daily seasonality. Run prophet with daily_seasonality=True to override this.\n",
            "INFO:fbprophet:n_changepoints greater than number of observations. Using 13.\n",
            "INFO:fbprophet:Making 7 forecasts with cutoffs between 2015-07-01 00:00:00 and 2018-06-30 00:00:00\n",
            "WARNING:fbprophet:Seasonality has period of 365.25 days which is larger than initial window. Consider increasing initial.\n",
            "INFO:fbprophet:Applying in parallel with <concurrent.futures.process.ProcessPoolExecutor object at 0x7ff90bb4d550>\n",
            "INFO:fbprophet:n_changepoints greater than number of observations. Using 0.\n",
            "INFO:fbprophet:n_changepoints greater than number of observations. Using 1.\n",
            "INFO:fbprophet:n_changepoints greater than number of observations. Using 3.\n",
            "INFO:fbprophet:n_changepoints greater than number of observations. Using 4.\n",
            "INFO:fbprophet:n_changepoints greater than number of observations. Using 7.\n",
            "INFO:fbprophet:n_changepoints greater than number of observations. Using 7.\n",
            "INFO:fbprophet:n_changepoints greater than number of observations. Using 10.\n",
            "INFO:fbprophet:Disabling weekly seasonality. Run prophet with weekly_seasonality=True to override this.\n",
            "INFO:fbprophet:Disabling daily seasonality. Run prophet with daily_seasonality=True to override this.\n",
            "INFO:fbprophet:n_changepoints greater than number of observations. Using 13.\n",
            "INFO:fbprophet:Making 7 forecasts with cutoffs between 2015-07-01 00:00:00 and 2018-06-30 00:00:00\n",
            "WARNING:fbprophet:Seasonality has period of 365.25 days which is larger than initial window. Consider increasing initial.\n",
            "INFO:fbprophet:Applying in parallel with <concurrent.futures.process.ProcessPoolExecutor object at 0x7ff8fb9f4dd0>\n",
            "INFO:fbprophet:n_changepoints greater than number of observations. Using 0.\n",
            "INFO:fbprophet:n_changepoints greater than number of observations. Using 1.\n",
            "INFO:fbprophet:n_changepoints greater than number of observations. Using 3.\n",
            "INFO:fbprophet:n_changepoints greater than number of observations. Using 4.\n",
            "INFO:fbprophet:n_changepoints greater than number of observations. Using 7.\n",
            "INFO:fbprophet:n_changepoints greater than number of observations. Using 7.\n",
            "INFO:fbprophet:n_changepoints greater than number of observations. Using 10.\n"
          ],
          "name": "stderr"
        },
        {
          "output_type": "stream",
          "text": [
            "{'changepoint_prior_scale': 0.1, 'seasonality_prior_scale': 0.1}\n"
          ],
          "name": "stdout"
        }
      ]
    },
    {
      "cell_type": "markdown",
      "metadata": {
        "id": "EnsLuPWhZ_YF"
      },
      "source": [
        "{'changepoint_prior_scale': 0.1, 'seasonality_prior_scale': 0.1}"
      ]
    },
    {
      "cell_type": "code",
      "metadata": {
        "id": "ckWH1s5MdhcD"
      },
      "source": [
        "\n",
        "m = Prophet(interval_width=0.95,yearly_seasonality=True,\n",
        "            changepoint_prior_scale=0.1,holidays=holidays,seasonality_prior_scale=0.1)\n",
        "\n"
      ],
      "execution_count": null,
      "outputs": []
    },
    {
      "cell_type": "code",
      "metadata": {
        "colab": {
          "base_uri": "https://localhost:8080/",
          "height": 225
        },
        "id": "B1klK4gX9J3S",
        "outputId": "ab29dae6-a811-49fe-a781-da7f05269c46"
      },
      "source": [
        "ny_df_final.drop(['ds'], axis = 1).corr(method='pearson')"
      ],
      "execution_count": null,
      "outputs": [
        {
          "output_type": "execute_result",
          "data": {
            "text/html": [
              "<div>\n",
              "<style scoped>\n",
              "    .dataframe tbody tr th:only-of-type {\n",
              "        vertical-align: middle;\n",
              "    }\n",
              "\n",
              "    .dataframe tbody tr th {\n",
              "        vertical-align: top;\n",
              "    }\n",
              "\n",
              "    .dataframe thead th {\n",
              "        text-align: right;\n",
              "    }\n",
              "</style>\n",
              "<table border=\"1\" class=\"dataframe\">\n",
              "  <thead>\n",
              "    <tr style=\"text-align: right;\">\n",
              "      <th></th>\n",
              "      <th>MIN_TEMPERATURE_C</th>\n",
              "      <th>max_clients_quarter</th>\n",
              "      <th>total_consommation</th>\n",
              "      <th>pdl_max_total_daily_load</th>\n",
              "      <th>y</th>\n",
              "    </tr>\n",
              "  </thead>\n",
              "  <tbody>\n",
              "    <tr>\n",
              "      <th>MIN_TEMPERATURE_C</th>\n",
              "      <td>1.000000</td>\n",
              "      <td>-0.070117</td>\n",
              "      <td>-0.317135</td>\n",
              "      <td>-0.882479</td>\n",
              "      <td>-0.922455</td>\n",
              "    </tr>\n",
              "    <tr>\n",
              "      <th>max_clients_quarter</th>\n",
              "      <td>-0.070117</td>\n",
              "      <td>1.000000</td>\n",
              "      <td>-0.136204</td>\n",
              "      <td>0.278824</td>\n",
              "      <td>0.277333</td>\n",
              "    </tr>\n",
              "    <tr>\n",
              "      <th>total_consommation</th>\n",
              "      <td>-0.317135</td>\n",
              "      <td>-0.136204</td>\n",
              "      <td>1.000000</td>\n",
              "      <td>0.436604</td>\n",
              "      <td>0.162833</td>\n",
              "    </tr>\n",
              "    <tr>\n",
              "      <th>pdl_max_total_daily_load</th>\n",
              "      <td>-0.882479</td>\n",
              "      <td>0.278824</td>\n",
              "      <td>0.436604</td>\n",
              "      <td>1.000000</td>\n",
              "      <td>0.845091</td>\n",
              "    </tr>\n",
              "    <tr>\n",
              "      <th>y</th>\n",
              "      <td>-0.922455</td>\n",
              "      <td>0.277333</td>\n",
              "      <td>0.162833</td>\n",
              "      <td>0.845091</td>\n",
              "      <td>1.000000</td>\n",
              "    </tr>\n",
              "  </tbody>\n",
              "</table>\n",
              "</div>"
            ],
            "text/plain": [
              "                          MIN_TEMPERATURE_C  ...         y\n",
              "MIN_TEMPERATURE_C                  1.000000  ... -0.922455\n",
              "max_clients_quarter               -0.070117  ...  0.277333\n",
              "total_consommation                -0.317135  ...  0.162833\n",
              "pdl_max_total_daily_load          -0.882479  ...  0.845091\n",
              "y                                 -0.922455  ...  1.000000\n",
              "\n",
              "[5 rows x 5 columns]"
            ]
          },
          "metadata": {
            "tags": []
          },
          "execution_count": 46
        }
      ]
    },
    {
      "cell_type": "code",
      "metadata": {
        "id": "BhUWOLDY_Lyu",
        "colab": {
          "base_uri": "https://localhost:8080/"
        },
        "outputId": "7efe2188-5644-4f57-f9c8-7fdf824923c6"
      },
      "source": [
        "#max_pdl_total_daily_load and MIN_TEMPERATURE_C are the most correlated variables with our target y\n",
        "m.add_regressor('MIN_TEMPERATURE_C',standardize=False)\n",
        "m.add_regressor('pdl_max_total_daily_load',standardize=False)\n"
      ],
      "execution_count": null,
      "outputs": [
        {
          "output_type": "execute_result",
          "data": {
            "text/plain": [
              "<fbprophet.forecaster.Prophet at 0x7f4e36a40310>"
            ]
          },
          "metadata": {
            "tags": []
          },
          "execution_count": 47
        }
      ]
    },
    {
      "cell_type": "code",
      "metadata": {
        "id": "-NbyPxRldhXl",
        "colab": {
          "base_uri": "https://localhost:8080/"
        },
        "outputId": "e2d3ae95-15af-47bd-ee97-f1fcc79b8817"
      },
      "source": [
        "m.fit(train)"
      ],
      "execution_count": null,
      "outputs": [
        {
          "output_type": "stream",
          "text": [
            "INFO:fbprophet:Disabling weekly seasonality. Run prophet with weekly_seasonality=True to override this.\n",
            "INFO:fbprophet:Disabling daily seasonality. Run prophet with daily_seasonality=True to override this.\n",
            "INFO:fbprophet:n_changepoints greater than number of observations. Using 15.\n"
          ],
          "name": "stderr"
        },
        {
          "output_type": "execute_result",
          "data": {
            "text/plain": [
              "<fbprophet.forecaster.Prophet at 0x7f4e36a40310>"
            ]
          },
          "metadata": {
            "tags": []
          },
          "execution_count": 48
        }
      ]
    },
    {
      "cell_type": "code",
      "metadata": {
        "id": "9dUI9dGWxyiz",
        "colab": {
          "base_uri": "https://localhost:8080/"
        },
        "outputId": "ea13fb9e-81f1-4ecf-ef63-b07212d92afb"
      },
      "source": [
        "m.params"
      ],
      "execution_count": null,
      "outputs": [
        {
          "output_type": "execute_result",
          "data": {
            "text/plain": [
              "{'beta': array([[-9.60976278e-03, -7.81068391e-03, -2.21322161e-03,\n",
              "         -3.79396711e-03,  1.29727076e-02, -4.45084728e-03,\n",
              "         -1.17945254e-03, -4.59689048e-05, -5.24180017e-03,\n",
              "         -1.00480576e-02, -6.51734683e-03, -4.94378940e-03,\n",
              "          1.51345902e-02, -2.61680971e-04, -2.31378789e-03,\n",
              "         -4.40141762e-04, -1.29126726e-04, -1.09079789e-02,\n",
              "         -1.04584065e-02, -7.19727905e-03,  8.47061824e-01,\n",
              "         -2.51352704e-02,  5.73905387e-06]]),\n",
              " 'delta': array([[ 1.24284785e-08,  1.19449961e-08, -1.38180583e-08,\n",
              "          1.68648853e-08, -2.12986976e-08,  4.36961423e-09,\n",
              "         -3.44818032e-08, -1.84200251e-08, -9.45346657e-09,\n",
              "         -9.73201693e-09, -1.43453578e-04, -7.02748696e-06,\n",
              "         -5.46310022e-04, -2.15764545e-06,  3.80490661e-09]]),\n",
              " 'k': array([[0.05700481]]),\n",
              " 'm': array([[0.21177397]]),\n",
              " 'sigma_obs': array([[0.03313879]]),\n",
              " 'trend': array([[0.21177397, 0.21476212, 0.21778311, 0.22080411, 0.22379226,\n",
              "         0.22678042, 0.22980141, 0.23282241, 0.23577772, 0.23876588,\n",
              "         0.24178687, 0.24480785, 0.24775573, 0.250736  , 0.25372006,\n",
              "         0.25670401, 0.25962308, 0.2625746 , 0.26555855, 0.26854249]])}"
            ]
          },
          "metadata": {
            "tags": []
          },
          "execution_count": 49
        }
      ]
    },
    {
      "cell_type": "code",
      "metadata": {
        "id": "iw4iZd6Txyfx"
      },
      "source": [
        "future=pd.DataFrame({'ds' : []})\n",
        "future.ds=test.ds"
      ],
      "execution_count": null,
      "outputs": []
    },
    {
      "cell_type": "code",
      "metadata": {
        "colab": {
          "base_uri": "https://localhost:8080/",
          "height": 112
        },
        "id": "paPer-c6JpJa",
        "outputId": "06bcb8fb-fc86-458b-9383-1e3cd9258a53"
      },
      "source": [
        "future"
      ],
      "execution_count": null,
      "outputs": [
        {
          "output_type": "execute_result",
          "data": {
            "text/html": [
              "<div>\n",
              "<style scoped>\n",
              "    .dataframe tbody tr th:only-of-type {\n",
              "        vertical-align: middle;\n",
              "    }\n",
              "\n",
              "    .dataframe tbody tr th {\n",
              "        vertical-align: top;\n",
              "    }\n",
              "\n",
              "    .dataframe thead th {\n",
              "        text-align: right;\n",
              "    }\n",
              "</style>\n",
              "<table border=\"1\" class=\"dataframe\">\n",
              "  <thead>\n",
              "    <tr style=\"text-align: right;\">\n",
              "      <th></th>\n",
              "      <th>ds</th>\n",
              "    </tr>\n",
              "  </thead>\n",
              "  <tbody>\n",
              "    <tr>\n",
              "      <th>20</th>\n",
              "      <td>2020-03-31</td>\n",
              "    </tr>\n",
              "    <tr>\n",
              "      <th>21</th>\n",
              "      <td>2020-06-30</td>\n",
              "    </tr>\n",
              "  </tbody>\n",
              "</table>\n",
              "</div>"
            ],
            "text/plain": [
              "           ds\n",
              "20 2020-03-31\n",
              "21 2020-06-30"
            ]
          },
          "metadata": {
            "tags": []
          },
          "execution_count": 51
        }
      ]
    },
    {
      "cell_type": "code",
      "metadata": {
        "id": "q0qk2WYrByYR"
      },
      "source": [
        "\n",
        "future['total_consommation'] = test['total_consommation']\n",
        "future['pdl_max_total_daily_load'] = test['pdl_max_total_daily_load']\n",
        "future['max_clients_quarter'] = test['max_clients_quarter']\n",
        "future['MIN_TEMPERATURE_C'] = test['MIN_TEMPERATURE_C']\n",
        "\n"
      ],
      "execution_count": null,
      "outputs": []
    },
    {
      "cell_type": "code",
      "metadata": {
        "colab": {
          "base_uri": "https://localhost:8080/",
          "height": 112
        },
        "id": "nu2XNfK3WEoZ",
        "outputId": "78dfcdeb-88f3-4ed8-c3f2-7ff5efb8735e"
      },
      "source": [
        "forecast = m.predict(future)\n",
        "forecast[['ds', 'yhat', 'yhat_lower', 'yhat_upper']].head()"
      ],
      "execution_count": null,
      "outputs": [
        {
          "output_type": "execute_result",
          "data": {
            "text/html": [
              "<div>\n",
              "<style scoped>\n",
              "    .dataframe tbody tr th:only-of-type {\n",
              "        vertical-align: middle;\n",
              "    }\n",
              "\n",
              "    .dataframe tbody tr th {\n",
              "        vertical-align: top;\n",
              "    }\n",
              "\n",
              "    .dataframe thead th {\n",
              "        text-align: right;\n",
              "    }\n",
              "</style>\n",
              "<table border=\"1\" class=\"dataframe\">\n",
              "  <thead>\n",
              "    <tr style=\"text-align: right;\">\n",
              "      <th></th>\n",
              "      <th>ds</th>\n",
              "      <th>yhat</th>\n",
              "      <th>yhat_lower</th>\n",
              "      <th>yhat_upper</th>\n",
              "    </tr>\n",
              "  </thead>\n",
              "  <tbody>\n",
              "    <tr>\n",
              "      <th>0</th>\n",
              "      <td>2020-03-31</td>\n",
              "      <td>1679.636059</td>\n",
              "      <td>1574.346788</td>\n",
              "      <td>1791.153975</td>\n",
              "    </tr>\n",
              "    <tr>\n",
              "      <th>1</th>\n",
              "      <td>2020-06-30</td>\n",
              "      <td>1554.999002</td>\n",
              "      <td>1441.961155</td>\n",
              "      <td>1661.103482</td>\n",
              "    </tr>\n",
              "  </tbody>\n",
              "</table>\n",
              "</div>"
            ],
            "text/plain": [
              "          ds         yhat   yhat_lower   yhat_upper\n",
              "0 2020-03-31  1679.636059  1574.346788  1791.153975\n",
              "1 2020-06-30  1554.999002  1441.961155  1661.103482"
            ]
          },
          "metadata": {
            "tags": []
          },
          "execution_count": 53
        }
      ]
    },
    {
      "cell_type": "code",
      "metadata": {
        "id": "wpNP1pEAxybY",
        "colab": {
          "base_uri": "https://localhost:8080/",
          "height": 112
        },
        "outputId": "02177ac1-c385-4e05-e6a3-9a47e5230cae"
      },
      "source": [
        "\n",
        "forecast[['ds', 'yhat', 'yhat_lower', 'yhat_upper']].tail()"
      ],
      "execution_count": null,
      "outputs": [
        {
          "output_type": "execute_result",
          "data": {
            "text/html": [
              "<div>\n",
              "<style scoped>\n",
              "    .dataframe tbody tr th:only-of-type {\n",
              "        vertical-align: middle;\n",
              "    }\n",
              "\n",
              "    .dataframe tbody tr th {\n",
              "        vertical-align: top;\n",
              "    }\n",
              "\n",
              "    .dataframe thead th {\n",
              "        text-align: right;\n",
              "    }\n",
              "</style>\n",
              "<table border=\"1\" class=\"dataframe\">\n",
              "  <thead>\n",
              "    <tr style=\"text-align: right;\">\n",
              "      <th></th>\n",
              "      <th>ds</th>\n",
              "      <th>yhat</th>\n",
              "      <th>yhat_lower</th>\n",
              "      <th>yhat_upper</th>\n",
              "    </tr>\n",
              "  </thead>\n",
              "  <tbody>\n",
              "    <tr>\n",
              "      <th>0</th>\n",
              "      <td>2020-03-31</td>\n",
              "      <td>1679.636059</td>\n",
              "      <td>1574.346788</td>\n",
              "      <td>1791.153975</td>\n",
              "    </tr>\n",
              "    <tr>\n",
              "      <th>1</th>\n",
              "      <td>2020-06-30</td>\n",
              "      <td>1554.999002</td>\n",
              "      <td>1441.961155</td>\n",
              "      <td>1661.103482</td>\n",
              "    </tr>\n",
              "  </tbody>\n",
              "</table>\n",
              "</div>"
            ],
            "text/plain": [
              "          ds         yhat   yhat_lower   yhat_upper\n",
              "0 2020-03-31  1679.636059  1574.346788  1791.153975\n",
              "1 2020-06-30  1554.999002  1441.961155  1661.103482"
            ]
          },
          "metadata": {
            "tags": []
          },
          "execution_count": 54
        }
      ]
    },
    {
      "cell_type": "code",
      "metadata": {
        "id": "SUhl1klTxyYo",
        "colab": {
          "base_uri": "https://localhost:8080/",
          "height": 441
        },
        "outputId": "8feb4d1a-1f04-40a3-8cc0-0bcbb9226993"
      },
      "source": [
        "fig=m.plot(forecast)\n"
      ],
      "execution_count": null,
      "outputs": [
        {
          "output_type": "display_data",
          "data": {
            "image/png": "[encoded data removed]",
            "text/plain": [
              "<Figure size 720x432 with 1 Axes>"
            ]
          },
          "metadata": {
            "tags": []
          }
        }
      ]
    },
    {
      "cell_type": "code",
      "metadata": {
        "id": "MRY3ZMDKxyVX",
        "colab": {
          "base_uri": "https://localhost:8080/",
          "height": 873
        },
        "outputId": "63ecfbb1-f3ab-4adb-cb91-1ed8725bb975"
      },
      "source": [
        "fig2 = m.plot_components(forecast)"
      ],
      "execution_count": null,
      "outputs": [
        {
          "output_type": "display_data",
          "data": {
            "image/png": "[encoded data removed]",
            "text/plain": [
              "<Figure size 648x864 with 4 Axes>"
            ]
          },
          "metadata": {
            "tags": []
          }
        }
      ]
    },
    {
      "cell_type": "code",
      "metadata": {
        "colab": {
          "base_uri": "https://localhost:8080/",
          "height": 441
        },
        "id": "Lgtg5Wpi1h1c",
        "outputId": "b9e1c978-f9f2-4b82-8487-8bf3224e0e28"
      },
      "source": [
        "from fbprophet.plot import add_changepoints_to_plot\n",
        "a = add_changepoints_to_plot(fig.gca(),m,forecast)\n",
        "fig"
      ],
      "execution_count": null,
      "outputs": [
        {
          "output_type": "execute_result",
          "data": {
            "image/png": "[encoded data removed]",
            "text/plain": [
              "<Figure size 720x432 with 1 Axes>"
            ]
          },
          "metadata": {
            "tags": []
          },
          "execution_count": 57
        }
      ]
    },
    {
      "cell_type": "code",
      "metadata": {
        "id": "4y-I9JHka7-R"
      },
      "source": [
        "def timeseries_evaluation_metrics_func(y_true, y_pred):\n",
        "  def mean_absolute_percentage_error(y_true, y_pred):\n",
        "    y_true, y_pred = np.array(y_true), np.array(y_pred)\n",
        "    return np.mean(np.abs((y_true - y_pred) / y_true)) * 100\n",
        "  def smape(y_true,y_pred):\n",
        "    y_true, y_pred = np.array(y_true), np.array(y_pred)\n",
        "    return 2/y_true.shape[0]*np.sum(np.abs(y_true-y_pred))/np.sum((np.abs(y_true)+np.abs(y_pred)))*100\n",
        "  def mase(y_true,y_pred):\n",
        "    y_true, y_pred = np.array(y_true), np.array(y_pred)\n",
        "    naive_pred=y_true[1:]\n",
        "    return 1/y_true.shape[0]*np.sum(np.abs(y_true-y_pred))/np.sum(np.abs(y_true[:len(y_true)-1]-naive_pred))*(y_true.shape[0]-1)\n",
        "  #def owe(y_true,y_pred):\n",
        "   # return (mase(y_true,y_pred)+smape(y_true,y_pred))/2\n",
        "\n",
        "  print('Evaluation metric results:-')\n",
        "  print(f'MSE is : {metrics.mean_squared_error(y_true, y_pred)}')\n",
        "  print(f'MAE is : {metrics.mean_absolute_error(y_true, y_pred)}')\n",
        "  print(f'RMSE is : {np.sqrt(metrics.mean_squared_error(y_true, y_pred))}')\n",
        "  print(f'MAPE is : {mean_absolute_percentage_error(y_true, y_pred)} %')\n",
        "  print(f'R2 is : {metrics.r2_score(y_true, y_pred)}',end='\\n\\n')\n",
        "  print('SMAPE is : '+str(smape(y_true,y_pred))+'\\n')\n",
        "  print('MASE is : '+str(mase(y_true,y_pred)))\n",
        "  return"
      ],
      "execution_count": null,
      "outputs": []
    },
    {
      "cell_type": "code",
      "metadata": {
        "colab": {
          "base_uri": "https://localhost:8080/"
        },
        "id": "fMhLdXC3a8L0",
        "outputId": "2ddbb268-dd41-4141-9b2f-b78dd0e2cc72"
      },
      "source": [
        "from sklearn import metrics\n",
        "import numpy as np\n",
        "\n",
        "timeseries_evaluation_metrics_func(test['y'], forecast['yhat'])"
      ],
      "execution_count": null,
      "outputs": [
        {
          "output_type": "stream",
          "text": [
            "Evaluation metric results:-\n",
            "MSE is : 8124.4372474136935\n",
            "MAE is : 81.81852862652488\n",
            "RMSE is : 90.13566024284557\n",
            "MAPE is : 5.210380198053574 %\n",
            "R2 is : -20.366041413316747\n",
            "\n",
            "SMAPE is : 2.5593743728978877\n",
            "\n",
            "MASE is : 2.0979109904237148\n"
          ],
          "name": "stdout"
        }
      ]
    },
    {
      "cell_type": "code",
      "metadata": {
        "colab": {
          "base_uri": "https://localhost:8080/",
          "height": 413
        },
        "id": "d9DLNEYMa8M0",
        "outputId": "5ccdac0f-acab-442b-e7e1-0c22a736424f"
      },
      "source": [
        "from matplotlib.pyplot import figure\n",
        "\n",
        "figure(figsize=(8, 6), dpi=80)\n",
        "plt.plot(forecast['ds'],test['y'],label='actual')\n",
        "plt.plot(forecast['ds'],forecast['yhat'],label='Pred')\n",
        "plt.legend()\n",
        "#plt.savefig('xgboost_test')\n",
        "plt.show()"
      ],
      "execution_count": null,
      "outputs": [
        {
          "output_type": "display_data",
          "data": {
            "image/png": "[encoded data removed]",
            "text/plain": [
              "<Figure size 640x480 with 1 Axes>"
            ]
          },
          "metadata": {
            "tags": [],
            "needs_background": "light"
          }
        }
      ]
    },
    {
      "cell_type": "code",
      "metadata": {
        "id": "BsmayfIWEaRi"
      },
      "source": [
        ""
      ],
      "execution_count": null,
      "outputs": []
    },
    {
      "cell_type": "markdown",
      "metadata": {
        "id": "lITnbUIH_Fe_"
      },
      "source": [
        "# peak period"
      ]
    },
    {
      "cell_type": "code",
      "metadata": {
        "id": "V-LF7EWR_HUp"
      },
      "source": [
        ""
      ],
      "execution_count": null,
      "outputs": []
    },
    {
      "cell_type": "code",
      "metadata": {
        "colab": {
          "base_uri": "https://localhost:8080/"
        },
        "id": "hfyAP4po_Hy8",
        "outputId": "92b912a4-72a4-4a9a-bc95-c7e4fa774f60"
      },
      "source": [
        "from sklearn import metrics\n",
        "import numpy as np\n",
        "\n",
        "timeseries_evaluation_metrics_func(test['y'][:1], forecast['yhat'][:1])"
      ],
      "execution_count": null,
      "outputs": [
        {
          "output_type": "stream",
          "text": [
            "Evaluation metric results:-\n",
            "MSE is : 14312.786667639422\n",
            "MAE is : 119.63605922814168\n",
            "RMSE is : 119.63605922814168\n",
            "MAPE is : 7.668978155650108 %\n",
            "R2 is : nan\n",
            "\n",
            "SMAPE is : 7.385771552169073\n",
            "\n",
            "MASE is : nan\n"
          ],
          "name": "stdout"
        },
        {
          "output_type": "stream",
          "text": [
            "/usr/local/lib/python3.7/dist-packages/sklearn/metrics/_regression.py:582: UndefinedMetricWarning:\n",
            "\n",
            "R^2 score is not well-defined with less than two samples.\n",
            "\n",
            "/usr/local/lib/python3.7/dist-packages/ipykernel_launcher.py:11: RuntimeWarning:\n",
            "\n",
            "divide by zero encountered in double_scalars\n",
            "\n",
            "/usr/local/lib/python3.7/dist-packages/ipykernel_launcher.py:11: RuntimeWarning:\n",
            "\n",
            "invalid value encountered in double_scalars\n",
            "\n"
          ],
          "name": "stderr"
        }
      ]
    },
    {
      "cell_type": "code",
      "metadata": {
        "id": "a4erENFiEfJv"
      },
      "source": [
        ""
      ],
      "execution_count": null,
      "outputs": []
    }
  ]
}