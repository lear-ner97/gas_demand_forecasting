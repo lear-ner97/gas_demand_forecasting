{
  "nbformat": 4,
  "nbformat_minor": 0,
  "metadata": {
    "colab": {
      "name": "SARIMA_multi_quarterly.ipynb",
      "provenance": [],
      "collapsed_sections": []
    },
    "kernelspec": {
      "name": "python3",
      "display_name": "Python 3"
    },
    "language_info": {
      "name": "python"
    }
  },
  "cells": [
    {
      "cell_type": "code",
      "metadata": {
        "id": "geqvAJuoFNLe"
      },
      "source": [
        ""
      ],
      "execution_count": null,
      "outputs": []
    },
    {
      "cell_type": "code",
      "metadata": {
        "id": "QlvRyEB52WmW"
      },
      "source": [
        "import pandas as pd\n",
        "import matplotlib.pyplot as plt\n",
        "%matplotlib inline\n",
        "import numpy as np\n",
        "from sklearn import metrics\n",
        "\n"
      ],
      "execution_count": null,
      "outputs": []
    },
    {
      "cell_type": "code",
      "metadata": {
        "id": "pJcpLt1G863g"
      },
      "source": [
        "data = pd.read_csv('/content/clean_quarterly_df_human.csv').dropna()\n",
        "data.time=pd.to_datetime(data.time,dayfirst=True)"
      ],
      "execution_count": null,
      "outputs": []
    },
    {
      "cell_type": "code",
      "metadata": {
        "colab": {
          "base_uri": "https://localhost:8080/"
        },
        "id": "l9qGp6yKGuVm",
        "outputId": "6bd397b3-6bca-42ca-96b3-10387daeb3fb"
      },
      "source": [
        "data.columns"
      ],
      "execution_count": null,
      "outputs": [
        {
          "output_type": "execute_result",
          "data": {
            "text/plain": [
              "Index(['time', 'MIN_TEMPERATURE_C', 'max_clients_quarter',\n",
              "       'total_Holiday_Food_Related', 'total_consommation',\n",
              "       'pdl_max_total_daily_load', 'pdl_max_daily_load'],\n",
              "      dtype='object')"
            ]
          },
          "metadata": {},
          "execution_count": 28
        }
      ]
    },
    {
      "cell_type": "code",
      "metadata": {
        "id": "lrRDeouB866S"
      },
      "source": [
        "df_input=data[['MIN_TEMPERATURE_C', 'max_clients_quarter',\n",
        "       'total_Holiday_Food_Related', 'total_consommation',\n",
        "       'pdl_max_total_daily_load', 'pdl_max_daily_load']]\n",
        "\n",
        "train,test=df_input[:-2],df_input[-2:]\n",
        "X_train,y_train=np.array(train.drop(['pdl_max_daily_load'],axis=1)),np.array(train.pdl_max_daily_load)\n",
        "X_test,y_test=np.array(test.drop(['pdl_max_daily_load'],axis=1)),np.array(test.pdl_max_daily_load)\n"
      ],
      "execution_count": null,
      "outputs": []
    },
    {
      "cell_type": "code",
      "metadata": {
        "colab": {
          "base_uri": "https://localhost:8080/"
        },
        "id": "rv024CQR85as",
        "outputId": "6108e512-fa1f-42e7-80c8-b54f22e733eb"
      },
      "source": [
        "!pip install pmdarima"
      ],
      "execution_count": null,
      "outputs": [
        {
          "output_type": "stream",
          "text": [
            "Requirement already satisfied: pmdarima in /usr/local/lib/python3.7/dist-packages (1.8.2)\n",
            "Requirement already satisfied: urllib3 in /usr/local/lib/python3.7/dist-packages (from pmdarima) (1.24.3)\n",
            "Requirement already satisfied: scikit-learn>=0.22 in /usr/local/lib/python3.7/dist-packages (from pmdarima) (0.22.2.post1)\n",
            "Requirement already satisfied: joblib>=0.11 in /usr/local/lib/python3.7/dist-packages (from pmdarima) (1.0.1)\n",
            "Requirement already satisfied: setuptools!=50.0.0,>=38.6.0 in /usr/local/lib/python3.7/dist-packages (from pmdarima) (57.4.0)\n",
            "Requirement already satisfied: Cython!=0.29.18,>=0.29 in /usr/local/lib/python3.7/dist-packages (from pmdarima) (0.29.24)\n",
            "Requirement already satisfied: scipy>=1.3.2 in /usr/local/lib/python3.7/dist-packages (from pmdarima) (1.4.1)\n",
            "Requirement already satisfied: statsmodels!=0.12.0,>=0.11 in /usr/local/lib/python3.7/dist-packages (from pmdarima) (0.12.2)\n",
            "Requirement already satisfied: pandas>=0.19 in /usr/local/lib/python3.7/dist-packages (from pmdarima) (1.1.5)\n",
            "Requirement already satisfied: numpy~=1.19.0 in /usr/local/lib/python3.7/dist-packages (from pmdarima) (1.19.5)\n",
            "Requirement already satisfied: python-dateutil>=2.7.3 in /usr/local/lib/python3.7/dist-packages (from pandas>=0.19->pmdarima) (2.8.2)\n",
            "Requirement already satisfied: pytz>=2017.2 in /usr/local/lib/python3.7/dist-packages (from pandas>=0.19->pmdarima) (2018.9)\n",
            "Requirement already satisfied: six>=1.5 in /usr/local/lib/python3.7/dist-packages (from python-dateutil>=2.7.3->pandas>=0.19->pmdarima) (1.15.0)\n",
            "Requirement already satisfied: patsy>=0.5 in /usr/local/lib/python3.7/dist-packages (from statsmodels!=0.12.0,>=0.11->pmdarima) (0.5.1)\n"
          ],
          "name": "stdout"
        }
      ]
    },
    {
      "cell_type": "code",
      "metadata": {
        "colab": {
          "base_uri": "https://localhost:8080/",
          "height": 788
        },
        "id": "w_bcUwZ386N9",
        "outputId": "2f00fa35-ed3f-4bf3-d553-16dacf544b7a"
      },
      "source": [
        "from pmdarima import auto_arima\n",
        "\n",
        "stepwise_model = auto_arima(y=y_train,X=X_train,start_p=1, start_q=1,max_p=7, max_q=7,\n",
        "                            max_P=7, max_Q=7,max_order=None,m=4,stepwise=True,\n",
        "                            seasonal=True,stationary=True,suppress_warnings=True,\n",
        "                            trace=True,)\n",
        "stepwise_model.summary()"
      ],
      "execution_count": null,
      "outputs": [
        {
          "output_type": "stream",
          "text": [
            "Performing stepwise search to minimize aic\n",
            " ARIMA(1,0,1)(1,0,1)[4] intercept   : AIC=255.774, Time=0.21 sec\n",
            " ARIMA(0,0,0)(0,0,0)[4] intercept   : AIC=247.390, Time=0.09 sec\n",
            " ARIMA(1,0,0)(1,0,0)[4] intercept   : AIC=249.474, Time=0.18 sec\n",
            " ARIMA(0,0,1)(0,0,1)[4] intercept   : AIC=249.979, Time=0.41 sec\n",
            " ARIMA(0,0,0)(0,0,0)[4]             : AIC=286.345, Time=0.13 sec\n",
            " ARIMA(0,0,0)(1,0,0)[4] intercept   : AIC=247.431, Time=0.13 sec\n",
            " ARIMA(0,0,0)(0,0,1)[4] intercept   : AIC=248.722, Time=0.16 sec\n",
            " ARIMA(0,0,0)(1,0,1)[4] intercept   : AIC=251.390, Time=0.18 sec\n",
            " ARIMA(1,0,0)(0,0,0)[4] intercept   : AIC=249.967, Time=0.23 sec\n",
            " ARIMA(0,0,1)(0,0,0)[4] intercept   : AIC=249.632, Time=0.11 sec\n",
            " ARIMA(1,0,1)(0,0,0)[4] intercept   : AIC=251.774, Time=0.27 sec\n",
            "\n",
            "Best model:  ARIMA(0,0,0)(0,0,0)[4] intercept\n",
            "Total fit time: 2.118 seconds\n"
          ],
          "name": "stdout"
        },
        {
          "output_type": "execute_result",
          "data": {
            "text/html": [
              "<table class=\"simpletable\">\n",
              "<caption>SARIMAX Results</caption>\n",
              "<tr>\n",
              "  <th>Dep. Variable:</th>           <td>y</td>        <th>  No. Observations:  </th>    <td>20</td>   \n",
              "</tr>\n",
              "<tr>\n",
              "  <th>Model:</th>                <td>SARIMAX</td>     <th>  Log Likelihood     </th> <td>-116.695</td>\n",
              "</tr>\n",
              "<tr>\n",
              "  <th>Date:</th>            <td>Fri, 27 Aug 2021</td> <th>  AIC                </th>  <td>247.390</td>\n",
              "</tr>\n",
              "<tr>\n",
              "  <th>Time:</th>                <td>00:28:33</td>     <th>  BIC                </th>  <td>254.360</td>\n",
              "</tr>\n",
              "<tr>\n",
              "  <th>Sample:</th>                  <td>0</td>        <th>  HQIC               </th>  <td>248.750</td>\n",
              "</tr>\n",
              "<tr>\n",
              "  <th></th>                       <td> - 20</td>      <th>                     </th>     <td> </td>   \n",
              "</tr>\n",
              "<tr>\n",
              "  <th>Covariance Type:</th>        <td>opg</td>       <th>                     </th>     <td> </td>   \n",
              "</tr>\n",
              "</table>\n",
              "<table class=\"simpletable\">\n",
              "<tr>\n",
              "      <td></td>         <th>coef</th>     <th>std err</th>      <th>z</th>      <th>P>|z|</th>  <th>[0.025</th>    <th>0.975]</th>  \n",
              "</tr>\n",
              "<tr>\n",
              "  <th>intercept</th> <td>    3.6027</td> <td>  220.351</td> <td>    0.016</td> <td> 0.987</td> <td> -428.277</td> <td>  435.482</td>\n",
              "</tr>\n",
              "<tr>\n",
              "  <th>x1</th>        <td>   -1.6022</td> <td>   23.056</td> <td>   -0.069</td> <td> 0.945</td> <td>  -46.791</td> <td>   43.586</td>\n",
              "</tr>\n",
              "<tr>\n",
              "  <th>x2</th>        <td>    0.0768</td> <td>    0.144</td> <td>    0.532</td> <td> 0.595</td> <td>   -0.206</td> <td>    0.360</td>\n",
              "</tr>\n",
              "<tr>\n",
              "  <th>x3</th>        <td>    7.9383</td> <td>    3.370</td> <td>    2.356</td> <td> 0.018</td> <td>    1.334</td> <td>   14.543</td>\n",
              "</tr>\n",
              "<tr>\n",
              "  <th>x4</th>        <td>    0.0004</td> <td>    0.000</td> <td>    0.963</td> <td> 0.336</td> <td>   -0.000</td> <td>    0.001</td>\n",
              "</tr>\n",
              "<tr>\n",
              "  <th>x5</th>        <td>    0.0344</td> <td>    0.023</td> <td>    1.522</td> <td> 0.128</td> <td>   -0.010</td> <td>    0.079</td>\n",
              "</tr>\n",
              "<tr>\n",
              "  <th>sigma2</th>    <td> 6848.0898</td> <td>   19.932</td> <td>  343.573</td> <td> 0.000</td> <td> 6809.024</td> <td> 6887.156</td>\n",
              "</tr>\n",
              "</table>\n",
              "<table class=\"simpletable\">\n",
              "<tr>\n",
              "  <th>Ljung-Box (L1) (Q):</th>     <td>0.03</td> <th>  Jarque-Bera (JB):  </th> <td>5.38</td> \n",
              "</tr>\n",
              "<tr>\n",
              "  <th>Prob(Q):</th>                <td>0.87</td> <th>  Prob(JB):          </th> <td>0.07</td> \n",
              "</tr>\n",
              "<tr>\n",
              "  <th>Heteroskedasticity (H):</th> <td>1.49</td> <th>  Skew:              </th> <td>-0.83</td>\n",
              "</tr>\n",
              "<tr>\n",
              "  <th>Prob(H) (two-sided):</th>    <td>0.61</td> <th>  Kurtosis:          </th> <td>4.92</td> \n",
              "</tr>\n",
              "</table><br/><br/>Warnings:<br/>[1] Covariance matrix calculated using the outer product of gradients (complex-step).<br/>[2] Covariance matrix is singular or near-singular, with condition number 3.19e+17. Standard errors may be unstable."
            ],
            "text/plain": [
              "<class 'statsmodels.iolib.summary.Summary'>\n",
              "\"\"\"\n",
              "                               SARIMAX Results                                \n",
              "==============================================================================\n",
              "Dep. Variable:                      y   No. Observations:                   20\n",
              "Model:                        SARIMAX   Log Likelihood                -116.695\n",
              "Date:                Fri, 27 Aug 2021   AIC                            247.390\n",
              "Time:                        00:28:33   BIC                            254.360\n",
              "Sample:                             0   HQIC                           248.750\n",
              "                                 - 20                                         \n",
              "Covariance Type:                  opg                                         \n",
              "==============================================================================\n",
              "                 coef    std err          z      P>|z|      [0.025      0.975]\n",
              "------------------------------------------------------------------------------\n",
              "intercept      3.6027    220.351      0.016      0.987    -428.277     435.482\n",
              "x1            -1.6022     23.056     -0.069      0.945     -46.791      43.586\n",
              "x2             0.0768      0.144      0.532      0.595      -0.206       0.360\n",
              "x3             7.9383      3.370      2.356      0.018       1.334      14.543\n",
              "x4             0.0004      0.000      0.963      0.336      -0.000       0.001\n",
              "x5             0.0344      0.023      1.522      0.128      -0.010       0.079\n",
              "sigma2      6848.0898     19.932    343.573      0.000    6809.024    6887.156\n",
              "===================================================================================\n",
              "Ljung-Box (L1) (Q):                   0.03   Jarque-Bera (JB):                 5.38\n",
              "Prob(Q):                              0.87   Prob(JB):                         0.07\n",
              "Heteroskedasticity (H):               1.49   Skew:                            -0.83\n",
              "Prob(H) (two-sided):                  0.61   Kurtosis:                         4.92\n",
              "===================================================================================\n",
              "\n",
              "Warnings:\n",
              "[1] Covariance matrix calculated using the outer product of gradients (complex-step).\n",
              "[2] Covariance matrix is singular or near-singular, with condition number 3.19e+17. Standard errors may be unstable.\n",
              "\"\"\""
            ]
          },
          "metadata": {},
          "execution_count": 31
        }
      ]
    },
    {
      "cell_type": "code",
      "metadata": {
        "id": "qKUV_Vyg9b9P"
      },
      "source": [
        "def timeseries_evaluation_metrics_func(y_true, y_pred):\n",
        "  def mean_absolute_percentage_error(y_true, y_pred):\n",
        "    y_true, y_pred = np.array(y_true), np.array(y_pred)\n",
        "    return np.mean(np.abs((y_true - y_pred) / y_true)) * 100\n",
        "  def smape(y_true,y_pred):\n",
        "    y_true, y_pred = np.array(y_true), np.array(y_pred)\n",
        "    return 2/y_true.shape[0]*np.sum(np.abs(y_true-y_pred))/np.sum((np.abs(y_true)+np.abs(y_pred)))*100\n",
        "  def mase(y_true,y_pred):\n",
        "    y_true, y_pred = np.array(y_true), np.array(y_pred)\n",
        "    naive_pred=y_true[1:]\n",
        "    return 1/y_true.shape[0]*np.sum(np.abs(y_true-y_pred))/np.sum(np.abs(y_true[:len(y_true)-1]-naive_pred))*(y_true.shape[0]-1)\n",
        "  #def owe(y_true,y_pred):\n",
        "   # return (mase(y_true,y_pred)+smape(y_true,y_pred))/2\n",
        "\n",
        "  print('Evaluation metric results:-')\n",
        "  print(f'MSE is : {metrics.mean_squared_error(y_true, y_pred)}')\n",
        "  print(f'MAE is : {metrics.mean_absolute_error(y_true, y_pred)}')\n",
        "  print(f'RMSE is : {np.sqrt(metrics.mean_squared_error(y_true, y_pred))}')\n",
        "  print(f'MAPE is : {mean_absolute_percentage_error(y_true, y_pred)} %')\n",
        "  #mape.append(mean_absolute_percentage_error(y_true, y_pred))\n",
        "  #rmse.append(np.sqrt(metrics.mean_squared_error(y_true, y_pred)))\n",
        "  print(f'R2 is : {metrics.r2_score(y_true, y_pred)}',end='\\n\\n')\n",
        "  print('SMAPE is : '+str(smape(y_true,y_pred))+'\\n')\n",
        "  print('MASE is : '+str(mase(y_true,y_pred)))\n",
        "  return"
      ],
      "execution_count": null,
      "outputs": []
    },
    {
      "cell_type": "code",
      "metadata": {
        "id": "1XQLv8RSPooa"
      },
      "source": [
        "y_test=pd.DataFrame(data=y_test,index=np.arange(20,22),columns=['actual'])"
      ],
      "execution_count": null,
      "outputs": []
    },
    {
      "cell_type": "code",
      "metadata": {
        "colab": {
          "base_uri": "https://localhost:8080/"
        },
        "id": "cXMU0v0I9cAI",
        "outputId": "d4359d90-6efa-4dcb-fc70-2861c946681d"
      },
      "source": [
        "forecast,conf_int = stepwise_model.predict(n_periods=2, X=X_test, return_conf_int=True)\n",
        "#alpha=confidence_interval=0.05 (previous method)\n",
        "forecast = pd.DataFrame(forecast,columns=['PDL_pred'])\n",
        "df_conf = pd.DataFrame(conf_int,columns= ['Upper_bound','Lower_bound'])\n",
        "df_conf[\"new_index\"] = range(20, 22)\n",
        "df_conf = df_conf.set_index(\"new_index\")\n",
        "timeseries_evaluation_metrics_func(y_test.actual, forecast.PDL_pred)"
      ],
      "execution_count": null,
      "outputs": [
        {
          "output_type": "stream",
          "text": [
            "Evaluation metric results:-\n",
            "MSE is : 2580.842075967353\n",
            "MAE is : 42.12872835443818\n",
            "RMSE is : 50.80198889775235\n",
            "MAPE is : 2.645432020437749 %\n",
            "R2 is : -5.787224394391461\n",
            "\n",
            "SMAPE is : 1.345703653517067\n",
            "\n",
            "MASE is : 1.0802238039599534\n"
          ],
          "name": "stdout"
        }
      ]
    },
    {
      "cell_type": "code",
      "metadata": {
        "id": "oT1rpoUj9cCr"
      },
      "source": [
        "forecast[\"new_index\"] = range(20, 22)\n",
        "forecast = forecast.set_index(\"new_index\")"
      ],
      "execution_count": null,
      "outputs": []
    },
    {
      "cell_type": "code",
      "metadata": {
        "colab": {
          "base_uri": "https://localhost:8080/",
          "height": 143
        },
        "id": "EPrvKKOp9cEv",
        "outputId": "33b9e6d5-2aec-4432-f707-f66529bb2118"
      },
      "source": [
        "forecast"
      ],
      "execution_count": null,
      "outputs": [
        {
          "output_type": "execute_result",
          "data": {
            "text/html": [
              "<div>\n",
              "<style scoped>\n",
              "    .dataframe tbody tr th:only-of-type {\n",
              "        vertical-align: middle;\n",
              "    }\n",
              "\n",
              "    .dataframe tbody tr th {\n",
              "        vertical-align: top;\n",
              "    }\n",
              "\n",
              "    .dataframe thead th {\n",
              "        text-align: right;\n",
              "    }\n",
              "</style>\n",
              "<table border=\"1\" class=\"dataframe\">\n",
              "  <thead>\n",
              "    <tr style=\"text-align: right;\">\n",
              "      <th></th>\n",
              "      <th>PDL_pred</th>\n",
              "    </tr>\n",
              "    <tr>\n",
              "      <th>new_index</th>\n",
              "      <th></th>\n",
              "    </tr>\n",
              "  </thead>\n",
              "  <tbody>\n",
              "    <tr>\n",
              "      <th>20</th>\n",
              "      <td>1573.738372</td>\n",
              "    </tr>\n",
              "    <tr>\n",
              "      <th>21</th>\n",
              "      <td>1528.480915</td>\n",
              "    </tr>\n",
              "  </tbody>\n",
              "</table>\n",
              "</div>"
            ],
            "text/plain": [
              "              PDL_pred\n",
              "new_index             \n",
              "20         1573.738372\n",
              "21         1528.480915"
            ]
          },
          "metadata": {},
          "execution_count": 36
        }
      ]
    },
    {
      "cell_type": "code",
      "metadata": {
        "colab": {
          "base_uri": "https://localhost:8080/",
          "height": 392
        },
        "id": "9EUKZF4U_r_d",
        "outputId": "f247dc7a-abcb-4917-864d-69ca6137c893"
      },
      "source": [
        "get_ipython().run_line_magic('matplotlib', 'inline')\n",
        "plt.rcParams[\"figure.figsize\"] = [15,7]\n",
        "plt.plot(y_train, label='Train ')\n",
        "plt.plot(y_test.actual, label='Test ')\n",
        "plt.plot(forecast['PDL_pred'], label='Predicted ')\n",
        "plt.plot(df_conf['Upper_bound'], label='Confidence Interval Upper bound ')\n",
        "plt.plot(df_conf['Lower_bound'], label='Confidence Interval Lower bound ')\n",
        "plt.legend(loc='best')\n",
        "plt.show()"
      ],
      "execution_count": null,
      "outputs": [
        {
          "output_type": "display_data",
          "data": {
            "image/png": "[encoded data removed]",
            "text/plain": [
              "<Figure size 1080x504 with 1 Axes>"
            ]
          },
          "metadata": {
            "needs_background": "light"
          }
        }
      ]
    },
    {
      "cell_type": "code",
      "metadata": {
        "colab": {
          "base_uri": "https://localhost:8080/",
          "height": 392
        },
        "id": "YuZHCV9i_Muz",
        "outputId": "74812588-348e-4650-eb4f-df86ea391b17"
      },
      "source": [
        "# plot baseline and predictions\n",
        "time=data.time[-2:]\n",
        "\n",
        "plt.plot(time,y_test.actual,label='actual')\n",
        "plt.plot(time,forecast['PDL_pred'],label='forecast')\n",
        "plt.legend()\n",
        "plt.show()"
      ],
      "execution_count": null,
      "outputs": [
        {
          "output_type": "display_data",
          "data": {
            "image/png": "[encoded data removed]",
            "text/plain": [
              "<Figure size 1080x504 with 1 Axes>"
            ]
          },
          "metadata": {
            "needs_background": "light"
          }
        }
      ]
    },
    {
      "cell_type": "code",
      "metadata": {
        "id": "iB0zI574N5jv"
      },
      "source": [
        ""
      ],
      "execution_count": null,
      "outputs": []
    },
    {
      "cell_type": "markdown",
      "metadata": {
        "id": "boWo2CvQGkkd"
      },
      "source": [
        "# peak period"
      ]
    },
    {
      "cell_type": "code",
      "metadata": {
        "colab": {
          "base_uri": "https://localhost:8080/"
        },
        "id": "9hIgVR90Glba",
        "outputId": "d0bb556b-5915-49c8-d772-60ae8aefcaca"
      },
      "source": [
        "timeseries_evaluation_metrics_func(y_test.actual[:1], forecast.PDL_pred[:1])"
      ],
      "execution_count": null,
      "outputs": [
        {
          "output_type": "stream",
          "text": [
            "Evaluation metric results:-\n",
            "MSE is : 188.74287040112915\n",
            "MAE is : 13.738372188914127\n",
            "RMSE is : 13.738372188914127\n",
            "MAPE is : 0.8806648839047517 %\n",
            "R2 is : nan\n",
            "\n",
            "SMAPE is : 0.8768040313025802\n",
            "\n",
            "MASE is : nan\n"
          ],
          "name": "stdout"
        },
        {
          "output_type": "stream",
          "text": [
            "/usr/local/lib/python3.7/dist-packages/sklearn/metrics/_regression.py:582: UndefinedMetricWarning: R^2 score is not well-defined with less than two samples.\n",
            "  warnings.warn(msg, UndefinedMetricWarning)\n",
            "/usr/local/lib/python3.7/dist-packages/ipykernel_launcher.py:11: RuntimeWarning: divide by zero encountered in double_scalars\n",
            "  # This is added back by InteractiveShellApp.init_path()\n",
            "/usr/local/lib/python3.7/dist-packages/ipykernel_launcher.py:11: RuntimeWarning: invalid value encountered in double_scalars\n",
            "  # This is added back by InteractiveShellApp.init_path()\n"
          ],
          "name": "stderr"
        }
      ]
    },
    {
      "cell_type": "code",
      "metadata": {
        "id": "tC7k5ckrHzYL"
      },
      "source": [
        ""
      ],
      "execution_count": null,
      "outputs": []
    }
  ]
}