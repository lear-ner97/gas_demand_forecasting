{
  "nbformat": 4,
  "nbformat_minor": 0,
  "metadata": {
    "colab": {
      "name": "forecasting_until_2024.ipynb",
      "provenance": [],
      "collapsed_sections": []
    },
    "kernelspec": {
      "name": "python3",
      "display_name": "Python 3"
    },
    "language_info": {
      "name": "python"
    }
  },
  "cells": [
    {
      "cell_type": "markdown",
      "metadata": {
        "id": "GgMrPZLBHnOo"
      },
      "source": [
        "# this notebook represents long-term forecasting(until 2024) with monthly resolution using weighted average ensemble "
      ]
    },
    {
      "cell_type": "code",
      "metadata": {
        "id": "1HRWeLc2Gc10"
      },
      "source": [
        "\n",
        "from numpy import argsort\n",
        "from sklearn.model_selection import GridSearchCV\n",
        "from sklearn.metrics import mean_absolute_error\n",
        "from sklearn.ensemble import VotingRegressor\n",
        "import pandas as pd\n",
        "from sklearn.preprocessing import MinMaxScaler\n",
        "from numpy import concatenate\n",
        "from sklearn.model_selection import TimeSeriesSplit\n",
        "from xgboost import XGBRegressor\n",
        "from sklearn.model_selection import cross_val_score\n",
        "import matplotlib.pyplot as plt\n",
        "from sklearn.linear_model import LinearRegression\n",
        "from sklearn.neural_network import MLPRegressor\n",
        "from sklearn.neighbors import KNeighborsRegressor\n",
        "from sklearn.ensemble import RandomForestRegressor\n",
        "from sklearn.gaussian_process import GaussianProcessRegressor\n",
        "from sklearn.linear_model import Ridge\n",
        "from sklearn import linear_model\n",
        "from sklearn.svm import SVR\n",
        "from sklearn.linear_model import ElasticNet\n",
        "import sklearn\n",
        "from sklearn import metrics\n",
        "import numpy as np\n",
        "import matplotlib.dates as mdates"
      ],
      "execution_count": null,
      "outputs": []
    },
    {
      "cell_type": "code",
      "metadata": {
        "id": "pAw-KeR0XqqF",
        "colab": {
          "base_uri": "https://localhost:8080/"
        },
        "outputId": "4325598b-b1eb-423b-dbe6-21d9f336b483"
      },
      "source": [
        "#read multivariate data\n",
        "df=pd.read_csv('/content/forecasting_until_2024.csv')\n",
        "df.time=pd.to_datetime(df.time,dayfirst=True)\n",
        "df.columns"
      ],
      "execution_count": null,
      "outputs": [
        {
          "output_type": "execute_result",
          "data": {
            "text/plain": [
              "Index(['time', 'MIN_TEMPERATURE_C_t_36', 'max_clients_month_t_36',\n",
              "       'total_Holiday_Food_Related_t_36', 'total_consommation_t_36',\n",
              "       'max_pdl_total_daily_load_t_36', 'max_pdl_daily_load_t_36',\n",
              "       'MIN_TEMPERATURE_C_t', 'max_clients_month_t',\n",
              "       'total_Holiday_Food_Related_t', 'max_pdl_daily_load_t'],\n",
              "      dtype='object')"
            ]
          },
          "metadata": {},
          "execution_count": 16
        }
      ]
    },
    {
      "cell_type": "code",
      "metadata": {
        "id": "wgKOf0xp8ZFC"
      },
      "source": [
        "data=pd.read_csv('/content/forecasting_until_2024.csv',\n",
        "                 index_col='time')[['MIN_TEMPERATURE_C_t_36', 'max_clients_month_t_36',\n",
        "       'total_Holiday_Food_Related_t_36', 'total_consommation_t_36',\n",
        "       'max_pdl_total_daily_load_t_36', 'max_pdl_daily_load_t_36',\n",
        "       \n",
        "       'MIN_TEMPERATURE_C_t', 'max_clients_month_t',\n",
        "       'total_Holiday_Food_Related_t', 'max_pdl_daily_load_t']].dropna()\n"
      ],
      "execution_count": null,
      "outputs": []
    },
    {
      "cell_type": "code",
      "metadata": {
        "colab": {
          "base_uri": "https://localhost:8080/"
        },
        "id": "e9QfJ8FPyGYL",
        "outputId": "1aec2a95-139b-45b3-9abb-5335ebbb68ba"
      },
      "source": [
        "data.shape"
      ],
      "execution_count": null,
      "outputs": [
        {
          "output_type": "execute_result",
          "data": {
            "text/plain": [
              "(75, 10)"
            ]
          },
          "metadata": {},
          "execution_count": 18
        }
      ]
    },
    {
      "cell_type": "code",
      "metadata": {
        "id": "dRaIduTRqmPq"
      },
      "source": [
        "data.index=pd.to_datetime(data.index,dayfirst=True)"
      ],
      "execution_count": null,
      "outputs": []
    },
    {
      "cell_type": "code",
      "metadata": {
        "colab": {
          "base_uri": "https://localhost:8080/",
          "height": 343
        },
        "id": "XOKVBlf2-uTH",
        "outputId": "dd43de02-4a6f-4ec6-8f2e-dd6bd099e785"
      },
      "source": [
        "data.head()"
      ],
      "execution_count": null,
      "outputs": [
        {
          "output_type": "execute_result",
          "data": {
            "text/html": [
              "<div>\n",
              "<style scoped>\n",
              "    .dataframe tbody tr th:only-of-type {\n",
              "        vertical-align: middle;\n",
              "    }\n",
              "\n",
              "    .dataframe tbody tr th {\n",
              "        vertical-align: top;\n",
              "    }\n",
              "\n",
              "    .dataframe thead th {\n",
              "        text-align: right;\n",
              "    }\n",
              "</style>\n",
              "<table border=\"1\" class=\"dataframe\">\n",
              "  <thead>\n",
              "    <tr style=\"text-align: right;\">\n",
              "      <th></th>\n",
              "      <th>MIN_TEMPERATURE_C_t_36</th>\n",
              "      <th>max_clients_month_t_36</th>\n",
              "      <th>total_Holiday_Food_Related_t_36</th>\n",
              "      <th>total_consommation_t_36</th>\n",
              "      <th>max_pdl_total_daily_load_t_36</th>\n",
              "      <th>max_pdl_daily_load_t_36</th>\n",
              "      <th>MIN_TEMPERATURE_C_t</th>\n",
              "      <th>max_clients_month_t</th>\n",
              "      <th>total_Holiday_Food_Related_t</th>\n",
              "      <th>max_pdl_daily_load_t</th>\n",
              "    </tr>\n",
              "    <tr>\n",
              "      <th>time</th>\n",
              "      <th></th>\n",
              "      <th></th>\n",
              "      <th></th>\n",
              "      <th></th>\n",
              "      <th></th>\n",
              "      <th></th>\n",
              "      <th></th>\n",
              "      <th></th>\n",
              "      <th></th>\n",
              "      <th></th>\n",
              "    </tr>\n",
              "  </thead>\n",
              "  <tbody>\n",
              "    <tr>\n",
              "      <th>2018-01-31</th>\n",
              "      <td>8.0</td>\n",
              "      <td>3980.0</td>\n",
              "      <td>2.0</td>\n",
              "      <td>247497.63</td>\n",
              "      <td>22257.0</td>\n",
              "      <td>1479.0</td>\n",
              "      <td>11.0</td>\n",
              "      <td>4869.0</td>\n",
              "      <td>1.0</td>\n",
              "      <td>1447.0</td>\n",
              "    </tr>\n",
              "    <tr>\n",
              "      <th>2018-02-28</th>\n",
              "      <td>11.0</td>\n",
              "      <td>4023.0</td>\n",
              "      <td>0.0</td>\n",
              "      <td>263249.88</td>\n",
              "      <td>22242.0</td>\n",
              "      <td>1494.0</td>\n",
              "      <td>11.0</td>\n",
              "      <td>4901.0</td>\n",
              "      <td>0.0</td>\n",
              "      <td>1472.0</td>\n",
              "    </tr>\n",
              "    <tr>\n",
              "      <th>2018-03-31</th>\n",
              "      <td>12.0</td>\n",
              "      <td>4060.0</td>\n",
              "      <td>0.0</td>\n",
              "      <td>246311.89</td>\n",
              "      <td>21691.0</td>\n",
              "      <td>1551.0</td>\n",
              "      <td>11.0</td>\n",
              "      <td>4943.0</td>\n",
              "      <td>0.0</td>\n",
              "      <td>1307.0</td>\n",
              "    </tr>\n",
              "    <tr>\n",
              "      <th>2018-04-30</th>\n",
              "      <td>14.0</td>\n",
              "      <td>4094.0</td>\n",
              "      <td>0.0</td>\n",
              "      <td>237177.99</td>\n",
              "      <td>16752.0</td>\n",
              "      <td>1253.0</td>\n",
              "      <td>15.0</td>\n",
              "      <td>4964.0</td>\n",
              "      <td>0.0</td>\n",
              "      <td>1232.0</td>\n",
              "    </tr>\n",
              "    <tr>\n",
              "      <th>2018-05-31</th>\n",
              "      <td>19.0</td>\n",
              "      <td>4112.0</td>\n",
              "      <td>0.0</td>\n",
              "      <td>229106.03</td>\n",
              "      <td>12318.0</td>\n",
              "      <td>1123.0</td>\n",
              "      <td>17.0</td>\n",
              "      <td>5020.0</td>\n",
              "      <td>15.0</td>\n",
              "      <td>1494.0</td>\n",
              "    </tr>\n",
              "  </tbody>\n",
              "</table>\n",
              "</div>"
            ],
            "text/plain": [
              "            MIN_TEMPERATURE_C_t_36  ...  max_pdl_daily_load_t\n",
              "time                                ...                      \n",
              "2018-01-31                     8.0  ...                1447.0\n",
              "2018-02-28                    11.0  ...                1472.0\n",
              "2018-03-31                    12.0  ...                1307.0\n",
              "2018-04-30                    14.0  ...                1232.0\n",
              "2018-05-31                    19.0  ...                1494.0\n",
              "\n",
              "[5 rows x 10 columns]"
            ]
          },
          "metadata": {},
          "execution_count": 20
        }
      ]
    },
    {
      "cell_type": "code",
      "metadata": {
        "colab": {
          "base_uri": "https://localhost:8080/",
          "height": 343
        },
        "id": "xktaLYwMkSPU",
        "outputId": "750383ab-3caa-450d-c9f7-b9023b4c8031"
      },
      "source": [
        "data.tail()"
      ],
      "execution_count": null,
      "outputs": [
        {
          "output_type": "execute_result",
          "data": {
            "text/html": [
              "<div>\n",
              "<style scoped>\n",
              "    .dataframe tbody tr th:only-of-type {\n",
              "        vertical-align: middle;\n",
              "    }\n",
              "\n",
              "    .dataframe tbody tr th {\n",
              "        vertical-align: top;\n",
              "    }\n",
              "\n",
              "    .dataframe thead th {\n",
              "        text-align: right;\n",
              "    }\n",
              "</style>\n",
              "<table border=\"1\" class=\"dataframe\">\n",
              "  <thead>\n",
              "    <tr style=\"text-align: right;\">\n",
              "      <th></th>\n",
              "      <th>MIN_TEMPERATURE_C_t_36</th>\n",
              "      <th>max_clients_month_t_36</th>\n",
              "      <th>total_Holiday_Food_Related_t_36</th>\n",
              "      <th>total_consommation_t_36</th>\n",
              "      <th>max_pdl_total_daily_load_t_36</th>\n",
              "      <th>max_pdl_daily_load_t_36</th>\n",
              "      <th>MIN_TEMPERATURE_C_t</th>\n",
              "      <th>max_clients_month_t</th>\n",
              "      <th>total_Holiday_Food_Related_t</th>\n",
              "      <th>max_pdl_daily_load_t</th>\n",
              "    </tr>\n",
              "    <tr>\n",
              "      <th>time</th>\n",
              "      <th></th>\n",
              "      <th></th>\n",
              "      <th></th>\n",
              "      <th></th>\n",
              "      <th></th>\n",
              "      <th></th>\n",
              "      <th></th>\n",
              "      <th></th>\n",
              "      <th></th>\n",
              "      <th></th>\n",
              "    </tr>\n",
              "  </thead>\n",
              "  <tbody>\n",
              "    <tr>\n",
              "      <th>2023-11-30</th>\n",
              "      <td>20.0</td>\n",
              "      <td>5736.676233</td>\n",
              "      <td>0.0</td>\n",
              "      <td>284287.81</td>\n",
              "      <td>20677.0</td>\n",
              "      <td>1443.0</td>\n",
              "      <td>15.236175</td>\n",
              "      <td>6127.384238</td>\n",
              "      <td>0.0</td>\n",
              "      <td>0.0</td>\n",
              "    </tr>\n",
              "    <tr>\n",
              "      <th>2023-12-31</th>\n",
              "      <td>23.0</td>\n",
              "      <td>5736.676233</td>\n",
              "      <td>0.0</td>\n",
              "      <td>313725.30</td>\n",
              "      <td>28868.0</td>\n",
              "      <td>1628.0</td>\n",
              "      <td>10.631705</td>\n",
              "      <td>6127.384238</td>\n",
              "      <td>0.0</td>\n",
              "      <td>0.0</td>\n",
              "    </tr>\n",
              "    <tr>\n",
              "      <th>2024-01-31</th>\n",
              "      <td>24.0</td>\n",
              "      <td>5736.676233</td>\n",
              "      <td>0.0</td>\n",
              "      <td>249158.97</td>\n",
              "      <td>29644.0</td>\n",
              "      <td>1696.0</td>\n",
              "      <td>7.363303</td>\n",
              "      <td>6127.384238</td>\n",
              "      <td>0.0</td>\n",
              "      <td>0.0</td>\n",
              "    </tr>\n",
              "    <tr>\n",
              "      <th>2024-02-28</th>\n",
              "      <td>19.0</td>\n",
              "      <td>5767.319998</td>\n",
              "      <td>0.0</td>\n",
              "      <td>222261.04</td>\n",
              "      <td>25218.0</td>\n",
              "      <td>1604.0</td>\n",
              "      <td>5.626715</td>\n",
              "      <td>6127.384238</td>\n",
              "      <td>0.0</td>\n",
              "      <td>0.0</td>\n",
              "    </tr>\n",
              "    <tr>\n",
              "      <th>2024-03-31</th>\n",
              "      <td>16.0</td>\n",
              "      <td>5807.539940</td>\n",
              "      <td>0.0</td>\n",
              "      <td>219707.61</td>\n",
              "      <td>26706.0</td>\n",
              "      <td>1601.0</td>\n",
              "      <td>6.241679</td>\n",
              "      <td>6127.384238</td>\n",
              "      <td>21.0</td>\n",
              "      <td>0.0</td>\n",
              "    </tr>\n",
              "  </tbody>\n",
              "</table>\n",
              "</div>"
            ],
            "text/plain": [
              "            MIN_TEMPERATURE_C_t_36  ...  max_pdl_daily_load_t\n",
              "time                                ...                      \n",
              "2023-11-30                    20.0  ...                   0.0\n",
              "2023-12-31                    23.0  ...                   0.0\n",
              "2024-01-31                    24.0  ...                   0.0\n",
              "2024-02-28                    19.0  ...                   0.0\n",
              "2024-03-31                    16.0  ...                   0.0\n",
              "\n",
              "[5 rows x 10 columns]"
            ]
          },
          "metadata": {},
          "execution_count": 21
        }
      ]
    },
    {
      "cell_type": "markdown",
      "metadata": {
        "id": "nKJF4X2nAnXL"
      },
      "source": [
        "# make future forecasts until 2024 using the best performing model: weighted ensemble model which has a winter MAPE equal to 1.55%"
      ]
    },
    {
      "cell_type": "markdown",
      "metadata": {
        "id": "Euh_8wJAYE7i"
      },
      "source": [
        "\n",
        "\n",
        "*   Ridge(alpha=0.3, copy_X=True, fit_intercept=True, max_iter=None,normalize=False, random_state=None, solver='lsqr', tol=0.001)\n",
        "*   SVR(C=1.5, cache_size=200, coef0=0.0, degree=1, epsilon=1e-05, gamma='auto',kernel='rbf', max_iter=-1, shrinking=True, tol=0.001, verbose=False)\n",
        "\n"
      ]
    },
    {
      "cell_type": "code",
      "metadata": {
        "id": "PJs1niaYIYyu"
      },
      "source": [
        "scaler = MinMaxScaler(feature_range=(0, 1))\n",
        "data_scaled = scaler.fit_transform(data)"
      ],
      "execution_count": null,
      "outputs": []
    },
    {
      "cell_type": "code",
      "metadata": {
        "id": "tyiYsmvkIYy6"
      },
      "source": [
        "features=data_scaled[:,:-1]\n",
        "target=data_scaled[:,-1]"
      ],
      "execution_count": null,
      "outputs": []
    },
    {
      "cell_type": "code",
      "metadata": {
        "id": "3DwyD0ScIYy7"
      },
      "source": [
        "# split into train and test sets\n",
        "\n",
        "n_train_days = 44 #n_train_months\n",
        "\n",
        "X_train,y_train = features[:n_train_days, :],target[:n_train_days]\n",
        "X_test, y_test = features[n_train_days:, :],target[n_train_days:]\n",
        "\n"
      ],
      "execution_count": null,
      "outputs": []
    },
    {
      "cell_type": "code",
      "metadata": {
        "id": "6AWyekCLBy5U"
      },
      "source": [
        "# get a list of base models\n",
        "def get_models():\n",
        "  models = list()\n",
        "  models.append(('ridge', Ridge(alpha=0.3, copy_X=True, fit_intercept=True, max_iter=None,\n",
        "                                normalize=False, random_state=None, solver='lsqr', tol=0.001)))\n",
        "\n",
        "  models.append(('svr', SVR(C=1.5, cache_size=200, coef0=0.0, degree=1, epsilon=1e-05, gamma='auto',\n",
        "                            kernel='rbf', max_iter=-1, shrinking=True, tol=0.001, verbose=False)))\n",
        "  return models\n"
      ],
      "execution_count": null,
      "outputs": []
    },
    {
      "cell_type": "markdown",
      "metadata": {
        "id": "AfQTGULZUZS6"
      },
      "source": [
        "https://colab.research.google.com/drive/1frLBCHhNaBnkliLLatq-C_EPnRcfGqXd"
      ]
    },
    {
      "cell_type": "code",
      "metadata": {
        "id": "8Ho2Zq_uBzAU"
      },
      "source": [
        "##############\n",
        "# create the base models\n",
        "models = get_models()\n",
        "###############\n",
        "# create the ensemble\n",
        "#weights of the ensembling model were determined in the notebook of the link above\n",
        "weighted_ensemble = VotingRegressor(estimators=models, weights=[2,1])\n",
        "# fit the ensemble on the training dataset: until 08-2021 (max date of PDL data)\n",
        "weighted_ensemble.fit(X_train, y_train)\n",
        "# make predictions on test set\n",
        "weighted_yhat = weighted_ensemble.predict(X_test)\n",
        "yhat=weighted_yhat.reshape(weighted_yhat.shape[0],1)\n",
        "X_test = X_test.reshape((X_test.shape[0], X_test.shape[1]))\n",
        "inv_yhat = concatenate((X_test,yhat), axis=1)\n",
        "inv_yhat = scaler.inverse_transform(inv_yhat)\n",
        "weighted_inv_yhat = inv_yhat[:,-1]\n",
        "\n",
        "\n"
      ],
      "execution_count": null,
      "outputs": []
    },
    {
      "cell_type": "code",
      "metadata": {
        "colab": {
          "base_uri": "https://localhost:8080/"
        },
        "id": "1TSstWAGLRGc",
        "outputId": "6ebb919a-d558-4189-f13f-0986a16db5f5"
      },
      "source": [
        "#print the max value of the forecasted gas peak demand\n",
        "print(weighted_inv_yhat.max())\n",
        "print(weighted_inv_yhat.argmax())\n",
        "#the max value of the forecasting happens in March 2024 "
      ],
      "execution_count": null,
      "outputs": [
        {
          "output_type": "stream",
          "text": [
            "1916.9412200419283\n",
            "30\n"
          ],
          "name": "stdout"
        }
      ]
    },
    {
      "cell_type": "code",
      "metadata": {
        "colab": {
          "base_uri": "https://localhost:8080/",
          "height": 281
        },
        "id": "hvrTq3W8RLkP",
        "outputId": "1022fceb-eebb-4625-9cb0-61f83f371740"
      },
      "source": [
        "# plot baseline and predictions\n",
        "time=data.index\n",
        "#plt.plot(time,inv_y,label='actual')\n",
        "plt.plot(time[:44],data['max_pdl_daily_load_t'][:44],label=\"train\")\n",
        "plt.plot(time[44:],weighted_inv_yhat,label=\"forecasting\")\n",
        "plt.title('forecasting Mseken peak demand until 2024')\n",
        "plt.legend()\n",
        "locator = mdates.AutoDateLocator()\n",
        "fmt = mdates.DateFormatter('%m/%y')\n",
        "X = plt.gca().xaxis\n",
        "X.set_major_locator(locator)\n",
        "# Specify formatter\n",
        "X.set_major_formatter(fmt)\n",
        "plt.show()"
      ],
      "execution_count": null,
      "outputs": [
        {
          "output_type": "display_data",
          "data": {
            "image/png": "[encoded data removed]",
            "text/plain": [
              "<Figure size 432x288 with 1 Axes>"
            ]
          },
          "metadata": {
            "needs_background": "light"
          }
        }
      ]
    }
  ]
}