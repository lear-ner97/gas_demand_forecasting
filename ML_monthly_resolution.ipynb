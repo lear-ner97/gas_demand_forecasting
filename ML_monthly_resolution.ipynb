{
  "nbformat": 4,
  "nbformat_minor": 0,
  "metadata": {
    "colab": {
      "name": "ML_monthly_resolution.ipynb",
      "provenance": [],
      "collapsed_sections": [],
      "toc_visible": true
    },
    "kernelspec": {
      "name": "python3",
      "display_name": "Python 3"
    },
    "language_info": {
      "name": "python"
    }
  },
  "cells": [
    {
      "cell_type": "markdown",
      "metadata": {
        "id": "GgMrPZLBHnOo"
      },
      "source": [
        "# this notebook represents long-term forecasting(3years) with monthly resolution using ML models"
      ]
    },
    {
      "cell_type": "markdown",
      "metadata": {
        "id": "IKIY1WhO8z57"
      },
      "source": [
        "refs:\n",
        "\n",
        "\n",
        "1.   https://towardsdatascience.com/how-not-to-use-machine-learning-for-time-series-forecasting-avoiding-the-pitfalls-19f9d7adf424\n",
        "2.   (sklearn)https://towardsdatascience.com/time-series-modeling-using-scikit-pandas-and-numpy-682e3b8db8d1\n",
        "3.   https://towardsdatascience.com/sktime-a-unified-python-library-for-time-series-machine-learning-3c103c139a55\n",
        "4.   https://stackoverflow.com/questions/63517126/any-way-to-predict-monthly-time-series-with-scikit-learn-in-python\n",
        "5.   https://paperswithcode.com/paper/forecasting-foreign-exchange-rate-a\n",
        "6. https://github.com/alan-turing-institute/sktime/blob/main/examples/01_forecasting.ipynb\n",
        "7. https://arxiv.org/pdf/2005.08067.pdf (sktime paper-metrics p9)\n",
        "\n",
        "\n",
        "\n",
        "\n",
        "\n",
        "\n"
      ]
    },
    {
      "cell_type": "markdown",
      "metadata": {
        "id": "2iMMCpIyL46i"
      },
      "source": [
        "fine tuning RF : \n",
        "\n",
        "*   https://towardsdatascience.com/hyperparameter-tuning-the-random-forest-in-python-using-scikit-learn-28d2aa77dd74\n",
        "*   xgboost: https://machinelearningmastery.com/xgboost-for-time-series-forecasting/\n",
        "* to read: https://towardsdatascience.com/random-forest-hyperparameters-and-how-to-fine-tune-them-17aee785ee0d \n",
        "\n"
      ]
    },
    {
      "cell_type": "markdown",
      "metadata": {
        "id": "V3mfVfCumG9k"
      },
      "source": [
        "Regarding a machine learning paper, consider starting by reviewing papers related to your work (Google Scholar may help) and write a section about it (keep in mind how your work relates to them and what innovation it brings to the field, and write about it). Then write sections for describing your dataset(s), for describing your algorithms and methodology, and why you have selected them. Also, don’t forget to write about your results (you will see how a machine learning paper is organized by reviewing other papers anyway).\n",
        "\n",
        "At the end, get ready to answer the reviews you will receive some time after submitting.\n",
        "\n",
        "It would be easier if you already have academic experience on researching or if you have a professor or experienced researcher to advise you with that. Also, at least talk to someone with academic experience to advise you WHERE you should submit your paper, given your work subject.\n",
        "\n",
        "In summary: yes, you can! But it will be a lot easier if you have an advisor, at least…\n",
        "\n",
        "\n"
      ]
    },
    {
      "cell_type": "markdown",
      "metadata": {
        "id": "yYirXA1MqJYx"
      },
      "source": [
        "One also needs to choose the journal which is most suited to the subject field of the article. Is the article a review article or a piece of original investigation? Does the study provide incremental gains in knowledge or is there something exceptionally novel to report? Journals and fields will vary in what they consider appropriate and which formats they publish.\n",
        "\n",
        "Depending on the journal, choosing an appropriate editor(s) is the final step. There may be a list of editors and reviewers to choose from and it makes sense to choose someone who works in a closely related field."
      ]
    },
    {
      "cell_type": "markdown",
      "metadata": {
        "id": "jafUzMrprfnK"
      },
      "source": [
        "The stages of publishing research may differ by field and publisher, but broadly you'll follow these steps:\n",
        "\n",
        "Do the research\n",
        "Decide what research results you want to publish together as an account of your research findings. This should be decided independently of the direction of the results, i.e. whether or not you got the results you wanted.\n",
        "Discuss authorship with those who contributed to the research\n",
        "Draft the text, tables and figures and work with all the authors on revising and editing the paper. Anyone involved in this process who is not an author should be acknowledged.\n",
        "Optionally, get feedback from colleagues about the manuscript\n",
        "Optionally, get the paper edited by a language editing service\n",
        "Get approval from all the authors of the version to be submitted\n",
        "Agree among the authors where you will submit and how any page charges or article processing charges will be paid\n",
        "Have the underlying data and any code ready to share on request or ideally deposit this publicly. Also have documentation such as of ethics approval ready.\n",
        "Prepare a cover letter and the manuscript files\n",
        "Read the instructions for authors of the target journal, check you comply with their policies\n",
        "Submit the article via the online submission\n",
        "The article will undergo different initials checks / triage depending on the journal, such as scope or issues like reporting.\n",
        "If the paper is not rejected, it will be assigned to an editor, either a staff editor or an academic editor. In some journals, the Editor-in-Chief decides this allocation.\n",
        "The editor will decide if the paper is suitable for peer review. If not, they may reject the paper (often called a “desk reject”) or ask for revisions. Some journals discuss decisions or require approval by the EiC or a section editor, others give individual editors autonomy in their decisions.\n",
        "Most journals require peer review before a paper can be accepted, though some rely on editorial review. Peer reviewers are experts in the topic and/or methods of the research. They may be selected from a database of reviewers, researchers the editors knows of themselves, or chosen based on their publication record.\n",
        "Potential reviewers are asked to review, usually by email but occasionally by phone. If they agree, they will be sent the paper and given anything from a few days to several weeks to submit their review. The number of reviewers is usually two or three, but can vary. If reviewers decline, they may suggest alternatives. Publishing staff often support editors in this process.\n",
        "Reviewers will usually send their comments via the online system or email. They might be asked to answer specific questions and are often asked about their recommendation (accept/revise/reject).\n",
        "Once the editor has enough reviews, they will make their decision based on the reviews, the journal guidelines, and their own assessment of the paper and the reviewers' expertise. The editor may be able to overrule the reviewers. Their decision might need to be approved or discussed. They will send their decision, usually by email, to the authors.\n",
        "If the article needs revisions, the authors will be asked to resubmit by a certain date. That deadline can often be extended. Authors might need to do more research, a reanalysis, or revise the language.\n",
        "If the article is rejected, the authors might appeal the decision or be allowed to resubmit to the same journal if they address all the editor and reviewer concerns. Otherwise, go back to step 10 at the next journal of the authors' choice.\n",
        "If revised, editor might make the next decision themselves or send the paper for re-review\n",
        "Once accepted, the paper might be posted publicly as an “in press” version or this might wait until production is complete\n",
        "During production, typesetting, formatting, copyediting and other checks will be performed by the publisher\n",
        "The final article is then formally published, usually as HTML and/or PDF, and sent to indexing services"
      ]
    },
    {
      "cell_type": "code",
      "metadata": {
        "id": "scyRsTjNg2Jt"
      },
      "source": [
        "#ref 1\n",
        "#make zoom on pred vs test data\n",
        "#make cross-correlation between pred-test data\n",
        "#dont be overconfident with traditional accuracy metrics : r2, mae,...\n",
        "#ref2\n",
        "#A better alternative for cross validation on time series data (than K-fold CV) is \n",
        "#Forward Chaining strategy.\n",
        "\n",
        "#sktime tuto github [6]\n",
        "#1.2.1, 1.2.2, 1.3, 1.4.1, 3.3(tuning), 3.4 (ensembling)\n",
        "#LSTM can overcome the problem of back-propagated error decay through memory blocks of LSTM. In \n",
        "#contrast, MLP) models very often face the problem ofoverfitting, backpropagated error decay, \n",
        "#and it cannot automatically determine the optimal time lags while fitting time-series data[5]\n",
        "\n",
        "#ML mastery: xgboost, Random Forest"
      ],
      "execution_count": null,
      "outputs": []
    },
    {
      "cell_type": "code",
      "metadata": {
        "id": "1HRWeLc2Gc10"
      },
      "source": [
        "\n",
        "from numpy import argsort\n",
        "from sklearn.model_selection import GridSearchCV\n",
        "from sklearn.metrics import mean_absolute_error\n",
        "from sklearn.ensemble import VotingRegressor\n",
        "import pandas as pd\n",
        "from sklearn.preprocessing import MinMaxScaler\n",
        "from numpy import concatenate\n",
        "from sklearn.model_selection import TimeSeriesSplit\n",
        "from xgboost import XGBRegressor\n",
        "from sklearn.model_selection import cross_val_score\n",
        "import matplotlib.pyplot as plt\n",
        "from sklearn.linear_model import LinearRegression\n",
        "from sklearn.neural_network import MLPRegressor\n",
        "from sklearn.neighbors import KNeighborsRegressor\n",
        "from sklearn.ensemble import RandomForestRegressor\n",
        "from sklearn.gaussian_process import GaussianProcessRegressor\n",
        "from sklearn.linear_model import Ridge\n",
        "from sklearn import linear_model\n",
        "from sklearn.svm import SVR\n",
        "from sklearn.linear_model import ElasticNet\n",
        "import sklearn\n",
        "from sklearn import metrics\n",
        "import numpy as np\n",
        "import matplotlib.dates as mdates"
      ],
      "execution_count": null,
      "outputs": []
    },
    {
      "cell_type": "code",
      "metadata": {
        "id": "pAw-KeR0XqqF",
        "colab": {
          "base_uri": "https://localhost:8080/"
        },
        "outputId": "c39f1cf9-e4bc-4bb3-9f79-38fb318dfadb"
      },
      "source": [
        "#read multivariate data\n",
        "df=pd.read_csv('/content/clean_monthly_df_human.csv')\n",
        "df.time=pd.to_datetime(df.time,dayfirst=True)\n",
        "df.columns"
      ],
      "execution_count": null,
      "outputs": [
        {
          "output_type": "execute_result",
          "data": {
            "text/plain": [
              "Index(['time', 'MIN_TEMPERATURE_C_t_36', 'max_clients_month_t_36',\n",
              "       'total_Holiday_Food_Related_t_36', 'total_consommation_t_36',\n",
              "       'max_pdl_total_daily_load_t_36', 'max_pdl_daily_load_t_36',\n",
              "       'MIN_TEMPERATURE_C_t', 'max_clients_month_t',\n",
              "       'total_Holiday_Food_Related_t', 'max_pdl_daily_load_t'],\n",
              "      dtype='object')"
            ]
          },
          "metadata": {},
          "execution_count": 41
        }
      ]
    },
    {
      "cell_type": "code",
      "metadata": {
        "id": "wgKOf0xp8ZFC"
      },
      "source": [
        "data=pd.read_csv('/content/clean_monthly_df_human.csv',\n",
        "                 index_col='time')[['MIN_TEMPERATURE_C_t_36', 'max_clients_month_t_36',\n",
        "       'total_Holiday_Food_Related_t_36', 'total_consommation_t_36',\n",
        "       'max_pdl_total_daily_load_t_36', 'max_pdl_daily_load_t_36',\n",
        "       \n",
        "       'MIN_TEMPERATURE_C_t', 'max_clients_month_t',\n",
        "       'total_Holiday_Food_Related_t', 'max_pdl_daily_load_t']].dropna()\n"
      ],
      "execution_count": null,
      "outputs": []
    },
    {
      "cell_type": "code",
      "metadata": {
        "colab": {
          "base_uri": "https://localhost:8080/"
        },
        "id": "e9QfJ8FPyGYL",
        "outputId": "f15f29c6-6ece-4384-96d5-dd2fd3cb9545"
      },
      "source": [
        "data.shape"
      ],
      "execution_count": null,
      "outputs": [
        {
          "output_type": "execute_result",
          "data": {
            "text/plain": [
              "(31, 10)"
            ]
          },
          "metadata": {},
          "execution_count": 43
        }
      ]
    },
    {
      "cell_type": "code",
      "metadata": {
        "id": "dRaIduTRqmPq"
      },
      "source": [
        "data.index=pd.to_datetime(data.index,dayfirst=True)"
      ],
      "execution_count": null,
      "outputs": []
    },
    {
      "cell_type": "code",
      "metadata": {
        "colab": {
          "base_uri": "https://localhost:8080/",
          "height": 343
        },
        "id": "XOKVBlf2-uTH",
        "outputId": "6f7c9c47-2cfe-4428-a077-cb83c47b1449"
      },
      "source": [
        "data.head()"
      ],
      "execution_count": null,
      "outputs": [
        {
          "output_type": "execute_result",
          "data": {
            "text/html": [
              "<div>\n",
              "<style scoped>\n",
              "    .dataframe tbody tr th:only-of-type {\n",
              "        vertical-align: middle;\n",
              "    }\n",
              "\n",
              "    .dataframe tbody tr th {\n",
              "        vertical-align: top;\n",
              "    }\n",
              "\n",
              "    .dataframe thead th {\n",
              "        text-align: right;\n",
              "    }\n",
              "</style>\n",
              "<table border=\"1\" class=\"dataframe\">\n",
              "  <thead>\n",
              "    <tr style=\"text-align: right;\">\n",
              "      <th></th>\n",
              "      <th>MIN_TEMPERATURE_C_t_36</th>\n",
              "      <th>max_clients_month_t_36</th>\n",
              "      <th>total_Holiday_Food_Related_t_36</th>\n",
              "      <th>total_consommation_t_36</th>\n",
              "      <th>max_pdl_total_daily_load_t_36</th>\n",
              "      <th>max_pdl_daily_load_t_36</th>\n",
              "      <th>MIN_TEMPERATURE_C_t</th>\n",
              "      <th>max_clients_month_t</th>\n",
              "      <th>total_Holiday_Food_Related_t</th>\n",
              "      <th>max_pdl_daily_load_t</th>\n",
              "    </tr>\n",
              "    <tr>\n",
              "      <th>time</th>\n",
              "      <th></th>\n",
              "      <th></th>\n",
              "      <th></th>\n",
              "      <th></th>\n",
              "      <th></th>\n",
              "      <th></th>\n",
              "      <th></th>\n",
              "      <th></th>\n",
              "      <th></th>\n",
              "      <th></th>\n",
              "    </tr>\n",
              "  </thead>\n",
              "  <tbody>\n",
              "    <tr>\n",
              "      <th>2018-01-31</th>\n",
              "      <td>8.0</td>\n",
              "      <td>3980.0</td>\n",
              "      <td>2.0</td>\n",
              "      <td>247497.63</td>\n",
              "      <td>22257.0</td>\n",
              "      <td>1479.0</td>\n",
              "      <td>11.0</td>\n",
              "      <td>4869.0</td>\n",
              "      <td>1.0</td>\n",
              "      <td>1447.0</td>\n",
              "    </tr>\n",
              "    <tr>\n",
              "      <th>2018-02-28</th>\n",
              "      <td>11.0</td>\n",
              "      <td>4023.0</td>\n",
              "      <td>0.0</td>\n",
              "      <td>263249.88</td>\n",
              "      <td>22242.0</td>\n",
              "      <td>1494.0</td>\n",
              "      <td>11.0</td>\n",
              "      <td>4901.0</td>\n",
              "      <td>0.0</td>\n",
              "      <td>1472.0</td>\n",
              "    </tr>\n",
              "    <tr>\n",
              "      <th>2018-03-31</th>\n",
              "      <td>12.0</td>\n",
              "      <td>4060.0</td>\n",
              "      <td>0.0</td>\n",
              "      <td>246311.89</td>\n",
              "      <td>21691.0</td>\n",
              "      <td>1551.0</td>\n",
              "      <td>11.0</td>\n",
              "      <td>4943.0</td>\n",
              "      <td>0.0</td>\n",
              "      <td>1307.0</td>\n",
              "    </tr>\n",
              "    <tr>\n",
              "      <th>2018-04-30</th>\n",
              "      <td>14.0</td>\n",
              "      <td>4094.0</td>\n",
              "      <td>0.0</td>\n",
              "      <td>237177.99</td>\n",
              "      <td>16752.0</td>\n",
              "      <td>1253.0</td>\n",
              "      <td>15.0</td>\n",
              "      <td>4964.0</td>\n",
              "      <td>0.0</td>\n",
              "      <td>1232.0</td>\n",
              "    </tr>\n",
              "    <tr>\n",
              "      <th>2018-05-31</th>\n",
              "      <td>19.0</td>\n",
              "      <td>4112.0</td>\n",
              "      <td>0.0</td>\n",
              "      <td>229106.03</td>\n",
              "      <td>12318.0</td>\n",
              "      <td>1123.0</td>\n",
              "      <td>17.0</td>\n",
              "      <td>5020.0</td>\n",
              "      <td>15.0</td>\n",
              "      <td>1494.0</td>\n",
              "    </tr>\n",
              "  </tbody>\n",
              "</table>\n",
              "</div>"
            ],
            "text/plain": [
              "            MIN_TEMPERATURE_C_t_36  ...  max_pdl_daily_load_t\n",
              "time                                ...                      \n",
              "2018-01-31                     8.0  ...                1447.0\n",
              "2018-02-28                    11.0  ...                1472.0\n",
              "2018-03-31                    12.0  ...                1307.0\n",
              "2018-04-30                    14.0  ...                1232.0\n",
              "2018-05-31                    19.0  ...                1494.0\n",
              "\n",
              "[5 rows x 10 columns]"
            ]
          },
          "metadata": {},
          "execution_count": 45
        }
      ]
    },
    {
      "cell_type": "code",
      "metadata": {
        "colab": {
          "base_uri": "https://localhost:8080/",
          "height": 343
        },
        "id": "xktaLYwMkSPU",
        "outputId": "6b5f4f84-16ce-48ad-a9a8-f0fc2e6d10fd"
      },
      "source": [
        "data.tail()"
      ],
      "execution_count": null,
      "outputs": [
        {
          "output_type": "execute_result",
          "data": {
            "text/html": [
              "<div>\n",
              "<style scoped>\n",
              "    .dataframe tbody tr th:only-of-type {\n",
              "        vertical-align: middle;\n",
              "    }\n",
              "\n",
              "    .dataframe tbody tr th {\n",
              "        vertical-align: top;\n",
              "    }\n",
              "\n",
              "    .dataframe thead th {\n",
              "        text-align: right;\n",
              "    }\n",
              "</style>\n",
              "<table border=\"1\" class=\"dataframe\">\n",
              "  <thead>\n",
              "    <tr style=\"text-align: right;\">\n",
              "      <th></th>\n",
              "      <th>MIN_TEMPERATURE_C_t_36</th>\n",
              "      <th>max_clients_month_t_36</th>\n",
              "      <th>total_Holiday_Food_Related_t_36</th>\n",
              "      <th>total_consommation_t_36</th>\n",
              "      <th>max_pdl_total_daily_load_t_36</th>\n",
              "      <th>max_pdl_daily_load_t_36</th>\n",
              "      <th>MIN_TEMPERATURE_C_t</th>\n",
              "      <th>max_clients_month_t</th>\n",
              "      <th>total_Holiday_Food_Related_t</th>\n",
              "      <th>max_pdl_daily_load_t</th>\n",
              "    </tr>\n",
              "    <tr>\n",
              "      <th>time</th>\n",
              "      <th></th>\n",
              "      <th></th>\n",
              "      <th></th>\n",
              "      <th></th>\n",
              "      <th></th>\n",
              "      <th></th>\n",
              "      <th></th>\n",
              "      <th></th>\n",
              "      <th></th>\n",
              "      <th></th>\n",
              "    </tr>\n",
              "  </thead>\n",
              "  <tbody>\n",
              "    <tr>\n",
              "      <th>2020-03-31</th>\n",
              "      <td>12.0</td>\n",
              "      <td>4640.0</td>\n",
              "      <td>0.0</td>\n",
              "      <td>281676.57</td>\n",
              "      <td>17035.0</td>\n",
              "      <td>1276.0</td>\n",
              "      <td>9.0</td>\n",
              "      <td>5321.0</td>\n",
              "      <td>0.0</td>\n",
              "      <td>1463.0</td>\n",
              "    </tr>\n",
              "    <tr>\n",
              "      <th>2020-04-30</th>\n",
              "      <td>15.0</td>\n",
              "      <td>4654.0</td>\n",
              "      <td>0.0</td>\n",
              "      <td>236206.38</td>\n",
              "      <td>15536.0</td>\n",
              "      <td>1200.0</td>\n",
              "      <td>12.0</td>\n",
              "      <td>5324.0</td>\n",
              "      <td>7.0</td>\n",
              "      <td>1599.0</td>\n",
              "    </tr>\n",
              "    <tr>\n",
              "      <th>2020-05-31</th>\n",
              "      <td>19.0</td>\n",
              "      <td>4688.0</td>\n",
              "      <td>5.0</td>\n",
              "      <td>224129.16</td>\n",
              "      <td>13926.0</td>\n",
              "      <td>1271.0</td>\n",
              "      <td>18.0</td>\n",
              "      <td>5326.0</td>\n",
              "      <td>26.0</td>\n",
              "      <td>1400.0</td>\n",
              "    </tr>\n",
              "    <tr>\n",
              "      <th>2020-06-30</th>\n",
              "      <td>22.0</td>\n",
              "      <td>4705.0</td>\n",
              "      <td>28.0</td>\n",
              "      <td>201208.24</td>\n",
              "      <td>10850.0</td>\n",
              "      <td>1201.0</td>\n",
              "      <td>20.0</td>\n",
              "      <td>5324.0</td>\n",
              "      <td>0.0</td>\n",
              "      <td>1105.0</td>\n",
              "    </tr>\n",
              "    <tr>\n",
              "      <th>2020-07-31</th>\n",
              "      <td>25.0</td>\n",
              "      <td>4733.0</td>\n",
              "      <td>0.0</td>\n",
              "      <td>202995.06</td>\n",
              "      <td>9615.0</td>\n",
              "      <td>892.0</td>\n",
              "      <td>23.0</td>\n",
              "      <td>5277.0</td>\n",
              "      <td>1.0</td>\n",
              "      <td>1084.0</td>\n",
              "    </tr>\n",
              "  </tbody>\n",
              "</table>\n",
              "</div>"
            ],
            "text/plain": [
              "            MIN_TEMPERATURE_C_t_36  ...  max_pdl_daily_load_t\n",
              "time                                ...                      \n",
              "2020-03-31                    12.0  ...                1463.0\n",
              "2020-04-30                    15.0  ...                1599.0\n",
              "2020-05-31                    19.0  ...                1400.0\n",
              "2020-06-30                    22.0  ...                1105.0\n",
              "2020-07-31                    25.0  ...                1084.0\n",
              "\n",
              "[5 rows x 10 columns]"
            ]
          },
          "metadata": {},
          "execution_count": 46
        }
      ]
    },
    {
      "cell_type": "markdown",
      "metadata": {
        "id": "MmwYalon6Y4C"
      },
      "source": [
        "# data scaling made difference and improved the performance of some ML models (KNN, SVR, Ridge), but scaling is not required for decision tree based models (decision tree, random forest, xgboost,..) https://towardsdatascience.com/do-decision-trees-need-feature-scaling-97809eaa60c6"
      ]
    },
    {
      "cell_type": "code",
      "metadata": {
        "id": "gdnkSpWaENYQ"
      },
      "source": [
        "scaler = MinMaxScaler(feature_range=(0, 1))\n",
        "data_scaled = scaler.fit_transform(data)"
      ],
      "execution_count": null,
      "outputs": []
    },
    {
      "cell_type": "code",
      "metadata": {
        "id": "IEZuMY99zfLU"
      },
      "source": [
        "features=data_scaled[:,:-1]\n",
        "target=data_scaled[:,-1]"
      ],
      "execution_count": null,
      "outputs": []
    },
    {
      "cell_type": "code",
      "metadata": {
        "colab": {
          "base_uri": "https://localhost:8080/"
        },
        "id": "7hl4R0yGZqOI",
        "outputId": "f775e143-59d9-4666-c9c7-6fb90b1b1dac"
      },
      "source": [
        "features.shape"
      ],
      "execution_count": null,
      "outputs": [
        {
          "output_type": "execute_result",
          "data": {
            "text/plain": [
              "(31, 9)"
            ]
          },
          "metadata": {},
          "execution_count": 49
        }
      ]
    },
    {
      "cell_type": "code",
      "metadata": {
        "id": "nDaUCPH6njFx"
      },
      "source": [
        "# split into train and test sets\n",
        "\n",
        "n_train_days = -7\n",
        "\n",
        "X_train,y_train = features[:n_train_days, :],target[:n_train_days]\n",
        "X_test, y_test = features[n_train_days:, :],target[n_train_days:]\n",
        "\n"
      ],
      "execution_count": null,
      "outputs": []
    },
    {
      "cell_type": "code",
      "metadata": {
        "id": "KmrKiF8_LVs6"
      },
      "source": [
        "def timeseries_evaluation_metrics_func(y_true, y_pred):\n",
        "  def mean_absolute_percentage_error(y_true, y_pred):\n",
        "    y_true, y_pred = np.array(y_true), np.array(y_pred)\n",
        "    return np.mean(np.abs((y_true - y_pred) / y_true)) * 100\n",
        "  def smape(y_true,y_pred):\n",
        "    y_true, y_pred = np.array(y_true), np.array(y_pred)\n",
        "    return 2/y_true.shape[0]*np.sum(np.abs(y_true-y_pred))/np.sum((np.abs(y_true)+np.abs(y_pred)))*100\n",
        "  def mase(y_true,y_pred):\n",
        "    y_true, y_pred = np.array(y_true), np.array(y_pred)\n",
        "    naive_pred=y_true[1:]\n",
        "    return 1/y_true.shape[0]*np.sum(np.abs(y_true-y_pred))/np.sum(np.abs(y_true[:len(y_true)-1]-naive_pred))*(y_true.shape[0]-1)\n",
        "  #def owe(y_true,y_pred):\n",
        "   # return (mase(y_true,y_pred)+smape(y_true,y_pred))/2\n",
        "\n",
        "  print('Evaluation metric results:-')\n",
        "  print(f'MSE is : {metrics.mean_squared_error(y_true, y_pred)}')\n",
        "  print(f'MAE is : {metrics.mean_absolute_error(y_true, y_pred)}')\n",
        "  rmse=np.sqrt(metrics.mean_squared_error(y_true, y_pred))\n",
        "  print(f'RMSE is : {rmse}')\n",
        "  mape=mean_absolute_percentage_error(y_true, y_pred)\n",
        "  print(f'MAPE is : {mape} %')\n",
        "  r2=metrics.r2_score(y_true, y_pred)\n",
        "  print(f'R2 is : {r2}',end='\\n\\n')\n",
        "  print('SMAPE is : '+str(smape(y_true,y_pred))+'\\n')\n",
        "  print('MASE is : '+str(mase(y_true,y_pred)))\n",
        "  #model_scores[model_name] = [rmse, mape, r2]\n",
        "  return"
      ],
      "execution_count": null,
      "outputs": []
    },
    {
      "cell_type": "code",
      "metadata": {
        "colab": {
          "base_uri": "https://localhost:8080/"
        },
        "id": "o0gtYxCKB8cy",
        "outputId": "6492ec5e-5f5f-4811-f0b6-b4bc30919761"
      },
      "source": [
        "!pip install xgboost"
      ],
      "execution_count": null,
      "outputs": [
        {
          "output_type": "stream",
          "text": [
            "Requirement already satisfied: xgboost in /usr/local/lib/python3.7/dist-packages (0.90)\n",
            "Requirement already satisfied: scipy in /usr/local/lib/python3.7/dist-packages (from xgboost) (1.4.1)\n",
            "Requirement already satisfied: numpy in /usr/local/lib/python3.7/dist-packages (from xgboost) (1.19.5)\n"
          ],
          "name": "stdout"
        }
      ]
    },
    {
      "cell_type": "code",
      "metadata": {
        "colab": {
          "base_uri": "https://localhost:8080/",
          "height": 436
        },
        "id": "5z6WpGP7BWs8",
        "outputId": "5e391e9a-b44e-4106-81ed-1905e0d042c6"
      },
      "source": [
        "# ML models to test\n",
        "models = []\n",
        "models.append(('LR', LinearRegression()))\n",
        "models.append(('Ridge R',Ridge()))\n",
        "models.append(('lasso',linear_model.Lasso()))\n",
        "models.append(('elastic net',ElasticNet()))\n",
        "#models.append(('GP',GaussianProcessRegressor())) (very poor)\n",
        "models.append(('NN', MLPRegressor(solver = 'lbfgs')))  #neural network\n",
        "models.append(('KNN', KNeighborsRegressor())) \n",
        "models.append(('RF', RandomForestRegressor(n_estimators = 1000))) # Ensemble method - collection of many decision trees\n",
        "models.append(('SVR', SVR(gamma='auto'))) # kernel = linear\n",
        "models.append(('Xgboost',XGBRegressor(objective='reg:squarederror', n_estimators=1000)))\n",
        "# Evaluate each model in turn\n",
        "results = []\n",
        "names = []\n",
        "for name, model in models:\n",
        "    # TimeSeries Cross validation\n",
        "  tscv = TimeSeriesSplit(n_splits=2)#4seasons in year\n",
        "    #n_splits=3 : because in train data there are 3 steps of prediction\n",
        "    #1-2016 features -->predict 2017; 2-16,17-->predict 18; 3-16,17,18-->predict 19\n",
        "  cv_results = cross_val_score(model, X_train, y_train, cv=tscv, scoring='r2')\n",
        "  results.append(cv_results)\n",
        "  names.append(name)\n",
        "  print('%s: %f (%f)' % (name, cv_results.mean(), cv_results.std()))\n",
        "    \n",
        "# Compare Algorithms\n",
        "plt.boxplot(results, labels=names)\n",
        "plt.title('Algorithm Comparison')\n",
        "plt.show()\n"
      ],
      "execution_count": null,
      "outputs": [
        {
          "output_type": "stream",
          "text": [
            "LR: -3.130378 (3.141949)\n",
            "Ridge R: 0.566296 (0.178686)\n",
            "lasso: -0.077513 (0.012717)\n",
            "elastic net: -0.077513 (0.012717)\n",
            "NN: -0.503156 (0.405610)\n",
            "KNN: 0.567944 (0.070426)\n",
            "RF: 0.307490 (0.217689)\n",
            "SVR: 0.563043 (0.193943)\n",
            "Xgboost: 0.220910 (0.360185)\n"
          ],
          "name": "stdout"
        },
        {
          "output_type": "display_data",
          "data": {
            "image/png": "[encoded data removed]",
            "text/plain": [
              "<Figure size 432x288 with 1 Axes>"
            ]
          },
          "metadata": {
            "tags": [],
            "needs_background": "light"
          }
        }
      ]
    },
    {
      "cell_type": "markdown",
      "metadata": {
        "id": "KLnoDe-63Mdo"
      },
      "source": [
        "# the best models are: ridge,KNN, SVR"
      ]
    },
    {
      "cell_type": "markdown",
      "metadata": {
        "id": "w96doMAYVX_q"
      },
      "source": [
        "# Ridge"
      ]
    },
    {
      "cell_type": "code",
      "metadata": {
        "id": "xIcS9xMVVph5"
      },
      "source": [
        "model = Ridge()\n",
        "param_search = { \n",
        "    'alpha': [0,0.1,0.2,0.3,0.4,0.5,0.6,0.7,0.8,0.9,1],\n",
        "    'solver': ['auto','svd','cholesky','lsqr','sparse_cg','sag','saga']\n",
        "\n",
        "}\n",
        "tscv = TimeSeriesSplit(n_splits=2)\n",
        "gsearch = GridSearchCV(estimator=model, param_grid=param_search, scoring = 'r2')#we \n",
        "#can define another metric as mentioned in the tuto\n",
        "gsearch.fit(X_train, y_train)\n",
        "best_score = gsearch.best_score_\n",
        "best_model = gsearch.best_estimator_"
      ],
      "execution_count": null,
      "outputs": []
    },
    {
      "cell_type": "code",
      "metadata": {
        "colab": {
          "base_uri": "https://localhost:8080/"
        },
        "id": "5zs1SEGhWCFP",
        "outputId": "e1545474-e6e3-4b57-b575-4043b97276f4"
      },
      "source": [
        "best_model"
      ],
      "execution_count": null,
      "outputs": [
        {
          "output_type": "execute_result",
          "data": {
            "text/plain": [
              "Ridge(alpha=0.3, copy_X=True, fit_intercept=True, max_iter=None,\n",
              "      normalize=False, random_state=None, solver='lsqr', tol=0.001)"
            ]
          },
          "metadata": {
            "tags": []
          },
          "execution_count": 19
        }
      ]
    },
    {
      "cell_type": "code",
      "metadata": {
        "colab": {
          "base_uri": "https://localhost:8080/"
        },
        "id": "R9VglUl3WEfN",
        "outputId": "d5c9094b-0058-4c75-8372-3aace3b120f5"
      },
      "source": [
        "best_score"
      ],
      "execution_count": null,
      "outputs": [
        {
          "output_type": "execute_result",
          "data": {
            "text/plain": [
              "0.3768762488081535"
            ]
          },
          "metadata": {
            "tags": []
          },
          "execution_count": 20
        }
      ]
    },
    {
      "cell_type": "code",
      "metadata": {
        "id": "PRIOrotuWOQz"
      },
      "source": [
        "# make a prediction\n",
        "yhat = best_model.predict(X_test)\n",
        "yhat=yhat.reshape(yhat.shape[0],1)\n",
        "X_test = X_test.reshape((X_test.shape[0], X_test.shape[1]))\n",
        "# invert scaling for forecast\n",
        "#inv_yhat = concatenate((test_X[:, :-1],yhat), axis=1)\n",
        "inv_yhat = concatenate((X_test,yhat), axis=1)\n",
        "inv_yhat = scaler.inverse_transform(inv_yhat)\n",
        "inv_yhat = inv_yhat[:,-1]\n",
        "# invert scaling for actual\n",
        "y_test = y_test.reshape((len(y_test), 1))\n",
        "#inv_y = concatenate((test_X[:, :-1],test_y), axis=1)\n",
        "inv_y = concatenate((X_test,y_test), axis=1)\n",
        "inv_y = scaler.inverse_transform(inv_y)\n",
        "inv_y = inv_y[:,-1]"
      ],
      "execution_count": null,
      "outputs": []
    },
    {
      "cell_type": "code",
      "metadata": {
        "colab": {
          "base_uri": "https://localhost:8080/"
        },
        "id": "kR6_lqYLWOa_",
        "outputId": "b313855e-80a0-49ef-94dd-56582ff004b2"
      },
      "source": [
        "#overall performance\n",
        "timeseries_evaluation_metrics_func(inv_y, inv_yhat)"
      ],
      "execution_count": null,
      "outputs": [
        {
          "output_type": "stream",
          "text": [
            "Evaluation metric results:-\n",
            "MSE is : 8532.286723238152\n",
            "MAE is : 73.77031226997948\n",
            "RMSE is : 92.3703779533144\n",
            "MAPE is : 5.5430548498122105 %\n",
            "R2 is : 0.766632775833555\n",
            "\n",
            "SMAPE is : 0.757435910771064\n",
            "\n",
            "MASE is : 0.5733443958806694\n"
          ],
          "name": "stdout"
        }
      ]
    },
    {
      "cell_type": "code",
      "metadata": {
        "colab": {
          "base_uri": "https://localhost:8080/",
          "height": 265
        },
        "id": "GLSO9JC3WyU6",
        "outputId": "e2936d44-60d9-4372-8426-39795e2c2db6"
      },
      "source": [
        "# plot real vs predictions\n",
        "time=data.index[-7:]\n",
        "plt.plot(time,inv_y,label='actual')\n",
        "plt.plot(time,inv_yhat,label='forecast')\n",
        "\n",
        "\n",
        "plt.legend()\n",
        "\n",
        "plt.show()"
      ],
      "execution_count": null,
      "outputs": [
        {
          "output_type": "display_data",
          "data": {
            "image/png": "[encoded data removed]",
            "text/plain": [
              "<Figure size 432x288 with 1 Axes>"
            ]
          },
          "metadata": {
            "tags": [],
            "needs_background": "light"
          }
        }
      ]
    },
    {
      "cell_type": "markdown",
      "metadata": {
        "id": "Gm93kP71WyU-"
      },
      "source": [
        "ZOOM on winter 2020"
      ]
    },
    {
      "cell_type": "code",
      "metadata": {
        "colab": {
          "base_uri": "https://localhost:8080/",
          "height": 413
        },
        "id": "wBcP3ab4WyU_",
        "outputId": "6651ec29-a3d5-4074-a7d0-516bee0a2e04"
      },
      "source": [
        "from matplotlib.pyplot import figure\n",
        "\n",
        "figure(figsize=(8, 6), dpi=80)\n",
        "plt.plot(time[:3],inv_y[:3],label='actual')\n",
        "plt.plot(time[:3],inv_yhat[:3],label='Pred')\n",
        "plt.legend()\n",
        "plt.show()"
      ],
      "execution_count": null,
      "outputs": [
        {
          "output_type": "display_data",
          "data": {
            "image/png": "[encoded data removed]",
            "text/plain": [
              "<Figure size 640x480 with 1 Axes>"
            ]
          },
          "metadata": {
            "tags": [],
            "needs_background": "light"
          }
        }
      ]
    },
    {
      "cell_type": "code",
      "metadata": {
        "id": "Og_Fqe57bOrU"
      },
      "source": [
        ""
      ],
      "execution_count": null,
      "outputs": []
    },
    {
      "cell_type": "markdown",
      "metadata": {
        "id": "CFRYgMQVbO2A"
      },
      "source": [
        "**peak period**"
      ]
    },
    {
      "cell_type": "code",
      "metadata": {
        "colab": {
          "base_uri": "https://localhost:8080/"
        },
        "id": "BqbvuVDybO2F",
        "outputId": "27b068ed-ec67-432c-865f-2f026d23131c"
      },
      "source": [
        "#model performance in peak period (winter)\n",
        "timeseries_evaluation_metrics_func(inv_y[:3], inv_yhat[:3])"
      ],
      "execution_count": null,
      "outputs": [
        {
          "output_type": "stream",
          "text": [
            "Evaluation metric results:-\n",
            "MSE is : 1159.7888981334436\n",
            "MAE is : 23.700314384074698\n",
            "RMSE is : 34.05567350873336\n",
            "MAPE is : 1.61013466579299 %\n",
            "R2 is : 0.5130120330689096\n",
            "\n",
            "SMAPE is : 0.5261652061802159\n",
            "\n",
            "MASE is : 0.3917407336210693\n"
          ],
          "name": "stdout"
        }
      ]
    },
    {
      "cell_type": "markdown",
      "metadata": {
        "id": "TC0n4auI7dFM"
      },
      "source": [
        "# **same methodology is repeated**"
      ]
    },
    {
      "cell_type": "markdown",
      "metadata": {
        "id": "OY4Srs6LklJF"
      },
      "source": [
        "# SVR"
      ]
    },
    {
      "cell_type": "code",
      "metadata": {
        "id": "eZsDFjbvklJG"
      },
      "source": [
        "X_train,y_train = features[:n_train_days, :],target[:n_train_days]\n",
        "X_test, y_test = features[n_train_days:, :],target[n_train_days:]"
      ],
      "execution_count": null,
      "outputs": []
    },
    {
      "cell_type": "code",
      "metadata": {
        "id": "TyhqsxN2klJG",
        "colab": {
          "base_uri": "https://localhost:8080/"
        },
        "outputId": "0c4bf3fe-3a5e-44b3-8330-9d5db6a0832b"
      },
      "source": [
        "\n",
        "model = SVR()\n",
        "param_search = { \n",
        "    #'kernel' : ['linear', 'poly', 'rbf', 'sigmoid'],\n",
        "    'degree' : [1,2,3],\n",
        "    'gamma' : ['scale','auto'],\n",
        "    'C' : [0.5,1,1.5,2],\n",
        "    'epsilon':[0.00001,0.0001,0.001],\n",
        "    'shrinking':[True,False]\n",
        "}\n",
        "tscv = TimeSeriesSplit(n_splits=2)\n",
        "gsearch = GridSearchCV(estimator=model, cv=tscv, param_grid=param_search, scoring = 'r2')#we \n",
        "#can define another metric\n",
        "gsearch.fit(X_train, y_train)\n",
        "best_score = gsearch.best_score_\n",
        "best_model = gsearch.best_estimator_\n",
        "best_model.fit(X_train,y_train)\n"
      ],
      "execution_count": null,
      "outputs": [
        {
          "output_type": "execute_result",
          "data": {
            "text/plain": [
              "SVR(C=1.5, cache_size=200, coef0=0.0, degree=1, epsilon=1e-05, gamma='auto',\n",
              "    kernel='rbf', max_iter=-1, shrinking=True, tol=0.001, verbose=False)"
            ]
          },
          "metadata": {
            "tags": []
          },
          "execution_count": 31
        }
      ]
    },
    {
      "cell_type": "code",
      "metadata": {
        "colab": {
          "base_uri": "https://localhost:8080/"
        },
        "id": "k9Z0WFfOHpPG",
        "outputId": "b52b0274-0531-4ae2-a3a0-929236f0fb26"
      },
      "source": [
        "best_score"
      ],
      "execution_count": null,
      "outputs": [
        {
          "output_type": "execute_result",
          "data": {
            "text/plain": [
              "0.664970537172465"
            ]
          },
          "metadata": {
            "tags": []
          },
          "execution_count": 32
        }
      ]
    },
    {
      "cell_type": "code",
      "metadata": {
        "id": "svm2v48eklJH"
      },
      "source": [
        "# make a prediction\n",
        "yhat = best_model.predict(X_test)\n",
        "yhat=yhat.reshape(yhat.shape[0],1)\n",
        "X_test = X_test.reshape((X_test.shape[0], X_test.shape[1]))\n",
        "# invert scaling for forecast\n",
        "#inv_yhat = concatenate((test_X[:, :-1],yhat), axis=1)\n",
        "inv_yhat = concatenate((X_test,yhat), axis=1)\n",
        "inv_yhat = scaler.inverse_transform(inv_yhat)\n",
        "inv_yhat = inv_yhat[:,-1]\n",
        "# invert scaling for actual\n",
        "y_test = y_test.reshape((len(y_test), 1))\n",
        "#inv_y = concatenate((test_X[:, :-1],test_y), axis=1)\n",
        "inv_y = concatenate((X_test,y_test), axis=1)\n",
        "inv_y = scaler.inverse_transform(inv_y)\n",
        "inv_y = inv_y[:,-1]"
      ],
      "execution_count": null,
      "outputs": []
    },
    {
      "cell_type": "code",
      "metadata": {
        "colab": {
          "base_uri": "https://localhost:8080/"
        },
        "id": "SFqJ_WeRklJH",
        "outputId": "1dc651fa-2460-4c68-b80c-7bef54468be3"
      },
      "source": [
        "timeseries_evaluation_metrics_func(inv_y, inv_yhat)"
      ],
      "execution_count": null,
      "outputs": [
        {
          "output_type": "stream",
          "text": [
            "Evaluation metric results:-\n",
            "MSE is : 8901.384531410735\n",
            "MAE is : 79.49363685737735\n",
            "RMSE is : 94.34714903700447\n",
            "MAPE is : 5.982179288294337 %\n",
            "R2 is : 0.7565375535639424\n",
            "\n",
            "SMAPE is : 0.8227949393566538\n",
            "\n",
            "MASE is : 0.6178261931920519\n"
          ],
          "name": "stdout"
        }
      ]
    },
    {
      "cell_type": "code",
      "metadata": {
        "colab": {
          "base_uri": "https://localhost:8080/",
          "height": 265
        },
        "id": "nRWOuzyvklJH",
        "outputId": "1478a63e-d0b8-4edd-8055-98ddac3d1bc3"
      },
      "source": [
        "# plot real vs predictions\n",
        "time=data.index[-7:]\n",
        "plt.plot(time,inv_y,label='actual')\n",
        "plt.plot(time,inv_yhat,label='forecast')\n",
        "\n",
        "\n",
        "plt.legend()\n",
        "\n",
        "plt.show()"
      ],
      "execution_count": null,
      "outputs": [
        {
          "output_type": "display_data",
          "data": {
            "image/png": "[encoded data removed]",
            "text/plain": [
              "<Figure size 432x288 with 1 Axes>"
            ]
          },
          "metadata": {
            "tags": [],
            "needs_background": "light"
          }
        }
      ]
    },
    {
      "cell_type": "markdown",
      "metadata": {
        "id": "6wkVNHhFklJI"
      },
      "source": [
        "ZOOM on winter 2020"
      ]
    },
    {
      "cell_type": "code",
      "metadata": {
        "colab": {
          "base_uri": "https://localhost:8080/",
          "height": 413
        },
        "id": "1PKnVTWwklJI",
        "outputId": "cd207d75-d922-4b25-c71e-859b664a6498"
      },
      "source": [
        "from matplotlib.pyplot import figure\n",
        "\n",
        "figure(figsize=(8, 6), dpi=80)\n",
        "plt.plot(time[:3],inv_y[:3],label='actual')\n",
        "plt.plot(time[:3],inv_yhat[:3],label='Pred')\n",
        "plt.legend()\n",
        "plt.show()"
      ],
      "execution_count": null,
      "outputs": [
        {
          "output_type": "display_data",
          "data": {
            "image/png": "[encoded data removed]",
            "text/plain": [
              "<Figure size 640x480 with 1 Axes>"
            ]
          },
          "metadata": {
            "tags": [],
            "needs_background": "light"
          }
        }
      ]
    },
    {
      "cell_type": "markdown",
      "metadata": {
        "id": "YrlNzlzkklJJ"
      },
      "source": [
        "**peak period**"
      ]
    },
    {
      "cell_type": "code",
      "metadata": {
        "colab": {
          "base_uri": "https://localhost:8080/"
        },
        "id": "luHUgeJOklJJ",
        "outputId": "85c1c580-954f-465a-f9d5-31003bc8ce61"
      },
      "source": [
        "#model performance in peak period (january to march)\n",
        "timeseries_evaluation_metrics_func(inv_y[:3], inv_yhat[:3])"
      ],
      "execution_count": null,
      "outputs": [
        {
          "output_type": "stream",
          "text": [
            "Evaluation metric results:-\n",
            "MSE is : 1209.8060320765424\n",
            "MAE is : 28.491037554221595\n",
            "RMSE is : 34.78226605723874\n",
            "MAPE is : 1.9349820601949748 %\n",
            "R2 is : 0.4920101572880059\n",
            "\n",
            "SMAPE is : 0.6348688600932174\n",
            "\n",
            "MASE is : 0.4709262405656462\n"
          ],
          "name": "stdout"
        }
      ]
    },
    {
      "cell_type": "code",
      "metadata": {
        "id": "645y0g8DKdJS"
      },
      "source": [
        ""
      ],
      "execution_count": null,
      "outputs": []
    },
    {
      "cell_type": "markdown",
      "metadata": {
        "id": "ycNKDpWFfiAX"
      },
      "source": [
        "# KNN"
      ]
    },
    {
      "cell_type": "code",
      "metadata": {
        "id": "El8mSpbPfqMr"
      },
      "source": [
        "X_train,y_train = features[:n_train_days, :],target[:n_train_days]\n",
        "X_test, y_test = features[n_train_days:, :],target[n_train_days:]"
      ],
      "execution_count": null,
      "outputs": []
    },
    {
      "cell_type": "code",
      "metadata": {
        "colab": {
          "base_uri": "https://localhost:8080/"
        },
        "id": "xjYPPZqhfqMs",
        "outputId": "3be04fc1-3289-4e5c-f91f-16565ffc3e87"
      },
      "source": [
        "\n",
        "model = KNeighborsRegressor()\n",
        "param_search = { \n",
        "    'n_neighbors': [1,2,3,4,5,6],\n",
        "    'weights' : ['uniform','distance'],\n",
        "    'algorithm' : ['auto', 'ball_tree', 'kd_tree', 'brute'],\n",
        "    'leaf_size':[1,2,3],\n",
        "    'p':[1,2]\n",
        "}\n",
        "tscv = TimeSeriesSplit(n_splits=2)\n",
        "gsearch = GridSearchCV(estimator=model, cv=tscv, param_grid=param_search, scoring = 'r2')#we \n",
        "#can define another metric as mentioned in the tuto\n",
        "gsearch.fit(X_train, y_train)\n",
        "best_score = gsearch.best_score_\n",
        "best_model = gsearch.best_estimator_\n",
        "best_model.fit(X_train,y_train)\n"
      ],
      "execution_count": null,
      "outputs": [
        {
          "output_type": "execute_result",
          "data": {
            "text/plain": [
              "KNeighborsRegressor(algorithm='ball_tree', leaf_size=1, metric='minkowski',\n",
              "                    metric_params=None, n_jobs=None, n_neighbors=5, p=1,\n",
              "                    weights='distance')"
            ]
          },
          "metadata": {},
          "execution_count": 16
        }
      ]
    },
    {
      "cell_type": "code",
      "metadata": {
        "id": "4oAa2u6TfqMs"
      },
      "source": [
        "# make a prediction\n",
        "yhat = best_model.predict(X_test)\n",
        "yhat=yhat.reshape(yhat.shape[0],1)\n",
        "X_test = X_test.reshape((X_test.shape[0], X_test.shape[1]))\n",
        "# invert scaling for forecast\n",
        "#inv_yhat = concatenate((test_X[:, :-1],yhat), axis=1)\n",
        "inv_yhat = concatenate((X_test,yhat), axis=1)\n",
        "inv_yhat = scaler.inverse_transform(inv_yhat)\n",
        "inv_yhat = inv_yhat[:,-1]\n",
        "# invert scaling for actual\n",
        "y_test = y_test.reshape((len(y_test), 1))\n",
        "#inv_y = concatenate((test_X[:, :-1],test_y), axis=1)\n",
        "inv_y = concatenate((X_test,y_test), axis=1)\n",
        "inv_y = scaler.inverse_transform(inv_y)\n",
        "inv_y = inv_y[:,-1]"
      ],
      "execution_count": null,
      "outputs": []
    },
    {
      "cell_type": "code",
      "metadata": {
        "colab": {
          "base_uri": "https://localhost:8080/"
        },
        "id": "asUH7-5QfqMs",
        "outputId": "33d57871-b91c-4fc8-a453-d538d6f46e18"
      },
      "source": [
        "timeseries_evaluation_metrics_func(inv_y, inv_yhat)"
      ],
      "execution_count": null,
      "outputs": [
        {
          "output_type": "stream",
          "text": [
            "Evaluation metric results:-\n",
            "MSE is : 5588.78566741618\n",
            "MAE is : 56.924076019692784\n",
            "RMSE is : 74.75818127413334\n",
            "MAPE is : 3.964336278283059 %\n",
            "R2 is : 0.8471406974505488\n",
            "\n",
            "SMAPE is : 0.5970311874152837\n",
            "\n",
            "MASE is : 0.44241509859864847\n"
          ],
          "name": "stdout"
        }
      ]
    },
    {
      "cell_type": "code",
      "metadata": {
        "colab": {
          "base_uri": "https://localhost:8080/",
          "height": 265
        },
        "id": "iCdJCqlmfqMs",
        "outputId": "25c3a92e-a7ba-4901-ab85-7716a7ae5dd8"
      },
      "source": [
        "# plot real vs predictions\n",
        "time=data.index[-7:]\n",
        "plt.plot(time,inv_y,label='actual')\n",
        "plt.plot(time,inv_yhat,label='forecast')\n",
        "\n",
        "\n",
        "plt.legend()\n",
        "\n",
        "plt.show()"
      ],
      "execution_count": null,
      "outputs": [
        {
          "output_type": "display_data",
          "data": {
            "image/png": "[encoded data removed]",
            "text/plain": [
              "<Figure size 432x288 with 1 Axes>"
            ]
          },
          "metadata": {
            "needs_background": "light"
          }
        }
      ]
    },
    {
      "cell_type": "markdown",
      "metadata": {
        "id": "G5eU8s4ofqMt"
      },
      "source": [
        "ZOOM on winter 2020"
      ]
    },
    {
      "cell_type": "code",
      "metadata": {
        "colab": {
          "base_uri": "https://localhost:8080/",
          "height": 413
        },
        "id": "m3H4xfuJfqMt",
        "outputId": "a288e359-068f-47c8-cd11-6ed40be99bc8"
      },
      "source": [
        "from matplotlib.pyplot import figure\n",
        "\n",
        "figure(figsize=(8, 6), dpi=80)\n",
        "plt.plot(time[:3],inv_y[:3],label='actual')\n",
        "plt.plot(time[:3],inv_yhat[:3],label='Pred')\n",
        "plt.legend()\n",
        "plt.show()"
      ],
      "execution_count": null,
      "outputs": [
        {
          "output_type": "display_data",
          "data": {
            "image/png": "[encoded data removed]",
            "text/plain": [
              "<Figure size 640x480 with 1 Axes>"
            ]
          },
          "metadata": {
            "needs_background": "light"
          }
        }
      ]
    },
    {
      "cell_type": "markdown",
      "metadata": {
        "id": "lLxWuS4dfqMt"
      },
      "source": [
        "**peak period**"
      ]
    },
    {
      "cell_type": "code",
      "metadata": {
        "colab": {
          "base_uri": "https://localhost:8080/"
        },
        "id": "nFlxhbB3fqMu",
        "outputId": "095a5087-2e37-4fe9-9e94-16f0a49daf07"
      },
      "source": [
        "#model performance in peak period (winter)\n",
        "timeseries_evaluation_metrics_func(inv_y[:3], inv_yhat[:3])"
      ],
      "execution_count": null,
      "outputs": [
        {
          "output_type": "stream",
          "text": [
            "Evaluation metric results:-\n",
            "MSE is : 1985.673944668074\n",
            "MAE is : 37.34845293538903\n",
            "RMSE is : 44.560901524408976\n",
            "MAPE is : 2.4647073989036357 %\n",
            "R2 is : 0.16622816543749808\n",
            "\n",
            "SMAPE is : 0.8368757644177904\n",
            "\n",
            "MASE is : 0.6173298005849426\n"
          ],
          "name": "stdout"
        }
      ]
    },
    {
      "cell_type": "code",
      "metadata": {
        "colab": {
          "base_uri": "https://localhost:8080/",
          "height": 166
        },
        "id": "gJ-cKDFhzBR5",
        "outputId": "5db20e66-40e1-4941-891c-dbab89d90bda"
      },
      "source": [
        "best_model.kneighbors()"
      ],
      "execution_count": null,
      "outputs": [
        {
          "output_type": "error",
          "ename": "AttributeError",
          "evalue": "ignored",
          "traceback": [
            "\u001b[0;31m---------------------------------------------------------------------------\u001b[0m",
            "\u001b[0;31mAttributeError\u001b[0m                            Traceback (most recent call last)",
            "\u001b[0;32m<ipython-input-25-932ed1493a1f>\u001b[0m in \u001b[0;36m<module>\u001b[0;34m()\u001b[0m\n\u001b[0;32m----> 1\u001b[0;31m \u001b[0mbest_model\u001b[0m\u001b[0;34m.\u001b[0m\u001b[0mkneighbors\u001b[0m\u001b[0;34m(\u001b[0m\u001b[0;34m[\u001b[0m\u001b[0mX_test\u001b[0m\u001b[0;34m,\u001b[0m\u001b[0;36m5\u001b[0m\u001b[0;34m,\u001b[0m\u001b[0;32mTrue\u001b[0m\u001b[0;34m]\u001b[0m\u001b[0;34m.\u001b[0m\u001b[0mreshape\u001b[0m\u001b[0;34m(\u001b[0m\u001b[0;34m-\u001b[0m\u001b[0;36m1\u001b[0m\u001b[0;34m,\u001b[0m\u001b[0;36m1\u001b[0m\u001b[0;34m)\u001b[0m\u001b[0;34m)\u001b[0m\u001b[0;34m\u001b[0m\u001b[0;34m\u001b[0m\u001b[0m\n\u001b[0m",
            "\u001b[0;31mAttributeError\u001b[0m: 'list' object has no attribute 'reshape'"
          ]
        }
      ]
    },
    {
      "cell_type": "markdown",
      "metadata": {
        "id": "nKJF4X2nAnXL"
      },
      "source": [
        "# ensembling"
      ]
    },
    {
      "cell_type": "markdown",
      "metadata": {
        "id": "Euh_8wJAYE7i"
      },
      "source": [
        "\n",
        "\n",
        "*   Ridge(alpha=0.3, copy_X=True, fit_intercept=True, max_iter=None,normalize=False, random_state=None, solver='lsqr', tol=0.001)\n",
        "*   SVR(C=1.5, cache_size=200, coef0=0.0, degree=1, epsilon=1e-05, gamma='auto',kernel='rbf', max_iter=-1, shrinking=True, tol=0.001, verbose=False)\n",
        "\n"
      ]
    },
    {
      "cell_type": "code",
      "metadata": {
        "id": "PJs1niaYIYyu"
      },
      "source": [
        "scaler = MinMaxScaler(feature_range=(0, 1))\n",
        "data_scaled = scaler.fit_transform(data)"
      ],
      "execution_count": null,
      "outputs": []
    },
    {
      "cell_type": "code",
      "metadata": {
        "id": "tyiYsmvkIYy6"
      },
      "source": [
        "features=data_scaled[:,:-1]\n",
        "target=data_scaled[:,-1]"
      ],
      "execution_count": null,
      "outputs": []
    },
    {
      "cell_type": "code",
      "metadata": {
        "id": "3DwyD0ScIYy7"
      },
      "source": [
        "# split into train and test sets\n",
        "\n",
        "n_train_days = -7 #n_train_months\n",
        "\n",
        "X_train,y_train = features[:n_train_days, :],target[:n_train_days]\n",
        "X_test, y_test = features[n_train_days:, :],target[n_train_days:]\n",
        "\n"
      ],
      "execution_count": null,
      "outputs": []
    },
    {
      "cell_type": "code",
      "metadata": {
        "id": "6AWyekCLBy5U"
      },
      "source": [
        "# get a list of base models\n",
        "def get_models():\n",
        "  models = list()\n",
        "  models.append(('ridge', Ridge(alpha=0.3, copy_X=True, fit_intercept=True, max_iter=None,\n",
        "                                normalize=False, random_state=None, solver='lsqr', tol=0.001)))\n",
        "\n",
        "  models.append(('svr', SVR(C=1.5, cache_size=200, coef0=0.0, degree=1, epsilon=1e-05, gamma='auto',\n",
        "                            kernel='rbf', max_iter=-1, shrinking=True, tol=0.001, verbose=False)))\n",
        "  return models\n"
      ],
      "execution_count": null,
      "outputs": []
    },
    {
      "cell_type": "code",
      "metadata": {
        "id": "TX49iAXYBy65"
      },
      "source": [
        "def evaluate_models(models, X_train, X_test, y_train, y_test):\n",
        "  scores = list()\n",
        "  for name, model in models:\n",
        "    model.fit(X_train, y_train)\n",
        "    yhat = model.predict(X_test)\n",
        "    yhat=yhat.reshape(yhat.shape[0],1)\n",
        "    X_test = X_test.reshape((X_test.shape[0], X_test.shape[1]))\n",
        "    inv_yhat = concatenate((X_test,yhat), axis=1)\n",
        "    inv_yhat = scaler.inverse_transform(inv_yhat)\n",
        "    inv_yhat = inv_yhat[:,-1]\n",
        "    y_test = y_test.reshape((len(y_test), 1))\n",
        "    inv_y = concatenate((X_test,y_test), axis=1)\n",
        "    inv_y = scaler.inverse_transform(inv_y)\n",
        "    inv_y = inv_y[:,-1]\n",
        "    mae = mean_absolute_error(inv_y, inv_yhat)\n",
        "    scores.append(-mae)\n",
        "  return scores\n"
      ],
      "execution_count": null,
      "outputs": []
    },
    {
      "cell_type": "code",
      "metadata": {
        "colab": {
          "base_uri": "https://localhost:8080/"
        },
        "id": "rNr0sQNoBy-z",
        "outputId": "8e6bcf4a-2eaa-4903-9af0-8182db3bc6fc"
      },
      "source": [
        "# create the base models\n",
        "models = get_models()\n",
        "# fit and evaluate each model\n",
        "scores = evaluate_models(models, X_train, X_test, y_train, y_test)\n",
        "print(scores)\n",
        "ranking = 1 + argsort(argsort(scores))\n",
        "print(ranking)"
      ],
      "execution_count": null,
      "outputs": [
        {
          "output_type": "stream",
          "text": [
            "[-73.77031226997954, -79.49363685737735]\n",
            "[2 1]\n"
          ],
          "name": "stdout"
        }
      ]
    },
    {
      "cell_type": "code",
      "metadata": {
        "id": "8Ho2Zq_uBzAU",
        "colab": {
          "base_uri": "https://localhost:8080/"
        },
        "outputId": "55d4c472-62a6-4ed7-a692-7322a9306824"
      },
      "source": [
        "\n",
        "# create the ensemble\n",
        "weighted_ensemble = VotingRegressor(estimators=models, weights=ranking)\n",
        "#verbose --> time consumed while fitting will be printed\n",
        "# fit the ensemble on the training dataset\n",
        "weighted_ensemble.fit(X_train, y_train)\n",
        "# make predictions on test set\n",
        "weighted_yhat = weighted_ensemble.predict(X_test)\n",
        "yhat=weighted_yhat.reshape(weighted_yhat.shape[0],1)\n",
        "X_test = X_test.reshape((X_test.shape[0], X_test.shape[1]))\n",
        "inv_yhat = concatenate((X_test,yhat), axis=1)\n",
        "inv_yhat = scaler.inverse_transform(inv_yhat)\n",
        "weighted_inv_yhat = inv_yhat[:,-1]\n",
        "\n",
        "y_test = y_test.reshape((len(y_test), 1))\n",
        "inv_y = concatenate((X_test,y_test), axis=1)\n",
        "inv_y = scaler.inverse_transform(inv_y)\n",
        "inv_y = inv_y[:,-1]\n",
        "# evaluate predictions using MAE (Mean absolute error)\n",
        "score = mean_absolute_error(inv_y, weighted_inv_yhat)\n",
        "print('Weighted Avg MAE: %.3f' % (score))\n",
        "# evaluate each standalone model\n",
        "scores = evaluate_models(models, X_train, X_test, y_train, y_test)\n",
        "for i in range(len(models)):\n",
        "\tprint('>%s: %.3f' % (models[i][0], -scores[i]))\n",
        "\n"
      ],
      "execution_count": null,
      "outputs": [
        {
          "output_type": "stream",
          "text": [
            "Weighted Avg MAE: 74.614\n",
            ">ridge: 73.770\n",
            ">svr: 79.494\n"
          ],
          "name": "stdout"
        }
      ]
    },
    {
      "cell_type": "code",
      "metadata": {
        "colab": {
          "base_uri": "https://localhost:8080/"
        },
        "id": "YRwGk3L03fvJ",
        "outputId": "2c131709-d206-4384-f4e8-a13d343f7e26"
      },
      "source": [
        "\n",
        "# evaluate equal weighting (simple average ensemble)\n",
        "average_ensemble = VotingRegressor(estimators=models)\n",
        "average_ensemble.fit(X_train, y_train)\n",
        "average_yhat = average_ensemble.predict(X_test)\n",
        "\n",
        "yhat=average_yhat.reshape(yhat.shape[0],1)\n",
        "X_test = X_test.reshape((X_test.shape[0], X_test.shape[1]))\n",
        "inv_yhat = concatenate((X_test,yhat), axis=1)\n",
        "inv_yhat = scaler.inverse_transform(inv_yhat)\n",
        "simple_inv_yhat = inv_yhat[:,-1]\n",
        "print(inv_yhat.shape)\n",
        "y_test = y_test.reshape((len(y_test), 1))\n",
        "inv_y = concatenate((X_test,y_test), axis=1)\n",
        "inv_y = scaler.inverse_transform(inv_y)\n",
        "inv_y = inv_y[:,-1]\n",
        "score = mean_absolute_error(inv_y, simple_inv_yhat)\n",
        "print('Voting MAE: %.3f' % (score))"
      ],
      "execution_count": null,
      "outputs": [
        {
          "output_type": "stream",
          "text": [
            "(7, 10)\n",
            "Voting MAE: 75.540\n"
          ],
          "name": "stdout"
        }
      ]
    },
    {
      "cell_type": "markdown",
      "metadata": {
        "id": "th7Dh_LyJ8pd"
      },
      "source": [
        "# **weighted ensembling**\n",
        "\n",
        "\n"
      ]
    },
    {
      "cell_type": "code",
      "metadata": {
        "colab": {
          "base_uri": "https://localhost:8080/"
        },
        "id": "0IClKZwUBzIq",
        "outputId": "ff36a8d0-3a92-476e-cfb9-9785702a85ed"
      },
      "source": [
        "#general model performance \n",
        "timeseries_evaluation_metrics_func(inv_y, weighted_inv_yhat)"
      ],
      "execution_count": null,
      "outputs": [
        {
          "output_type": "stream",
          "text": [
            "Evaluation metric results:-\n",
            "MSE is : 8509.304779168006\n",
            "MAE is : 74.61437452022948\n",
            "RMSE is : 92.24589302060014\n",
            "MAPE is : 5.621242956728308 %\n",
            "R2 is : 0.7672613567366079\n",
            "\n",
            "SMAPE is : 0.76815461139511\n",
            "\n",
            "MASE is : 0.5799044651831307\n"
          ],
          "name": "stdout"
        }
      ]
    },
    {
      "cell_type": "code",
      "metadata": {
        "colab": {
          "base_uri": "https://localhost:8080/",
          "height": 281
        },
        "id": "Qec9rrnSKQZJ",
        "outputId": "a47dee5b-8a16-47f8-e20e-2883e501f6e8"
      },
      "source": [
        "import matplotlib.dates as mdates\n",
        "\n",
        "# plot baseline and predictions\n",
        "time=data.index[-7:]\n",
        "plt.plot(time,inv_y,label='actual')\n",
        "plt.plot(time,weighted_inv_yhat,label='forecast')\n",
        "plt.title('long-term forecasting with monthly resolution')\n",
        "plt.legend()\n",
        "locator = mdates.AutoDateLocator()\n",
        "fmt = mdates.DateFormatter('%m/%y')\n",
        "X = plt.gca().xaxis\n",
        "X.set_major_locator(locator)\n",
        "# Specify formatter\n",
        "X.set_major_formatter(fmt)\n",
        "plt.show()"
      ],
      "execution_count": null,
      "outputs": [
        {
          "output_type": "display_data",
          "data": {
            "image/png": "[encoded data removed]",
            "text/plain": [
              "<Figure size 432x288 with 1 Axes>"
            ]
          },
          "metadata": {
            "needs_background": "light"
          }
        }
      ]
    },
    {
      "cell_type": "markdown",
      "metadata": {
        "id": "IpkzNVzpq3mo"
      },
      "source": [
        "**peak period**"
      ]
    },
    {
      "cell_type": "code",
      "metadata": {
        "colab": {
          "base_uri": "https://localhost:8080/"
        },
        "id": "X4G-pXDoptjj",
        "outputId": "0edb658f-39a8-4625-d2c4-a98ef743ffdc"
      },
      "source": [
        "#model performance in peak period (winter)\n",
        "timeseries_evaluation_metrics_func(inv_y[:3], weighted_inv_yhat[:3])"
      ],
      "execution_count": null,
      "outputs": [
        {
          "output_type": "stream",
          "text": [
            "Evaluation metric results:-\n",
            "MSE is : 1138.1320034159335\n",
            "MAE is : 22.815226012286455\n",
            "RMSE is : 33.73621204901246\n",
            "MAPE is : 1.5593148168006685 %\n",
            "R2 is : 0.5221056251402725\n",
            "\n",
            "SMAPE is : 0.5071402112461474\n",
            "\n",
            "MASE is : 0.37711117375680087\n"
          ],
          "name": "stdout"
        }
      ]
    },
    {
      "cell_type": "code",
      "metadata": {
        "colab": {
          "base_uri": "https://localhost:8080/",
          "height": 265
        },
        "id": "CXNaYN0OqGZy",
        "outputId": "0767caf4-0de1-419a-921e-21ce304ffe4f"
      },
      "source": [
        "# plot baseline and predictions\n",
        "time=data.index[-7:][:3]\n",
        "plt.plot(time,inv_y[:3],label='actual')\n",
        "plt.plot(time,weighted_inv_yhat[:3],label='forecast')\n",
        "plt.legend()\n",
        "plt.show()"
      ],
      "execution_count": null,
      "outputs": [
        {
          "output_type": "display_data",
          "data": {
            "image/png": "[encoded data removed]",
            "text/plain": [
              "<Figure size 432x288 with 1 Axes>"
            ]
          },
          "metadata": {
            "needs_background": "light"
          }
        }
      ]
    },
    {
      "cell_type": "code",
      "metadata": {
        "id": "SWShV766UIWb"
      },
      "source": [
        ""
      ],
      "execution_count": null,
      "outputs": []
    },
    {
      "cell_type": "code",
      "metadata": {
        "id": "RwQ9BnPuUMEP"
      },
      "source": [
        ""
      ],
      "execution_count": null,
      "outputs": []
    },
    {
      "cell_type": "markdown",
      "metadata": {
        "id": "YQdYJY7xLYIy"
      },
      "source": [
        "# **simple average ensembling**"
      ]
    },
    {
      "cell_type": "code",
      "metadata": {
        "colab": {
          "base_uri": "https://localhost:8080/"
        },
        "id": "aRWLbbkmLM3y",
        "outputId": "fee85791-f74b-429c-dd67-8d3ef003e9ce"
      },
      "source": [
        "timeseries_evaluation_metrics_func(inv_y, simple_inv_yhat)"
      ],
      "execution_count": null,
      "outputs": [
        {
          "output_type": "stream",
          "text": [
            "Evaluation metric results:-\n",
            "MSE is : 8552.569262180814\n",
            "MAE is : 75.540309778475\n",
            "RMSE is : 92.48010197972758\n",
            "MAPE is : 5.69263855718126 %\n",
            "R2 is : 0.7660780265657878\n",
            "\n",
            "SMAPE is : 0.7787301746760417\n",
            "\n",
            "MASE is : 0.5871008532005828\n"
          ],
          "name": "stdout"
        }
      ]
    },
    {
      "cell_type": "code",
      "metadata": {
        "colab": {
          "base_uri": "https://localhost:8080/",
          "height": 265
        },
        "id": "KNe_YwMaLM-D",
        "outputId": "1729039d-ee91-4c89-ba8f-62b826f99771"
      },
      "source": [
        "# plot baseline and predictions\n",
        "time=data.index[-7:]\n",
        "plt.plot(time,inv_y,label='actual')\n",
        "plt.plot(time,simple_inv_yhat,label='forecast')\n",
        "plt.legend()\n",
        "plt.show()"
      ],
      "execution_count": null,
      "outputs": [
        {
          "output_type": "display_data",
          "data": {
            "image/png": "[encoded data removed]",
            "text/plain": [
              "<Figure size 432x288 with 1 Axes>"
            ]
          },
          "metadata": {
            "tags": [],
            "needs_background": "light"
          }
        }
      ]
    },
    {
      "cell_type": "code",
      "metadata": {
        "colab": {
          "base_uri": "https://localhost:8080/"
        },
        "id": "n7WYFt6B3_GM",
        "outputId": "93a99e49-0c86-44a0-aa80-31ec52ea3e27"
      },
      "source": [
        "timeseries_evaluation_metrics_func(inv_y[:3], simple_inv_yhat[:3])"
      ],
      "execution_count": null,
      "outputs": [
        {
          "output_type": "stream",
          "text": [
            "Evaluation metric results:-\n",
            "MSE is : 1141.6770333191182\n",
            "MAE is : 23.548458137006946\n",
            "RMSE is : 33.78871162561719\n",
            "MAPE is : 1.6092751686259565 %\n",
            "R2 is : 0.5206170896765856\n",
            "\n",
            "SMAPE is : 0.5237615610342825\n",
            "\n",
            "MASE is : 0.3892307130083793\n"
          ],
          "name": "stdout"
        }
      ]
    },
    {
      "cell_type": "code",
      "metadata": {
        "colab": {
          "base_uri": "https://localhost:8080/",
          "height": 265
        },
        "id": "pkEnVs9T4EOy",
        "outputId": "b6bba240-37bc-431f-a47d-1a3cf2bc73de"
      },
      "source": [
        "# plot baseline and predictions\n",
        "time=data.index[-7:][:3]\n",
        "plt.plot(time,inv_y[:3],label='actual')\n",
        "plt.plot(time,simple_inv_yhat[:3],label='forecast')\n",
        "plt.legend()\n",
        "plt.show()"
      ],
      "execution_count": null,
      "outputs": [
        {
          "output_type": "display_data",
          "data": {
            "image/png": "[encoded data removed]",
            "text/plain": [
              "<Figure size 432x288 with 1 Axes>"
            ]
          },
          "metadata": {
            "tags": [],
            "needs_background": "light"
          }
        }
      ]
    },
    {
      "cell_type": "code",
      "metadata": {
        "id": "CRtcRML85iAE"
      },
      "source": [
        ""
      ],
      "execution_count": null,
      "outputs": []
    }
  ]
}